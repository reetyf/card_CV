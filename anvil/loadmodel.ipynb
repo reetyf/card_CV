{
 "cells": [
  {
   "cell_type": "code",
   "execution_count": 1,
   "id": "ef84a90f",
   "metadata": {},
   "outputs": [],
   "source": [
    "from tensorflow import keras\n",
    "import cv2\n",
    "import numpy as np\n",
    "import matplotlib.pyplot as plt\n",
    "import joblib\n",
    "import pandas as pd\n",
    "model = joblib.load('rf.joblib')"
   ]
  },
  {
   "cell_type": "code",
   "execution_count": 2,
   "id": "9041764c",
   "metadata": {},
   "outputs": [],
   "source": [
    "def num_to_card(card_num):\n",
    "    '''\n",
    "    Reverses the encoding of the card number column. Number -> String\n",
    "    '''\n",
    "    if(card_num == 52):\n",
    "        return 'Joker'\n",
    "    else:\n",
    "        ranks = ['2','3','4','5','6','7','8','9','10','Jack','Queen','King','Ace']\n",
    "        suits = ['Diamonds','Clubs','Hearts','Spades']\n",
    "        full = []\n",
    "        for suit in suits:\n",
    "            for rank in ranks:\n",
    "                full.append(f'{rank} of {suit}')\n",
    "    return full[card_num]"
   ]
  },
  {
   "cell_type": "code",
   "execution_count": 3,
   "id": "30846a7a",
   "metadata": {},
   "outputs": [
    {
     "name": "stdout",
     "output_type": "stream",
     "text": [
      "Connecting to wss://anvil.works/uplink\n",
      "Anvil websocket open\n",
      "Connected to \"Default environment\" as SERVER\n"
     ]
    },
    {
     "name": "stderr",
     "output_type": "stream",
     "text": [
      "Exception in thread Thread-6:\n",
      "Traceback (most recent call last):\n",
      "  File \"/Users/Daniel/opt/anaconda3/envs/deeplearning/lib/python3.8/site-packages/anvil/server.py\", line 403, in call\n",
      "    return _do_call(args, kwargs, fn_name=fn_name)\n",
      "  File \"/Users/Daniel/opt/anaconda3/envs/deeplearning/lib/python3.8/site-packages/anvil/server.py\", line 395, in _do_call\n",
      "    return _threaded_server.do_call(args, kwargs, fn_name=fn_name, live_object=live_object)\n",
      "  File \"/Users/Daniel/opt/anaconda3/envs/deeplearning/lib/python3.8/site-packages/anvil/_threaded_server.py\", line 435, in do_call\n",
      "    raise error_from_server\n",
      "anvil._server.AnvilWrappedError: 'Connection to Anvil Uplink server lost'\n",
      "\n",
      "During handling of the above exception, another exception occurred:\n",
      "\n",
      "Traceback (most recent call last):\n",
      "  File \"/Users/Daniel/opt/anaconda3/envs/deeplearning/lib/python3.8/threading.py\", line 932, in _bootstrap_inner\n",
      "    self.run()\n",
      "  File \"/Users/Daniel/opt/anaconda3/envs/deeplearning/lib/python3.8/threading.py\", line 870, in run\n",
      "    self._target(*self._args, **self._kwargs)\n",
      "  File \"/Users/Daniel/opt/anaconda3/envs/deeplearning/lib/python3.8/site-packages/anvil/server.py\", line 206, in heartbeat_until_reopened\n",
      "    call(\"anvil.private.echo\", \"keep-alive\")\n",
      "  File \"/Users/Daniel/opt/anaconda3/envs/deeplearning/lib/python3.8/site-packages/anvil/server.py\", line 406, in call\n",
      "    raise _server._deserialise_exception(e.error_obj)\n",
      "anvil._server.AnvilWrappedError: 'Connection to Anvil Uplink server lost'\n"
     ]
    },
    {
     "name": "stdout",
     "output_type": "stream",
     "text": [
      "Anvil websocket closed (code 1006, reason=Going away)\n",
      "Reconnecting Anvil Uplink...\n",
      "Connecting to wss://anvil.works/uplink\n",
      "Reconnection failed. Waiting 10 seconds, then retrying.\n",
      "Reconnecting Anvil Uplink...\n",
      "Connecting to wss://anvil.works/uplink\n",
      "Reconnection failed. Waiting 10 seconds, then retrying.\n",
      "Reconnecting Anvil Uplink...\n",
      "Connecting to wss://anvil.works/uplink\n",
      "Reconnection failed. Waiting 10 seconds, then retrying.\n",
      "Reconnecting Anvil Uplink...\n",
      "Connecting to wss://anvil.works/uplink\n",
      "Reconnection failed. Waiting 10 seconds, then retrying.\n",
      "Reconnecting Anvil Uplink...\n",
      "Connecting to wss://anvil.works/uplink\n",
      "Reconnection failed. Waiting 10 seconds, then retrying.\n",
      "Reconnecting Anvil Uplink...\n",
      "Connecting to wss://anvil.works/uplink\n",
      "Anvil websocket open\n",
      "Connected to \"Default environment\" as SERVER\n"
     ]
    },
    {
     "name": "stderr",
     "output_type": "stream",
     "text": [
      "Exception in thread Thread-9:\n",
      "Traceback (most recent call last):\n",
      "  File \"/Users/Daniel/opt/anaconda3/envs/deeplearning/lib/python3.8/site-packages/anvil/server.py\", line 403, in call\n",
      "    return _do_call(args, kwargs, fn_name=fn_name)\n",
      "  File \"/Users/Daniel/opt/anaconda3/envs/deeplearning/lib/python3.8/site-packages/anvil/server.py\", line 395, in _do_call\n",
      "    return _threaded_server.do_call(args, kwargs, fn_name=fn_name, live_object=live_object)\n",
      "  File \"/Users/Daniel/opt/anaconda3/envs/deeplearning/lib/python3.8/site-packages/anvil/_threaded_server.py\", line 435, in do_call\n",
      "    raise error_from_server\n",
      "anvil._server.AnvilWrappedError: 'Connection to Anvil Uplink server lost'\n",
      "\n",
      "During handling of the above exception, another exception occurred:\n",
      "\n",
      "Traceback (most recent call last):\n",
      "  File \"/Users/Daniel/opt/anaconda3/envs/deeplearning/lib/python3.8/threading.py\", line 932, in _bootstrap_inner\n",
      "    self.run()\n",
      "  File \"/Users/Daniel/opt/anaconda3/envs/deeplearning/lib/python3.8/threading.py\", line 870, in run\n",
      "    self._target(*self._args, **self._kwargs)\n",
      "  File \"/Users/Daniel/opt/anaconda3/envs/deeplearning/lib/python3.8/site-packages/anvil/server.py\", line 206, in heartbeat_until_reopened\n",
      "    call(\"anvil.private.echo\", \"keep-alive\")\n",
      "  File \"/Users/Daniel/opt/anaconda3/envs/deeplearning/lib/python3.8/site-packages/anvil/server.py\", line 406, in call\n",
      "    raise _server._deserialise_exception(e.error_obj)\n",
      "anvil._server.AnvilWrappedError: 'Connection to Anvil Uplink server lost'\n"
     ]
    },
    {
     "name": "stdout",
     "output_type": "stream",
     "text": [
      "Anvil websocket closed (code 1006, reason=Going away)\n",
      "Reconnecting Anvil Uplink...\n",
      "Connecting to wss://anvil.works/uplink\n",
      "Reconnection failed. Waiting 10 seconds, then retrying.\n",
      "Reconnecting Anvil Uplink...\n",
      "Connecting to wss://anvil.works/uplink\n",
      "Anvil websocket open\n",
      "Connected to \"Default environment\" as SERVER\n"
     ]
    },
    {
     "name": "stderr",
     "output_type": "stream",
     "text": [
      "Exception in thread Thread-12:\n",
      "Traceback (most recent call last):\n",
      "  File \"/Users/Daniel/opt/anaconda3/envs/deeplearning/lib/python3.8/site-packages/anvil/server.py\", line 403, in call\n",
      "    return _do_call(args, kwargs, fn_name=fn_name)\n",
      "  File \"/Users/Daniel/opt/anaconda3/envs/deeplearning/lib/python3.8/site-packages/anvil/server.py\", line 395, in _do_call\n",
      "    return _threaded_server.do_call(args, kwargs, fn_name=fn_name, live_object=live_object)\n",
      "  File \"/Users/Daniel/opt/anaconda3/envs/deeplearning/lib/python3.8/site-packages/anvil/_threaded_server.py\", line 435, in do_call\n",
      "    raise error_from_server\n",
      "anvil._server.AnvilWrappedError: 'Connection to Anvil Uplink server lost'\n",
      "\n",
      "During handling of the above exception, another exception occurred:\n",
      "\n",
      "Traceback (most recent call last):\n",
      "  File \"/Users/Daniel/opt/anaconda3/envs/deeplearning/lib/python3.8/threading.py\", line 932, in _bootstrap_inner\n",
      "    self.run()\n",
      "  File \"/Users/Daniel/opt/anaconda3/envs/deeplearning/lib/python3.8/threading.py\", line 870, in run\n",
      "    self._target(*self._args, **self._kwargs)\n",
      "  File \"/Users/Daniel/opt/anaconda3/envs/deeplearning/lib/python3.8/site-packages/anvil/server.py\", line 206, in heartbeat_until_reopened\n",
      "    call(\"anvil.private.echo\", \"keep-alive\")\n",
      "  File \"/Users/Daniel/opt/anaconda3/envs/deeplearning/lib/python3.8/site-packages/anvil/server.py\", line 406, in call\n",
      "    raise _server._deserialise_exception(e.error_obj)\n",
      "anvil._server.AnvilWrappedError: 'Connection to Anvil Uplink server lost'\n"
     ]
    },
    {
     "name": "stdout",
     "output_type": "stream",
     "text": [
      "Anvil websocket closed (code 1006, reason=Going away)\n",
      "Reconnecting Anvil Uplink...\n",
      "Connecting to wss://anvil.works/uplink\n",
      "Reconnection failed. Waiting 10 seconds, then retrying.\n",
      "Reconnecting Anvil Uplink...\n",
      "Connecting to wss://anvil.works/uplink\n",
      "Anvil websocket open\n",
      "Connected to \"Default environment\" as SERVER\n"
     ]
    },
    {
     "name": "stderr",
     "output_type": "stream",
     "text": [
      "Exception in thread Thread-15:\n",
      "Traceback (most recent call last):\n",
      "  File \"/Users/Daniel/opt/anaconda3/envs/deeplearning/lib/python3.8/site-packages/anvil/server.py\", line 403, in call\n",
      "    return _do_call(args, kwargs, fn_name=fn_name)\n",
      "  File \"/Users/Daniel/opt/anaconda3/envs/deeplearning/lib/python3.8/site-packages/anvil/server.py\", line 395, in _do_call\n",
      "    return _threaded_server.do_call(args, kwargs, fn_name=fn_name, live_object=live_object)\n",
      "  File \"/Users/Daniel/opt/anaconda3/envs/deeplearning/lib/python3.8/site-packages/anvil/_threaded_server.py\", line 435, in do_call\n",
      "    raise error_from_server\n",
      "anvil._server.AnvilWrappedError: 'Connection to Anvil Uplink server lost'\n",
      "\n",
      "During handling of the above exception, another exception occurred:\n",
      "\n",
      "Traceback (most recent call last):\n",
      "  File \"/Users/Daniel/opt/anaconda3/envs/deeplearning/lib/python3.8/threading.py\", line 932, in _bootstrap_inner\n",
      "    self.run()\n",
      "  File \"/Users/Daniel/opt/anaconda3/envs/deeplearning/lib/python3.8/threading.py\", line 870, in run\n",
      "    self._target(*self._args, **self._kwargs)\n",
      "  File \"/Users/Daniel/opt/anaconda3/envs/deeplearning/lib/python3.8/site-packages/anvil/server.py\", line 206, in heartbeat_until_reopened\n",
      "    call(\"anvil.private.echo\", \"keep-alive\")\n",
      "  File \"/Users/Daniel/opt/anaconda3/envs/deeplearning/lib/python3.8/site-packages/anvil/server.py\", line 406, in call\n",
      "    raise _server._deserialise_exception(e.error_obj)\n",
      "anvil._server.AnvilWrappedError: 'Connection to Anvil Uplink server lost'\n"
     ]
    },
    {
     "name": "stdout",
     "output_type": "stream",
     "text": [
      "Anvil websocket closed (code 1006, reason=Going away)\n",
      "Reconnecting Anvil Uplink...\n",
      "Connecting to wss://anvil.works/uplink\n",
      "Anvil websocket open\n",
      "Connected to \"Default environment\" as SERVER\n"
     ]
    },
    {
     "name": "stderr",
     "output_type": "stream",
     "text": [
      "Exception in thread Thread-18:\n",
      "Traceback (most recent call last):\n",
      "  File \"/Users/Daniel/opt/anaconda3/envs/deeplearning/lib/python3.8/site-packages/anvil/server.py\", line 403, in call\n",
      "    return _do_call(args, kwargs, fn_name=fn_name)\n",
      "  File \"/Users/Daniel/opt/anaconda3/envs/deeplearning/lib/python3.8/site-packages/anvil/server.py\", line 395, in _do_call\n",
      "    return _threaded_server.do_call(args, kwargs, fn_name=fn_name, live_object=live_object)\n",
      "  File \"/Users/Daniel/opt/anaconda3/envs/deeplearning/lib/python3.8/site-packages/anvil/_threaded_server.py\", line 435, in do_call\n",
      "    raise error_from_server\n",
      "anvil._server.AnvilWrappedError: 'Connection to Anvil Uplink server lost'\n",
      "\n",
      "During handling of the above exception, another exception occurred:\n",
      "\n",
      "Traceback (most recent call last):\n",
      "  File \"/Users/Daniel/opt/anaconda3/envs/deeplearning/lib/python3.8/threading.py\", line 932, in _bootstrap_inner\n",
      "    self.run()\n",
      "  File \"/Users/Daniel/opt/anaconda3/envs/deeplearning/lib/python3.8/threading.py\", line 870, in run\n",
      "    self._target(*self._args, **self._kwargs)\n",
      "  File \"/Users/Daniel/opt/anaconda3/envs/deeplearning/lib/python3.8/site-packages/anvil/server.py\", line 206, in heartbeat_until_reopened\n",
      "    call(\"anvil.private.echo\", \"keep-alive\")\n",
      "  File \"/Users/Daniel/opt/anaconda3/envs/deeplearning/lib/python3.8/site-packages/anvil/server.py\", line 406, in call\n",
      "    raise _server._deserialise_exception(e.error_obj)\n",
      "anvil._server.AnvilWrappedError: 'Connection to Anvil Uplink server lost'\n"
     ]
    },
    {
     "name": "stdout",
     "output_type": "stream",
     "text": [
      "Anvil websocket closed (code 1006, reason=Going away)\n",
      "Reconnecting Anvil Uplink...\n",
      "Connecting to wss://anvil.works/uplink\n",
      "Reconnection failed. Waiting 10 seconds, then retrying.\n",
      "Reconnecting Anvil Uplink...\n",
      "Connecting to wss://anvil.works/uplink\n",
      "Anvil websocket open\n",
      "Connected to \"Default environment\" as SERVER\n"
     ]
    },
    {
     "name": "stderr",
     "output_type": "stream",
     "text": [
      "Exception in thread Thread-21:\n",
      "Traceback (most recent call last):\n",
      "  File \"/Users/Daniel/opt/anaconda3/envs/deeplearning/lib/python3.8/site-packages/anvil/server.py\", line 403, in call\n",
      "    return _do_call(args, kwargs, fn_name=fn_name)\n",
      "  File \"/Users/Daniel/opt/anaconda3/envs/deeplearning/lib/python3.8/site-packages/anvil/server.py\", line 395, in _do_call\n",
      "    return _threaded_server.do_call(args, kwargs, fn_name=fn_name, live_object=live_object)\n",
      "  File \"/Users/Daniel/opt/anaconda3/envs/deeplearning/lib/python3.8/site-packages/anvil/_threaded_server.py\", line 435, in do_call\n",
      "    raise error_from_server\n",
      "anvil._server.AnvilWrappedError: 'Connection to Anvil Uplink server lost'\n",
      "\n",
      "During handling of the above exception, another exception occurred:\n",
      "\n",
      "Traceback (most recent call last):\n",
      "  File \"/Users/Daniel/opt/anaconda3/envs/deeplearning/lib/python3.8/threading.py\", line 932, in _bootstrap_inner\n",
      "    self.run()\n",
      "  File \"/Users/Daniel/opt/anaconda3/envs/deeplearning/lib/python3.8/threading.py\", line 870, in run\n",
      "    self._target(*self._args, **self._kwargs)\n",
      "  File \"/Users/Daniel/opt/anaconda3/envs/deeplearning/lib/python3.8/site-packages/anvil/server.py\", line 206, in heartbeat_until_reopened\n",
      "    call(\"anvil.private.echo\", \"keep-alive\")\n",
      "  File \"/Users/Daniel/opt/anaconda3/envs/deeplearning/lib/python3.8/site-packages/anvil/server.py\", line 406, in call\n",
      "    raise _server._deserialise_exception(e.error_obj)\n",
      "anvil._server.AnvilWrappedError: 'Connection to Anvil Uplink server lost'\n"
     ]
    },
    {
     "name": "stdout",
     "output_type": "stream",
     "text": [
      "Anvil websocket closed (code 1006, reason=Going away)\n",
      "Reconnecting Anvil Uplink...\n",
      "Connecting to wss://anvil.works/uplink\n",
      "Anvil websocket open\n",
      "Connected to \"Default environment\" as SERVER\n"
     ]
    },
    {
     "name": "stderr",
     "output_type": "stream",
     "text": [
      "Exception in thread Thread-24:\n",
      "Traceback (most recent call last):\n",
      "  File \"/Users/Daniel/opt/anaconda3/envs/deeplearning/lib/python3.8/site-packages/anvil/server.py\", line 403, in call\n",
      "    return _do_call(args, kwargs, fn_name=fn_name)\n",
      "  File \"/Users/Daniel/opt/anaconda3/envs/deeplearning/lib/python3.8/site-packages/anvil/server.py\", line 395, in _do_call\n",
      "    return _threaded_server.do_call(args, kwargs, fn_name=fn_name, live_object=live_object)\n",
      "  File \"/Users/Daniel/opt/anaconda3/envs/deeplearning/lib/python3.8/site-packages/anvil/_threaded_server.py\", line 435, in do_call\n",
      "    raise error_from_server\n",
      "anvil._server.AnvilWrappedError: 'Connection to Anvil Uplink server lost'\n",
      "\n",
      "During handling of the above exception, another exception occurred:\n",
      "\n",
      "Traceback (most recent call last):\n",
      "  File \"/Users/Daniel/opt/anaconda3/envs/deeplearning/lib/python3.8/threading.py\", line 932, in _bootstrap_inner\n",
      "    self.run()\n",
      "  File \"/Users/Daniel/opt/anaconda3/envs/deeplearning/lib/python3.8/threading.py\", line 870, in run\n",
      "    self._target(*self._args, **self._kwargs)\n",
      "  File \"/Users/Daniel/opt/anaconda3/envs/deeplearning/lib/python3.8/site-packages/anvil/server.py\", line 206, in heartbeat_until_reopened\n",
      "    call(\"anvil.private.echo\", \"keep-alive\")\n",
      "  File \"/Users/Daniel/opt/anaconda3/envs/deeplearning/lib/python3.8/site-packages/anvil/server.py\", line 406, in call\n",
      "    raise _server._deserialise_exception(e.error_obj)\n",
      "anvil._server.AnvilWrappedError: 'Connection to Anvil Uplink server lost'\n"
     ]
    },
    {
     "name": "stdout",
     "output_type": "stream",
     "text": [
      "Anvil websocket closed (code 1006, reason=Going away)\n",
      "Reconnecting Anvil Uplink...\n",
      "Connecting to wss://anvil.works/uplink\n",
      "Anvil websocket open\n",
      "Connected to \"Default environment\" as SERVER\n"
     ]
    },
    {
     "name": "stderr",
     "output_type": "stream",
     "text": [
      "Exception in thread Thread-27:\n",
      "Traceback (most recent call last):\n",
      "  File \"/Users/Daniel/opt/anaconda3/envs/deeplearning/lib/python3.8/site-packages/anvil/server.py\", line 403, in call\n",
      "    return _do_call(args, kwargs, fn_name=fn_name)\n",
      "  File \"/Users/Daniel/opt/anaconda3/envs/deeplearning/lib/python3.8/site-packages/anvil/server.py\", line 395, in _do_call\n",
      "    return _threaded_server.do_call(args, kwargs, fn_name=fn_name, live_object=live_object)\n",
      "  File \"/Users/Daniel/opt/anaconda3/envs/deeplearning/lib/python3.8/site-packages/anvil/_threaded_server.py\", line 435, in do_call\n",
      "    raise error_from_server\n",
      "anvil._server.AnvilWrappedError: 'Connection to Anvil Uplink server lost'\n",
      "\n",
      "During handling of the above exception, another exception occurred:\n",
      "\n",
      "Traceback (most recent call last):\n",
      "  File \"/Users/Daniel/opt/anaconda3/envs/deeplearning/lib/python3.8/threading.py\", line 932, in _bootstrap_inner\n",
      "    self.run()\n",
      "  File \"/Users/Daniel/opt/anaconda3/envs/deeplearning/lib/python3.8/threading.py\", line 870, in run\n",
      "    self._target(*self._args, **self._kwargs)\n",
      "  File \"/Users/Daniel/opt/anaconda3/envs/deeplearning/lib/python3.8/site-packages/anvil/server.py\", line 206, in heartbeat_until_reopened\n",
      "    call(\"anvil.private.echo\", \"keep-alive\")\n",
      "  File \"/Users/Daniel/opt/anaconda3/envs/deeplearning/lib/python3.8/site-packages/anvil/server.py\", line 406, in call\n",
      "    raise _server._deserialise_exception(e.error_obj)\n",
      "anvil._server.AnvilWrappedError: 'Connection to Anvil Uplink server lost'\n"
     ]
    },
    {
     "name": "stdout",
     "output_type": "stream",
     "text": [
      "Anvil websocket closed (code 1006, reason=Going away)\n",
      "Reconnecting Anvil Uplink...\n",
      "Connecting to wss://anvil.works/uplink\n",
      "Anvil websocket open\n",
      "Connected to \"Default environment\" as SERVER\n"
     ]
    },
    {
     "name": "stderr",
     "output_type": "stream",
     "text": [
      "Exception in thread Thread-30:\n",
      "Traceback (most recent call last):\n",
      "  File \"/Users/Daniel/opt/anaconda3/envs/deeplearning/lib/python3.8/site-packages/anvil/server.py\", line 403, in call\n",
      "    return _do_call(args, kwargs, fn_name=fn_name)\n",
      "  File \"/Users/Daniel/opt/anaconda3/envs/deeplearning/lib/python3.8/site-packages/anvil/server.py\", line 395, in _do_call\n",
      "    return _threaded_server.do_call(args, kwargs, fn_name=fn_name, live_object=live_object)\n",
      "  File \"/Users/Daniel/opt/anaconda3/envs/deeplearning/lib/python3.8/site-packages/anvil/_threaded_server.py\", line 435, in do_call\n",
      "    raise error_from_server\n",
      "anvil._server.AnvilWrappedError: 'Connection to Anvil Uplink server lost'\n",
      "\n",
      "During handling of the above exception, another exception occurred:\n",
      "\n",
      "Traceback (most recent call last):\n",
      "  File \"/Users/Daniel/opt/anaconda3/envs/deeplearning/lib/python3.8/threading.py\", line 932, in _bootstrap_inner\n",
      "    self.run()\n",
      "  File \"/Users/Daniel/opt/anaconda3/envs/deeplearning/lib/python3.8/threading.py\", line 870, in run\n",
      "    self._target(*self._args, **self._kwargs)\n",
      "  File \"/Users/Daniel/opt/anaconda3/envs/deeplearning/lib/python3.8/site-packages/anvil/server.py\", line 206, in heartbeat_until_reopened\n",
      "    call(\"anvil.private.echo\", \"keep-alive\")\n",
      "  File \"/Users/Daniel/opt/anaconda3/envs/deeplearning/lib/python3.8/site-packages/anvil/server.py\", line 406, in call\n",
      "    raise _server._deserialise_exception(e.error_obj)\n",
      "anvil._server.AnvilWrappedError: 'Connection to Anvil Uplink server lost'\n"
     ]
    },
    {
     "name": "stdout",
     "output_type": "stream",
     "text": [
      "Anvil websocket closed (code 1006, reason=Going away)\n",
      "Reconnecting Anvil Uplink...\n",
      "Connecting to wss://anvil.works/uplink\n",
      "Reconnection failed. Waiting 10 seconds, then retrying.\n",
      "Reconnecting Anvil Uplink...\n",
      "Connecting to wss://anvil.works/uplink\n",
      "Anvil websocket open\n",
      "Connected to \"Default environment\" as SERVER\n"
     ]
    },
    {
     "name": "stderr",
     "output_type": "stream",
     "text": [
      "Exception in thread Thread-33:\n",
      "Traceback (most recent call last):\n",
      "  File \"/Users/Daniel/opt/anaconda3/envs/deeplearning/lib/python3.8/site-packages/anvil/server.py\", line 403, in call\n",
      "    return _do_call(args, kwargs, fn_name=fn_name)\n",
      "  File \"/Users/Daniel/opt/anaconda3/envs/deeplearning/lib/python3.8/site-packages/anvil/server.py\", line 395, in _do_call\n",
      "    return _threaded_server.do_call(args, kwargs, fn_name=fn_name, live_object=live_object)\n",
      "  File \"/Users/Daniel/opt/anaconda3/envs/deeplearning/lib/python3.8/site-packages/anvil/_threaded_server.py\", line 435, in do_call\n",
      "    raise error_from_server\n",
      "anvil._server.AnvilWrappedError: 'Connection to Anvil Uplink server lost'\n",
      "\n",
      "During handling of the above exception, another exception occurred:\n",
      "\n",
      "Traceback (most recent call last):\n",
      "  File \"/Users/Daniel/opt/anaconda3/envs/deeplearning/lib/python3.8/threading.py\", line 932, in _bootstrap_inner\n",
      "    self.run()\n",
      "  File \"/Users/Daniel/opt/anaconda3/envs/deeplearning/lib/python3.8/threading.py\", line 870, in run\n",
      "    self._target(*self._args, **self._kwargs)\n",
      "  File \"/Users/Daniel/opt/anaconda3/envs/deeplearning/lib/python3.8/site-packages/anvil/server.py\", line 206, in heartbeat_until_reopened\n",
      "    call(\"anvil.private.echo\", \"keep-alive\")\n",
      "  File \"/Users/Daniel/opt/anaconda3/envs/deeplearning/lib/python3.8/site-packages/anvil/server.py\", line 406, in call\n",
      "    raise _server._deserialise_exception(e.error_obj)\n",
      "anvil._server.AnvilWrappedError: 'Connection to Anvil Uplink server lost'\n"
     ]
    },
    {
     "name": "stdout",
     "output_type": "stream",
     "text": [
      "Anvil websocket closed (code 1006, reason=Going away)\n",
      "Reconnecting Anvil Uplink...\n",
      "Connecting to wss://anvil.works/uplink\n",
      "Anvil websocket open\n",
      "Connected to \"Default environment\" as SERVER\n"
     ]
    },
    {
     "name": "stderr",
     "output_type": "stream",
     "text": [
      "Exception in thread Thread-36:\n",
      "Traceback (most recent call last):\n",
      "  File \"/Users/Daniel/opt/anaconda3/envs/deeplearning/lib/python3.8/site-packages/anvil/server.py\", line 403, in call\n",
      "    return _do_call(args, kwargs, fn_name=fn_name)\n",
      "  File \"/Users/Daniel/opt/anaconda3/envs/deeplearning/lib/python3.8/site-packages/anvil/server.py\", line 395, in _do_call\n",
      "    return _threaded_server.do_call(args, kwargs, fn_name=fn_name, live_object=live_object)\n",
      "  File \"/Users/Daniel/opt/anaconda3/envs/deeplearning/lib/python3.8/site-packages/anvil/_threaded_server.py\", line 435, in do_call\n",
      "    raise error_from_server\n",
      "anvil._server.AnvilWrappedError: 'Connection to Anvil Uplink server lost'\n",
      "\n",
      "During handling of the above exception, another exception occurred:\n",
      "\n",
      "Traceback (most recent call last):\n",
      "  File \"/Users/Daniel/opt/anaconda3/envs/deeplearning/lib/python3.8/threading.py\", line 932, in _bootstrap_inner\n",
      "    self.run()\n",
      "  File \"/Users/Daniel/opt/anaconda3/envs/deeplearning/lib/python3.8/threading.py\", line 870, in run\n",
      "    self._target(*self._args, **self._kwargs)\n",
      "  File \"/Users/Daniel/opt/anaconda3/envs/deeplearning/lib/python3.8/site-packages/anvil/server.py\", line 206, in heartbeat_until_reopened\n",
      "    call(\"anvil.private.echo\", \"keep-alive\")\n",
      "  File \"/Users/Daniel/opt/anaconda3/envs/deeplearning/lib/python3.8/site-packages/anvil/server.py\", line 406, in call\n",
      "    raise _server._deserialise_exception(e.error_obj)\n",
      "anvil._server.AnvilWrappedError: 'Connection to Anvil Uplink server lost'\n"
     ]
    },
    {
     "name": "stdout",
     "output_type": "stream",
     "text": [
      "Anvil websocket closed (code 1006, reason=Going away)\n",
      "Reconnecting Anvil Uplink...\n",
      "Connecting to wss://anvil.works/uplink\n",
      "Anvil websocket open\n",
      "Connected to \"Default environment\" as SERVER\n"
     ]
    },
    {
     "name": "stderr",
     "output_type": "stream",
     "text": [
      "Exception in thread Thread-39:\n",
      "Traceback (most recent call last):\n",
      "  File \"/Users/Daniel/opt/anaconda3/envs/deeplearning/lib/python3.8/site-packages/anvil/server.py\", line 403, in call\n",
      "    return _do_call(args, kwargs, fn_name=fn_name)\n",
      "  File \"/Users/Daniel/opt/anaconda3/envs/deeplearning/lib/python3.8/site-packages/anvil/server.py\", line 395, in _do_call\n",
      "    return _threaded_server.do_call(args, kwargs, fn_name=fn_name, live_object=live_object)\n",
      "  File \"/Users/Daniel/opt/anaconda3/envs/deeplearning/lib/python3.8/site-packages/anvil/_threaded_server.py\", line 435, in do_call\n",
      "    raise error_from_server\n",
      "anvil._server.AnvilWrappedError: 'Connection to Anvil Uplink server lost'\n",
      "\n",
      "During handling of the above exception, another exception occurred:\n",
      "\n",
      "Traceback (most recent call last):\n",
      "  File \"/Users/Daniel/opt/anaconda3/envs/deeplearning/lib/python3.8/threading.py\", line 932, in _bootstrap_inner\n",
      "    self.run()\n",
      "  File \"/Users/Daniel/opt/anaconda3/envs/deeplearning/lib/python3.8/threading.py\", line 870, in run\n",
      "    self._target(*self._args, **self._kwargs)\n",
      "  File \"/Users/Daniel/opt/anaconda3/envs/deeplearning/lib/python3.8/site-packages/anvil/server.py\", line 206, in heartbeat_until_reopened\n",
      "    call(\"anvil.private.echo\", \"keep-alive\")\n",
      "  File \"/Users/Daniel/opt/anaconda3/envs/deeplearning/lib/python3.8/site-packages/anvil/server.py\", line 406, in call\n",
      "    raise _server._deserialise_exception(e.error_obj)\n",
      "anvil._server.AnvilWrappedError: 'Connection to Anvil Uplink server lost'\n"
     ]
    },
    {
     "name": "stdout",
     "output_type": "stream",
     "text": [
      "Anvil websocket closed (code 1006, reason=Going away)\n",
      "Reconnecting Anvil Uplink...\n",
      "Connecting to wss://anvil.works/uplink\n",
      "Anvil websocket open\n",
      "Connected to \"Default environment\" as SERVER\n"
     ]
    },
    {
     "name": "stderr",
     "output_type": "stream",
     "text": [
      "Exception in thread Thread-42:\n",
      "Traceback (most recent call last):\n",
      "  File \"/Users/Daniel/opt/anaconda3/envs/deeplearning/lib/python3.8/site-packages/anvil/server.py\", line 403, in call\n",
      "    return _do_call(args, kwargs, fn_name=fn_name)\n",
      "  File \"/Users/Daniel/opt/anaconda3/envs/deeplearning/lib/python3.8/site-packages/anvil/server.py\", line 395, in _do_call\n",
      "    return _threaded_server.do_call(args, kwargs, fn_name=fn_name, live_object=live_object)\n",
      "  File \"/Users/Daniel/opt/anaconda3/envs/deeplearning/lib/python3.8/site-packages/anvil/_threaded_server.py\", line 435, in do_call\n",
      "    raise error_from_server\n",
      "anvil._server.AnvilWrappedError: 'Connection to Anvil Uplink server lost'\n",
      "\n",
      "During handling of the above exception, another exception occurred:\n",
      "\n",
      "Traceback (most recent call last):\n",
      "  File \"/Users/Daniel/opt/anaconda3/envs/deeplearning/lib/python3.8/threading.py\", line 932, in _bootstrap_inner\n",
      "    self.run()\n",
      "  File \"/Users/Daniel/opt/anaconda3/envs/deeplearning/lib/python3.8/threading.py\", line 870, in run\n",
      "    self._target(*self._args, **self._kwargs)\n",
      "  File \"/Users/Daniel/opt/anaconda3/envs/deeplearning/lib/python3.8/site-packages/anvil/server.py\", line 206, in heartbeat_until_reopened\n",
      "    call(\"anvil.private.echo\", \"keep-alive\")\n",
      "  File \"/Users/Daniel/opt/anaconda3/envs/deeplearning/lib/python3.8/site-packages/anvil/server.py\", line 406, in call\n",
      "    raise _server._deserialise_exception(e.error_obj)\n",
      "anvil._server.AnvilWrappedError: 'Connection to Anvil Uplink server lost'\n"
     ]
    },
    {
     "name": "stdout",
     "output_type": "stream",
     "text": [
      "Anvil websocket closed (code 1006, reason=Going away)\n",
      "Reconnecting Anvil Uplink...\n",
      "Connecting to wss://anvil.works/uplink\n",
      "Anvil websocket open\n",
      "Connected to \"Default environment\" as SERVER\n"
     ]
    },
    {
     "name": "stderr",
     "output_type": "stream",
     "text": [
      "Exception in thread Thread-45:\n",
      "Traceback (most recent call last):\n",
      "  File \"/Users/Daniel/opt/anaconda3/envs/deeplearning/lib/python3.8/site-packages/anvil/server.py\", line 403, in call\n",
      "    return _do_call(args, kwargs, fn_name=fn_name)\n",
      "  File \"/Users/Daniel/opt/anaconda3/envs/deeplearning/lib/python3.8/site-packages/anvil/server.py\", line 395, in _do_call\n",
      "    return _threaded_server.do_call(args, kwargs, fn_name=fn_name, live_object=live_object)\n",
      "  File \"/Users/Daniel/opt/anaconda3/envs/deeplearning/lib/python3.8/site-packages/anvil/_threaded_server.py\", line 435, in do_call\n",
      "    raise error_from_server\n",
      "anvil._server.AnvilWrappedError: 'Connection to Anvil Uplink server lost'\n",
      "\n",
      "During handling of the above exception, another exception occurred:\n",
      "\n",
      "Traceback (most recent call last):\n",
      "  File \"/Users/Daniel/opt/anaconda3/envs/deeplearning/lib/python3.8/threading.py\", line 932, in _bootstrap_inner\n",
      "    self.run()\n",
      "  File \"/Users/Daniel/opt/anaconda3/envs/deeplearning/lib/python3.8/threading.py\", line 870, in run\n",
      "    self._target(*self._args, **self._kwargs)\n",
      "  File \"/Users/Daniel/opt/anaconda3/envs/deeplearning/lib/python3.8/site-packages/anvil/server.py\", line 206, in heartbeat_until_reopened\n",
      "    call(\"anvil.private.echo\", \"keep-alive\")\n",
      "  File \"/Users/Daniel/opt/anaconda3/envs/deeplearning/lib/python3.8/site-packages/anvil/server.py\", line 406, in call\n",
      "    raise _server._deserialise_exception(e.error_obj)\n",
      "anvil._server.AnvilWrappedError: 'Connection to Anvil Uplink server lost'\n"
     ]
    },
    {
     "name": "stdout",
     "output_type": "stream",
     "text": [
      "Anvil websocket closed (code 1006, reason=Going away)\n",
      "Reconnecting Anvil Uplink...\n",
      "Connecting to wss://anvil.works/uplink\n",
      "Anvil websocket open\n",
      "Connected to \"Default environment\" as SERVER\n"
     ]
    },
    {
     "name": "stderr",
     "output_type": "stream",
     "text": [
      "Exception in thread Thread-48:\n",
      "Traceback (most recent call last):\n",
      "  File \"/Users/Daniel/opt/anaconda3/envs/deeplearning/lib/python3.8/site-packages/anvil/server.py\", line 403, in call\n",
      "    return _do_call(args, kwargs, fn_name=fn_name)\n",
      "  File \"/Users/Daniel/opt/anaconda3/envs/deeplearning/lib/python3.8/site-packages/anvil/server.py\", line 395, in _do_call\n",
      "    return _threaded_server.do_call(args, kwargs, fn_name=fn_name, live_object=live_object)\n",
      "  File \"/Users/Daniel/opt/anaconda3/envs/deeplearning/lib/python3.8/site-packages/anvil/_threaded_server.py\", line 435, in do_call\n",
      "    raise error_from_server\n",
      "anvil._server.AnvilWrappedError: 'Connection to Anvil Uplink server lost'\n",
      "\n",
      "During handling of the above exception, another exception occurred:\n",
      "\n",
      "Traceback (most recent call last):\n",
      "  File \"/Users/Daniel/opt/anaconda3/envs/deeplearning/lib/python3.8/threading.py\", line 932, in _bootstrap_inner\n",
      "    self.run()\n",
      "  File \"/Users/Daniel/opt/anaconda3/envs/deeplearning/lib/python3.8/threading.py\", line 870, in run\n",
      "    self._target(*self._args, **self._kwargs)\n",
      "  File \"/Users/Daniel/opt/anaconda3/envs/deeplearning/lib/python3.8/site-packages/anvil/server.py\", line 206, in heartbeat_until_reopened\n",
      "    call(\"anvil.private.echo\", \"keep-alive\")\n",
      "  File \"/Users/Daniel/opt/anaconda3/envs/deeplearning/lib/python3.8/site-packages/anvil/server.py\", line 406, in call\n",
      "    raise _server._deserialise_exception(e.error_obj)\n",
      "anvil._server.AnvilWrappedError: 'Connection to Anvil Uplink server lost'\n"
     ]
    },
    {
     "name": "stdout",
     "output_type": "stream",
     "text": [
      "Anvil websocket closed (code 1006, reason=Going away)\n",
      "Reconnecting Anvil Uplink...\n",
      "Connecting to wss://anvil.works/uplink\n",
      "Anvil websocket open\n",
      "Connected to \"Default environment\" as SERVER\n"
     ]
    },
    {
     "name": "stderr",
     "output_type": "stream",
     "text": [
      "Exception in thread Thread-51:\n",
      "Traceback (most recent call last):\n",
      "  File \"/Users/Daniel/opt/anaconda3/envs/deeplearning/lib/python3.8/site-packages/anvil/server.py\", line 403, in call\n",
      "    return _do_call(args, kwargs, fn_name=fn_name)\n",
      "  File \"/Users/Daniel/opt/anaconda3/envs/deeplearning/lib/python3.8/site-packages/anvil/server.py\", line 395, in _do_call\n",
      "    return _threaded_server.do_call(args, kwargs, fn_name=fn_name, live_object=live_object)\n",
      "  File \"/Users/Daniel/opt/anaconda3/envs/deeplearning/lib/python3.8/site-packages/anvil/_threaded_server.py\", line 435, in do_call\n",
      "    raise error_from_server\n",
      "anvil._server.AnvilWrappedError: 'Connection to Anvil Uplink server lost'\n",
      "\n",
      "During handling of the above exception, another exception occurred:\n",
      "\n",
      "Traceback (most recent call last):\n",
      "  File \"/Users/Daniel/opt/anaconda3/envs/deeplearning/lib/python3.8/threading.py\", line 932, in _bootstrap_inner\n",
      "    self.run()\n",
      "  File \"/Users/Daniel/opt/anaconda3/envs/deeplearning/lib/python3.8/threading.py\", line 870, in run\n",
      "    self._target(*self._args, **self._kwargs)\n",
      "  File \"/Users/Daniel/opt/anaconda3/envs/deeplearning/lib/python3.8/site-packages/anvil/server.py\", line 206, in heartbeat_until_reopened\n",
      "    call(\"anvil.private.echo\", \"keep-alive\")\n",
      "  File \"/Users/Daniel/opt/anaconda3/envs/deeplearning/lib/python3.8/site-packages/anvil/server.py\", line 406, in call\n",
      "    raise _server._deserialise_exception(e.error_obj)\n",
      "anvil._server.AnvilWrappedError: 'Connection to Anvil Uplink server lost'\n"
     ]
    },
    {
     "name": "stdout",
     "output_type": "stream",
     "text": [
      "Anvil websocket closed (code 1006, reason=Going away)\n",
      "Reconnecting Anvil Uplink...\n",
      "Connecting to wss://anvil.works/uplink\n",
      "Anvil websocket open\n",
      "Connected to \"Default environment\" as SERVER\n"
     ]
    },
    {
     "name": "stderr",
     "output_type": "stream",
     "text": [
      "Exception in thread Thread-54:\n",
      "Traceback (most recent call last):\n",
      "  File \"/Users/Daniel/opt/anaconda3/envs/deeplearning/lib/python3.8/site-packages/anvil/server.py\", line 403, in call\n",
      "    return _do_call(args, kwargs, fn_name=fn_name)\n",
      "  File \"/Users/Daniel/opt/anaconda3/envs/deeplearning/lib/python3.8/site-packages/anvil/server.py\", line 395, in _do_call\n",
      "    return _threaded_server.do_call(args, kwargs, fn_name=fn_name, live_object=live_object)\n",
      "  File \"/Users/Daniel/opt/anaconda3/envs/deeplearning/lib/python3.8/site-packages/anvil/_threaded_server.py\", line 435, in do_call\n",
      "    raise error_from_server\n",
      "anvil._server.AnvilWrappedError: 'Connection to Anvil Uplink server lost'\n",
      "\n",
      "During handling of the above exception, another exception occurred:\n",
      "\n",
      "Traceback (most recent call last):\n",
      "  File \"/Users/Daniel/opt/anaconda3/envs/deeplearning/lib/python3.8/threading.py\", line 932, in _bootstrap_inner\n",
      "    self.run()\n",
      "  File \"/Users/Daniel/opt/anaconda3/envs/deeplearning/lib/python3.8/threading.py\", line 870, in run\n",
      "    self._target(*self._args, **self._kwargs)\n",
      "  File \"/Users/Daniel/opt/anaconda3/envs/deeplearning/lib/python3.8/site-packages/anvil/server.py\", line 206, in heartbeat_until_reopened\n",
      "    call(\"anvil.private.echo\", \"keep-alive\")\n",
      "  File \"/Users/Daniel/opt/anaconda3/envs/deeplearning/lib/python3.8/site-packages/anvil/server.py\", line 406, in call\n",
      "    raise _server._deserialise_exception(e.error_obj)\n",
      "anvil._server.AnvilWrappedError: 'Connection to Anvil Uplink server lost'\n"
     ]
    },
    {
     "name": "stdout",
     "output_type": "stream",
     "text": [
      "Anvil websocket closed (code 1006, reason=Going away)\n",
      "Reconnecting Anvil Uplink...\n",
      "Connecting to wss://anvil.works/uplink\n",
      "Anvil websocket open\n",
      "Connected to \"Default environment\" as SERVER\n"
     ]
    },
    {
     "name": "stderr",
     "output_type": "stream",
     "text": [
      "Exception in thread Thread-57:\n",
      "Traceback (most recent call last):\n",
      "  File \"/Users/Daniel/opt/anaconda3/envs/deeplearning/lib/python3.8/site-packages/anvil/server.py\", line 403, in call\n",
      "    return _do_call(args, kwargs, fn_name=fn_name)\n",
      "  File \"/Users/Daniel/opt/anaconda3/envs/deeplearning/lib/python3.8/site-packages/anvil/server.py\", line 395, in _do_call\n",
      "    return _threaded_server.do_call(args, kwargs, fn_name=fn_name, live_object=live_object)\n",
      "  File \"/Users/Daniel/opt/anaconda3/envs/deeplearning/lib/python3.8/site-packages/anvil/_threaded_server.py\", line 435, in do_call\n",
      "    raise error_from_server\n",
      "anvil._server.AnvilWrappedError: 'Connection to Anvil Uplink server lost'\n",
      "\n",
      "During handling of the above exception, another exception occurred:\n",
      "\n",
      "Traceback (most recent call last):\n",
      "  File \"/Users/Daniel/opt/anaconda3/envs/deeplearning/lib/python3.8/threading.py\", line 932, in _bootstrap_inner\n",
      "    self.run()\n",
      "  File \"/Users/Daniel/opt/anaconda3/envs/deeplearning/lib/python3.8/threading.py\", line 870, in run\n",
      "    self._target(*self._args, **self._kwargs)\n",
      "  File \"/Users/Daniel/opt/anaconda3/envs/deeplearning/lib/python3.8/site-packages/anvil/server.py\", line 206, in heartbeat_until_reopened\n",
      "    call(\"anvil.private.echo\", \"keep-alive\")\n",
      "  File \"/Users/Daniel/opt/anaconda3/envs/deeplearning/lib/python3.8/site-packages/anvil/server.py\", line 406, in call\n",
      "    raise _server._deserialise_exception(e.error_obj)\n",
      "anvil._server.AnvilWrappedError: 'Connection to Anvil Uplink server lost'\n"
     ]
    },
    {
     "name": "stdout",
     "output_type": "stream",
     "text": [
      "Anvil websocket closed (code 1006, reason=Going away)\n",
      "Reconnecting Anvil Uplink...\n",
      "Connecting to wss://anvil.works/uplink\n",
      "Anvil websocket open\n",
      "Connected to \"Default environment\" as SERVER\n"
     ]
    },
    {
     "name": "stderr",
     "output_type": "stream",
     "text": [
      "Exception in thread Thread-60:\n",
      "Traceback (most recent call last):\n",
      "  File \"/Users/Daniel/opt/anaconda3/envs/deeplearning/lib/python3.8/site-packages/anvil/server.py\", line 403, in call\n",
      "    return _do_call(args, kwargs, fn_name=fn_name)\n",
      "  File \"/Users/Daniel/opt/anaconda3/envs/deeplearning/lib/python3.8/site-packages/anvil/server.py\", line 395, in _do_call\n",
      "    return _threaded_server.do_call(args, kwargs, fn_name=fn_name, live_object=live_object)\n",
      "  File \"/Users/Daniel/opt/anaconda3/envs/deeplearning/lib/python3.8/site-packages/anvil/_threaded_server.py\", line 435, in do_call\n",
      "    raise error_from_server\n",
      "anvil._server.AnvilWrappedError: 'Connection to Anvil Uplink server lost'\n",
      "\n",
      "During handling of the above exception, another exception occurred:\n",
      "\n",
      "Traceback (most recent call last):\n",
      "  File \"/Users/Daniel/opt/anaconda3/envs/deeplearning/lib/python3.8/threading.py\", line 932, in _bootstrap_inner\n",
      "    self.run()\n",
      "  File \"/Users/Daniel/opt/anaconda3/envs/deeplearning/lib/python3.8/threading.py\", line 870, in run\n",
      "    self._target(*self._args, **self._kwargs)\n",
      "  File \"/Users/Daniel/opt/anaconda3/envs/deeplearning/lib/python3.8/site-packages/anvil/server.py\", line 206, in heartbeat_until_reopened\n",
      "    call(\"anvil.private.echo\", \"keep-alive\")\n",
      "  File \"/Users/Daniel/opt/anaconda3/envs/deeplearning/lib/python3.8/site-packages/anvil/server.py\", line 406, in call\n",
      "    raise _server._deserialise_exception(e.error_obj)\n",
      "anvil._server.AnvilWrappedError: 'Connection to Anvil Uplink server lost'\n"
     ]
    },
    {
     "name": "stdout",
     "output_type": "stream",
     "text": [
      "Anvil websocket closed (code 1006, reason=Going away)\n",
      "Reconnecting Anvil Uplink...\n",
      "Connecting to wss://anvil.works/uplink\n",
      "Anvil websocket open\n",
      "Connected to \"Default environment\" as SERVER\n"
     ]
    },
    {
     "name": "stderr",
     "output_type": "stream",
     "text": [
      "Exception in thread Thread-63:\n",
      "Traceback (most recent call last):\n",
      "  File \"/Users/Daniel/opt/anaconda3/envs/deeplearning/lib/python3.8/site-packages/anvil/server.py\", line 403, in call\n",
      "    return _do_call(args, kwargs, fn_name=fn_name)\n",
      "  File \"/Users/Daniel/opt/anaconda3/envs/deeplearning/lib/python3.8/site-packages/anvil/server.py\", line 395, in _do_call\n",
      "    return _threaded_server.do_call(args, kwargs, fn_name=fn_name, live_object=live_object)\n",
      "  File \"/Users/Daniel/opt/anaconda3/envs/deeplearning/lib/python3.8/site-packages/anvil/_threaded_server.py\", line 435, in do_call\n",
      "    raise error_from_server\n",
      "anvil._server.AnvilWrappedError: 'Connection to Anvil Uplink server lost'\n",
      "\n",
      "During handling of the above exception, another exception occurred:\n",
      "\n",
      "Traceback (most recent call last):\n",
      "  File \"/Users/Daniel/opt/anaconda3/envs/deeplearning/lib/python3.8/threading.py\", line 932, in _bootstrap_inner\n",
      "    self.run()\n",
      "  File \"/Users/Daniel/opt/anaconda3/envs/deeplearning/lib/python3.8/threading.py\", line 870, in run\n",
      "    self._target(*self._args, **self._kwargs)\n",
      "  File \"/Users/Daniel/opt/anaconda3/envs/deeplearning/lib/python3.8/site-packages/anvil/server.py\", line 206, in heartbeat_until_reopened\n",
      "    call(\"anvil.private.echo\", \"keep-alive\")\n",
      "  File \"/Users/Daniel/opt/anaconda3/envs/deeplearning/lib/python3.8/site-packages/anvil/server.py\", line 406, in call\n",
      "    raise _server._deserialise_exception(e.error_obj)\n",
      "anvil._server.AnvilWrappedError: 'Connection to Anvil Uplink server lost'\n"
     ]
    },
    {
     "name": "stdout",
     "output_type": "stream",
     "text": [
      "Anvil websocket closed (code 1006, reason=Going away)\n",
      "Reconnecting Anvil Uplink...\n",
      "Connecting to wss://anvil.works/uplink\n",
      "Anvil websocket open\n",
      "Connected to \"Default environment\" as SERVER\n"
     ]
    },
    {
     "name": "stderr",
     "output_type": "stream",
     "text": [
      "Exception in thread Thread-66:\n",
      "Traceback (most recent call last):\n",
      "  File \"/Users/Daniel/opt/anaconda3/envs/deeplearning/lib/python3.8/site-packages/anvil/server.py\", line 403, in call\n",
      "    return _do_call(args, kwargs, fn_name=fn_name)\n",
      "  File \"/Users/Daniel/opt/anaconda3/envs/deeplearning/lib/python3.8/site-packages/anvil/server.py\", line 395, in _do_call\n",
      "    return _threaded_server.do_call(args, kwargs, fn_name=fn_name, live_object=live_object)\n",
      "  File \"/Users/Daniel/opt/anaconda3/envs/deeplearning/lib/python3.8/site-packages/anvil/_threaded_server.py\", line 435, in do_call\n",
      "    raise error_from_server\n",
      "anvil._server.AnvilWrappedError: 'Connection to Anvil Uplink server lost'\n",
      "\n",
      "During handling of the above exception, another exception occurred:\n",
      "\n",
      "Traceback (most recent call last):\n",
      "  File \"/Users/Daniel/opt/anaconda3/envs/deeplearning/lib/python3.8/threading.py\", line 932, in _bootstrap_inner\n",
      "    self.run()\n",
      "  File \"/Users/Daniel/opt/anaconda3/envs/deeplearning/lib/python3.8/threading.py\", line 870, in run\n",
      "    self._target(*self._args, **self._kwargs)\n",
      "  File \"/Users/Daniel/opt/anaconda3/envs/deeplearning/lib/python3.8/site-packages/anvil/server.py\", line 206, in heartbeat_until_reopened\n",
      "    call(\"anvil.private.echo\", \"keep-alive\")\n",
      "  File \"/Users/Daniel/opt/anaconda3/envs/deeplearning/lib/python3.8/site-packages/anvil/server.py\", line 406, in call\n",
      "    raise _server._deserialise_exception(e.error_obj)\n",
      "anvil._server.AnvilWrappedError: 'Connection to Anvil Uplink server lost'\n"
     ]
    },
    {
     "name": "stdout",
     "output_type": "stream",
     "text": [
      "Anvil websocket closed (code 1006, reason=Going away)\n",
      "Reconnecting Anvil Uplink...\n",
      "Connecting to wss://anvil.works/uplink\n",
      "Anvil websocket open\n",
      "Connected to \"Default environment\" as SERVER\n"
     ]
    },
    {
     "name": "stderr",
     "output_type": "stream",
     "text": [
      "Exception in thread Thread-69:\n",
      "Traceback (most recent call last):\n",
      "  File \"/Users/Daniel/opt/anaconda3/envs/deeplearning/lib/python3.8/site-packages/anvil/server.py\", line 403, in call\n",
      "    return _do_call(args, kwargs, fn_name=fn_name)\n",
      "  File \"/Users/Daniel/opt/anaconda3/envs/deeplearning/lib/python3.8/site-packages/anvil/server.py\", line 395, in _do_call\n",
      "    return _threaded_server.do_call(args, kwargs, fn_name=fn_name, live_object=live_object)\n",
      "  File \"/Users/Daniel/opt/anaconda3/envs/deeplearning/lib/python3.8/site-packages/anvil/_threaded_server.py\", line 435, in do_call\n",
      "    raise error_from_server\n",
      "anvil._server.AnvilWrappedError: 'Connection to Anvil Uplink server lost'\n",
      "\n",
      "During handling of the above exception, another exception occurred:\n",
      "\n",
      "Traceback (most recent call last):\n",
      "  File \"/Users/Daniel/opt/anaconda3/envs/deeplearning/lib/python3.8/threading.py\", line 932, in _bootstrap_inner\n",
      "    self.run()\n",
      "  File \"/Users/Daniel/opt/anaconda3/envs/deeplearning/lib/python3.8/threading.py\", line 870, in run\n",
      "    self._target(*self._args, **self._kwargs)\n",
      "  File \"/Users/Daniel/opt/anaconda3/envs/deeplearning/lib/python3.8/site-packages/anvil/server.py\", line 206, in heartbeat_until_reopened\n",
      "    call(\"anvil.private.echo\", \"keep-alive\")\n",
      "  File \"/Users/Daniel/opt/anaconda3/envs/deeplearning/lib/python3.8/site-packages/anvil/server.py\", line 406, in call\n",
      "    raise _server._deserialise_exception(e.error_obj)\n",
      "anvil._server.AnvilWrappedError: 'Connection to Anvil Uplink server lost'\n"
     ]
    },
    {
     "name": "stdout",
     "output_type": "stream",
     "text": [
      "Anvil websocket closed (code 1006, reason=Going away)\n",
      "Reconnecting Anvil Uplink...\n",
      "Connecting to wss://anvil.works/uplink\n",
      "Anvil websocket open\n",
      "Connected to \"Default environment\" as SERVER\n"
     ]
    },
    {
     "name": "stderr",
     "output_type": "stream",
     "text": [
      "Exception in thread Thread-72:\n",
      "Traceback (most recent call last):\n",
      "  File \"/Users/Daniel/opt/anaconda3/envs/deeplearning/lib/python3.8/site-packages/anvil/server.py\", line 403, in call\n",
      "    return _do_call(args, kwargs, fn_name=fn_name)\n",
      "  File \"/Users/Daniel/opt/anaconda3/envs/deeplearning/lib/python3.8/site-packages/anvil/server.py\", line 395, in _do_call\n",
      "    return _threaded_server.do_call(args, kwargs, fn_name=fn_name, live_object=live_object)\n",
      "  File \"/Users/Daniel/opt/anaconda3/envs/deeplearning/lib/python3.8/site-packages/anvil/_threaded_server.py\", line 435, in do_call\n",
      "    raise error_from_server\n",
      "anvil._server.AnvilWrappedError: 'Connection to Anvil Uplink server lost'\n",
      "\n",
      "During handling of the above exception, another exception occurred:\n",
      "\n",
      "Traceback (most recent call last):\n",
      "  File \"/Users/Daniel/opt/anaconda3/envs/deeplearning/lib/python3.8/threading.py\", line 932, in _bootstrap_inner\n",
      "    self.run()\n",
      "  File \"/Users/Daniel/opt/anaconda3/envs/deeplearning/lib/python3.8/threading.py\", line 870, in run\n",
      "    self._target(*self._args, **self._kwargs)\n",
      "  File \"/Users/Daniel/opt/anaconda3/envs/deeplearning/lib/python3.8/site-packages/anvil/server.py\", line 206, in heartbeat_until_reopened\n",
      "    call(\"anvil.private.echo\", \"keep-alive\")\n",
      "  File \"/Users/Daniel/opt/anaconda3/envs/deeplearning/lib/python3.8/site-packages/anvil/server.py\", line 406, in call\n",
      "    raise _server._deserialise_exception(e.error_obj)\n",
      "anvil._server.AnvilWrappedError: 'Connection to Anvil Uplink server lost'\n"
     ]
    },
    {
     "name": "stdout",
     "output_type": "stream",
     "text": [
      "Anvil websocket closed (code 1006, reason=Going away)\n",
      "Reconnecting Anvil Uplink...\n",
      "Connecting to wss://anvil.works/uplink\n",
      "Anvil websocket open\n",
      "Connected to \"Default environment\" as SERVER\n"
     ]
    },
    {
     "name": "stderr",
     "output_type": "stream",
     "text": [
      "Exception in thread Thread-75:\n",
      "Traceback (most recent call last):\n",
      "  File \"/Users/Daniel/opt/anaconda3/envs/deeplearning/lib/python3.8/site-packages/anvil/server.py\", line 403, in call\n",
      "    return _do_call(args, kwargs, fn_name=fn_name)\n",
      "  File \"/Users/Daniel/opt/anaconda3/envs/deeplearning/lib/python3.8/site-packages/anvil/server.py\", line 395, in _do_call\n",
      "    return _threaded_server.do_call(args, kwargs, fn_name=fn_name, live_object=live_object)\n",
      "  File \"/Users/Daniel/opt/anaconda3/envs/deeplearning/lib/python3.8/site-packages/anvil/_threaded_server.py\", line 435, in do_call\n",
      "    raise error_from_server\n",
      "anvil._server.AnvilWrappedError: 'Connection to Anvil Uplink server lost'\n",
      "\n",
      "During handling of the above exception, another exception occurred:\n",
      "\n",
      "Traceback (most recent call last):\n",
      "  File \"/Users/Daniel/opt/anaconda3/envs/deeplearning/lib/python3.8/threading.py\", line 932, in _bootstrap_inner\n",
      "    self.run()\n",
      "  File \"/Users/Daniel/opt/anaconda3/envs/deeplearning/lib/python3.8/threading.py\", line 870, in run\n",
      "    self._target(*self._args, **self._kwargs)\n",
      "  File \"/Users/Daniel/opt/anaconda3/envs/deeplearning/lib/python3.8/site-packages/anvil/server.py\", line 206, in heartbeat_until_reopened\n",
      "    call(\"anvil.private.echo\", \"keep-alive\")\n",
      "  File \"/Users/Daniel/opt/anaconda3/envs/deeplearning/lib/python3.8/site-packages/anvil/server.py\", line 406, in call\n",
      "    raise _server._deserialise_exception(e.error_obj)\n",
      "anvil._server.AnvilWrappedError: 'Connection to Anvil Uplink server lost'\n"
     ]
    },
    {
     "name": "stdout",
     "output_type": "stream",
     "text": [
      "Anvil websocket closed (code 1006, reason=Going away)\n",
      "Reconnecting Anvil Uplink...\n",
      "Connecting to wss://anvil.works/uplink\n",
      "Anvil websocket open\n",
      "Connected to \"Default environment\" as SERVER\n"
     ]
    },
    {
     "name": "stderr",
     "output_type": "stream",
     "text": [
      "Exception in thread Thread-78:\n",
      "Traceback (most recent call last):\n",
      "  File \"/Users/Daniel/opt/anaconda3/envs/deeplearning/lib/python3.8/site-packages/anvil/server.py\", line 403, in call\n",
      "    return _do_call(args, kwargs, fn_name=fn_name)\n",
      "  File \"/Users/Daniel/opt/anaconda3/envs/deeplearning/lib/python3.8/site-packages/anvil/server.py\", line 395, in _do_call\n",
      "    return _threaded_server.do_call(args, kwargs, fn_name=fn_name, live_object=live_object)\n",
      "  File \"/Users/Daniel/opt/anaconda3/envs/deeplearning/lib/python3.8/site-packages/anvil/_threaded_server.py\", line 435, in do_call\n",
      "    raise error_from_server\n",
      "anvil._server.AnvilWrappedError: 'Connection to Anvil Uplink server lost'\n",
      "\n",
      "During handling of the above exception, another exception occurred:\n",
      "\n",
      "Traceback (most recent call last):\n",
      "  File \"/Users/Daniel/opt/anaconda3/envs/deeplearning/lib/python3.8/threading.py\", line 932, in _bootstrap_inner\n",
      "    self.run()\n",
      "  File \"/Users/Daniel/opt/anaconda3/envs/deeplearning/lib/python3.8/threading.py\", line 870, in run\n",
      "    self._target(*self._args, **self._kwargs)\n",
      "  File \"/Users/Daniel/opt/anaconda3/envs/deeplearning/lib/python3.8/site-packages/anvil/server.py\", line 206, in heartbeat_until_reopened\n",
      "    call(\"anvil.private.echo\", \"keep-alive\")\n",
      "  File \"/Users/Daniel/opt/anaconda3/envs/deeplearning/lib/python3.8/site-packages/anvil/server.py\", line 406, in call\n",
      "    raise _server._deserialise_exception(e.error_obj)\n",
      "anvil._server.AnvilWrappedError: 'Connection to Anvil Uplink server lost'\n"
     ]
    },
    {
     "name": "stdout",
     "output_type": "stream",
     "text": [
      "Anvil websocket closed (code 1006, reason=Going away)\n",
      "Reconnecting Anvil Uplink...\n",
      "Connecting to wss://anvil.works/uplink\n",
      "Anvil websocket open\n",
      "Connected to \"Default environment\" as SERVER\n"
     ]
    },
    {
     "name": "stderr",
     "output_type": "stream",
     "text": [
      "Exception in thread Thread-81:\n",
      "Traceback (most recent call last):\n",
      "  File \"/Users/Daniel/opt/anaconda3/envs/deeplearning/lib/python3.8/site-packages/anvil/server.py\", line 403, in call\n",
      "    return _do_call(args, kwargs, fn_name=fn_name)\n",
      "  File \"/Users/Daniel/opt/anaconda3/envs/deeplearning/lib/python3.8/site-packages/anvil/server.py\", line 395, in _do_call\n",
      "    return _threaded_server.do_call(args, kwargs, fn_name=fn_name, live_object=live_object)\n",
      "  File \"/Users/Daniel/opt/anaconda3/envs/deeplearning/lib/python3.8/site-packages/anvil/_threaded_server.py\", line 435, in do_call\n",
      "    raise error_from_server\n",
      "anvil._server.AnvilWrappedError: 'Connection to Anvil Uplink server lost'\n",
      "\n",
      "During handling of the above exception, another exception occurred:\n",
      "\n",
      "Traceback (most recent call last):\n",
      "  File \"/Users/Daniel/opt/anaconda3/envs/deeplearning/lib/python3.8/threading.py\", line 932, in _bootstrap_inner\n",
      "    self.run()\n",
      "  File \"/Users/Daniel/opt/anaconda3/envs/deeplearning/lib/python3.8/threading.py\", line 870, in run\n",
      "    self._target(*self._args, **self._kwargs)\n",
      "  File \"/Users/Daniel/opt/anaconda3/envs/deeplearning/lib/python3.8/site-packages/anvil/server.py\", line 206, in heartbeat_until_reopened\n",
      "    call(\"anvil.private.echo\", \"keep-alive\")\n",
      "  File \"/Users/Daniel/opt/anaconda3/envs/deeplearning/lib/python3.8/site-packages/anvil/server.py\", line 406, in call\n",
      "    raise _server._deserialise_exception(e.error_obj)\n",
      "anvil._server.AnvilWrappedError: 'Connection to Anvil Uplink server lost'\n"
     ]
    },
    {
     "name": "stdout",
     "output_type": "stream",
     "text": [
      "Anvil websocket closed (code 1006, reason=Going away)\n",
      "Reconnecting Anvil Uplink...\n",
      "Connecting to wss://anvil.works/uplink\n",
      "Anvil websocket open\n",
      "Connected to \"Default environment\" as SERVER\n"
     ]
    },
    {
     "name": "stderr",
     "output_type": "stream",
     "text": [
      "Exception in thread Thread-84:\n",
      "Traceback (most recent call last):\n",
      "  File \"/Users/Daniel/opt/anaconda3/envs/deeplearning/lib/python3.8/site-packages/anvil/server.py\", line 403, in call\n",
      "    return _do_call(args, kwargs, fn_name=fn_name)\n",
      "  File \"/Users/Daniel/opt/anaconda3/envs/deeplearning/lib/python3.8/site-packages/anvil/server.py\", line 395, in _do_call\n",
      "    return _threaded_server.do_call(args, kwargs, fn_name=fn_name, live_object=live_object)\n",
      "  File \"/Users/Daniel/opt/anaconda3/envs/deeplearning/lib/python3.8/site-packages/anvil/_threaded_server.py\", line 435, in do_call\n",
      "    raise error_from_server\n",
      "anvil._server.AnvilWrappedError: 'Connection to Anvil Uplink server lost'\n",
      "\n",
      "During handling of the above exception, another exception occurred:\n",
      "\n",
      "Traceback (most recent call last):\n",
      "  File \"/Users/Daniel/opt/anaconda3/envs/deeplearning/lib/python3.8/threading.py\", line 932, in _bootstrap_inner\n",
      "    self.run()\n",
      "  File \"/Users/Daniel/opt/anaconda3/envs/deeplearning/lib/python3.8/threading.py\", line 870, in run\n",
      "    self._target(*self._args, **self._kwargs)\n",
      "  File \"/Users/Daniel/opt/anaconda3/envs/deeplearning/lib/python3.8/site-packages/anvil/server.py\", line 206, in heartbeat_until_reopened\n",
      "    call(\"anvil.private.echo\", \"keep-alive\")\n",
      "  File \"/Users/Daniel/opt/anaconda3/envs/deeplearning/lib/python3.8/site-packages/anvil/server.py\", line 406, in call\n",
      "    raise _server._deserialise_exception(e.error_obj)\n",
      "anvil._server.AnvilWrappedError: 'Connection to Anvil Uplink server lost'\n"
     ]
    },
    {
     "name": "stdout",
     "output_type": "stream",
     "text": [
      "Anvil websocket closed (code 1006, reason=Going away)\n",
      "Reconnecting Anvil Uplink...\n",
      "Connecting to wss://anvil.works/uplink\n",
      "Anvil websocket open\n",
      "Connected to \"Default environment\" as SERVER\n"
     ]
    },
    {
     "name": "stderr",
     "output_type": "stream",
     "text": [
      "Exception in thread Thread-87:\n",
      "Traceback (most recent call last):\n",
      "  File \"/Users/Daniel/opt/anaconda3/envs/deeplearning/lib/python3.8/site-packages/anvil/server.py\", line 403, in call\n",
      "    return _do_call(args, kwargs, fn_name=fn_name)\n",
      "  File \"/Users/Daniel/opt/anaconda3/envs/deeplearning/lib/python3.8/site-packages/anvil/server.py\", line 395, in _do_call\n",
      "    return _threaded_server.do_call(args, kwargs, fn_name=fn_name, live_object=live_object)\n",
      "  File \"/Users/Daniel/opt/anaconda3/envs/deeplearning/lib/python3.8/site-packages/anvil/_threaded_server.py\", line 435, in do_call\n",
      "    raise error_from_server\n",
      "anvil._server.AnvilWrappedError: 'Connection to Anvil Uplink server lost'\n",
      "\n",
      "During handling of the above exception, another exception occurred:\n",
      "\n",
      "Traceback (most recent call last):\n",
      "  File \"/Users/Daniel/opt/anaconda3/envs/deeplearning/lib/python3.8/threading.py\", line 932, in _bootstrap_inner\n",
      "    self.run()\n",
      "  File \"/Users/Daniel/opt/anaconda3/envs/deeplearning/lib/python3.8/threading.py\", line 870, in run\n",
      "    self._target(*self._args, **self._kwargs)\n",
      "  File \"/Users/Daniel/opt/anaconda3/envs/deeplearning/lib/python3.8/site-packages/anvil/server.py\", line 206, in heartbeat_until_reopened\n",
      "    call(\"anvil.private.echo\", \"keep-alive\")\n",
      "  File \"/Users/Daniel/opt/anaconda3/envs/deeplearning/lib/python3.8/site-packages/anvil/server.py\", line 406, in call\n",
      "    raise _server._deserialise_exception(e.error_obj)\n",
      "anvil._server.AnvilWrappedError: 'Connection to Anvil Uplink server lost'\n"
     ]
    },
    {
     "name": "stdout",
     "output_type": "stream",
     "text": [
      "Anvil websocket closed (code 1006, reason=Going away)\n",
      "Reconnecting Anvil Uplink...\n",
      "Connecting to wss://anvil.works/uplink\n",
      "Anvil websocket open\n",
      "Connected to \"Default environment\" as SERVER\n"
     ]
    },
    {
     "name": "stderr",
     "output_type": "stream",
     "text": [
      "Exception in thread Thread-90:\n",
      "Traceback (most recent call last):\n",
      "  File \"/Users/Daniel/opt/anaconda3/envs/deeplearning/lib/python3.8/site-packages/anvil/server.py\", line 403, in call\n",
      "    return _do_call(args, kwargs, fn_name=fn_name)\n",
      "  File \"/Users/Daniel/opt/anaconda3/envs/deeplearning/lib/python3.8/site-packages/anvil/server.py\", line 395, in _do_call\n",
      "    return _threaded_server.do_call(args, kwargs, fn_name=fn_name, live_object=live_object)\n",
      "  File \"/Users/Daniel/opt/anaconda3/envs/deeplearning/lib/python3.8/site-packages/anvil/_threaded_server.py\", line 435, in do_call\n",
      "    raise error_from_server\n",
      "anvil._server.AnvilWrappedError: 'Connection to Anvil Uplink server lost'\n",
      "\n",
      "During handling of the above exception, another exception occurred:\n",
      "\n",
      "Traceback (most recent call last):\n",
      "  File \"/Users/Daniel/opt/anaconda3/envs/deeplearning/lib/python3.8/threading.py\", line 932, in _bootstrap_inner\n",
      "    self.run()\n",
      "  File \"/Users/Daniel/opt/anaconda3/envs/deeplearning/lib/python3.8/threading.py\", line 870, in run\n",
      "    self._target(*self._args, **self._kwargs)\n",
      "  File \"/Users/Daniel/opt/anaconda3/envs/deeplearning/lib/python3.8/site-packages/anvil/server.py\", line 206, in heartbeat_until_reopened\n",
      "    call(\"anvil.private.echo\", \"keep-alive\")\n",
      "  File \"/Users/Daniel/opt/anaconda3/envs/deeplearning/lib/python3.8/site-packages/anvil/server.py\", line 406, in call\n",
      "    raise _server._deserialise_exception(e.error_obj)\n",
      "anvil._server.AnvilWrappedError: 'Connection to Anvil Uplink server lost'\n"
     ]
    },
    {
     "name": "stdout",
     "output_type": "stream",
     "text": [
      "Anvil websocket closed (code 1006, reason=Going away)\n",
      "Reconnecting Anvil Uplink...\n",
      "Connecting to wss://anvil.works/uplink\n",
      "Anvil websocket open\n",
      "Connected to \"Default environment\" as SERVER\n"
     ]
    },
    {
     "name": "stderr",
     "output_type": "stream",
     "text": [
      "Exception in thread Thread-93:\n",
      "Traceback (most recent call last):\n",
      "  File \"/Users/Daniel/opt/anaconda3/envs/deeplearning/lib/python3.8/site-packages/anvil/server.py\", line 403, in call\n",
      "    return _do_call(args, kwargs, fn_name=fn_name)\n",
      "  File \"/Users/Daniel/opt/anaconda3/envs/deeplearning/lib/python3.8/site-packages/anvil/server.py\", line 395, in _do_call\n",
      "    return _threaded_server.do_call(args, kwargs, fn_name=fn_name, live_object=live_object)\n",
      "  File \"/Users/Daniel/opt/anaconda3/envs/deeplearning/lib/python3.8/site-packages/anvil/_threaded_server.py\", line 435, in do_call\n",
      "    raise error_from_server\n",
      "anvil._server.AnvilWrappedError: 'Connection to Anvil Uplink server lost'\n",
      "\n",
      "During handling of the above exception, another exception occurred:\n",
      "\n",
      "Traceback (most recent call last):\n",
      "  File \"/Users/Daniel/opt/anaconda3/envs/deeplearning/lib/python3.8/threading.py\", line 932, in _bootstrap_inner\n",
      "    self.run()\n",
      "  File \"/Users/Daniel/opt/anaconda3/envs/deeplearning/lib/python3.8/threading.py\", line 870, in run\n",
      "    self._target(*self._args, **self._kwargs)\n",
      "  File \"/Users/Daniel/opt/anaconda3/envs/deeplearning/lib/python3.8/site-packages/anvil/server.py\", line 206, in heartbeat_until_reopened\n",
      "    call(\"anvil.private.echo\", \"keep-alive\")\n",
      "  File \"/Users/Daniel/opt/anaconda3/envs/deeplearning/lib/python3.8/site-packages/anvil/server.py\", line 406, in call\n",
      "    raise _server._deserialise_exception(e.error_obj)\n",
      "anvil._server.AnvilWrappedError: 'Connection to Anvil Uplink server lost'\n"
     ]
    },
    {
     "name": "stdout",
     "output_type": "stream",
     "text": [
      "Anvil websocket closed (code 1006, reason=Going away)\n",
      "Reconnecting Anvil Uplink...\n",
      "Connecting to wss://anvil.works/uplink\n",
      "Anvil websocket open\n",
      "Connected to \"Default environment\" as SERVER\n"
     ]
    },
    {
     "name": "stderr",
     "output_type": "stream",
     "text": [
      "Exception in thread Thread-96:\n",
      "Traceback (most recent call last):\n",
      "  File \"/Users/Daniel/opt/anaconda3/envs/deeplearning/lib/python3.8/site-packages/anvil/server.py\", line 403, in call\n",
      "    return _do_call(args, kwargs, fn_name=fn_name)\n",
      "  File \"/Users/Daniel/opt/anaconda3/envs/deeplearning/lib/python3.8/site-packages/anvil/server.py\", line 395, in _do_call\n",
      "    return _threaded_server.do_call(args, kwargs, fn_name=fn_name, live_object=live_object)\n",
      "  File \"/Users/Daniel/opt/anaconda3/envs/deeplearning/lib/python3.8/site-packages/anvil/_threaded_server.py\", line 435, in do_call\n",
      "    raise error_from_server\n",
      "anvil._server.AnvilWrappedError: 'Connection to Anvil Uplink server lost'\n",
      "\n",
      "During handling of the above exception, another exception occurred:\n",
      "\n",
      "Traceback (most recent call last):\n",
      "  File \"/Users/Daniel/opt/anaconda3/envs/deeplearning/lib/python3.8/threading.py\", line 932, in _bootstrap_inner\n",
      "    self.run()\n",
      "  File \"/Users/Daniel/opt/anaconda3/envs/deeplearning/lib/python3.8/threading.py\", line 870, in run\n",
      "    self._target(*self._args, **self._kwargs)\n",
      "  File \"/Users/Daniel/opt/anaconda3/envs/deeplearning/lib/python3.8/site-packages/anvil/server.py\", line 206, in heartbeat_until_reopened\n",
      "    call(\"anvil.private.echo\", \"keep-alive\")\n",
      "  File \"/Users/Daniel/opt/anaconda3/envs/deeplearning/lib/python3.8/site-packages/anvil/server.py\", line 406, in call\n",
      "    raise _server._deserialise_exception(e.error_obj)\n",
      "anvil._server.AnvilWrappedError: 'Connection to Anvil Uplink server lost'\n"
     ]
    },
    {
     "name": "stdout",
     "output_type": "stream",
     "text": [
      "Anvil websocket closed (code 1006, reason=Going away)\n",
      "Reconnecting Anvil Uplink...\n",
      "Connecting to wss://anvil.works/uplink\n",
      "Anvil websocket open\n",
      "Connected to \"Default environment\" as SERVER\n"
     ]
    },
    {
     "name": "stderr",
     "output_type": "stream",
     "text": [
      "Exception in thread Thread-99:\n",
      "Traceback (most recent call last):\n",
      "  File \"/Users/Daniel/opt/anaconda3/envs/deeplearning/lib/python3.8/site-packages/anvil/server.py\", line 403, in call\n",
      "    return _do_call(args, kwargs, fn_name=fn_name)\n",
      "  File \"/Users/Daniel/opt/anaconda3/envs/deeplearning/lib/python3.8/site-packages/anvil/server.py\", line 395, in _do_call\n",
      "    return _threaded_server.do_call(args, kwargs, fn_name=fn_name, live_object=live_object)\n",
      "  File \"/Users/Daniel/opt/anaconda3/envs/deeplearning/lib/python3.8/site-packages/anvil/_threaded_server.py\", line 435, in do_call\n",
      "    raise error_from_server\n",
      "anvil._server.AnvilWrappedError: 'Connection to Anvil Uplink server lost'\n",
      "\n",
      "During handling of the above exception, another exception occurred:\n",
      "\n",
      "Traceback (most recent call last):\n",
      "  File \"/Users/Daniel/opt/anaconda3/envs/deeplearning/lib/python3.8/threading.py\", line 932, in _bootstrap_inner\n",
      "    self.run()\n",
      "  File \"/Users/Daniel/opt/anaconda3/envs/deeplearning/lib/python3.8/threading.py\", line 870, in run\n",
      "    self._target(*self._args, **self._kwargs)\n",
      "  File \"/Users/Daniel/opt/anaconda3/envs/deeplearning/lib/python3.8/site-packages/anvil/server.py\", line 206, in heartbeat_until_reopened\n",
      "    call(\"anvil.private.echo\", \"keep-alive\")\n",
      "  File \"/Users/Daniel/opt/anaconda3/envs/deeplearning/lib/python3.8/site-packages/anvil/server.py\", line 406, in call\n",
      "    raise _server._deserialise_exception(e.error_obj)\n",
      "anvil._server.AnvilWrappedError: 'Connection to Anvil Uplink server lost'\n"
     ]
    },
    {
     "name": "stdout",
     "output_type": "stream",
     "text": [
      "Anvil websocket closed (code 1006, reason=Going away)\n",
      "Reconnecting Anvil Uplink...\n",
      "Connecting to wss://anvil.works/uplink\n",
      "Anvil websocket open\n",
      "Connected to \"Default environment\" as SERVER\n"
     ]
    },
    {
     "name": "stderr",
     "output_type": "stream",
     "text": [
      "Exception in thread Thread-102:\n",
      "Traceback (most recent call last):\n",
      "  File \"/Users/Daniel/opt/anaconda3/envs/deeplearning/lib/python3.8/site-packages/anvil/server.py\", line 403, in call\n",
      "    return _do_call(args, kwargs, fn_name=fn_name)\n",
      "  File \"/Users/Daniel/opt/anaconda3/envs/deeplearning/lib/python3.8/site-packages/anvil/server.py\", line 395, in _do_call\n",
      "    return _threaded_server.do_call(args, kwargs, fn_name=fn_name, live_object=live_object)\n",
      "  File \"/Users/Daniel/opt/anaconda3/envs/deeplearning/lib/python3.8/site-packages/anvil/_threaded_server.py\", line 435, in do_call\n",
      "    raise error_from_server\n",
      "anvil._server.AnvilWrappedError: 'Connection to Anvil Uplink server lost'\n",
      "\n",
      "During handling of the above exception, another exception occurred:\n",
      "\n",
      "Traceback (most recent call last):\n",
      "  File \"/Users/Daniel/opt/anaconda3/envs/deeplearning/lib/python3.8/threading.py\", line 932, in _bootstrap_inner\n",
      "    self.run()\n",
      "  File \"/Users/Daniel/opt/anaconda3/envs/deeplearning/lib/python3.8/threading.py\", line 870, in run\n",
      "    self._target(*self._args, **self._kwargs)\n",
      "  File \"/Users/Daniel/opt/anaconda3/envs/deeplearning/lib/python3.8/site-packages/anvil/server.py\", line 206, in heartbeat_until_reopened\n",
      "    call(\"anvil.private.echo\", \"keep-alive\")\n",
      "  File \"/Users/Daniel/opt/anaconda3/envs/deeplearning/lib/python3.8/site-packages/anvil/server.py\", line 406, in call\n",
      "    raise _server._deserialise_exception(e.error_obj)\n",
      "anvil._server.AnvilWrappedError: 'Connection to Anvil Uplink server lost'\n"
     ]
    },
    {
     "name": "stdout",
     "output_type": "stream",
     "text": [
      "Anvil websocket closed (code 1006, reason=Going away)\n",
      "Reconnecting Anvil Uplink...\n",
      "Connecting to wss://anvil.works/uplink\n",
      "Anvil websocket open\n",
      "Connected to \"Default environment\" as SERVER\n"
     ]
    },
    {
     "name": "stderr",
     "output_type": "stream",
     "text": [
      "Exception in thread Thread-105:\n",
      "Traceback (most recent call last):\n",
      "  File \"/Users/Daniel/opt/anaconda3/envs/deeplearning/lib/python3.8/site-packages/anvil/server.py\", line 403, in call\n",
      "    return _do_call(args, kwargs, fn_name=fn_name)\n",
      "  File \"/Users/Daniel/opt/anaconda3/envs/deeplearning/lib/python3.8/site-packages/anvil/server.py\", line 395, in _do_call\n",
      "    return _threaded_server.do_call(args, kwargs, fn_name=fn_name, live_object=live_object)\n",
      "  File \"/Users/Daniel/opt/anaconda3/envs/deeplearning/lib/python3.8/site-packages/anvil/_threaded_server.py\", line 435, in do_call\n",
      "    raise error_from_server\n",
      "anvil._server.AnvilWrappedError: 'Connection to Anvil Uplink server lost'\n",
      "\n",
      "During handling of the above exception, another exception occurred:\n",
      "\n",
      "Traceback (most recent call last):\n",
      "  File \"/Users/Daniel/opt/anaconda3/envs/deeplearning/lib/python3.8/threading.py\", line 932, in _bootstrap_inner\n",
      "    self.run()\n",
      "  File \"/Users/Daniel/opt/anaconda3/envs/deeplearning/lib/python3.8/threading.py\", line 870, in run\n",
      "    self._target(*self._args, **self._kwargs)\n",
      "  File \"/Users/Daniel/opt/anaconda3/envs/deeplearning/lib/python3.8/site-packages/anvil/server.py\", line 206, in heartbeat_until_reopened\n",
      "    call(\"anvil.private.echo\", \"keep-alive\")\n",
      "  File \"/Users/Daniel/opt/anaconda3/envs/deeplearning/lib/python3.8/site-packages/anvil/server.py\", line 406, in call\n",
      "    raise _server._deserialise_exception(e.error_obj)\n",
      "anvil._server.AnvilWrappedError: 'Connection to Anvil Uplink server lost'\n"
     ]
    },
    {
     "name": "stdout",
     "output_type": "stream",
     "text": [
      "Anvil websocket closed (code 1006, reason=Going away)\n",
      "Reconnecting Anvil Uplink...\n",
      "Connecting to wss://anvil.works/uplink\n",
      "Anvil websocket open\n",
      "Connected to \"Default environment\" as SERVER\n"
     ]
    },
    {
     "name": "stderr",
     "output_type": "stream",
     "text": [
      "Exception in thread Thread-108:\n",
      "Traceback (most recent call last):\n",
      "  File \"/Users/Daniel/opt/anaconda3/envs/deeplearning/lib/python3.8/site-packages/anvil/server.py\", line 403, in call\n",
      "    return _do_call(args, kwargs, fn_name=fn_name)\n",
      "  File \"/Users/Daniel/opt/anaconda3/envs/deeplearning/lib/python3.8/site-packages/anvil/server.py\", line 395, in _do_call\n",
      "    return _threaded_server.do_call(args, kwargs, fn_name=fn_name, live_object=live_object)\n",
      "  File \"/Users/Daniel/opt/anaconda3/envs/deeplearning/lib/python3.8/site-packages/anvil/_threaded_server.py\", line 435, in do_call\n",
      "    raise error_from_server\n",
      "anvil._server.AnvilWrappedError: 'Connection to Anvil Uplink server lost'\n",
      "\n",
      "During handling of the above exception, another exception occurred:\n",
      "\n",
      "Traceback (most recent call last):\n",
      "  File \"/Users/Daniel/opt/anaconda3/envs/deeplearning/lib/python3.8/threading.py\", line 932, in _bootstrap_inner\n",
      "    self.run()\n",
      "  File \"/Users/Daniel/opt/anaconda3/envs/deeplearning/lib/python3.8/threading.py\", line 870, in run\n",
      "    self._target(*self._args, **self._kwargs)\n",
      "  File \"/Users/Daniel/opt/anaconda3/envs/deeplearning/lib/python3.8/site-packages/anvil/server.py\", line 206, in heartbeat_until_reopened\n",
      "    call(\"anvil.private.echo\", \"keep-alive\")\n",
      "  File \"/Users/Daniel/opt/anaconda3/envs/deeplearning/lib/python3.8/site-packages/anvil/server.py\", line 406, in call\n",
      "    raise _server._deserialise_exception(e.error_obj)\n",
      "anvil._server.AnvilWrappedError: 'Connection to Anvil Uplink server lost'\n"
     ]
    },
    {
     "name": "stdout",
     "output_type": "stream",
     "text": [
      "Anvil websocket closed (code 1006, reason=Going away)\n",
      "Reconnecting Anvil Uplink...\n",
      "Connecting to wss://anvil.works/uplink\n",
      "Anvil websocket open\n",
      "Connected to \"Default environment\" as SERVER\n"
     ]
    },
    {
     "name": "stderr",
     "output_type": "stream",
     "text": [
      "Exception in thread Thread-111:\n",
      "Traceback (most recent call last):\n",
      "  File \"/Users/Daniel/opt/anaconda3/envs/deeplearning/lib/python3.8/site-packages/anvil/server.py\", line 403, in call\n",
      "    return _do_call(args, kwargs, fn_name=fn_name)\n",
      "  File \"/Users/Daniel/opt/anaconda3/envs/deeplearning/lib/python3.8/site-packages/anvil/server.py\", line 395, in _do_call\n",
      "    return _threaded_server.do_call(args, kwargs, fn_name=fn_name, live_object=live_object)\n",
      "  File \"/Users/Daniel/opt/anaconda3/envs/deeplearning/lib/python3.8/site-packages/anvil/_threaded_server.py\", line 435, in do_call\n",
      "    raise error_from_server\n",
      "anvil._server.AnvilWrappedError: 'Connection to Anvil Uplink server lost'\n",
      "\n",
      "During handling of the above exception, another exception occurred:\n",
      "\n",
      "Traceback (most recent call last):\n",
      "  File \"/Users/Daniel/opt/anaconda3/envs/deeplearning/lib/python3.8/threading.py\", line 932, in _bootstrap_inner\n",
      "    self.run()\n",
      "  File \"/Users/Daniel/opt/anaconda3/envs/deeplearning/lib/python3.8/threading.py\", line 870, in run\n",
      "    self._target(*self._args, **self._kwargs)\n",
      "  File \"/Users/Daniel/opt/anaconda3/envs/deeplearning/lib/python3.8/site-packages/anvil/server.py\", line 206, in heartbeat_until_reopened\n",
      "    call(\"anvil.private.echo\", \"keep-alive\")\n",
      "  File \"/Users/Daniel/opt/anaconda3/envs/deeplearning/lib/python3.8/site-packages/anvil/server.py\", line 406, in call\n",
      "    raise _server._deserialise_exception(e.error_obj)\n",
      "anvil._server.AnvilWrappedError: 'Connection to Anvil Uplink server lost'\n"
     ]
    },
    {
     "name": "stdout",
     "output_type": "stream",
     "text": [
      "Anvil websocket closed (code 1006, reason=Going away)\n",
      "Reconnecting Anvil Uplink...\n",
      "Connecting to wss://anvil.works/uplink\n",
      "Anvil websocket open\n",
      "Connected to \"Default environment\" as SERVER\n"
     ]
    },
    {
     "name": "stderr",
     "output_type": "stream",
     "text": [
      "Exception in thread Thread-114:\n",
      "Traceback (most recent call last):\n",
      "  File \"/Users/Daniel/opt/anaconda3/envs/deeplearning/lib/python3.8/site-packages/anvil/server.py\", line 403, in call\n",
      "    return _do_call(args, kwargs, fn_name=fn_name)\n",
      "  File \"/Users/Daniel/opt/anaconda3/envs/deeplearning/lib/python3.8/site-packages/anvil/server.py\", line 395, in _do_call\n",
      "    return _threaded_server.do_call(args, kwargs, fn_name=fn_name, live_object=live_object)\n",
      "  File \"/Users/Daniel/opt/anaconda3/envs/deeplearning/lib/python3.8/site-packages/anvil/_threaded_server.py\", line 435, in do_call\n",
      "    raise error_from_server\n",
      "anvil._server.AnvilWrappedError: 'Connection to Anvil Uplink server lost'\n",
      "\n",
      "During handling of the above exception, another exception occurred:\n",
      "\n",
      "Traceback (most recent call last):\n",
      "  File \"/Users/Daniel/opt/anaconda3/envs/deeplearning/lib/python3.8/threading.py\", line 932, in _bootstrap_inner\n",
      "    self.run()\n",
      "  File \"/Users/Daniel/opt/anaconda3/envs/deeplearning/lib/python3.8/threading.py\", line 870, in run\n",
      "    self._target(*self._args, **self._kwargs)\n",
      "  File \"/Users/Daniel/opt/anaconda3/envs/deeplearning/lib/python3.8/site-packages/anvil/server.py\", line 206, in heartbeat_until_reopened\n",
      "    call(\"anvil.private.echo\", \"keep-alive\")\n",
      "  File \"/Users/Daniel/opt/anaconda3/envs/deeplearning/lib/python3.8/site-packages/anvil/server.py\", line 406, in call\n",
      "    raise _server._deserialise_exception(e.error_obj)\n",
      "anvil._server.AnvilWrappedError: 'Connection to Anvil Uplink server lost'\n"
     ]
    },
    {
     "name": "stdout",
     "output_type": "stream",
     "text": [
      "Anvil websocket closed (code 1006, reason=Going away)\n",
      "Reconnecting Anvil Uplink...\n",
      "Connecting to wss://anvil.works/uplink\n",
      "Anvil websocket open\n",
      "Connected to \"Default environment\" as SERVER\n"
     ]
    },
    {
     "name": "stderr",
     "output_type": "stream",
     "text": [
      "Exception in thread Thread-117:\n",
      "Traceback (most recent call last):\n",
      "  File \"/Users/Daniel/opt/anaconda3/envs/deeplearning/lib/python3.8/site-packages/anvil/server.py\", line 403, in call\n",
      "    return _do_call(args, kwargs, fn_name=fn_name)\n",
      "  File \"/Users/Daniel/opt/anaconda3/envs/deeplearning/lib/python3.8/site-packages/anvil/server.py\", line 395, in _do_call\n",
      "    return _threaded_server.do_call(args, kwargs, fn_name=fn_name, live_object=live_object)\n",
      "  File \"/Users/Daniel/opt/anaconda3/envs/deeplearning/lib/python3.8/site-packages/anvil/_threaded_server.py\", line 435, in do_call\n",
      "    raise error_from_server\n",
      "anvil._server.AnvilWrappedError: 'Connection to Anvil Uplink server lost'\n",
      "\n",
      "During handling of the above exception, another exception occurred:\n",
      "\n",
      "Traceback (most recent call last):\n",
      "  File \"/Users/Daniel/opt/anaconda3/envs/deeplearning/lib/python3.8/threading.py\", line 932, in _bootstrap_inner\n",
      "    self.run()\n",
      "  File \"/Users/Daniel/opt/anaconda3/envs/deeplearning/lib/python3.8/threading.py\", line 870, in run\n",
      "    self._target(*self._args, **self._kwargs)\n",
      "  File \"/Users/Daniel/opt/anaconda3/envs/deeplearning/lib/python3.8/site-packages/anvil/server.py\", line 206, in heartbeat_until_reopened\n",
      "    call(\"anvil.private.echo\", \"keep-alive\")\n",
      "  File \"/Users/Daniel/opt/anaconda3/envs/deeplearning/lib/python3.8/site-packages/anvil/server.py\", line 406, in call\n",
      "    raise _server._deserialise_exception(e.error_obj)\n",
      "anvil._server.AnvilWrappedError: 'Connection to Anvil Uplink server lost'\n"
     ]
    },
    {
     "name": "stdout",
     "output_type": "stream",
     "text": [
      "Anvil websocket closed (code 1006, reason=Going away)\n",
      "Reconnecting Anvil Uplink...\n",
      "Connecting to wss://anvil.works/uplink\n",
      "Anvil websocket open\n",
      "Connected to \"Default environment\" as SERVER\n"
     ]
    },
    {
     "name": "stderr",
     "output_type": "stream",
     "text": [
      "Exception in thread Thread-120:\n",
      "Traceback (most recent call last):\n",
      "  File \"/Users/Daniel/opt/anaconda3/envs/deeplearning/lib/python3.8/site-packages/anvil/server.py\", line 403, in call\n",
      "    return _do_call(args, kwargs, fn_name=fn_name)\n",
      "  File \"/Users/Daniel/opt/anaconda3/envs/deeplearning/lib/python3.8/site-packages/anvil/server.py\", line 395, in _do_call\n",
      "    return _threaded_server.do_call(args, kwargs, fn_name=fn_name, live_object=live_object)\n",
      "  File \"/Users/Daniel/opt/anaconda3/envs/deeplearning/lib/python3.8/site-packages/anvil/_threaded_server.py\", line 435, in do_call\n",
      "    raise error_from_server\n",
      "anvil._server.AnvilWrappedError: 'Connection to Anvil Uplink server lost'\n",
      "\n",
      "During handling of the above exception, another exception occurred:\n",
      "\n",
      "Traceback (most recent call last):\n",
      "  File \"/Users/Daniel/opt/anaconda3/envs/deeplearning/lib/python3.8/threading.py\", line 932, in _bootstrap_inner\n",
      "    self.run()\n",
      "  File \"/Users/Daniel/opt/anaconda3/envs/deeplearning/lib/python3.8/threading.py\", line 870, in run\n",
      "    self._target(*self._args, **self._kwargs)\n",
      "  File \"/Users/Daniel/opt/anaconda3/envs/deeplearning/lib/python3.8/site-packages/anvil/server.py\", line 206, in heartbeat_until_reopened\n",
      "    call(\"anvil.private.echo\", \"keep-alive\")\n",
      "  File \"/Users/Daniel/opt/anaconda3/envs/deeplearning/lib/python3.8/site-packages/anvil/server.py\", line 406, in call\n",
      "    raise _server._deserialise_exception(e.error_obj)\n",
      "anvil._server.AnvilWrappedError: 'Connection to Anvil Uplink server lost'\n"
     ]
    },
    {
     "name": "stdout",
     "output_type": "stream",
     "text": [
      "Anvil websocket closed (code 1006, reason=Going away)\n",
      "Reconnecting Anvil Uplink...\n",
      "Connecting to wss://anvil.works/uplink\n",
      "Anvil websocket open\n",
      "Connected to \"Default environment\" as SERVER\n"
     ]
    },
    {
     "name": "stderr",
     "output_type": "stream",
     "text": [
      "Exception in thread Thread-123:\n",
      "Traceback (most recent call last):\n",
      "  File \"/Users/Daniel/opt/anaconda3/envs/deeplearning/lib/python3.8/site-packages/anvil/server.py\", line 403, in call\n",
      "    return _do_call(args, kwargs, fn_name=fn_name)\n",
      "  File \"/Users/Daniel/opt/anaconda3/envs/deeplearning/lib/python3.8/site-packages/anvil/server.py\", line 395, in _do_call\n",
      "    return _threaded_server.do_call(args, kwargs, fn_name=fn_name, live_object=live_object)\n",
      "  File \"/Users/Daniel/opt/anaconda3/envs/deeplearning/lib/python3.8/site-packages/anvil/_threaded_server.py\", line 435, in do_call\n",
      "    raise error_from_server\n",
      "anvil._server.AnvilWrappedError: 'Connection to Anvil Uplink server lost'\n",
      "\n",
      "During handling of the above exception, another exception occurred:\n",
      "\n",
      "Traceback (most recent call last):\n",
      "  File \"/Users/Daniel/opt/anaconda3/envs/deeplearning/lib/python3.8/threading.py\", line 932, in _bootstrap_inner\n",
      "    self.run()\n",
      "  File \"/Users/Daniel/opt/anaconda3/envs/deeplearning/lib/python3.8/threading.py\", line 870, in run\n",
      "    self._target(*self._args, **self._kwargs)\n",
      "  File \"/Users/Daniel/opt/anaconda3/envs/deeplearning/lib/python3.8/site-packages/anvil/server.py\", line 206, in heartbeat_until_reopened\n",
      "    call(\"anvil.private.echo\", \"keep-alive\")\n",
      "  File \"/Users/Daniel/opt/anaconda3/envs/deeplearning/lib/python3.8/site-packages/anvil/server.py\", line 406, in call\n",
      "    raise _server._deserialise_exception(e.error_obj)\n",
      "anvil._server.AnvilWrappedError: 'Connection to Anvil Uplink server lost'\n"
     ]
    },
    {
     "name": "stdout",
     "output_type": "stream",
     "text": [
      "Anvil websocket closed (code 1006, reason=Going away)\n",
      "Reconnecting Anvil Uplink...\n",
      "Connecting to wss://anvil.works/uplink\n",
      "Anvil websocket open\n",
      "Connected to \"Default environment\" as SERVER\n"
     ]
    },
    {
     "name": "stderr",
     "output_type": "stream",
     "text": [
      "Exception in thread Thread-126:\n",
      "Traceback (most recent call last):\n",
      "  File \"/Users/Daniel/opt/anaconda3/envs/deeplearning/lib/python3.8/site-packages/anvil/server.py\", line 403, in call\n",
      "    return _do_call(args, kwargs, fn_name=fn_name)\n",
      "  File \"/Users/Daniel/opt/anaconda3/envs/deeplearning/lib/python3.8/site-packages/anvil/server.py\", line 395, in _do_call\n",
      "    return _threaded_server.do_call(args, kwargs, fn_name=fn_name, live_object=live_object)\n",
      "  File \"/Users/Daniel/opt/anaconda3/envs/deeplearning/lib/python3.8/site-packages/anvil/_threaded_server.py\", line 435, in do_call\n",
      "    raise error_from_server\n",
      "anvil._server.AnvilWrappedError: 'Connection to Anvil Uplink server lost'\n",
      "\n",
      "During handling of the above exception, another exception occurred:\n",
      "\n",
      "Traceback (most recent call last):\n",
      "  File \"/Users/Daniel/opt/anaconda3/envs/deeplearning/lib/python3.8/threading.py\", line 932, in _bootstrap_inner\n",
      "    self.run()\n",
      "  File \"/Users/Daniel/opt/anaconda3/envs/deeplearning/lib/python3.8/threading.py\", line 870, in run\n",
      "    self._target(*self._args, **self._kwargs)\n",
      "  File \"/Users/Daniel/opt/anaconda3/envs/deeplearning/lib/python3.8/site-packages/anvil/server.py\", line 206, in heartbeat_until_reopened\n",
      "    call(\"anvil.private.echo\", \"keep-alive\")\n",
      "  File \"/Users/Daniel/opt/anaconda3/envs/deeplearning/lib/python3.8/site-packages/anvil/server.py\", line 406, in call\n",
      "    raise _server._deserialise_exception(e.error_obj)\n",
      "anvil._server.AnvilWrappedError: 'Connection to Anvil Uplink server lost'\n"
     ]
    },
    {
     "name": "stdout",
     "output_type": "stream",
     "text": [
      "Anvil websocket closed (code 1006, reason=Going away)\n",
      "Reconnecting Anvil Uplink...\n",
      "Connecting to wss://anvil.works/uplink\n",
      "Anvil websocket open\n",
      "Connected to \"Default environment\" as SERVER\n"
     ]
    },
    {
     "name": "stderr",
     "output_type": "stream",
     "text": [
      "Exception in thread Thread-129:\n",
      "Traceback (most recent call last):\n",
      "  File \"/Users/Daniel/opt/anaconda3/envs/deeplearning/lib/python3.8/site-packages/anvil/server.py\", line 403, in call\n",
      "    return _do_call(args, kwargs, fn_name=fn_name)\n",
      "  File \"/Users/Daniel/opt/anaconda3/envs/deeplearning/lib/python3.8/site-packages/anvil/server.py\", line 395, in _do_call\n",
      "    return _threaded_server.do_call(args, kwargs, fn_name=fn_name, live_object=live_object)\n",
      "  File \"/Users/Daniel/opt/anaconda3/envs/deeplearning/lib/python3.8/site-packages/anvil/_threaded_server.py\", line 435, in do_call\n",
      "    raise error_from_server\n",
      "anvil._server.AnvilWrappedError: 'Connection to Anvil Uplink server lost'\n",
      "\n",
      "During handling of the above exception, another exception occurred:\n",
      "\n",
      "Traceback (most recent call last):\n",
      "  File \"/Users/Daniel/opt/anaconda3/envs/deeplearning/lib/python3.8/threading.py\", line 932, in _bootstrap_inner\n",
      "    self.run()\n",
      "  File \"/Users/Daniel/opt/anaconda3/envs/deeplearning/lib/python3.8/threading.py\", line 870, in run\n",
      "    self._target(*self._args, **self._kwargs)\n",
      "  File \"/Users/Daniel/opt/anaconda3/envs/deeplearning/lib/python3.8/site-packages/anvil/server.py\", line 206, in heartbeat_until_reopened\n",
      "    call(\"anvil.private.echo\", \"keep-alive\")\n",
      "  File \"/Users/Daniel/opt/anaconda3/envs/deeplearning/lib/python3.8/site-packages/anvil/server.py\", line 406, in call\n",
      "    raise _server._deserialise_exception(e.error_obj)\n",
      "anvil._server.AnvilWrappedError: 'Connection to Anvil Uplink server lost'\n"
     ]
    },
    {
     "name": "stdout",
     "output_type": "stream",
     "text": [
      "Anvil websocket closed (code 1006, reason=Going away)\n",
      "Reconnecting Anvil Uplink...\n",
      "Connecting to wss://anvil.works/uplink\n",
      "Anvil websocket open\n",
      "Connected to \"Default environment\" as SERVER\n"
     ]
    },
    {
     "name": "stderr",
     "output_type": "stream",
     "text": [
      "Exception in thread Thread-132:\n",
      "Traceback (most recent call last):\n",
      "  File \"/Users/Daniel/opt/anaconda3/envs/deeplearning/lib/python3.8/site-packages/anvil/server.py\", line 403, in call\n",
      "    return _do_call(args, kwargs, fn_name=fn_name)\n",
      "  File \"/Users/Daniel/opt/anaconda3/envs/deeplearning/lib/python3.8/site-packages/anvil/server.py\", line 395, in _do_call\n",
      "    return _threaded_server.do_call(args, kwargs, fn_name=fn_name, live_object=live_object)\n",
      "  File \"/Users/Daniel/opt/anaconda3/envs/deeplearning/lib/python3.8/site-packages/anvil/_threaded_server.py\", line 435, in do_call\n",
      "    raise error_from_server\n",
      "anvil._server.AnvilWrappedError: 'Connection to Anvil Uplink server lost'\n",
      "\n",
      "During handling of the above exception, another exception occurred:\n",
      "\n",
      "Traceback (most recent call last):\n",
      "  File \"/Users/Daniel/opt/anaconda3/envs/deeplearning/lib/python3.8/threading.py\", line 932, in _bootstrap_inner\n",
      "    self.run()\n",
      "  File \"/Users/Daniel/opt/anaconda3/envs/deeplearning/lib/python3.8/threading.py\", line 870, in run\n",
      "    self._target(*self._args, **self._kwargs)\n",
      "  File \"/Users/Daniel/opt/anaconda3/envs/deeplearning/lib/python3.8/site-packages/anvil/server.py\", line 206, in heartbeat_until_reopened\n",
      "    call(\"anvil.private.echo\", \"keep-alive\")\n",
      "  File \"/Users/Daniel/opt/anaconda3/envs/deeplearning/lib/python3.8/site-packages/anvil/server.py\", line 406, in call\n",
      "    raise _server._deserialise_exception(e.error_obj)\n",
      "anvil._server.AnvilWrappedError: 'Connection to Anvil Uplink server lost'\n"
     ]
    },
    {
     "name": "stdout",
     "output_type": "stream",
     "text": [
      "Anvil websocket closed (code 1006, reason=Going away)\n",
      "Reconnecting Anvil Uplink...\n",
      "Connecting to wss://anvil.works/uplink\n",
      "Anvil websocket open\n",
      "Connected to \"Default environment\" as SERVER\n"
     ]
    },
    {
     "name": "stderr",
     "output_type": "stream",
     "text": [
      "Exception in thread Thread-135:\n",
      "Traceback (most recent call last):\n",
      "  File \"/Users/Daniel/opt/anaconda3/envs/deeplearning/lib/python3.8/site-packages/anvil/server.py\", line 403, in call\n",
      "    return _do_call(args, kwargs, fn_name=fn_name)\n",
      "  File \"/Users/Daniel/opt/anaconda3/envs/deeplearning/lib/python3.8/site-packages/anvil/server.py\", line 395, in _do_call\n",
      "    return _threaded_server.do_call(args, kwargs, fn_name=fn_name, live_object=live_object)\n",
      "  File \"/Users/Daniel/opt/anaconda3/envs/deeplearning/lib/python3.8/site-packages/anvil/_threaded_server.py\", line 435, in do_call\n",
      "    raise error_from_server\n",
      "anvil._server.AnvilWrappedError: 'Connection to Anvil Uplink server lost'\n",
      "\n",
      "During handling of the above exception, another exception occurred:\n",
      "\n",
      "Traceback (most recent call last):\n",
      "  File \"/Users/Daniel/opt/anaconda3/envs/deeplearning/lib/python3.8/threading.py\", line 932, in _bootstrap_inner\n",
      "    self.run()\n",
      "  File \"/Users/Daniel/opt/anaconda3/envs/deeplearning/lib/python3.8/threading.py\", line 870, in run\n",
      "    self._target(*self._args, **self._kwargs)\n",
      "  File \"/Users/Daniel/opt/anaconda3/envs/deeplearning/lib/python3.8/site-packages/anvil/server.py\", line 206, in heartbeat_until_reopened\n",
      "    call(\"anvil.private.echo\", \"keep-alive\")\n",
      "  File \"/Users/Daniel/opt/anaconda3/envs/deeplearning/lib/python3.8/site-packages/anvil/server.py\", line 406, in call\n",
      "    raise _server._deserialise_exception(e.error_obj)\n",
      "anvil._server.AnvilWrappedError: 'Connection to Anvil Uplink server lost'\n"
     ]
    },
    {
     "name": "stdout",
     "output_type": "stream",
     "text": [
      "Anvil websocket closed (code 1006, reason=Going away)\n",
      "Reconnecting Anvil Uplink...\n",
      "Connecting to wss://anvil.works/uplink\n",
      "Anvil websocket open\n",
      "Connected to \"Default environment\" as SERVER\n",
      "Anvil websocket closed (code 1006, reason=Going away)\n",
      "Reconnecting Anvil Uplink...\n",
      "Connecting to wss://anvil.works/uplink\n",
      "Anvil websocket open\n",
      "Connected to \"Default environment\" as SERVER\n"
     ]
    },
    {
     "name": "stderr",
     "output_type": "stream",
     "text": [
      "Exception in thread Thread-141:\n",
      "Traceback (most recent call last):\n",
      "  File \"/Users/Daniel/opt/anaconda3/envs/deeplearning/lib/python3.8/site-packages/anvil/server.py\", line 403, in call\n",
      "    return _do_call(args, kwargs, fn_name=fn_name)\n",
      "  File \"/Users/Daniel/opt/anaconda3/envs/deeplearning/lib/python3.8/site-packages/anvil/server.py\", line 395, in _do_call\n",
      "    return _threaded_server.do_call(args, kwargs, fn_name=fn_name, live_object=live_object)\n",
      "  File \"/Users/Daniel/opt/anaconda3/envs/deeplearning/lib/python3.8/site-packages/anvil/_threaded_server.py\", line 435, in do_call\n",
      "    raise error_from_server\n",
      "anvil._server.AnvilWrappedError: 'Connection to Anvil Uplink server lost'\n",
      "\n",
      "During handling of the above exception, another exception occurred:\n",
      "\n",
      "Traceback (most recent call last):\n",
      "  File \"/Users/Daniel/opt/anaconda3/envs/deeplearning/lib/python3.8/threading.py\", line 932, in _bootstrap_inner\n",
      "    self.run()\n",
      "  File \"/Users/Daniel/opt/anaconda3/envs/deeplearning/lib/python3.8/threading.py\", line 870, in run\n",
      "    self._target(*self._args, **self._kwargs)\n",
      "  File \"/Users/Daniel/opt/anaconda3/envs/deeplearning/lib/python3.8/site-packages/anvil/server.py\", line 206, in heartbeat_until_reopened\n",
      "    call(\"anvil.private.echo\", \"keep-alive\")\n",
      "  File \"/Users/Daniel/opt/anaconda3/envs/deeplearning/lib/python3.8/site-packages/anvil/server.py\", line 406, in call\n",
      "    raise _server._deserialise_exception(e.error_obj)\n",
      "anvil._server.AnvilWrappedError: 'Connection to Anvil Uplink server lost'\n"
     ]
    },
    {
     "name": "stdout",
     "output_type": "stream",
     "text": [
      "Anvil websocket closed (code 1006, reason=Going away)\n",
      "Reconnecting Anvil Uplink...\n",
      "Connecting to wss://anvil.works/uplink\n",
      "Anvil websocket open\n",
      "Connected to \"Default environment\" as SERVER\n"
     ]
    },
    {
     "name": "stderr",
     "output_type": "stream",
     "text": [
      "Exception in thread Thread-144:\n",
      "Traceback (most recent call last):\n",
      "  File \"/Users/Daniel/opt/anaconda3/envs/deeplearning/lib/python3.8/site-packages/anvil/server.py\", line 403, in call\n",
      "    return _do_call(args, kwargs, fn_name=fn_name)\n",
      "  File \"/Users/Daniel/opt/anaconda3/envs/deeplearning/lib/python3.8/site-packages/anvil/server.py\", line 395, in _do_call\n",
      "    return _threaded_server.do_call(args, kwargs, fn_name=fn_name, live_object=live_object)\n",
      "  File \"/Users/Daniel/opt/anaconda3/envs/deeplearning/lib/python3.8/site-packages/anvil/_threaded_server.py\", line 435, in do_call\n",
      "    raise error_from_server\n",
      "anvil._server.AnvilWrappedError: 'Connection to Anvil Uplink server lost'\n",
      "\n",
      "During handling of the above exception, another exception occurred:\n",
      "\n",
      "Traceback (most recent call last):\n",
      "  File \"/Users/Daniel/opt/anaconda3/envs/deeplearning/lib/python3.8/threading.py\", line 932, in _bootstrap_inner\n",
      "    self.run()\n",
      "  File \"/Users/Daniel/opt/anaconda3/envs/deeplearning/lib/python3.8/threading.py\", line 870, in run\n",
      "    self._target(*self._args, **self._kwargs)\n",
      "  File \"/Users/Daniel/opt/anaconda3/envs/deeplearning/lib/python3.8/site-packages/anvil/server.py\", line 206, in heartbeat_until_reopened\n",
      "    call(\"anvil.private.echo\", \"keep-alive\")\n",
      "  File \"/Users/Daniel/opt/anaconda3/envs/deeplearning/lib/python3.8/site-packages/anvil/server.py\", line 406, in call\n",
      "    raise _server._deserialise_exception(e.error_obj)\n",
      "anvil._server.AnvilWrappedError: 'Connection to Anvil Uplink server lost'\n"
     ]
    },
    {
     "name": "stdout",
     "output_type": "stream",
     "text": [
      "Anvil websocket closed (code 1006, reason=Going away)\n",
      "Reconnecting Anvil Uplink...\n",
      "Connecting to wss://anvil.works/uplink\n",
      "Anvil websocket open\n",
      "Connected to \"Default environment\" as SERVER\n"
     ]
    },
    {
     "name": "stderr",
     "output_type": "stream",
     "text": [
      "Exception in thread Thread-147:\n",
      "Traceback (most recent call last):\n",
      "  File \"/Users/Daniel/opt/anaconda3/envs/deeplearning/lib/python3.8/site-packages/anvil/server.py\", line 403, in call\n",
      "    return _do_call(args, kwargs, fn_name=fn_name)\n",
      "  File \"/Users/Daniel/opt/anaconda3/envs/deeplearning/lib/python3.8/site-packages/anvil/server.py\", line 395, in _do_call\n",
      "    return _threaded_server.do_call(args, kwargs, fn_name=fn_name, live_object=live_object)\n",
      "  File \"/Users/Daniel/opt/anaconda3/envs/deeplearning/lib/python3.8/site-packages/anvil/_threaded_server.py\", line 435, in do_call\n",
      "    raise error_from_server\n",
      "anvil._server.AnvilWrappedError: 'Connection to Anvil Uplink server lost'\n",
      "\n",
      "During handling of the above exception, another exception occurred:\n",
      "\n",
      "Traceback (most recent call last):\n",
      "  File \"/Users/Daniel/opt/anaconda3/envs/deeplearning/lib/python3.8/threading.py\", line 932, in _bootstrap_inner\n",
      "    self.run()\n",
      "  File \"/Users/Daniel/opt/anaconda3/envs/deeplearning/lib/python3.8/threading.py\", line 870, in run\n",
      "    self._target(*self._args, **self._kwargs)\n",
      "  File \"/Users/Daniel/opt/anaconda3/envs/deeplearning/lib/python3.8/site-packages/anvil/server.py\", line 206, in heartbeat_until_reopened\n",
      "    call(\"anvil.private.echo\", \"keep-alive\")\n",
      "  File \"/Users/Daniel/opt/anaconda3/envs/deeplearning/lib/python3.8/site-packages/anvil/server.py\", line 406, in call\n",
      "    raise _server._deserialise_exception(e.error_obj)\n",
      "anvil._server.AnvilWrappedError: 'Connection to Anvil Uplink server lost'\n"
     ]
    },
    {
     "name": "stdout",
     "output_type": "stream",
     "text": [
      "Anvil websocket closed (code 1006, reason=Going away)\n",
      "Reconnecting Anvil Uplink...\n",
      "Connecting to wss://anvil.works/uplink\n",
      "Reconnection failed. Waiting 10 seconds, then retrying.\n",
      "Reconnecting Anvil Uplink...\n",
      "Connecting to wss://anvil.works/uplink\n",
      "Reconnection failed. Waiting 10 seconds, then retrying.\n",
      "Reconnecting Anvil Uplink...\n",
      "Connecting to wss://anvil.works/uplink\n",
      "Reconnection failed. Waiting 10 seconds, then retrying.\n",
      "Reconnecting Anvil Uplink...\n",
      "Connecting to wss://anvil.works/uplink\n",
      "Reconnection failed. Waiting 10 seconds, then retrying.\n",
      "Reconnecting Anvil Uplink...\n",
      "Connecting to wss://anvil.works/uplink\n",
      "Reconnection failed. Waiting 10 seconds, then retrying.\n",
      "Reconnecting Anvil Uplink...\n",
      "Connecting to wss://anvil.works/uplink\n",
      "Reconnection failed. Waiting 10 seconds, then retrying.\n",
      "Reconnecting Anvil Uplink...\n",
      "Connecting to wss://anvil.works/uplink\n",
      "Reconnection failed. Waiting 10 seconds, then retrying.\n",
      "Reconnecting Anvil Uplink...\n",
      "Connecting to wss://anvil.works/uplink\n",
      "Reconnection failed. Waiting 10 seconds, then retrying.\n",
      "Reconnecting Anvil Uplink...\n",
      "Connecting to wss://anvil.works/uplink\n",
      "Reconnection failed. Waiting 10 seconds, then retrying.\n",
      "Reconnecting Anvil Uplink...\n",
      "Connecting to wss://anvil.works/uplink\n",
      "Reconnection failed. Waiting 10 seconds, then retrying.\n",
      "Reconnecting Anvil Uplink...\n",
      "Connecting to wss://anvil.works/uplink\n",
      "Reconnection failed. Waiting 10 seconds, then retrying.\n",
      "Reconnecting Anvil Uplink...\n",
      "Connecting to wss://anvil.works/uplink\n",
      "Reconnection failed. Waiting 10 seconds, then retrying.\n",
      "Reconnecting Anvil Uplink...\n",
      "Connecting to wss://anvil.works/uplink\n",
      "Reconnection failed. Waiting 10 seconds, then retrying.\n",
      "Reconnecting Anvil Uplink...\n",
      "Connecting to wss://anvil.works/uplink\n",
      "Reconnection failed. Waiting 10 seconds, then retrying.\n",
      "Reconnecting Anvil Uplink...\n",
      "Connecting to wss://anvil.works/uplink\n",
      "Reconnection failed. Waiting 10 seconds, then retrying.\n",
      "Reconnecting Anvil Uplink...\n",
      "Connecting to wss://anvil.works/uplink\n",
      "Anvil websocket open\n",
      "Connected to \"Default environment\" as SERVER\n"
     ]
    },
    {
     "name": "stderr",
     "output_type": "stream",
     "text": [
      "Exception in thread Thread-150:\n",
      "Traceback (most recent call last):\n",
      "  File \"/Users/Daniel/opt/anaconda3/envs/deeplearning/lib/python3.8/site-packages/anvil/server.py\", line 403, in call\n",
      "    return _do_call(args, kwargs, fn_name=fn_name)\n",
      "  File \"/Users/Daniel/opt/anaconda3/envs/deeplearning/lib/python3.8/site-packages/anvil/server.py\", line 395, in _do_call\n",
      "    return _threaded_server.do_call(args, kwargs, fn_name=fn_name, live_object=live_object)\n",
      "  File \"/Users/Daniel/opt/anaconda3/envs/deeplearning/lib/python3.8/site-packages/anvil/_threaded_server.py\", line 435, in do_call\n",
      "    raise error_from_server\n",
      "anvil._server.AnvilWrappedError: 'Connection to Anvil Uplink server lost'\n",
      "\n",
      "During handling of the above exception, another exception occurred:\n",
      "\n",
      "Traceback (most recent call last):\n",
      "  File \"/Users/Daniel/opt/anaconda3/envs/deeplearning/lib/python3.8/threading.py\", line 932, in _bootstrap_inner\n",
      "    self.run()\n",
      "  File \"/Users/Daniel/opt/anaconda3/envs/deeplearning/lib/python3.8/threading.py\", line 870, in run\n",
      "    self._target(*self._args, **self._kwargs)\n",
      "  File \"/Users/Daniel/opt/anaconda3/envs/deeplearning/lib/python3.8/site-packages/anvil/server.py\", line 206, in heartbeat_until_reopened\n",
      "    call(\"anvil.private.echo\", \"keep-alive\")\n",
      "  File \"/Users/Daniel/opt/anaconda3/envs/deeplearning/lib/python3.8/site-packages/anvil/server.py\", line 406, in call\n",
      "    raise _server._deserialise_exception(e.error_obj)\n",
      "anvil._server.AnvilWrappedError: 'Connection to Anvil Uplink server lost'\n"
     ]
    },
    {
     "name": "stdout",
     "output_type": "stream",
     "text": [
      "Anvil websocket closed (code 1006, reason=Going away)\n",
      "Reconnecting Anvil Uplink...\n",
      "Connecting to wss://anvil.works/uplink\n",
      "Anvil websocket open\n",
      "Connected to \"Default environment\" as SERVER\n"
     ]
    },
    {
     "name": "stderr",
     "output_type": "stream",
     "text": [
      "Exception in thread Thread-153:\n",
      "Traceback (most recent call last):\n",
      "  File \"/Users/Daniel/opt/anaconda3/envs/deeplearning/lib/python3.8/site-packages/anvil/server.py\", line 403, in call\n",
      "    return _do_call(args, kwargs, fn_name=fn_name)\n",
      "  File \"/Users/Daniel/opt/anaconda3/envs/deeplearning/lib/python3.8/site-packages/anvil/server.py\", line 395, in _do_call\n",
      "    return _threaded_server.do_call(args, kwargs, fn_name=fn_name, live_object=live_object)\n",
      "  File \"/Users/Daniel/opt/anaconda3/envs/deeplearning/lib/python3.8/site-packages/anvil/_threaded_server.py\", line 435, in do_call\n",
      "    raise error_from_server\n",
      "anvil._server.AnvilWrappedError: 'Connection to Anvil Uplink server lost'\n",
      "\n",
      "During handling of the above exception, another exception occurred:\n",
      "\n",
      "Traceback (most recent call last):\n",
      "  File \"/Users/Daniel/opt/anaconda3/envs/deeplearning/lib/python3.8/threading.py\", line 932, in _bootstrap_inner\n",
      "    self.run()\n",
      "  File \"/Users/Daniel/opt/anaconda3/envs/deeplearning/lib/python3.8/threading.py\", line 870, in run\n",
      "    self._target(*self._args, **self._kwargs)\n",
      "  File \"/Users/Daniel/opt/anaconda3/envs/deeplearning/lib/python3.8/site-packages/anvil/server.py\", line 206, in heartbeat_until_reopened\n",
      "    call(\"anvil.private.echo\", \"keep-alive\")\n",
      "  File \"/Users/Daniel/opt/anaconda3/envs/deeplearning/lib/python3.8/site-packages/anvil/server.py\", line 406, in call\n",
      "    raise _server._deserialise_exception(e.error_obj)\n",
      "anvil._server.AnvilWrappedError: 'Connection to Anvil Uplink server lost'\n"
     ]
    },
    {
     "name": "stdout",
     "output_type": "stream",
     "text": [
      "Anvil websocket closed (code 1006, reason=Going away)\n",
      "Reconnecting Anvil Uplink...\n",
      "Connecting to wss://anvil.works/uplink\n",
      "Anvil websocket open\n",
      "Connected to \"Default environment\" as SERVER\n"
     ]
    },
    {
     "name": "stderr",
     "output_type": "stream",
     "text": [
      "Exception in thread Thread-156:\n",
      "Traceback (most recent call last):\n",
      "  File \"/Users/Daniel/opt/anaconda3/envs/deeplearning/lib/python3.8/site-packages/anvil/server.py\", line 403, in call\n",
      "    return _do_call(args, kwargs, fn_name=fn_name)\n",
      "  File \"/Users/Daniel/opt/anaconda3/envs/deeplearning/lib/python3.8/site-packages/anvil/server.py\", line 395, in _do_call\n",
      "    return _threaded_server.do_call(args, kwargs, fn_name=fn_name, live_object=live_object)\n",
      "  File \"/Users/Daniel/opt/anaconda3/envs/deeplearning/lib/python3.8/site-packages/anvil/_threaded_server.py\", line 435, in do_call\n",
      "    raise error_from_server\n",
      "anvil._server.AnvilWrappedError: 'Connection to Anvil Uplink server lost'\n",
      "\n",
      "During handling of the above exception, another exception occurred:\n",
      "\n",
      "Traceback (most recent call last):\n",
      "  File \"/Users/Daniel/opt/anaconda3/envs/deeplearning/lib/python3.8/threading.py\", line 932, in _bootstrap_inner\n",
      "    self.run()\n",
      "  File \"/Users/Daniel/opt/anaconda3/envs/deeplearning/lib/python3.8/threading.py\", line 870, in run\n",
      "    self._target(*self._args, **self._kwargs)\n",
      "  File \"/Users/Daniel/opt/anaconda3/envs/deeplearning/lib/python3.8/site-packages/anvil/server.py\", line 206, in heartbeat_until_reopened\n",
      "    call(\"anvil.private.echo\", \"keep-alive\")\n",
      "  File \"/Users/Daniel/opt/anaconda3/envs/deeplearning/lib/python3.8/site-packages/anvil/server.py\", line 406, in call\n",
      "    raise _server._deserialise_exception(e.error_obj)\n",
      "anvil._server.AnvilWrappedError: 'Connection to Anvil Uplink server lost'\n"
     ]
    },
    {
     "name": "stdout",
     "output_type": "stream",
     "text": [
      "Anvil websocket closed (code 1006, reason=Going away)\n",
      "Reconnecting Anvil Uplink...\n",
      "Connecting to wss://anvil.works/uplink\n",
      "Anvil websocket open\n",
      "Connected to \"Default environment\" as SERVER\n"
     ]
    },
    {
     "name": "stderr",
     "output_type": "stream",
     "text": [
      "Exception in thread Thread-159:\n",
      "Traceback (most recent call last):\n",
      "  File \"/Users/Daniel/opt/anaconda3/envs/deeplearning/lib/python3.8/site-packages/anvil/server.py\", line 403, in call\n",
      "    return _do_call(args, kwargs, fn_name=fn_name)\n",
      "  File \"/Users/Daniel/opt/anaconda3/envs/deeplearning/lib/python3.8/site-packages/anvil/server.py\", line 395, in _do_call\n",
      "    return _threaded_server.do_call(args, kwargs, fn_name=fn_name, live_object=live_object)\n",
      "  File \"/Users/Daniel/opt/anaconda3/envs/deeplearning/lib/python3.8/site-packages/anvil/_threaded_server.py\", line 435, in do_call\n",
      "    raise error_from_server\n",
      "anvil._server.AnvilWrappedError: 'Connection to Anvil Uplink server lost'\n",
      "\n",
      "During handling of the above exception, another exception occurred:\n",
      "\n",
      "Traceback (most recent call last):\n",
      "  File \"/Users/Daniel/opt/anaconda3/envs/deeplearning/lib/python3.8/threading.py\", line 932, in _bootstrap_inner\n",
      "    self.run()\n",
      "  File \"/Users/Daniel/opt/anaconda3/envs/deeplearning/lib/python3.8/threading.py\", line 870, in run\n",
      "    self._target(*self._args, **self._kwargs)\n",
      "  File \"/Users/Daniel/opt/anaconda3/envs/deeplearning/lib/python3.8/site-packages/anvil/server.py\", line 206, in heartbeat_until_reopened\n",
      "    call(\"anvil.private.echo\", \"keep-alive\")\n",
      "  File \"/Users/Daniel/opt/anaconda3/envs/deeplearning/lib/python3.8/site-packages/anvil/server.py\", line 406, in call\n",
      "    raise _server._deserialise_exception(e.error_obj)\n",
      "anvil._server.AnvilWrappedError: 'Connection to Anvil Uplink server lost'\n"
     ]
    },
    {
     "name": "stdout",
     "output_type": "stream",
     "text": [
      "Anvil websocket closed (code 1006, reason=Going away)\n",
      "Reconnecting Anvil Uplink...\n",
      "Connecting to wss://anvil.works/uplink\n",
      "Anvil websocket open\n",
      "Connected to \"Default environment\" as SERVER\n",
      "Anvil websocket closed (code 1006, reason=Going away)\n",
      "Reconnecting Anvil Uplink...\n",
      "Connecting to wss://anvil.works/uplink\n",
      "Anvil websocket open\n",
      "Connected to \"Default environment\" as SERVER\n"
     ]
    },
    {
     "name": "stderr",
     "output_type": "stream",
     "text": [
      "Exception in thread Thread-165:\n",
      "Traceback (most recent call last):\n",
      "  File \"/Users/Daniel/opt/anaconda3/envs/deeplearning/lib/python3.8/site-packages/anvil/server.py\", line 403, in call\n",
      "    return _do_call(args, kwargs, fn_name=fn_name)\n",
      "  File \"/Users/Daniel/opt/anaconda3/envs/deeplearning/lib/python3.8/site-packages/anvil/server.py\", line 395, in _do_call\n",
      "    return _threaded_server.do_call(args, kwargs, fn_name=fn_name, live_object=live_object)\n",
      "  File \"/Users/Daniel/opt/anaconda3/envs/deeplearning/lib/python3.8/site-packages/anvil/_threaded_server.py\", line 435, in do_call\n",
      "    raise error_from_server\n",
      "anvil._server.AnvilWrappedError: 'Connection to Anvil Uplink server lost'\n",
      "\n",
      "During handling of the above exception, another exception occurred:\n",
      "\n",
      "Traceback (most recent call last):\n",
      "  File \"/Users/Daniel/opt/anaconda3/envs/deeplearning/lib/python3.8/threading.py\", line 932, in _bootstrap_inner\n",
      "    self.run()\n",
      "  File \"/Users/Daniel/opt/anaconda3/envs/deeplearning/lib/python3.8/threading.py\", line 870, in run\n",
      "    self._target(*self._args, **self._kwargs)\n",
      "  File \"/Users/Daniel/opt/anaconda3/envs/deeplearning/lib/python3.8/site-packages/anvil/server.py\", line 206, in heartbeat_until_reopened\n",
      "    call(\"anvil.private.echo\", \"keep-alive\")\n",
      "  File \"/Users/Daniel/opt/anaconda3/envs/deeplearning/lib/python3.8/site-packages/anvil/server.py\", line 406, in call\n",
      "    raise _server._deserialise_exception(e.error_obj)\n",
      "anvil._server.AnvilWrappedError: 'Connection to Anvil Uplink server lost'\n"
     ]
    },
    {
     "name": "stdout",
     "output_type": "stream",
     "text": [
      "Anvil websocket closed (code 1006, reason=Going away)\n",
      "Reconnecting Anvil Uplink...\n",
      "Connecting to wss://anvil.works/uplink\n",
      "Anvil websocket open\n",
      "Connected to \"Default environment\" as SERVER\n"
     ]
    },
    {
     "name": "stderr",
     "output_type": "stream",
     "text": [
      "Exception in thread Thread-168:\n",
      "Traceback (most recent call last):\n",
      "  File \"/Users/Daniel/opt/anaconda3/envs/deeplearning/lib/python3.8/site-packages/anvil/server.py\", line 403, in call\n",
      "    return _do_call(args, kwargs, fn_name=fn_name)\n",
      "  File \"/Users/Daniel/opt/anaconda3/envs/deeplearning/lib/python3.8/site-packages/anvil/server.py\", line 395, in _do_call\n",
      "    return _threaded_server.do_call(args, kwargs, fn_name=fn_name, live_object=live_object)\n",
      "  File \"/Users/Daniel/opt/anaconda3/envs/deeplearning/lib/python3.8/site-packages/anvil/_threaded_server.py\", line 435, in do_call\n",
      "    raise error_from_server\n",
      "anvil._server.AnvilWrappedError: 'Connection to Anvil Uplink server lost'\n",
      "\n",
      "During handling of the above exception, another exception occurred:\n",
      "\n",
      "Traceback (most recent call last):\n",
      "  File \"/Users/Daniel/opt/anaconda3/envs/deeplearning/lib/python3.8/threading.py\", line 932, in _bootstrap_inner\n",
      "    self.run()\n",
      "  File \"/Users/Daniel/opt/anaconda3/envs/deeplearning/lib/python3.8/threading.py\", line 870, in run\n",
      "    self._target(*self._args, **self._kwargs)\n",
      "  File \"/Users/Daniel/opt/anaconda3/envs/deeplearning/lib/python3.8/site-packages/anvil/server.py\", line 206, in heartbeat_until_reopened\n",
      "    call(\"anvil.private.echo\", \"keep-alive\")\n",
      "  File \"/Users/Daniel/opt/anaconda3/envs/deeplearning/lib/python3.8/site-packages/anvil/server.py\", line 406, in call\n",
      "    raise _server._deserialise_exception(e.error_obj)\n",
      "anvil._server.AnvilWrappedError: 'Connection to Anvil Uplink server lost'\n"
     ]
    },
    {
     "name": "stdout",
     "output_type": "stream",
     "text": [
      "Anvil websocket closed (code 1006, reason=Going away)\n",
      "Reconnecting Anvil Uplink...\n",
      "Connecting to wss://anvil.works/uplink\n",
      "Anvil websocket open\n",
      "Connected to \"Default environment\" as SERVER\n"
     ]
    },
    {
     "name": "stderr",
     "output_type": "stream",
     "text": [
      "Exception in thread Thread-171:\n",
      "Traceback (most recent call last):\n",
      "  File \"/Users/Daniel/opt/anaconda3/envs/deeplearning/lib/python3.8/site-packages/anvil/server.py\", line 403, in call\n",
      "    return _do_call(args, kwargs, fn_name=fn_name)\n",
      "  File \"/Users/Daniel/opt/anaconda3/envs/deeplearning/lib/python3.8/site-packages/anvil/server.py\", line 395, in _do_call\n",
      "    return _threaded_server.do_call(args, kwargs, fn_name=fn_name, live_object=live_object)\n",
      "  File \"/Users/Daniel/opt/anaconda3/envs/deeplearning/lib/python3.8/site-packages/anvil/_threaded_server.py\", line 435, in do_call\n",
      "    raise error_from_server\n",
      "anvil._server.AnvilWrappedError: 'Connection to Anvil Uplink server lost'\n",
      "\n",
      "During handling of the above exception, another exception occurred:\n",
      "\n",
      "Traceback (most recent call last):\n",
      "  File \"/Users/Daniel/opt/anaconda3/envs/deeplearning/lib/python3.8/threading.py\", line 932, in _bootstrap_inner\n",
      "    self.run()\n",
      "  File \"/Users/Daniel/opt/anaconda3/envs/deeplearning/lib/python3.8/threading.py\", line 870, in run\n",
      "    self._target(*self._args, **self._kwargs)\n",
      "  File \"/Users/Daniel/opt/anaconda3/envs/deeplearning/lib/python3.8/site-packages/anvil/server.py\", line 206, in heartbeat_until_reopened\n",
      "    call(\"anvil.private.echo\", \"keep-alive\")\n",
      "  File \"/Users/Daniel/opt/anaconda3/envs/deeplearning/lib/python3.8/site-packages/anvil/server.py\", line 406, in call\n",
      "    raise _server._deserialise_exception(e.error_obj)\n",
      "anvil._server.AnvilWrappedError: 'Connection to Anvil Uplink server lost'\n"
     ]
    },
    {
     "name": "stdout",
     "output_type": "stream",
     "text": [
      "Anvil websocket closed (code 1006, reason=Going away)\n",
      "Reconnecting Anvil Uplink...\n",
      "Connecting to wss://anvil.works/uplink\n",
      "Anvil websocket open\n",
      "Connected to \"Default environment\" as SERVER\n"
     ]
    },
    {
     "name": "stderr",
     "output_type": "stream",
     "text": [
      "Exception in thread Thread-174:\n",
      "Traceback (most recent call last):\n",
      "  File \"/Users/Daniel/opt/anaconda3/envs/deeplearning/lib/python3.8/site-packages/anvil/server.py\", line 403, in call\n",
      "    return _do_call(args, kwargs, fn_name=fn_name)\n",
      "  File \"/Users/Daniel/opt/anaconda3/envs/deeplearning/lib/python3.8/site-packages/anvil/server.py\", line 395, in _do_call\n",
      "    return _threaded_server.do_call(args, kwargs, fn_name=fn_name, live_object=live_object)\n",
      "  File \"/Users/Daniel/opt/anaconda3/envs/deeplearning/lib/python3.8/site-packages/anvil/_threaded_server.py\", line 435, in do_call\n",
      "    raise error_from_server\n",
      "anvil._server.AnvilWrappedError: 'Connection to Anvil Uplink server lost'\n",
      "\n",
      "During handling of the above exception, another exception occurred:\n",
      "\n",
      "Traceback (most recent call last):\n",
      "  File \"/Users/Daniel/opt/anaconda3/envs/deeplearning/lib/python3.8/threading.py\", line 932, in _bootstrap_inner\n",
      "    self.run()\n",
      "  File \"/Users/Daniel/opt/anaconda3/envs/deeplearning/lib/python3.8/threading.py\", line 870, in run\n",
      "    self._target(*self._args, **self._kwargs)\n",
      "  File \"/Users/Daniel/opt/anaconda3/envs/deeplearning/lib/python3.8/site-packages/anvil/server.py\", line 206, in heartbeat_until_reopened\n",
      "    call(\"anvil.private.echo\", \"keep-alive\")\n",
      "  File \"/Users/Daniel/opt/anaconda3/envs/deeplearning/lib/python3.8/site-packages/anvil/server.py\", line 406, in call\n",
      "    raise _server._deserialise_exception(e.error_obj)\n",
      "anvil._server.AnvilWrappedError: 'Connection to Anvil Uplink server lost'\n"
     ]
    },
    {
     "name": "stdout",
     "output_type": "stream",
     "text": [
      "Anvil websocket closed (code 1006, reason=Going away)\n",
      "Reconnecting Anvil Uplink...\n",
      "Connecting to wss://anvil.works/uplink\n",
      "Anvil websocket open\n",
      "Connected to \"Default environment\" as SERVER\n"
     ]
    },
    {
     "name": "stderr",
     "output_type": "stream",
     "text": [
      "Exception in thread Thread-177:\n",
      "Traceback (most recent call last):\n",
      "  File \"/Users/Daniel/opt/anaconda3/envs/deeplearning/lib/python3.8/site-packages/anvil/server.py\", line 403, in call\n",
      "    return _do_call(args, kwargs, fn_name=fn_name)\n",
      "  File \"/Users/Daniel/opt/anaconda3/envs/deeplearning/lib/python3.8/site-packages/anvil/server.py\", line 395, in _do_call\n",
      "    return _threaded_server.do_call(args, kwargs, fn_name=fn_name, live_object=live_object)\n",
      "  File \"/Users/Daniel/opt/anaconda3/envs/deeplearning/lib/python3.8/site-packages/anvil/_threaded_server.py\", line 435, in do_call\n",
      "    raise error_from_server\n",
      "anvil._server.AnvilWrappedError: 'Connection to Anvil Uplink server lost'\n",
      "\n",
      "During handling of the above exception, another exception occurred:\n",
      "\n",
      "Traceback (most recent call last):\n",
      "  File \"/Users/Daniel/opt/anaconda3/envs/deeplearning/lib/python3.8/threading.py\", line 932, in _bootstrap_inner\n",
      "    self.run()\n",
      "  File \"/Users/Daniel/opt/anaconda3/envs/deeplearning/lib/python3.8/threading.py\", line 870, in run\n",
      "    self._target(*self._args, **self._kwargs)\n",
      "  File \"/Users/Daniel/opt/anaconda3/envs/deeplearning/lib/python3.8/site-packages/anvil/server.py\", line 206, in heartbeat_until_reopened\n",
      "    call(\"anvil.private.echo\", \"keep-alive\")\n",
      "  File \"/Users/Daniel/opt/anaconda3/envs/deeplearning/lib/python3.8/site-packages/anvil/server.py\", line 406, in call\n",
      "    raise _server._deserialise_exception(e.error_obj)\n",
      "anvil._server.AnvilWrappedError: 'Connection to Anvil Uplink server lost'\n"
     ]
    },
    {
     "name": "stdout",
     "output_type": "stream",
     "text": [
      "Anvil websocket closed (code 1006, reason=Going away)\n",
      "Reconnecting Anvil Uplink...\n",
      "Connecting to wss://anvil.works/uplink\n",
      "Anvil websocket open\n",
      "Connected to \"Default environment\" as SERVER\n"
     ]
    },
    {
     "name": "stderr",
     "output_type": "stream",
     "text": [
      "Exception in thread Thread-180:\n",
      "Traceback (most recent call last):\n",
      "  File \"/Users/Daniel/opt/anaconda3/envs/deeplearning/lib/python3.8/site-packages/anvil/server.py\", line 403, in call\n",
      "    return _do_call(args, kwargs, fn_name=fn_name)\n",
      "  File \"/Users/Daniel/opt/anaconda3/envs/deeplearning/lib/python3.8/site-packages/anvil/server.py\", line 395, in _do_call\n",
      "    return _threaded_server.do_call(args, kwargs, fn_name=fn_name, live_object=live_object)\n",
      "  File \"/Users/Daniel/opt/anaconda3/envs/deeplearning/lib/python3.8/site-packages/anvil/_threaded_server.py\", line 435, in do_call\n",
      "    raise error_from_server\n",
      "anvil._server.AnvilWrappedError: 'Connection to Anvil Uplink server lost'\n",
      "\n",
      "During handling of the above exception, another exception occurred:\n",
      "\n",
      "Traceback (most recent call last):\n",
      "  File \"/Users/Daniel/opt/anaconda3/envs/deeplearning/lib/python3.8/threading.py\", line 932, in _bootstrap_inner\n",
      "    self.run()\n",
      "  File \"/Users/Daniel/opt/anaconda3/envs/deeplearning/lib/python3.8/threading.py\", line 870, in run\n",
      "    self._target(*self._args, **self._kwargs)\n",
      "  File \"/Users/Daniel/opt/anaconda3/envs/deeplearning/lib/python3.8/site-packages/anvil/server.py\", line 206, in heartbeat_until_reopened\n",
      "    call(\"anvil.private.echo\", \"keep-alive\")\n",
      "  File \"/Users/Daniel/opt/anaconda3/envs/deeplearning/lib/python3.8/site-packages/anvil/server.py\", line 406, in call\n",
      "    raise _server._deserialise_exception(e.error_obj)\n",
      "anvil._server.AnvilWrappedError: 'Connection to Anvil Uplink server lost'\n"
     ]
    },
    {
     "name": "stdout",
     "output_type": "stream",
     "text": [
      "Anvil websocket closed (code 1006, reason=Going away)\n",
      "Reconnecting Anvil Uplink...\n",
      "Connecting to wss://anvil.works/uplink\n",
      "Anvil websocket open\n",
      "Connected to \"Default environment\" as SERVER\n"
     ]
    },
    {
     "name": "stderr",
     "output_type": "stream",
     "text": [
      "Exception in thread Thread-183:\n",
      "Traceback (most recent call last):\n",
      "  File \"/Users/Daniel/opt/anaconda3/envs/deeplearning/lib/python3.8/site-packages/anvil/server.py\", line 403, in call\n",
      "    return _do_call(args, kwargs, fn_name=fn_name)\n",
      "  File \"/Users/Daniel/opt/anaconda3/envs/deeplearning/lib/python3.8/site-packages/anvil/server.py\", line 395, in _do_call\n",
      "    return _threaded_server.do_call(args, kwargs, fn_name=fn_name, live_object=live_object)\n",
      "  File \"/Users/Daniel/opt/anaconda3/envs/deeplearning/lib/python3.8/site-packages/anvil/_threaded_server.py\", line 435, in do_call\n",
      "    raise error_from_server\n",
      "anvil._server.AnvilWrappedError: 'Connection to Anvil Uplink server lost'\n",
      "\n",
      "During handling of the above exception, another exception occurred:\n",
      "\n",
      "Traceback (most recent call last):\n",
      "  File \"/Users/Daniel/opt/anaconda3/envs/deeplearning/lib/python3.8/threading.py\", line 932, in _bootstrap_inner\n",
      "    self.run()\n",
      "  File \"/Users/Daniel/opt/anaconda3/envs/deeplearning/lib/python3.8/threading.py\", line 870, in run\n",
      "    self._target(*self._args, **self._kwargs)\n",
      "  File \"/Users/Daniel/opt/anaconda3/envs/deeplearning/lib/python3.8/site-packages/anvil/server.py\", line 206, in heartbeat_until_reopened\n",
      "    call(\"anvil.private.echo\", \"keep-alive\")\n",
      "  File \"/Users/Daniel/opt/anaconda3/envs/deeplearning/lib/python3.8/site-packages/anvil/server.py\", line 406, in call\n",
      "    raise _server._deserialise_exception(e.error_obj)\n",
      "anvil._server.AnvilWrappedError: 'Connection to Anvil Uplink server lost'\n"
     ]
    },
    {
     "name": "stdout",
     "output_type": "stream",
     "text": [
      "Anvil websocket closed (code 1006, reason=Going away)\n",
      "Reconnecting Anvil Uplink...\n",
      "Connecting to wss://anvil.works/uplink\n",
      "Anvil websocket open\n",
      "Connected to \"Default environment\" as SERVER\n"
     ]
    },
    {
     "name": "stderr",
     "output_type": "stream",
     "text": [
      "Exception in thread Thread-186:\n",
      "Traceback (most recent call last):\n",
      "  File \"/Users/Daniel/opt/anaconda3/envs/deeplearning/lib/python3.8/site-packages/anvil/server.py\", line 403, in call\n",
      "    return _do_call(args, kwargs, fn_name=fn_name)\n",
      "  File \"/Users/Daniel/opt/anaconda3/envs/deeplearning/lib/python3.8/site-packages/anvil/server.py\", line 395, in _do_call\n",
      "    return _threaded_server.do_call(args, kwargs, fn_name=fn_name, live_object=live_object)\n",
      "  File \"/Users/Daniel/opt/anaconda3/envs/deeplearning/lib/python3.8/site-packages/anvil/_threaded_server.py\", line 435, in do_call\n",
      "    raise error_from_server\n",
      "anvil._server.AnvilWrappedError: 'Connection to Anvil Uplink server lost'\n",
      "\n",
      "During handling of the above exception, another exception occurred:\n",
      "\n",
      "Traceback (most recent call last):\n",
      "  File \"/Users/Daniel/opt/anaconda3/envs/deeplearning/lib/python3.8/threading.py\", line 932, in _bootstrap_inner\n",
      "    self.run()\n",
      "  File \"/Users/Daniel/opt/anaconda3/envs/deeplearning/lib/python3.8/threading.py\", line 870, in run\n",
      "    self._target(*self._args, **self._kwargs)\n",
      "  File \"/Users/Daniel/opt/anaconda3/envs/deeplearning/lib/python3.8/site-packages/anvil/server.py\", line 206, in heartbeat_until_reopened\n",
      "    call(\"anvil.private.echo\", \"keep-alive\")\n",
      "  File \"/Users/Daniel/opt/anaconda3/envs/deeplearning/lib/python3.8/site-packages/anvil/server.py\", line 406, in call\n",
      "    raise _server._deserialise_exception(e.error_obj)\n",
      "anvil._server.AnvilWrappedError: 'Connection to Anvil Uplink server lost'\n"
     ]
    },
    {
     "name": "stdout",
     "output_type": "stream",
     "text": [
      "Anvil websocket closed (code 1006, reason=Going away)\n",
      "Reconnecting Anvil Uplink...\n",
      "Connecting to wss://anvil.works/uplink\n",
      "Anvil websocket open\n",
      "Connected to \"Default environment\" as SERVER\n"
     ]
    },
    {
     "name": "stderr",
     "output_type": "stream",
     "text": [
      "Exception in thread Thread-189:\n",
      "Traceback (most recent call last):\n",
      "  File \"/Users/Daniel/opt/anaconda3/envs/deeplearning/lib/python3.8/site-packages/anvil/server.py\", line 403, in call\n",
      "    return _do_call(args, kwargs, fn_name=fn_name)\n",
      "  File \"/Users/Daniel/opt/anaconda3/envs/deeplearning/lib/python3.8/site-packages/anvil/server.py\", line 395, in _do_call\n",
      "    return _threaded_server.do_call(args, kwargs, fn_name=fn_name, live_object=live_object)\n",
      "  File \"/Users/Daniel/opt/anaconda3/envs/deeplearning/lib/python3.8/site-packages/anvil/_threaded_server.py\", line 435, in do_call\n",
      "    raise error_from_server\n",
      "anvil._server.AnvilWrappedError: 'Connection to Anvil Uplink server lost'\n",
      "\n",
      "During handling of the above exception, another exception occurred:\n",
      "\n",
      "Traceback (most recent call last):\n",
      "  File \"/Users/Daniel/opt/anaconda3/envs/deeplearning/lib/python3.8/threading.py\", line 932, in _bootstrap_inner\n",
      "    self.run()\n",
      "  File \"/Users/Daniel/opt/anaconda3/envs/deeplearning/lib/python3.8/threading.py\", line 870, in run\n",
      "    self._target(*self._args, **self._kwargs)\n",
      "  File \"/Users/Daniel/opt/anaconda3/envs/deeplearning/lib/python3.8/site-packages/anvil/server.py\", line 206, in heartbeat_until_reopened\n",
      "    call(\"anvil.private.echo\", \"keep-alive\")\n",
      "  File \"/Users/Daniel/opt/anaconda3/envs/deeplearning/lib/python3.8/site-packages/anvil/server.py\", line 406, in call\n",
      "    raise _server._deserialise_exception(e.error_obj)\n",
      "anvil._server.AnvilWrappedError: 'Connection to Anvil Uplink server lost'\n"
     ]
    },
    {
     "name": "stdout",
     "output_type": "stream",
     "text": [
      "Anvil websocket closed (code 1006, reason=Going away)\n",
      "Reconnecting Anvil Uplink...\n",
      "Connecting to wss://anvil.works/uplink\n",
      "Anvil websocket open\n",
      "Connected to \"Default environment\" as SERVER\n"
     ]
    },
    {
     "name": "stderr",
     "output_type": "stream",
     "text": [
      "Exception in thread Thread-192:\n",
      "Traceback (most recent call last):\n",
      "  File \"/Users/Daniel/opt/anaconda3/envs/deeplearning/lib/python3.8/site-packages/anvil/server.py\", line 403, in call\n",
      "    return _do_call(args, kwargs, fn_name=fn_name)\n",
      "  File \"/Users/Daniel/opt/anaconda3/envs/deeplearning/lib/python3.8/site-packages/anvil/server.py\", line 395, in _do_call\n",
      "    return _threaded_server.do_call(args, kwargs, fn_name=fn_name, live_object=live_object)\n",
      "  File \"/Users/Daniel/opt/anaconda3/envs/deeplearning/lib/python3.8/site-packages/anvil/_threaded_server.py\", line 435, in do_call\n",
      "    raise error_from_server\n",
      "anvil._server.AnvilWrappedError: 'Connection to Anvil Uplink server lost'\n",
      "\n",
      "During handling of the above exception, another exception occurred:\n",
      "\n",
      "Traceback (most recent call last):\n",
      "  File \"/Users/Daniel/opt/anaconda3/envs/deeplearning/lib/python3.8/threading.py\", line 932, in _bootstrap_inner\n",
      "    self.run()\n",
      "  File \"/Users/Daniel/opt/anaconda3/envs/deeplearning/lib/python3.8/threading.py\", line 870, in run\n",
      "    self._target(*self._args, **self._kwargs)\n",
      "  File \"/Users/Daniel/opt/anaconda3/envs/deeplearning/lib/python3.8/site-packages/anvil/server.py\", line 206, in heartbeat_until_reopened\n",
      "    call(\"anvil.private.echo\", \"keep-alive\")\n",
      "  File \"/Users/Daniel/opt/anaconda3/envs/deeplearning/lib/python3.8/site-packages/anvil/server.py\", line 406, in call\n",
      "    raise _server._deserialise_exception(e.error_obj)\n",
      "anvil._server.AnvilWrappedError: 'Connection to Anvil Uplink server lost'\n"
     ]
    },
    {
     "name": "stdout",
     "output_type": "stream",
     "text": [
      "Anvil websocket closed (code 1006, reason=Going away)\n",
      "Reconnecting Anvil Uplink...\n",
      "Connecting to wss://anvil.works/uplink\n",
      "Anvil websocket open\n",
      "Connected to \"Default environment\" as SERVER\n"
     ]
    },
    {
     "name": "stderr",
     "output_type": "stream",
     "text": [
      "Exception in thread Thread-195:\n",
      "Traceback (most recent call last):\n",
      "  File \"/Users/Daniel/opt/anaconda3/envs/deeplearning/lib/python3.8/site-packages/anvil/server.py\", line 403, in call\n",
      "    return _do_call(args, kwargs, fn_name=fn_name)\n",
      "  File \"/Users/Daniel/opt/anaconda3/envs/deeplearning/lib/python3.8/site-packages/anvil/server.py\", line 395, in _do_call\n",
      "    return _threaded_server.do_call(args, kwargs, fn_name=fn_name, live_object=live_object)\n",
      "  File \"/Users/Daniel/opt/anaconda3/envs/deeplearning/lib/python3.8/site-packages/anvil/_threaded_server.py\", line 435, in do_call\n",
      "    raise error_from_server\n",
      "anvil._server.AnvilWrappedError: 'Connection to Anvil Uplink server lost'\n",
      "\n",
      "During handling of the above exception, another exception occurred:\n",
      "\n",
      "Traceback (most recent call last):\n",
      "  File \"/Users/Daniel/opt/anaconda3/envs/deeplearning/lib/python3.8/threading.py\", line 932, in _bootstrap_inner\n",
      "    self.run()\n",
      "  File \"/Users/Daniel/opt/anaconda3/envs/deeplearning/lib/python3.8/threading.py\", line 870, in run\n",
      "    self._target(*self._args, **self._kwargs)\n",
      "  File \"/Users/Daniel/opt/anaconda3/envs/deeplearning/lib/python3.8/site-packages/anvil/server.py\", line 206, in heartbeat_until_reopened\n",
      "    call(\"anvil.private.echo\", \"keep-alive\")\n",
      "  File \"/Users/Daniel/opt/anaconda3/envs/deeplearning/lib/python3.8/site-packages/anvil/server.py\", line 406, in call\n",
      "    raise _server._deserialise_exception(e.error_obj)\n",
      "anvil._server.AnvilWrappedError: 'Connection to Anvil Uplink server lost'\n"
     ]
    },
    {
     "name": "stdout",
     "output_type": "stream",
     "text": [
      "Anvil websocket closed (code 1006, reason=Going away)\n",
      "Reconnecting Anvil Uplink...\n",
      "Connecting to wss://anvil.works/uplink\n",
      "Anvil websocket open\n",
      "Connected to \"Default environment\" as SERVER\n"
     ]
    },
    {
     "name": "stderr",
     "output_type": "stream",
     "text": [
      "Exception in thread Thread-198:\n",
      "Traceback (most recent call last):\n",
      "  File \"/Users/Daniel/opt/anaconda3/envs/deeplearning/lib/python3.8/site-packages/anvil/server.py\", line 403, in call\n",
      "    return _do_call(args, kwargs, fn_name=fn_name)\n",
      "  File \"/Users/Daniel/opt/anaconda3/envs/deeplearning/lib/python3.8/site-packages/anvil/server.py\", line 395, in _do_call\n",
      "    return _threaded_server.do_call(args, kwargs, fn_name=fn_name, live_object=live_object)\n",
      "  File \"/Users/Daniel/opt/anaconda3/envs/deeplearning/lib/python3.8/site-packages/anvil/_threaded_server.py\", line 435, in do_call\n",
      "    raise error_from_server\n",
      "anvil._server.AnvilWrappedError: 'Connection to Anvil Uplink server lost'\n",
      "\n",
      "During handling of the above exception, another exception occurred:\n",
      "\n",
      "Traceback (most recent call last):\n",
      "  File \"/Users/Daniel/opt/anaconda3/envs/deeplearning/lib/python3.8/threading.py\", line 932, in _bootstrap_inner\n",
      "    self.run()\n",
      "  File \"/Users/Daniel/opt/anaconda3/envs/deeplearning/lib/python3.8/threading.py\", line 870, in run\n",
      "    self._target(*self._args, **self._kwargs)\n",
      "  File \"/Users/Daniel/opt/anaconda3/envs/deeplearning/lib/python3.8/site-packages/anvil/server.py\", line 206, in heartbeat_until_reopened\n",
      "    call(\"anvil.private.echo\", \"keep-alive\")\n",
      "  File \"/Users/Daniel/opt/anaconda3/envs/deeplearning/lib/python3.8/site-packages/anvil/server.py\", line 406, in call\n",
      "    raise _server._deserialise_exception(e.error_obj)\n",
      "anvil._server.AnvilWrappedError: 'Connection to Anvil Uplink server lost'\n"
     ]
    },
    {
     "name": "stdout",
     "output_type": "stream",
     "text": [
      "Anvil websocket closed (code 1006, reason=Going away)\n",
      "Reconnecting Anvil Uplink...\n",
      "Connecting to wss://anvil.works/uplink\n",
      "Anvil websocket open\n",
      "Connected to \"Default environment\" as SERVER\n"
     ]
    },
    {
     "name": "stderr",
     "output_type": "stream",
     "text": [
      "Exception in thread Thread-201:\n",
      "Traceback (most recent call last):\n",
      "  File \"/Users/Daniel/opt/anaconda3/envs/deeplearning/lib/python3.8/site-packages/anvil/server.py\", line 403, in call\n",
      "    return _do_call(args, kwargs, fn_name=fn_name)\n",
      "  File \"/Users/Daniel/opt/anaconda3/envs/deeplearning/lib/python3.8/site-packages/anvil/server.py\", line 395, in _do_call\n",
      "    return _threaded_server.do_call(args, kwargs, fn_name=fn_name, live_object=live_object)\n",
      "  File \"/Users/Daniel/opt/anaconda3/envs/deeplearning/lib/python3.8/site-packages/anvil/_threaded_server.py\", line 435, in do_call\n",
      "    raise error_from_server\n",
      "anvil._server.AnvilWrappedError: 'Connection to Anvil Uplink server lost'\n",
      "\n",
      "During handling of the above exception, another exception occurred:\n",
      "\n",
      "Traceback (most recent call last):\n",
      "  File \"/Users/Daniel/opt/anaconda3/envs/deeplearning/lib/python3.8/threading.py\", line 932, in _bootstrap_inner\n",
      "    self.run()\n",
      "  File \"/Users/Daniel/opt/anaconda3/envs/deeplearning/lib/python3.8/threading.py\", line 870, in run\n",
      "    self._target(*self._args, **self._kwargs)\n",
      "  File \"/Users/Daniel/opt/anaconda3/envs/deeplearning/lib/python3.8/site-packages/anvil/server.py\", line 206, in heartbeat_until_reopened\n",
      "    call(\"anvil.private.echo\", \"keep-alive\")\n",
      "  File \"/Users/Daniel/opt/anaconda3/envs/deeplearning/lib/python3.8/site-packages/anvil/server.py\", line 406, in call\n",
      "    raise _server._deserialise_exception(e.error_obj)\n",
      "anvil._server.AnvilWrappedError: 'Connection to Anvil Uplink server lost'\n"
     ]
    },
    {
     "name": "stdout",
     "output_type": "stream",
     "text": [
      "Anvil websocket closed (code 1006, reason=Going away)\n",
      "Reconnecting Anvil Uplink...\n",
      "Connecting to wss://anvil.works/uplink\n",
      "Anvil websocket open\n",
      "Connected to \"Default environment\" as SERVER\n"
     ]
    },
    {
     "name": "stderr",
     "output_type": "stream",
     "text": [
      "Exception in thread Thread-204:\n",
      "Traceback (most recent call last):\n",
      "  File \"/Users/Daniel/opt/anaconda3/envs/deeplearning/lib/python3.8/site-packages/anvil/server.py\", line 403, in call\n",
      "    return _do_call(args, kwargs, fn_name=fn_name)\n",
      "  File \"/Users/Daniel/opt/anaconda3/envs/deeplearning/lib/python3.8/site-packages/anvil/server.py\", line 395, in _do_call\n",
      "    return _threaded_server.do_call(args, kwargs, fn_name=fn_name, live_object=live_object)\n",
      "  File \"/Users/Daniel/opt/anaconda3/envs/deeplearning/lib/python3.8/site-packages/anvil/_threaded_server.py\", line 435, in do_call\n",
      "    raise error_from_server\n",
      "anvil._server.AnvilWrappedError: 'Connection to Anvil Uplink server lost'\n",
      "\n",
      "During handling of the above exception, another exception occurred:\n",
      "\n",
      "Traceback (most recent call last):\n",
      "  File \"/Users/Daniel/opt/anaconda3/envs/deeplearning/lib/python3.8/threading.py\", line 932, in _bootstrap_inner\n",
      "    self.run()\n",
      "  File \"/Users/Daniel/opt/anaconda3/envs/deeplearning/lib/python3.8/threading.py\", line 870, in run\n",
      "    self._target(*self._args, **self._kwargs)\n",
      "  File \"/Users/Daniel/opt/anaconda3/envs/deeplearning/lib/python3.8/site-packages/anvil/server.py\", line 206, in heartbeat_until_reopened\n",
      "    call(\"anvil.private.echo\", \"keep-alive\")\n",
      "  File \"/Users/Daniel/opt/anaconda3/envs/deeplearning/lib/python3.8/site-packages/anvil/server.py\", line 406, in call\n",
      "    raise _server._deserialise_exception(e.error_obj)\n",
      "anvil._server.AnvilWrappedError: 'Connection to Anvil Uplink server lost'\n"
     ]
    },
    {
     "name": "stdout",
     "output_type": "stream",
     "text": [
      "Anvil websocket closed (code 1006, reason=Going away)\n",
      "Reconnecting Anvil Uplink...\n",
      "Connecting to wss://anvil.works/uplink\n",
      "Anvil websocket open\n",
      "Connected to \"Default environment\" as SERVER\n"
     ]
    },
    {
     "name": "stderr",
     "output_type": "stream",
     "text": [
      "Exception in thread Thread-207:\n",
      "Traceback (most recent call last):\n",
      "  File \"/Users/Daniel/opt/anaconda3/envs/deeplearning/lib/python3.8/site-packages/anvil/server.py\", line 403, in call\n",
      "    return _do_call(args, kwargs, fn_name=fn_name)\n",
      "  File \"/Users/Daniel/opt/anaconda3/envs/deeplearning/lib/python3.8/site-packages/anvil/server.py\", line 395, in _do_call\n",
      "    return _threaded_server.do_call(args, kwargs, fn_name=fn_name, live_object=live_object)\n",
      "  File \"/Users/Daniel/opt/anaconda3/envs/deeplearning/lib/python3.8/site-packages/anvil/_threaded_server.py\", line 435, in do_call\n",
      "    raise error_from_server\n",
      "anvil._server.AnvilWrappedError: 'Connection to Anvil Uplink server lost'\n",
      "\n",
      "During handling of the above exception, another exception occurred:\n",
      "\n",
      "Traceback (most recent call last):\n",
      "  File \"/Users/Daniel/opt/anaconda3/envs/deeplearning/lib/python3.8/threading.py\", line 932, in _bootstrap_inner\n",
      "    self.run()\n",
      "  File \"/Users/Daniel/opt/anaconda3/envs/deeplearning/lib/python3.8/threading.py\", line 870, in run\n",
      "    self._target(*self._args, **self._kwargs)\n",
      "  File \"/Users/Daniel/opt/anaconda3/envs/deeplearning/lib/python3.8/site-packages/anvil/server.py\", line 206, in heartbeat_until_reopened\n",
      "    call(\"anvil.private.echo\", \"keep-alive\")\n",
      "  File \"/Users/Daniel/opt/anaconda3/envs/deeplearning/lib/python3.8/site-packages/anvil/server.py\", line 406, in call\n",
      "    raise _server._deserialise_exception(e.error_obj)\n",
      "anvil._server.AnvilWrappedError: 'Connection to Anvil Uplink server lost'\n"
     ]
    },
    {
     "name": "stdout",
     "output_type": "stream",
     "text": [
      "Anvil websocket closed (code 1006, reason=Going away)\n",
      "Reconnecting Anvil Uplink...\n",
      "Connecting to wss://anvil.works/uplink\n",
      "Anvil websocket open\n",
      "Connected to \"Default environment\" as SERVER\n"
     ]
    },
    {
     "name": "stderr",
     "output_type": "stream",
     "text": [
      "Exception in thread Thread-210:\n",
      "Traceback (most recent call last):\n",
      "  File \"/Users/Daniel/opt/anaconda3/envs/deeplearning/lib/python3.8/site-packages/anvil/server.py\", line 403, in call\n",
      "    return _do_call(args, kwargs, fn_name=fn_name)\n",
      "  File \"/Users/Daniel/opt/anaconda3/envs/deeplearning/lib/python3.8/site-packages/anvil/server.py\", line 395, in _do_call\n",
      "    return _threaded_server.do_call(args, kwargs, fn_name=fn_name, live_object=live_object)\n",
      "  File \"/Users/Daniel/opt/anaconda3/envs/deeplearning/lib/python3.8/site-packages/anvil/_threaded_server.py\", line 435, in do_call\n",
      "    raise error_from_server\n",
      "anvil._server.AnvilWrappedError: 'Connection to Anvil Uplink server lost'\n",
      "\n",
      "During handling of the above exception, another exception occurred:\n",
      "\n",
      "Traceback (most recent call last):\n",
      "  File \"/Users/Daniel/opt/anaconda3/envs/deeplearning/lib/python3.8/threading.py\", line 932, in _bootstrap_inner\n",
      "    self.run()\n",
      "  File \"/Users/Daniel/opt/anaconda3/envs/deeplearning/lib/python3.8/threading.py\", line 870, in run\n",
      "    self._target(*self._args, **self._kwargs)\n",
      "  File \"/Users/Daniel/opt/anaconda3/envs/deeplearning/lib/python3.8/site-packages/anvil/server.py\", line 206, in heartbeat_until_reopened\n",
      "    call(\"anvil.private.echo\", \"keep-alive\")\n",
      "  File \"/Users/Daniel/opt/anaconda3/envs/deeplearning/lib/python3.8/site-packages/anvil/server.py\", line 406, in call\n",
      "    raise _server._deserialise_exception(e.error_obj)\n",
      "anvil._server.AnvilWrappedError: 'Connection to Anvil Uplink server lost'\n"
     ]
    },
    {
     "name": "stdout",
     "output_type": "stream",
     "text": [
      "Anvil websocket closed (code 1006, reason=Going away)\n",
      "Reconnecting Anvil Uplink...\n",
      "Connecting to wss://anvil.works/uplink\n",
      "Anvil websocket open\n",
      "Connected to \"Default environment\" as SERVER\n"
     ]
    },
    {
     "name": "stderr",
     "output_type": "stream",
     "text": [
      "Exception in thread Thread-213:\n",
      "Traceback (most recent call last):\n",
      "  File \"/Users/Daniel/opt/anaconda3/envs/deeplearning/lib/python3.8/site-packages/anvil/server.py\", line 403, in call\n",
      "    return _do_call(args, kwargs, fn_name=fn_name)\n",
      "  File \"/Users/Daniel/opt/anaconda3/envs/deeplearning/lib/python3.8/site-packages/anvil/server.py\", line 395, in _do_call\n",
      "    return _threaded_server.do_call(args, kwargs, fn_name=fn_name, live_object=live_object)\n",
      "  File \"/Users/Daniel/opt/anaconda3/envs/deeplearning/lib/python3.8/site-packages/anvil/_threaded_server.py\", line 435, in do_call\n",
      "    raise error_from_server\n",
      "anvil._server.AnvilWrappedError: 'Connection to Anvil Uplink server lost'\n",
      "\n",
      "During handling of the above exception, another exception occurred:\n",
      "\n",
      "Traceback (most recent call last):\n",
      "  File \"/Users/Daniel/opt/anaconda3/envs/deeplearning/lib/python3.8/threading.py\", line 932, in _bootstrap_inner\n",
      "    self.run()\n",
      "  File \"/Users/Daniel/opt/anaconda3/envs/deeplearning/lib/python3.8/threading.py\", line 870, in run\n",
      "    self._target(*self._args, **self._kwargs)\n",
      "  File \"/Users/Daniel/opt/anaconda3/envs/deeplearning/lib/python3.8/site-packages/anvil/server.py\", line 206, in heartbeat_until_reopened\n",
      "    call(\"anvil.private.echo\", \"keep-alive\")\n",
      "  File \"/Users/Daniel/opt/anaconda3/envs/deeplearning/lib/python3.8/site-packages/anvil/server.py\", line 406, in call\n",
      "    raise _server._deserialise_exception(e.error_obj)\n",
      "anvil._server.AnvilWrappedError: 'Connection to Anvil Uplink server lost'\n"
     ]
    },
    {
     "name": "stdout",
     "output_type": "stream",
     "text": [
      "Anvil websocket closed (code 1006, reason=Going away)\n",
      "Reconnecting Anvil Uplink...\n",
      "Connecting to wss://anvil.works/uplink\n",
      "Anvil websocket open\n",
      "Connected to \"Default environment\" as SERVER\n"
     ]
    },
    {
     "name": "stderr",
     "output_type": "stream",
     "text": [
      "Exception in thread Thread-216:\n",
      "Traceback (most recent call last):\n",
      "  File \"/Users/Daniel/opt/anaconda3/envs/deeplearning/lib/python3.8/site-packages/anvil/server.py\", line 403, in call\n",
      "    return _do_call(args, kwargs, fn_name=fn_name)\n",
      "  File \"/Users/Daniel/opt/anaconda3/envs/deeplearning/lib/python3.8/site-packages/anvil/server.py\", line 395, in _do_call\n",
      "    return _threaded_server.do_call(args, kwargs, fn_name=fn_name, live_object=live_object)\n",
      "  File \"/Users/Daniel/opt/anaconda3/envs/deeplearning/lib/python3.8/site-packages/anvil/_threaded_server.py\", line 435, in do_call\n",
      "    raise error_from_server\n",
      "anvil._server.AnvilWrappedError: 'Connection to Anvil Uplink server lost'\n",
      "\n",
      "During handling of the above exception, another exception occurred:\n",
      "\n",
      "Traceback (most recent call last):\n",
      "  File \"/Users/Daniel/opt/anaconda3/envs/deeplearning/lib/python3.8/threading.py\", line 932, in _bootstrap_inner\n",
      "    self.run()\n",
      "  File \"/Users/Daniel/opt/anaconda3/envs/deeplearning/lib/python3.8/threading.py\", line 870, in run\n",
      "    self._target(*self._args, **self._kwargs)\n",
      "  File \"/Users/Daniel/opt/anaconda3/envs/deeplearning/lib/python3.8/site-packages/anvil/server.py\", line 206, in heartbeat_until_reopened\n",
      "    call(\"anvil.private.echo\", \"keep-alive\")\n",
      "  File \"/Users/Daniel/opt/anaconda3/envs/deeplearning/lib/python3.8/site-packages/anvil/server.py\", line 406, in call\n",
      "    raise _server._deserialise_exception(e.error_obj)\n",
      "anvil._server.AnvilWrappedError: 'Connection to Anvil Uplink server lost'\n"
     ]
    },
    {
     "name": "stdout",
     "output_type": "stream",
     "text": [
      "Anvil websocket closed (code 1006, reason=Going away)\n",
      "Reconnecting Anvil Uplink...\n",
      "Connecting to wss://anvil.works/uplink\n",
      "Anvil websocket open\n",
      "Connected to \"Default environment\" as SERVER\n"
     ]
    },
    {
     "name": "stderr",
     "output_type": "stream",
     "text": [
      "Exception in thread Thread-219:\n",
      "Traceback (most recent call last):\n",
      "  File \"/Users/Daniel/opt/anaconda3/envs/deeplearning/lib/python3.8/site-packages/anvil/server.py\", line 403, in call\n",
      "    return _do_call(args, kwargs, fn_name=fn_name)\n",
      "  File \"/Users/Daniel/opt/anaconda3/envs/deeplearning/lib/python3.8/site-packages/anvil/server.py\", line 395, in _do_call\n",
      "    return _threaded_server.do_call(args, kwargs, fn_name=fn_name, live_object=live_object)\n",
      "  File \"/Users/Daniel/opt/anaconda3/envs/deeplearning/lib/python3.8/site-packages/anvil/_threaded_server.py\", line 435, in do_call\n",
      "    raise error_from_server\n",
      "anvil._server.AnvilWrappedError: 'Connection to Anvil Uplink server lost'\n",
      "\n",
      "During handling of the above exception, another exception occurred:\n",
      "\n",
      "Traceback (most recent call last):\n",
      "  File \"/Users/Daniel/opt/anaconda3/envs/deeplearning/lib/python3.8/threading.py\", line 932, in _bootstrap_inner\n",
      "    self.run()\n",
      "  File \"/Users/Daniel/opt/anaconda3/envs/deeplearning/lib/python3.8/threading.py\", line 870, in run\n",
      "    self._target(*self._args, **self._kwargs)\n",
      "  File \"/Users/Daniel/opt/anaconda3/envs/deeplearning/lib/python3.8/site-packages/anvil/server.py\", line 206, in heartbeat_until_reopened\n",
      "    call(\"anvil.private.echo\", \"keep-alive\")\n",
      "  File \"/Users/Daniel/opt/anaconda3/envs/deeplearning/lib/python3.8/site-packages/anvil/server.py\", line 406, in call\n",
      "    raise _server._deserialise_exception(e.error_obj)\n",
      "anvil._server.AnvilWrappedError: 'Connection to Anvil Uplink server lost'\n"
     ]
    },
    {
     "name": "stdout",
     "output_type": "stream",
     "text": [
      "Anvil websocket closed (code 1006, reason=Going away)\n",
      "Reconnecting Anvil Uplink...\n",
      "Connecting to wss://anvil.works/uplink\n",
      "Anvil websocket open\n",
      "Connected to \"Default environment\" as SERVER\n"
     ]
    },
    {
     "name": "stderr",
     "output_type": "stream",
     "text": [
      "Exception in thread Thread-222:\n",
      "Traceback (most recent call last):\n",
      "  File \"/Users/Daniel/opt/anaconda3/envs/deeplearning/lib/python3.8/site-packages/anvil/server.py\", line 403, in call\n",
      "    return _do_call(args, kwargs, fn_name=fn_name)\n",
      "  File \"/Users/Daniel/opt/anaconda3/envs/deeplearning/lib/python3.8/site-packages/anvil/server.py\", line 395, in _do_call\n",
      "    return _threaded_server.do_call(args, kwargs, fn_name=fn_name, live_object=live_object)\n",
      "  File \"/Users/Daniel/opt/anaconda3/envs/deeplearning/lib/python3.8/site-packages/anvil/_threaded_server.py\", line 435, in do_call\n",
      "    raise error_from_server\n",
      "anvil._server.AnvilWrappedError: 'Connection to Anvil Uplink server lost'\n",
      "\n",
      "During handling of the above exception, another exception occurred:\n",
      "\n",
      "Traceback (most recent call last):\n",
      "  File \"/Users/Daniel/opt/anaconda3/envs/deeplearning/lib/python3.8/threading.py\", line 932, in _bootstrap_inner\n",
      "    self.run()\n",
      "  File \"/Users/Daniel/opt/anaconda3/envs/deeplearning/lib/python3.8/threading.py\", line 870, in run\n",
      "    self._target(*self._args, **self._kwargs)\n",
      "  File \"/Users/Daniel/opt/anaconda3/envs/deeplearning/lib/python3.8/site-packages/anvil/server.py\", line 206, in heartbeat_until_reopened\n",
      "    call(\"anvil.private.echo\", \"keep-alive\")\n",
      "  File \"/Users/Daniel/opt/anaconda3/envs/deeplearning/lib/python3.8/site-packages/anvil/server.py\", line 406, in call\n",
      "    raise _server._deserialise_exception(e.error_obj)\n",
      "anvil._server.AnvilWrappedError: 'Connection to Anvil Uplink server lost'\n"
     ]
    },
    {
     "name": "stdout",
     "output_type": "stream",
     "text": [
      "Anvil websocket closed (code 1006, reason=Going away)\n",
      "Reconnecting Anvil Uplink...\n",
      "Connecting to wss://anvil.works/uplink\n",
      "Anvil websocket open\n",
      "Connected to \"Default environment\" as SERVER\n"
     ]
    },
    {
     "name": "stderr",
     "output_type": "stream",
     "text": [
      "Exception in thread Thread-225:\n",
      "Traceback (most recent call last):\n",
      "  File \"/Users/Daniel/opt/anaconda3/envs/deeplearning/lib/python3.8/site-packages/anvil/server.py\", line 403, in call\n",
      "    return _do_call(args, kwargs, fn_name=fn_name)\n",
      "  File \"/Users/Daniel/opt/anaconda3/envs/deeplearning/lib/python3.8/site-packages/anvil/server.py\", line 395, in _do_call\n",
      "    return _threaded_server.do_call(args, kwargs, fn_name=fn_name, live_object=live_object)\n",
      "  File \"/Users/Daniel/opt/anaconda3/envs/deeplearning/lib/python3.8/site-packages/anvil/_threaded_server.py\", line 435, in do_call\n",
      "    raise error_from_server\n",
      "anvil._server.AnvilWrappedError: 'Connection to Anvil Uplink server lost'\n",
      "\n",
      "During handling of the above exception, another exception occurred:\n",
      "\n",
      "Traceback (most recent call last):\n",
      "  File \"/Users/Daniel/opt/anaconda3/envs/deeplearning/lib/python3.8/threading.py\", line 932, in _bootstrap_inner\n",
      "    self.run()\n",
      "  File \"/Users/Daniel/opt/anaconda3/envs/deeplearning/lib/python3.8/threading.py\", line 870, in run\n",
      "    self._target(*self._args, **self._kwargs)\n",
      "  File \"/Users/Daniel/opt/anaconda3/envs/deeplearning/lib/python3.8/site-packages/anvil/server.py\", line 206, in heartbeat_until_reopened\n",
      "    call(\"anvil.private.echo\", \"keep-alive\")\n",
      "  File \"/Users/Daniel/opt/anaconda3/envs/deeplearning/lib/python3.8/site-packages/anvil/server.py\", line 406, in call\n",
      "    raise _server._deserialise_exception(e.error_obj)\n",
      "anvil._server.AnvilWrappedError: 'Connection to Anvil Uplink server lost'\n"
     ]
    },
    {
     "name": "stdout",
     "output_type": "stream",
     "text": [
      "Anvil websocket closed (code 1006, reason=Going away)\n",
      "Reconnecting Anvil Uplink...\n",
      "Connecting to wss://anvil.works/uplink\n",
      "Anvil websocket open\n",
      "Connected to \"Default environment\" as SERVER\n"
     ]
    },
    {
     "name": "stderr",
     "output_type": "stream",
     "text": [
      "Exception in thread Thread-228:\n",
      "Traceback (most recent call last):\n",
      "  File \"/Users/Daniel/opt/anaconda3/envs/deeplearning/lib/python3.8/site-packages/anvil/server.py\", line 403, in call\n",
      "    return _do_call(args, kwargs, fn_name=fn_name)\n",
      "  File \"/Users/Daniel/opt/anaconda3/envs/deeplearning/lib/python3.8/site-packages/anvil/server.py\", line 395, in _do_call\n",
      "    return _threaded_server.do_call(args, kwargs, fn_name=fn_name, live_object=live_object)\n",
      "  File \"/Users/Daniel/opt/anaconda3/envs/deeplearning/lib/python3.8/site-packages/anvil/_threaded_server.py\", line 435, in do_call\n",
      "    raise error_from_server\n",
      "anvil._server.AnvilWrappedError: 'Connection to Anvil Uplink server lost'\n",
      "\n",
      "During handling of the above exception, another exception occurred:\n",
      "\n",
      "Traceback (most recent call last):\n",
      "  File \"/Users/Daniel/opt/anaconda3/envs/deeplearning/lib/python3.8/threading.py\", line 932, in _bootstrap_inner\n",
      "    self.run()\n",
      "  File \"/Users/Daniel/opt/anaconda3/envs/deeplearning/lib/python3.8/threading.py\", line 870, in run\n",
      "    self._target(*self._args, **self._kwargs)\n",
      "  File \"/Users/Daniel/opt/anaconda3/envs/deeplearning/lib/python3.8/site-packages/anvil/server.py\", line 206, in heartbeat_until_reopened\n",
      "    call(\"anvil.private.echo\", \"keep-alive\")\n",
      "  File \"/Users/Daniel/opt/anaconda3/envs/deeplearning/lib/python3.8/site-packages/anvil/server.py\", line 406, in call\n",
      "    raise _server._deserialise_exception(e.error_obj)\n",
      "anvil._server.AnvilWrappedError: 'Connection to Anvil Uplink server lost'\n"
     ]
    },
    {
     "name": "stdout",
     "output_type": "stream",
     "text": [
      "Anvil websocket closed (code 1006, reason=Going away)\n",
      "Reconnecting Anvil Uplink...\n",
      "Connecting to wss://anvil.works/uplink\n",
      "Anvil websocket open\n",
      "Connected to \"Default environment\" as SERVER\n"
     ]
    },
    {
     "name": "stderr",
     "output_type": "stream",
     "text": [
      "Exception in thread Thread-231:\n",
      "Traceback (most recent call last):\n",
      "  File \"/Users/Daniel/opt/anaconda3/envs/deeplearning/lib/python3.8/site-packages/anvil/server.py\", line 403, in call\n",
      "    return _do_call(args, kwargs, fn_name=fn_name)\n",
      "  File \"/Users/Daniel/opt/anaconda3/envs/deeplearning/lib/python3.8/site-packages/anvil/server.py\", line 395, in _do_call\n",
      "    return _threaded_server.do_call(args, kwargs, fn_name=fn_name, live_object=live_object)\n",
      "  File \"/Users/Daniel/opt/anaconda3/envs/deeplearning/lib/python3.8/site-packages/anvil/_threaded_server.py\", line 435, in do_call\n",
      "    raise error_from_server\n",
      "anvil._server.AnvilWrappedError: 'Connection to Anvil Uplink server lost'\n",
      "\n",
      "During handling of the above exception, another exception occurred:\n",
      "\n",
      "Traceback (most recent call last):\n",
      "  File \"/Users/Daniel/opt/anaconda3/envs/deeplearning/lib/python3.8/threading.py\", line 932, in _bootstrap_inner\n",
      "    self.run()\n",
      "  File \"/Users/Daniel/opt/anaconda3/envs/deeplearning/lib/python3.8/threading.py\", line 870, in run\n",
      "    self._target(*self._args, **self._kwargs)\n",
      "  File \"/Users/Daniel/opt/anaconda3/envs/deeplearning/lib/python3.8/site-packages/anvil/server.py\", line 206, in heartbeat_until_reopened\n",
      "    call(\"anvil.private.echo\", \"keep-alive\")\n",
      "  File \"/Users/Daniel/opt/anaconda3/envs/deeplearning/lib/python3.8/site-packages/anvil/server.py\", line 406, in call\n",
      "    raise _server._deserialise_exception(e.error_obj)\n",
      "anvil._server.AnvilWrappedError: 'Connection to Anvil Uplink server lost'\n"
     ]
    },
    {
     "name": "stdout",
     "output_type": "stream",
     "text": [
      "Anvil websocket closed (code 1006, reason=Going away)\n",
      "Reconnecting Anvil Uplink...\n",
      "Connecting to wss://anvil.works/uplink\n",
      "Anvil websocket open\n",
      "Connected to \"Default environment\" as SERVER\n",
      "Anvil websocket closed (code 1006, reason=Going away)\n",
      "Reconnecting Anvil Uplink...\n",
      "Connecting to wss://anvil.works/uplink\n",
      "Anvil websocket open\n",
      "Connected to \"Default environment\" as SERVER\n",
      "Anvil websocket closed (code 1006, reason=Going away)\n",
      "Reconnecting Anvil Uplink...\n",
      "Connecting to wss://anvil.works/uplink\n",
      "Anvil websocket open\n",
      "Connected to \"Default environment\" as SERVER\n"
     ]
    },
    {
     "name": "stderr",
     "output_type": "stream",
     "text": [
      "Exception in thread Thread-240:\n",
      "Traceback (most recent call last):\n",
      "  File \"/Users/Daniel/opt/anaconda3/envs/deeplearning/lib/python3.8/site-packages/anvil/server.py\", line 403, in call\n",
      "    return _do_call(args, kwargs, fn_name=fn_name)\n",
      "  File \"/Users/Daniel/opt/anaconda3/envs/deeplearning/lib/python3.8/site-packages/anvil/server.py\", line 395, in _do_call\n",
      "    return _threaded_server.do_call(args, kwargs, fn_name=fn_name, live_object=live_object)\n",
      "  File \"/Users/Daniel/opt/anaconda3/envs/deeplearning/lib/python3.8/site-packages/anvil/_threaded_server.py\", line 435, in do_call\n",
      "    raise error_from_server\n",
      "anvil._server.AnvilWrappedError: 'Connection to Anvil Uplink server lost'\n",
      "\n",
      "During handling of the above exception, another exception occurred:\n",
      "\n",
      "Traceback (most recent call last):\n",
      "  File \"/Users/Daniel/opt/anaconda3/envs/deeplearning/lib/python3.8/threading.py\", line 932, in _bootstrap_inner\n",
      "    self.run()\n",
      "  File \"/Users/Daniel/opt/anaconda3/envs/deeplearning/lib/python3.8/threading.py\", line 870, in run\n",
      "    self._target(*self._args, **self._kwargs)\n",
      "  File \"/Users/Daniel/opt/anaconda3/envs/deeplearning/lib/python3.8/site-packages/anvil/server.py\", line 206, in heartbeat_until_reopened\n",
      "    call(\"anvil.private.echo\", \"keep-alive\")\n",
      "  File \"/Users/Daniel/opt/anaconda3/envs/deeplearning/lib/python3.8/site-packages/anvil/server.py\", line 406, in call\n",
      "    raise _server._deserialise_exception(e.error_obj)\n",
      "anvil._server.AnvilWrappedError: 'Connection to Anvil Uplink server lost'\n"
     ]
    },
    {
     "name": "stdout",
     "output_type": "stream",
     "text": [
      "Anvil websocket closed (code 1006, reason=Going away)\n",
      "Reconnecting Anvil Uplink...\n",
      "Connecting to wss://anvil.works/uplink\n",
      "Anvil websocket open\n",
      "Connected to \"Default environment\" as SERVER\n"
     ]
    },
    {
     "name": "stderr",
     "output_type": "stream",
     "text": [
      "Exception in thread Thread-243:\n",
      "Traceback (most recent call last):\n",
      "  File \"/Users/Daniel/opt/anaconda3/envs/deeplearning/lib/python3.8/site-packages/anvil/server.py\", line 403, in call\n",
      "    return _do_call(args, kwargs, fn_name=fn_name)\n",
      "  File \"/Users/Daniel/opt/anaconda3/envs/deeplearning/lib/python3.8/site-packages/anvil/server.py\", line 395, in _do_call\n",
      "    return _threaded_server.do_call(args, kwargs, fn_name=fn_name, live_object=live_object)\n",
      "  File \"/Users/Daniel/opt/anaconda3/envs/deeplearning/lib/python3.8/site-packages/anvil/_threaded_server.py\", line 435, in do_call\n",
      "    raise error_from_server\n",
      "anvil._server.AnvilWrappedError: 'Connection to Anvil Uplink server lost'\n",
      "\n",
      "During handling of the above exception, another exception occurred:\n",
      "\n",
      "Traceback (most recent call last):\n",
      "  File \"/Users/Daniel/opt/anaconda3/envs/deeplearning/lib/python3.8/threading.py\", line 932, in _bootstrap_inner\n",
      "    self.run()\n",
      "  File \"/Users/Daniel/opt/anaconda3/envs/deeplearning/lib/python3.8/threading.py\", line 870, in run\n",
      "    self._target(*self._args, **self._kwargs)\n",
      "  File \"/Users/Daniel/opt/anaconda3/envs/deeplearning/lib/python3.8/site-packages/anvil/server.py\", line 206, in heartbeat_until_reopened\n",
      "    call(\"anvil.private.echo\", \"keep-alive\")\n",
      "  File \"/Users/Daniel/opt/anaconda3/envs/deeplearning/lib/python3.8/site-packages/anvil/server.py\", line 406, in call\n",
      "    raise _server._deserialise_exception(e.error_obj)\n",
      "anvil._server.AnvilWrappedError: 'Connection to Anvil Uplink server lost'\n"
     ]
    },
    {
     "name": "stdout",
     "output_type": "stream",
     "text": [
      "Anvil websocket closed (code 1006, reason=Going away)\n",
      "Reconnecting Anvil Uplink...\n",
      "Connecting to wss://anvil.works/uplink\n",
      "Anvil websocket open\n",
      "Connected to \"Default environment\" as SERVER\n"
     ]
    },
    {
     "name": "stderr",
     "output_type": "stream",
     "text": [
      "Exception in thread Thread-246:\n",
      "Traceback (most recent call last):\n",
      "  File \"/Users/Daniel/opt/anaconda3/envs/deeplearning/lib/python3.8/site-packages/anvil/server.py\", line 403, in call\n",
      "    return _do_call(args, kwargs, fn_name=fn_name)\n",
      "  File \"/Users/Daniel/opt/anaconda3/envs/deeplearning/lib/python3.8/site-packages/anvil/server.py\", line 395, in _do_call\n",
      "    return _threaded_server.do_call(args, kwargs, fn_name=fn_name, live_object=live_object)\n",
      "  File \"/Users/Daniel/opt/anaconda3/envs/deeplearning/lib/python3.8/site-packages/anvil/_threaded_server.py\", line 435, in do_call\n",
      "    raise error_from_server\n",
      "anvil._server.AnvilWrappedError: 'Connection to Anvil Uplink server lost'\n",
      "\n",
      "During handling of the above exception, another exception occurred:\n",
      "\n",
      "Traceback (most recent call last):\n",
      "  File \"/Users/Daniel/opt/anaconda3/envs/deeplearning/lib/python3.8/threading.py\", line 932, in _bootstrap_inner\n",
      "    self.run()\n",
      "  File \"/Users/Daniel/opt/anaconda3/envs/deeplearning/lib/python3.8/threading.py\", line 870, in run\n",
      "    self._target(*self._args, **self._kwargs)\n",
      "  File \"/Users/Daniel/opt/anaconda3/envs/deeplearning/lib/python3.8/site-packages/anvil/server.py\", line 206, in heartbeat_until_reopened\n",
      "    call(\"anvil.private.echo\", \"keep-alive\")\n",
      "  File \"/Users/Daniel/opt/anaconda3/envs/deeplearning/lib/python3.8/site-packages/anvil/server.py\", line 406, in call\n",
      "    raise _server._deserialise_exception(e.error_obj)\n",
      "anvil._server.AnvilWrappedError: 'Connection to Anvil Uplink server lost'\n"
     ]
    },
    {
     "name": "stdout",
     "output_type": "stream",
     "text": [
      "Anvil websocket closed (code 1006, reason=Going away)\n",
      "Reconnecting Anvil Uplink...\n",
      "Connecting to wss://anvil.works/uplink\n",
      "Anvil websocket open\n",
      "Connected to \"Default environment\" as SERVER\n"
     ]
    },
    {
     "name": "stderr",
     "output_type": "stream",
     "text": [
      "Exception in thread Thread-249:\n",
      "Traceback (most recent call last):\n",
      "  File \"/Users/Daniel/opt/anaconda3/envs/deeplearning/lib/python3.8/site-packages/anvil/server.py\", line 403, in call\n",
      "    return _do_call(args, kwargs, fn_name=fn_name)\n",
      "  File \"/Users/Daniel/opt/anaconda3/envs/deeplearning/lib/python3.8/site-packages/anvil/server.py\", line 395, in _do_call\n",
      "    return _threaded_server.do_call(args, kwargs, fn_name=fn_name, live_object=live_object)\n",
      "  File \"/Users/Daniel/opt/anaconda3/envs/deeplearning/lib/python3.8/site-packages/anvil/_threaded_server.py\", line 435, in do_call\n",
      "    raise error_from_server\n",
      "anvil._server.AnvilWrappedError: 'Connection to Anvil Uplink server lost'\n",
      "\n",
      "During handling of the above exception, another exception occurred:\n",
      "\n",
      "Traceback (most recent call last):\n",
      "  File \"/Users/Daniel/opt/anaconda3/envs/deeplearning/lib/python3.8/threading.py\", line 932, in _bootstrap_inner\n",
      "    self.run()\n",
      "  File \"/Users/Daniel/opt/anaconda3/envs/deeplearning/lib/python3.8/threading.py\", line 870, in run\n",
      "    self._target(*self._args, **self._kwargs)\n",
      "  File \"/Users/Daniel/opt/anaconda3/envs/deeplearning/lib/python3.8/site-packages/anvil/server.py\", line 206, in heartbeat_until_reopened\n",
      "    call(\"anvil.private.echo\", \"keep-alive\")\n",
      "  File \"/Users/Daniel/opt/anaconda3/envs/deeplearning/lib/python3.8/site-packages/anvil/server.py\", line 406, in call\n",
      "    raise _server._deserialise_exception(e.error_obj)\n",
      "anvil._server.AnvilWrappedError: 'Connection to Anvil Uplink server lost'\n"
     ]
    },
    {
     "name": "stdout",
     "output_type": "stream",
     "text": [
      "Anvil websocket closed (code 1006, reason=Going away)\n",
      "Reconnecting Anvil Uplink...\n",
      "Connecting to wss://anvil.works/uplink\n",
      "Anvil websocket open\n",
      "Connected to \"Default environment\" as SERVER\n"
     ]
    },
    {
     "name": "stderr",
     "output_type": "stream",
     "text": [
      "Exception in thread Thread-252:\n",
      "Traceback (most recent call last):\n",
      "  File \"/Users/Daniel/opt/anaconda3/envs/deeplearning/lib/python3.8/site-packages/anvil/server.py\", line 403, in call\n",
      "    return _do_call(args, kwargs, fn_name=fn_name)\n",
      "  File \"/Users/Daniel/opt/anaconda3/envs/deeplearning/lib/python3.8/site-packages/anvil/server.py\", line 395, in _do_call\n",
      "    return _threaded_server.do_call(args, kwargs, fn_name=fn_name, live_object=live_object)\n",
      "  File \"/Users/Daniel/opt/anaconda3/envs/deeplearning/lib/python3.8/site-packages/anvil/_threaded_server.py\", line 435, in do_call\n",
      "    raise error_from_server\n",
      "anvil._server.AnvilWrappedError: 'Connection to Anvil Uplink server lost'\n",
      "\n",
      "During handling of the above exception, another exception occurred:\n",
      "\n",
      "Traceback (most recent call last):\n",
      "  File \"/Users/Daniel/opt/anaconda3/envs/deeplearning/lib/python3.8/threading.py\", line 932, in _bootstrap_inner\n",
      "    self.run()\n",
      "  File \"/Users/Daniel/opt/anaconda3/envs/deeplearning/lib/python3.8/threading.py\", line 870, in run\n",
      "    self._target(*self._args, **self._kwargs)\n",
      "  File \"/Users/Daniel/opt/anaconda3/envs/deeplearning/lib/python3.8/site-packages/anvil/server.py\", line 206, in heartbeat_until_reopened\n",
      "    call(\"anvil.private.echo\", \"keep-alive\")\n",
      "  File \"/Users/Daniel/opt/anaconda3/envs/deeplearning/lib/python3.8/site-packages/anvil/server.py\", line 406, in call\n",
      "    raise _server._deserialise_exception(e.error_obj)\n",
      "anvil._server.AnvilWrappedError: 'Connection to Anvil Uplink server lost'\n"
     ]
    },
    {
     "name": "stdout",
     "output_type": "stream",
     "text": [
      "Anvil websocket closed (code 1006, reason=Going away)\n",
      "Reconnecting Anvil Uplink...\n",
      "Connecting to wss://anvil.works/uplink\n",
      "Reconnection failed. Waiting 10 seconds, then retrying.\n",
      "Reconnecting Anvil Uplink...\n",
      "Connecting to wss://anvil.works/uplink\n",
      "Reconnection failed. Waiting 10 seconds, then retrying.\n",
      "Reconnecting Anvil Uplink...\n",
      "Connecting to wss://anvil.works/uplink\n",
      "Reconnection failed. Waiting 10 seconds, then retrying.\n",
      "Reconnecting Anvil Uplink...\n",
      "Connecting to wss://anvil.works/uplink\n",
      "Reconnection failed. Waiting 10 seconds, then retrying.\n",
      "Reconnecting Anvil Uplink...\n",
      "Connecting to wss://anvil.works/uplink\n",
      "Reconnection failed. Waiting 10 seconds, then retrying.\n",
      "Reconnecting Anvil Uplink...\n",
      "Connecting to wss://anvil.works/uplink\n",
      "Reconnection failed. Waiting 10 seconds, then retrying.\n",
      "Reconnecting Anvil Uplink...\n",
      "Connecting to wss://anvil.works/uplink\n",
      "Anvil websocket open\n",
      "Connected to \"Default environment\" as SERVER\n"
     ]
    },
    {
     "name": "stderr",
     "output_type": "stream",
     "text": [
      "Exception in thread Thread-255:\n",
      "Traceback (most recent call last):\n",
      "  File \"/Users/Daniel/opt/anaconda3/envs/deeplearning/lib/python3.8/site-packages/anvil/server.py\", line 403, in call\n",
      "    return _do_call(args, kwargs, fn_name=fn_name)\n",
      "  File \"/Users/Daniel/opt/anaconda3/envs/deeplearning/lib/python3.8/site-packages/anvil/server.py\", line 395, in _do_call\n",
      "    return _threaded_server.do_call(args, kwargs, fn_name=fn_name, live_object=live_object)\n",
      "  File \"/Users/Daniel/opt/anaconda3/envs/deeplearning/lib/python3.8/site-packages/anvil/_threaded_server.py\", line 435, in do_call\n",
      "    raise error_from_server\n",
      "anvil._server.AnvilWrappedError: 'Connection to Anvil Uplink server lost'\n",
      "\n",
      "During handling of the above exception, another exception occurred:\n",
      "\n",
      "Traceback (most recent call last):\n",
      "  File \"/Users/Daniel/opt/anaconda3/envs/deeplearning/lib/python3.8/threading.py\", line 932, in _bootstrap_inner\n",
      "    self.run()\n",
      "  File \"/Users/Daniel/opt/anaconda3/envs/deeplearning/lib/python3.8/threading.py\", line 870, in run\n",
      "    self._target(*self._args, **self._kwargs)\n",
      "  File \"/Users/Daniel/opt/anaconda3/envs/deeplearning/lib/python3.8/site-packages/anvil/server.py\", line 206, in heartbeat_until_reopened\n",
      "    call(\"anvil.private.echo\", \"keep-alive\")\n",
      "  File \"/Users/Daniel/opt/anaconda3/envs/deeplearning/lib/python3.8/site-packages/anvil/server.py\", line 406, in call\n",
      "    raise _server._deserialise_exception(e.error_obj)\n",
      "anvil._server.AnvilWrappedError: 'Connection to Anvil Uplink server lost'\n"
     ]
    },
    {
     "name": "stdout",
     "output_type": "stream",
     "text": [
      "Anvil websocket closed (code 1006, reason=Going away)\n",
      "Reconnecting Anvil Uplink...\n",
      "Connecting to wss://anvil.works/uplink\n",
      "Reconnection failed. Waiting 10 seconds, then retrying.\n",
      "Reconnecting Anvil Uplink...\n",
      "Connecting to wss://anvil.works/uplink\n",
      "Anvil websocket open\n",
      "Connected to \"Default environment\" as SERVER\n"
     ]
    },
    {
     "name": "stderr",
     "output_type": "stream",
     "text": [
      "Exception in thread Thread-258:\n",
      "Traceback (most recent call last):\n",
      "  File \"/Users/Daniel/opt/anaconda3/envs/deeplearning/lib/python3.8/site-packages/anvil/server.py\", line 403, in call\n",
      "    return _do_call(args, kwargs, fn_name=fn_name)\n",
      "  File \"/Users/Daniel/opt/anaconda3/envs/deeplearning/lib/python3.8/site-packages/anvil/server.py\", line 395, in _do_call\n",
      "    return _threaded_server.do_call(args, kwargs, fn_name=fn_name, live_object=live_object)\n",
      "  File \"/Users/Daniel/opt/anaconda3/envs/deeplearning/lib/python3.8/site-packages/anvil/_threaded_server.py\", line 435, in do_call\n",
      "    raise error_from_server\n",
      "anvil._server.AnvilWrappedError: 'Connection to Anvil Uplink server lost'\n",
      "\n",
      "During handling of the above exception, another exception occurred:\n",
      "\n",
      "Traceback (most recent call last):\n",
      "  File \"/Users/Daniel/opt/anaconda3/envs/deeplearning/lib/python3.8/threading.py\", line 932, in _bootstrap_inner\n",
      "    self.run()\n",
      "  File \"/Users/Daniel/opt/anaconda3/envs/deeplearning/lib/python3.8/threading.py\", line 870, in run\n",
      "    self._target(*self._args, **self._kwargs)\n",
      "  File \"/Users/Daniel/opt/anaconda3/envs/deeplearning/lib/python3.8/site-packages/anvil/server.py\", line 206, in heartbeat_until_reopened\n",
      "    call(\"anvil.private.echo\", \"keep-alive\")\n",
      "  File \"/Users/Daniel/opt/anaconda3/envs/deeplearning/lib/python3.8/site-packages/anvil/server.py\", line 406, in call\n",
      "    raise _server._deserialise_exception(e.error_obj)\n",
      "anvil._server.AnvilWrappedError: 'Connection to Anvil Uplink server lost'\n"
     ]
    },
    {
     "name": "stdout",
     "output_type": "stream",
     "text": [
      "Anvil websocket closed (code 1006, reason=Going away)\n",
      "Reconnecting Anvil Uplink...\n",
      "Connecting to wss://anvil.works/uplink\n",
      "Anvil websocket open\n",
      "Connected to \"Default environment\" as SERVER\n"
     ]
    },
    {
     "name": "stderr",
     "output_type": "stream",
     "text": [
      "Exception in thread Thread-261:\n",
      "Traceback (most recent call last):\n",
      "  File \"/Users/Daniel/opt/anaconda3/envs/deeplearning/lib/python3.8/site-packages/anvil/server.py\", line 403, in call\n",
      "    return _do_call(args, kwargs, fn_name=fn_name)\n",
      "  File \"/Users/Daniel/opt/anaconda3/envs/deeplearning/lib/python3.8/site-packages/anvil/server.py\", line 395, in _do_call\n",
      "    return _threaded_server.do_call(args, kwargs, fn_name=fn_name, live_object=live_object)\n",
      "  File \"/Users/Daniel/opt/anaconda3/envs/deeplearning/lib/python3.8/site-packages/anvil/_threaded_server.py\", line 435, in do_call\n",
      "    raise error_from_server\n",
      "anvil._server.AnvilWrappedError: 'Connection to Anvil Uplink server lost'\n",
      "\n",
      "During handling of the above exception, another exception occurred:\n",
      "\n",
      "Traceback (most recent call last):\n",
      "  File \"/Users/Daniel/opt/anaconda3/envs/deeplearning/lib/python3.8/threading.py\", line 932, in _bootstrap_inner\n",
      "    self.run()\n",
      "  File \"/Users/Daniel/opt/anaconda3/envs/deeplearning/lib/python3.8/threading.py\", line 870, in run\n",
      "    self._target(*self._args, **self._kwargs)\n",
      "  File \"/Users/Daniel/opt/anaconda3/envs/deeplearning/lib/python3.8/site-packages/anvil/server.py\", line 206, in heartbeat_until_reopened\n",
      "    call(\"anvil.private.echo\", \"keep-alive\")\n",
      "  File \"/Users/Daniel/opt/anaconda3/envs/deeplearning/lib/python3.8/site-packages/anvil/server.py\", line 406, in call\n",
      "    raise _server._deserialise_exception(e.error_obj)\n",
      "anvil._server.AnvilWrappedError: 'Connection to Anvil Uplink server lost'\n"
     ]
    },
    {
     "name": "stdout",
     "output_type": "stream",
     "text": [
      "Anvil websocket closed (code 1006, reason=Going away)\n",
      "Reconnecting Anvil Uplink...\n",
      "Connecting to wss://anvil.works/uplink\n",
      "Anvil websocket open\n",
      "Connected to \"Default environment\" as SERVER\n"
     ]
    },
    {
     "name": "stderr",
     "output_type": "stream",
     "text": [
      "Exception in thread Thread-264:\n",
      "Traceback (most recent call last):\n",
      "  File \"/Users/Daniel/opt/anaconda3/envs/deeplearning/lib/python3.8/site-packages/anvil/server.py\", line 403, in call\n",
      "    return _do_call(args, kwargs, fn_name=fn_name)\n",
      "  File \"/Users/Daniel/opt/anaconda3/envs/deeplearning/lib/python3.8/site-packages/anvil/server.py\", line 395, in _do_call\n",
      "    return _threaded_server.do_call(args, kwargs, fn_name=fn_name, live_object=live_object)\n",
      "  File \"/Users/Daniel/opt/anaconda3/envs/deeplearning/lib/python3.8/site-packages/anvil/_threaded_server.py\", line 435, in do_call\n",
      "    raise error_from_server\n",
      "anvil._server.AnvilWrappedError: 'Connection to Anvil Uplink server lost'\n",
      "\n",
      "During handling of the above exception, another exception occurred:\n",
      "\n",
      "Traceback (most recent call last):\n",
      "  File \"/Users/Daniel/opt/anaconda3/envs/deeplearning/lib/python3.8/threading.py\", line 932, in _bootstrap_inner\n",
      "    self.run()\n",
      "  File \"/Users/Daniel/opt/anaconda3/envs/deeplearning/lib/python3.8/threading.py\", line 870, in run\n",
      "    self._target(*self._args, **self._kwargs)\n",
      "  File \"/Users/Daniel/opt/anaconda3/envs/deeplearning/lib/python3.8/site-packages/anvil/server.py\", line 206, in heartbeat_until_reopened\n",
      "    call(\"anvil.private.echo\", \"keep-alive\")\n",
      "  File \"/Users/Daniel/opt/anaconda3/envs/deeplearning/lib/python3.8/site-packages/anvil/server.py\", line 406, in call\n",
      "    raise _server._deserialise_exception(e.error_obj)\n",
      "anvil._server.AnvilWrappedError: 'Connection to Anvil Uplink server lost'\n"
     ]
    },
    {
     "name": "stdout",
     "output_type": "stream",
     "text": [
      "Anvil websocket closed (code 1006, reason=Going away)\n",
      "Reconnecting Anvil Uplink...\n",
      "Connecting to wss://anvil.works/uplink\n",
      "Anvil websocket open\n",
      "Connected to \"Default environment\" as SERVER\n"
     ]
    },
    {
     "name": "stderr",
     "output_type": "stream",
     "text": [
      "Exception in thread Thread-267:\n",
      "Traceback (most recent call last):\n",
      "  File \"/Users/Daniel/opt/anaconda3/envs/deeplearning/lib/python3.8/site-packages/anvil/server.py\", line 403, in call\n",
      "    return _do_call(args, kwargs, fn_name=fn_name)\n",
      "  File \"/Users/Daniel/opt/anaconda3/envs/deeplearning/lib/python3.8/site-packages/anvil/server.py\", line 395, in _do_call\n",
      "    return _threaded_server.do_call(args, kwargs, fn_name=fn_name, live_object=live_object)\n",
      "  File \"/Users/Daniel/opt/anaconda3/envs/deeplearning/lib/python3.8/site-packages/anvil/_threaded_server.py\", line 435, in do_call\n",
      "    raise error_from_server\n",
      "anvil._server.AnvilWrappedError: 'Connection to Anvil Uplink server lost'\n",
      "\n",
      "During handling of the above exception, another exception occurred:\n",
      "\n",
      "Traceback (most recent call last):\n",
      "  File \"/Users/Daniel/opt/anaconda3/envs/deeplearning/lib/python3.8/threading.py\", line 932, in _bootstrap_inner\n",
      "    self.run()\n",
      "  File \"/Users/Daniel/opt/anaconda3/envs/deeplearning/lib/python3.8/threading.py\", line 870, in run\n",
      "    self._target(*self._args, **self._kwargs)\n",
      "  File \"/Users/Daniel/opt/anaconda3/envs/deeplearning/lib/python3.8/site-packages/anvil/server.py\", line 206, in heartbeat_until_reopened\n",
      "    call(\"anvil.private.echo\", \"keep-alive\")\n",
      "  File \"/Users/Daniel/opt/anaconda3/envs/deeplearning/lib/python3.8/site-packages/anvil/server.py\", line 406, in call\n",
      "    raise _server._deserialise_exception(e.error_obj)\n",
      "anvil._server.AnvilWrappedError: 'Connection to Anvil Uplink server lost'\n"
     ]
    },
    {
     "name": "stdout",
     "output_type": "stream",
     "text": [
      "Anvil websocket closed (code 1006, reason=Going away)\n",
      "Reconnecting Anvil Uplink...\n",
      "Connecting to wss://anvil.works/uplink\n",
      "Anvil websocket open\n",
      "Connected to \"Default environment\" as SERVER\n"
     ]
    },
    {
     "name": "stderr",
     "output_type": "stream",
     "text": [
      "Exception in thread Thread-270:\n",
      "Traceback (most recent call last):\n",
      "  File \"/Users/Daniel/opt/anaconda3/envs/deeplearning/lib/python3.8/site-packages/anvil/server.py\", line 403, in call\n",
      "    return _do_call(args, kwargs, fn_name=fn_name)\n",
      "  File \"/Users/Daniel/opt/anaconda3/envs/deeplearning/lib/python3.8/site-packages/anvil/server.py\", line 395, in _do_call\n",
      "    return _threaded_server.do_call(args, kwargs, fn_name=fn_name, live_object=live_object)\n",
      "  File \"/Users/Daniel/opt/anaconda3/envs/deeplearning/lib/python3.8/site-packages/anvil/_threaded_server.py\", line 435, in do_call\n",
      "    raise error_from_server\n",
      "anvil._server.AnvilWrappedError: 'Connection to Anvil Uplink server lost'\n",
      "\n",
      "During handling of the above exception, another exception occurred:\n",
      "\n",
      "Traceback (most recent call last):\n",
      "  File \"/Users/Daniel/opt/anaconda3/envs/deeplearning/lib/python3.8/threading.py\", line 932, in _bootstrap_inner\n",
      "    self.run()\n",
      "  File \"/Users/Daniel/opt/anaconda3/envs/deeplearning/lib/python3.8/threading.py\", line 870, in run\n",
      "    self._target(*self._args, **self._kwargs)\n",
      "  File \"/Users/Daniel/opt/anaconda3/envs/deeplearning/lib/python3.8/site-packages/anvil/server.py\", line 206, in heartbeat_until_reopened\n",
      "    call(\"anvil.private.echo\", \"keep-alive\")\n",
      "  File \"/Users/Daniel/opt/anaconda3/envs/deeplearning/lib/python3.8/site-packages/anvil/server.py\", line 406, in call\n",
      "    raise _server._deserialise_exception(e.error_obj)\n",
      "anvil._server.AnvilWrappedError: 'Connection to Anvil Uplink server lost'\n"
     ]
    },
    {
     "name": "stdout",
     "output_type": "stream",
     "text": [
      "Anvil websocket closed (code 1006, reason=Going away)\n",
      "Reconnecting Anvil Uplink...\n",
      "Connecting to wss://anvil.works/uplink\n",
      "Anvil websocket open\n",
      "Connected to \"Default environment\" as SERVER\n"
     ]
    },
    {
     "name": "stderr",
     "output_type": "stream",
     "text": [
      "Exception in thread Thread-273:\n",
      "Traceback (most recent call last):\n",
      "  File \"/Users/Daniel/opt/anaconda3/envs/deeplearning/lib/python3.8/site-packages/anvil/server.py\", line 403, in call\n",
      "    return _do_call(args, kwargs, fn_name=fn_name)\n",
      "  File \"/Users/Daniel/opt/anaconda3/envs/deeplearning/lib/python3.8/site-packages/anvil/server.py\", line 395, in _do_call\n",
      "    return _threaded_server.do_call(args, kwargs, fn_name=fn_name, live_object=live_object)\n",
      "  File \"/Users/Daniel/opt/anaconda3/envs/deeplearning/lib/python3.8/site-packages/anvil/_threaded_server.py\", line 435, in do_call\n",
      "    raise error_from_server\n",
      "anvil._server.AnvilWrappedError: 'Connection to Anvil Uplink server lost'\n",
      "\n",
      "During handling of the above exception, another exception occurred:\n",
      "\n",
      "Traceback (most recent call last):\n",
      "  File \"/Users/Daniel/opt/anaconda3/envs/deeplearning/lib/python3.8/threading.py\", line 932, in _bootstrap_inner\n",
      "    self.run()\n",
      "  File \"/Users/Daniel/opt/anaconda3/envs/deeplearning/lib/python3.8/threading.py\", line 870, in run\n",
      "    self._target(*self._args, **self._kwargs)\n",
      "  File \"/Users/Daniel/opt/anaconda3/envs/deeplearning/lib/python3.8/site-packages/anvil/server.py\", line 206, in heartbeat_until_reopened\n",
      "    call(\"anvil.private.echo\", \"keep-alive\")\n",
      "  File \"/Users/Daniel/opt/anaconda3/envs/deeplearning/lib/python3.8/site-packages/anvil/server.py\", line 406, in call\n",
      "    raise _server._deserialise_exception(e.error_obj)\n",
      "anvil._server.AnvilWrappedError: 'Connection to Anvil Uplink server lost'\n"
     ]
    },
    {
     "name": "stdout",
     "output_type": "stream",
     "text": [
      "Anvil websocket closed (code 1006, reason=Going away)\n",
      "Reconnecting Anvil Uplink...\n",
      "Connecting to wss://anvil.works/uplink\n",
      "Anvil websocket open\n",
      "Connected to \"Default environment\" as SERVER\n"
     ]
    },
    {
     "name": "stderr",
     "output_type": "stream",
     "text": [
      "Exception in thread Thread-276:\n",
      "Traceback (most recent call last):\n",
      "  File \"/Users/Daniel/opt/anaconda3/envs/deeplearning/lib/python3.8/site-packages/anvil/server.py\", line 403, in call\n",
      "    return _do_call(args, kwargs, fn_name=fn_name)\n",
      "  File \"/Users/Daniel/opt/anaconda3/envs/deeplearning/lib/python3.8/site-packages/anvil/server.py\", line 395, in _do_call\n",
      "    return _threaded_server.do_call(args, kwargs, fn_name=fn_name, live_object=live_object)\n",
      "  File \"/Users/Daniel/opt/anaconda3/envs/deeplearning/lib/python3.8/site-packages/anvil/_threaded_server.py\", line 435, in do_call\n",
      "    raise error_from_server\n",
      "anvil._server.AnvilWrappedError: 'Connection to Anvil Uplink server lost'\n",
      "\n",
      "During handling of the above exception, another exception occurred:\n",
      "\n",
      "Traceback (most recent call last):\n",
      "  File \"/Users/Daniel/opt/anaconda3/envs/deeplearning/lib/python3.8/threading.py\", line 932, in _bootstrap_inner\n",
      "    self.run()\n",
      "  File \"/Users/Daniel/opt/anaconda3/envs/deeplearning/lib/python3.8/threading.py\", line 870, in run\n",
      "    self._target(*self._args, **self._kwargs)\n",
      "  File \"/Users/Daniel/opt/anaconda3/envs/deeplearning/lib/python3.8/site-packages/anvil/server.py\", line 206, in heartbeat_until_reopened\n",
      "    call(\"anvil.private.echo\", \"keep-alive\")\n",
      "  File \"/Users/Daniel/opt/anaconda3/envs/deeplearning/lib/python3.8/site-packages/anvil/server.py\", line 406, in call\n",
      "    raise _server._deserialise_exception(e.error_obj)\n",
      "anvil._server.AnvilWrappedError: 'Connection to Anvil Uplink server lost'\n"
     ]
    },
    {
     "name": "stdout",
     "output_type": "stream",
     "text": [
      "Anvil websocket closed (code 1006, reason=Going away)\n",
      "Reconnecting Anvil Uplink...\n",
      "Connecting to wss://anvil.works/uplink\n",
      "Anvil websocket open\n",
      "Connected to \"Default environment\" as SERVER\n"
     ]
    },
    {
     "name": "stderr",
     "output_type": "stream",
     "text": [
      "Exception in thread Thread-279:\n",
      "Traceback (most recent call last):\n",
      "  File \"/Users/Daniel/opt/anaconda3/envs/deeplearning/lib/python3.8/site-packages/anvil/server.py\", line 403, in call\n",
      "    return _do_call(args, kwargs, fn_name=fn_name)\n",
      "  File \"/Users/Daniel/opt/anaconda3/envs/deeplearning/lib/python3.8/site-packages/anvil/server.py\", line 395, in _do_call\n",
      "    return _threaded_server.do_call(args, kwargs, fn_name=fn_name, live_object=live_object)\n",
      "  File \"/Users/Daniel/opt/anaconda3/envs/deeplearning/lib/python3.8/site-packages/anvil/_threaded_server.py\", line 435, in do_call\n",
      "    raise error_from_server\n",
      "anvil._server.AnvilWrappedError: 'Connection to Anvil Uplink server lost'\n",
      "\n",
      "During handling of the above exception, another exception occurred:\n",
      "\n",
      "Traceback (most recent call last):\n",
      "  File \"/Users/Daniel/opt/anaconda3/envs/deeplearning/lib/python3.8/threading.py\", line 932, in _bootstrap_inner\n",
      "    self.run()\n",
      "  File \"/Users/Daniel/opt/anaconda3/envs/deeplearning/lib/python3.8/threading.py\", line 870, in run\n",
      "    self._target(*self._args, **self._kwargs)\n",
      "  File \"/Users/Daniel/opt/anaconda3/envs/deeplearning/lib/python3.8/site-packages/anvil/server.py\", line 206, in heartbeat_until_reopened\n",
      "    call(\"anvil.private.echo\", \"keep-alive\")\n",
      "  File \"/Users/Daniel/opt/anaconda3/envs/deeplearning/lib/python3.8/site-packages/anvil/server.py\", line 406, in call\n",
      "    raise _server._deserialise_exception(e.error_obj)\n",
      "anvil._server.AnvilWrappedError: 'Connection to Anvil Uplink server lost'\n"
     ]
    },
    {
     "name": "stdout",
     "output_type": "stream",
     "text": [
      "Anvil websocket closed (code 1006, reason=Going away)\n",
      "Reconnecting Anvil Uplink...\n",
      "Connecting to wss://anvil.works/uplink\n",
      "Anvil websocket open\n",
      "Connected to \"Default environment\" as SERVER\n"
     ]
    },
    {
     "name": "stderr",
     "output_type": "stream",
     "text": [
      "Exception in thread Thread-282:\n",
      "Traceback (most recent call last):\n",
      "  File \"/Users/Daniel/opt/anaconda3/envs/deeplearning/lib/python3.8/site-packages/anvil/server.py\", line 403, in call\n",
      "    return _do_call(args, kwargs, fn_name=fn_name)\n",
      "  File \"/Users/Daniel/opt/anaconda3/envs/deeplearning/lib/python3.8/site-packages/anvil/server.py\", line 395, in _do_call\n",
      "    return _threaded_server.do_call(args, kwargs, fn_name=fn_name, live_object=live_object)\n",
      "  File \"/Users/Daniel/opt/anaconda3/envs/deeplearning/lib/python3.8/site-packages/anvil/_threaded_server.py\", line 435, in do_call\n",
      "    raise error_from_server\n",
      "anvil._server.AnvilWrappedError: 'Connection to Anvil Uplink server lost'\n",
      "\n",
      "During handling of the above exception, another exception occurred:\n",
      "\n",
      "Traceback (most recent call last):\n",
      "  File \"/Users/Daniel/opt/anaconda3/envs/deeplearning/lib/python3.8/threading.py\", line 932, in _bootstrap_inner\n",
      "    self.run()\n",
      "  File \"/Users/Daniel/opt/anaconda3/envs/deeplearning/lib/python3.8/threading.py\", line 870, in run\n",
      "    self._target(*self._args, **self._kwargs)\n",
      "  File \"/Users/Daniel/opt/anaconda3/envs/deeplearning/lib/python3.8/site-packages/anvil/server.py\", line 206, in heartbeat_until_reopened\n",
      "    call(\"anvil.private.echo\", \"keep-alive\")\n",
      "  File \"/Users/Daniel/opt/anaconda3/envs/deeplearning/lib/python3.8/site-packages/anvil/server.py\", line 406, in call\n",
      "    raise _server._deserialise_exception(e.error_obj)\n",
      "anvil._server.AnvilWrappedError: 'Connection to Anvil Uplink server lost'\n"
     ]
    },
    {
     "name": "stdout",
     "output_type": "stream",
     "text": [
      "Anvil websocket closed (code 1006, reason=Going away)\n",
      "Reconnecting Anvil Uplink...\n",
      "Connecting to wss://anvil.works/uplink\n",
      "Anvil websocket open\n",
      "Connected to \"Default environment\" as SERVER\n"
     ]
    },
    {
     "name": "stderr",
     "output_type": "stream",
     "text": [
      "Exception in thread Thread-285:\n",
      "Traceback (most recent call last):\n",
      "  File \"/Users/Daniel/opt/anaconda3/envs/deeplearning/lib/python3.8/site-packages/anvil/server.py\", line 403, in call\n",
      "    return _do_call(args, kwargs, fn_name=fn_name)\n",
      "  File \"/Users/Daniel/opt/anaconda3/envs/deeplearning/lib/python3.8/site-packages/anvil/server.py\", line 395, in _do_call\n",
      "    return _threaded_server.do_call(args, kwargs, fn_name=fn_name, live_object=live_object)\n",
      "  File \"/Users/Daniel/opt/anaconda3/envs/deeplearning/lib/python3.8/site-packages/anvil/_threaded_server.py\", line 435, in do_call\n",
      "    raise error_from_server\n",
      "anvil._server.AnvilWrappedError: 'Connection to Anvil Uplink server lost'\n",
      "\n",
      "During handling of the above exception, another exception occurred:\n",
      "\n",
      "Traceback (most recent call last):\n",
      "  File \"/Users/Daniel/opt/anaconda3/envs/deeplearning/lib/python3.8/threading.py\", line 932, in _bootstrap_inner\n",
      "    self.run()\n",
      "  File \"/Users/Daniel/opt/anaconda3/envs/deeplearning/lib/python3.8/threading.py\", line 870, in run\n",
      "    self._target(*self._args, **self._kwargs)\n",
      "  File \"/Users/Daniel/opt/anaconda3/envs/deeplearning/lib/python3.8/site-packages/anvil/server.py\", line 206, in heartbeat_until_reopened\n",
      "    call(\"anvil.private.echo\", \"keep-alive\")\n",
      "  File \"/Users/Daniel/opt/anaconda3/envs/deeplearning/lib/python3.8/site-packages/anvil/server.py\", line 406, in call\n",
      "    raise _server._deserialise_exception(e.error_obj)\n",
      "anvil._server.AnvilWrappedError: 'Connection to Anvil Uplink server lost'\n"
     ]
    },
    {
     "name": "stdout",
     "output_type": "stream",
     "text": [
      "Anvil websocket closed (code 1006, reason=Going away)\n",
      "Reconnecting Anvil Uplink...\n",
      "Connecting to wss://anvil.works/uplink\n",
      "Anvil websocket open\n",
      "Connected to \"Default environment\" as SERVER\n"
     ]
    },
    {
     "name": "stderr",
     "output_type": "stream",
     "text": [
      "Exception in thread Thread-288:\n",
      "Traceback (most recent call last):\n",
      "  File \"/Users/Daniel/opt/anaconda3/envs/deeplearning/lib/python3.8/site-packages/anvil/server.py\", line 403, in call\n",
      "    return _do_call(args, kwargs, fn_name=fn_name)\n",
      "  File \"/Users/Daniel/opt/anaconda3/envs/deeplearning/lib/python3.8/site-packages/anvil/server.py\", line 395, in _do_call\n",
      "    return _threaded_server.do_call(args, kwargs, fn_name=fn_name, live_object=live_object)\n",
      "  File \"/Users/Daniel/opt/anaconda3/envs/deeplearning/lib/python3.8/site-packages/anvil/_threaded_server.py\", line 435, in do_call\n",
      "    raise error_from_server\n",
      "anvil._server.AnvilWrappedError: 'Connection to Anvil Uplink server lost'\n",
      "\n",
      "During handling of the above exception, another exception occurred:\n",
      "\n",
      "Traceback (most recent call last):\n",
      "  File \"/Users/Daniel/opt/anaconda3/envs/deeplearning/lib/python3.8/threading.py\", line 932, in _bootstrap_inner\n",
      "    self.run()\n",
      "  File \"/Users/Daniel/opt/anaconda3/envs/deeplearning/lib/python3.8/threading.py\", line 870, in run\n",
      "    self._target(*self._args, **self._kwargs)\n",
      "  File \"/Users/Daniel/opt/anaconda3/envs/deeplearning/lib/python3.8/site-packages/anvil/server.py\", line 206, in heartbeat_until_reopened\n",
      "    call(\"anvil.private.echo\", \"keep-alive\")\n",
      "  File \"/Users/Daniel/opt/anaconda3/envs/deeplearning/lib/python3.8/site-packages/anvil/server.py\", line 406, in call\n",
      "    raise _server._deserialise_exception(e.error_obj)\n",
      "anvil._server.AnvilWrappedError: 'Connection to Anvil Uplink server lost'\n"
     ]
    },
    {
     "name": "stdout",
     "output_type": "stream",
     "text": [
      "Anvil websocket closed (code 1006, reason=Going away)\n",
      "Reconnecting Anvil Uplink...\n",
      "Connecting to wss://anvil.works/uplink\n",
      "Anvil websocket open\n",
      "Connected to \"Default environment\" as SERVER\n"
     ]
    },
    {
     "name": "stderr",
     "output_type": "stream",
     "text": [
      "Exception in thread Thread-291:\n",
      "Traceback (most recent call last):\n",
      "  File \"/Users/Daniel/opt/anaconda3/envs/deeplearning/lib/python3.8/site-packages/anvil/server.py\", line 403, in call\n",
      "    return _do_call(args, kwargs, fn_name=fn_name)\n",
      "  File \"/Users/Daniel/opt/anaconda3/envs/deeplearning/lib/python3.8/site-packages/anvil/server.py\", line 395, in _do_call\n",
      "    return _threaded_server.do_call(args, kwargs, fn_name=fn_name, live_object=live_object)\n",
      "  File \"/Users/Daniel/opt/anaconda3/envs/deeplearning/lib/python3.8/site-packages/anvil/_threaded_server.py\", line 435, in do_call\n",
      "    raise error_from_server\n",
      "anvil._server.AnvilWrappedError: 'Connection to Anvil Uplink server lost'\n",
      "\n",
      "During handling of the above exception, another exception occurred:\n",
      "\n",
      "Traceback (most recent call last):\n",
      "  File \"/Users/Daniel/opt/anaconda3/envs/deeplearning/lib/python3.8/threading.py\", line 932, in _bootstrap_inner\n",
      "    self.run()\n",
      "  File \"/Users/Daniel/opt/anaconda3/envs/deeplearning/lib/python3.8/threading.py\", line 870, in run\n",
      "    self._target(*self._args, **self._kwargs)\n",
      "  File \"/Users/Daniel/opt/anaconda3/envs/deeplearning/lib/python3.8/site-packages/anvil/server.py\", line 206, in heartbeat_until_reopened\n",
      "    call(\"anvil.private.echo\", \"keep-alive\")\n",
      "  File \"/Users/Daniel/opt/anaconda3/envs/deeplearning/lib/python3.8/site-packages/anvil/server.py\", line 406, in call\n",
      "    raise _server._deserialise_exception(e.error_obj)\n",
      "anvil._server.AnvilWrappedError: 'Connection to Anvil Uplink server lost'\n"
     ]
    },
    {
     "name": "stdout",
     "output_type": "stream",
     "text": [
      "Anvil websocket closed (code 1006, reason=Going away)\n",
      "Reconnecting Anvil Uplink...\n",
      "Connecting to wss://anvil.works/uplink\n",
      "Anvil websocket open\n",
      "Connected to \"Default environment\" as SERVER\n"
     ]
    },
    {
     "name": "stderr",
     "output_type": "stream",
     "text": [
      "Exception in thread Thread-294:\n",
      "Traceback (most recent call last):\n",
      "  File \"/Users/Daniel/opt/anaconda3/envs/deeplearning/lib/python3.8/site-packages/anvil/server.py\", line 403, in call\n",
      "    return _do_call(args, kwargs, fn_name=fn_name)\n",
      "  File \"/Users/Daniel/opt/anaconda3/envs/deeplearning/lib/python3.8/site-packages/anvil/server.py\", line 395, in _do_call\n",
      "    return _threaded_server.do_call(args, kwargs, fn_name=fn_name, live_object=live_object)\n",
      "  File \"/Users/Daniel/opt/anaconda3/envs/deeplearning/lib/python3.8/site-packages/anvil/_threaded_server.py\", line 435, in do_call\n",
      "    raise error_from_server\n",
      "anvil._server.AnvilWrappedError: 'Connection to Anvil Uplink server lost'\n",
      "\n",
      "During handling of the above exception, another exception occurred:\n",
      "\n",
      "Traceback (most recent call last):\n",
      "  File \"/Users/Daniel/opt/anaconda3/envs/deeplearning/lib/python3.8/threading.py\", line 932, in _bootstrap_inner\n",
      "    self.run()\n",
      "  File \"/Users/Daniel/opt/anaconda3/envs/deeplearning/lib/python3.8/threading.py\", line 870, in run\n",
      "    self._target(*self._args, **self._kwargs)\n",
      "  File \"/Users/Daniel/opt/anaconda3/envs/deeplearning/lib/python3.8/site-packages/anvil/server.py\", line 206, in heartbeat_until_reopened\n",
      "    call(\"anvil.private.echo\", \"keep-alive\")\n",
      "  File \"/Users/Daniel/opt/anaconda3/envs/deeplearning/lib/python3.8/site-packages/anvil/server.py\", line 406, in call\n",
      "    raise _server._deserialise_exception(e.error_obj)\n",
      "anvil._server.AnvilWrappedError: 'Connection to Anvil Uplink server lost'\n"
     ]
    },
    {
     "name": "stdout",
     "output_type": "stream",
     "text": [
      "Anvil websocket closed (code 1006, reason=Going away)\n",
      "Reconnecting Anvil Uplink...\n",
      "Connecting to wss://anvil.works/uplink\n",
      "Anvil websocket open\n",
      "Connected to \"Default environment\" as SERVER\n"
     ]
    },
    {
     "name": "stderr",
     "output_type": "stream",
     "text": [
      "Exception in thread Thread-297:\n",
      "Traceback (most recent call last):\n",
      "  File \"/Users/Daniel/opt/anaconda3/envs/deeplearning/lib/python3.8/site-packages/anvil/server.py\", line 403, in call\n",
      "    return _do_call(args, kwargs, fn_name=fn_name)\n",
      "  File \"/Users/Daniel/opt/anaconda3/envs/deeplearning/lib/python3.8/site-packages/anvil/server.py\", line 395, in _do_call\n",
      "    return _threaded_server.do_call(args, kwargs, fn_name=fn_name, live_object=live_object)\n",
      "  File \"/Users/Daniel/opt/anaconda3/envs/deeplearning/lib/python3.8/site-packages/anvil/_threaded_server.py\", line 435, in do_call\n",
      "    raise error_from_server\n",
      "anvil._server.AnvilWrappedError: 'Connection to Anvil Uplink server lost'\n",
      "\n",
      "During handling of the above exception, another exception occurred:\n",
      "\n",
      "Traceback (most recent call last):\n",
      "  File \"/Users/Daniel/opt/anaconda3/envs/deeplearning/lib/python3.8/threading.py\", line 932, in _bootstrap_inner\n",
      "    self.run()\n",
      "  File \"/Users/Daniel/opt/anaconda3/envs/deeplearning/lib/python3.8/threading.py\", line 870, in run\n",
      "    self._target(*self._args, **self._kwargs)\n",
      "  File \"/Users/Daniel/opt/anaconda3/envs/deeplearning/lib/python3.8/site-packages/anvil/server.py\", line 206, in heartbeat_until_reopened\n",
      "    call(\"anvil.private.echo\", \"keep-alive\")\n",
      "  File \"/Users/Daniel/opt/anaconda3/envs/deeplearning/lib/python3.8/site-packages/anvil/server.py\", line 406, in call\n",
      "    raise _server._deserialise_exception(e.error_obj)\n",
      "anvil._server.AnvilWrappedError: 'Connection to Anvil Uplink server lost'\n"
     ]
    },
    {
     "name": "stdout",
     "output_type": "stream",
     "text": [
      "Anvil websocket closed (code 1006, reason=Going away)\n",
      "Reconnecting Anvil Uplink...\n",
      "Connecting to wss://anvil.works/uplink\n",
      "Anvil websocket open\n",
      "Connected to \"Default environment\" as SERVER\n"
     ]
    },
    {
     "name": "stderr",
     "output_type": "stream",
     "text": [
      "Exception in thread Thread-300:\n",
      "Traceback (most recent call last):\n",
      "  File \"/Users/Daniel/opt/anaconda3/envs/deeplearning/lib/python3.8/site-packages/anvil/server.py\", line 403, in call\n",
      "    return _do_call(args, kwargs, fn_name=fn_name)\n",
      "  File \"/Users/Daniel/opt/anaconda3/envs/deeplearning/lib/python3.8/site-packages/anvil/server.py\", line 395, in _do_call\n",
      "    return _threaded_server.do_call(args, kwargs, fn_name=fn_name, live_object=live_object)\n",
      "  File \"/Users/Daniel/opt/anaconda3/envs/deeplearning/lib/python3.8/site-packages/anvil/_threaded_server.py\", line 435, in do_call\n",
      "    raise error_from_server\n",
      "anvil._server.AnvilWrappedError: 'Connection to Anvil Uplink server lost'\n",
      "\n",
      "During handling of the above exception, another exception occurred:\n",
      "\n",
      "Traceback (most recent call last):\n",
      "  File \"/Users/Daniel/opt/anaconda3/envs/deeplearning/lib/python3.8/threading.py\", line 932, in _bootstrap_inner\n",
      "    self.run()\n",
      "  File \"/Users/Daniel/opt/anaconda3/envs/deeplearning/lib/python3.8/threading.py\", line 870, in run\n",
      "    self._target(*self._args, **self._kwargs)\n",
      "  File \"/Users/Daniel/opt/anaconda3/envs/deeplearning/lib/python3.8/site-packages/anvil/server.py\", line 206, in heartbeat_until_reopened\n",
      "    call(\"anvil.private.echo\", \"keep-alive\")\n",
      "  File \"/Users/Daniel/opt/anaconda3/envs/deeplearning/lib/python3.8/site-packages/anvil/server.py\", line 406, in call\n",
      "    raise _server._deserialise_exception(e.error_obj)\n",
      "anvil._server.AnvilWrappedError: 'Connection to Anvil Uplink server lost'\n"
     ]
    },
    {
     "name": "stdout",
     "output_type": "stream",
     "text": [
      "Anvil websocket closed (code 1006, reason=Going away)\n",
      "Reconnecting Anvil Uplink...\n",
      "Connecting to wss://anvil.works/uplink\n",
      "Anvil websocket open\n",
      "Connected to \"Default environment\" as SERVER\n"
     ]
    },
    {
     "name": "stderr",
     "output_type": "stream",
     "text": [
      "Exception in thread Thread-303:\n",
      "Traceback (most recent call last):\n",
      "  File \"/Users/Daniel/opt/anaconda3/envs/deeplearning/lib/python3.8/site-packages/anvil/server.py\", line 403, in call\n",
      "    return _do_call(args, kwargs, fn_name=fn_name)\n",
      "  File \"/Users/Daniel/opt/anaconda3/envs/deeplearning/lib/python3.8/site-packages/anvil/server.py\", line 395, in _do_call\n",
      "    return _threaded_server.do_call(args, kwargs, fn_name=fn_name, live_object=live_object)\n",
      "  File \"/Users/Daniel/opt/anaconda3/envs/deeplearning/lib/python3.8/site-packages/anvil/_threaded_server.py\", line 435, in do_call\n",
      "    raise error_from_server\n",
      "anvil._server.AnvilWrappedError: 'Connection to Anvil Uplink server lost'\n",
      "\n",
      "During handling of the above exception, another exception occurred:\n",
      "\n",
      "Traceback (most recent call last):\n",
      "  File \"/Users/Daniel/opt/anaconda3/envs/deeplearning/lib/python3.8/threading.py\", line 932, in _bootstrap_inner\n",
      "    self.run()\n",
      "  File \"/Users/Daniel/opt/anaconda3/envs/deeplearning/lib/python3.8/threading.py\", line 870, in run\n",
      "    self._target(*self._args, **self._kwargs)\n",
      "  File \"/Users/Daniel/opt/anaconda3/envs/deeplearning/lib/python3.8/site-packages/anvil/server.py\", line 206, in heartbeat_until_reopened\n",
      "    call(\"anvil.private.echo\", \"keep-alive\")\n",
      "  File \"/Users/Daniel/opt/anaconda3/envs/deeplearning/lib/python3.8/site-packages/anvil/server.py\", line 406, in call\n",
      "    raise _server._deserialise_exception(e.error_obj)\n",
      "anvil._server.AnvilWrappedError: 'Connection to Anvil Uplink server lost'\n"
     ]
    },
    {
     "name": "stdout",
     "output_type": "stream",
     "text": [
      "Anvil websocket closed (code 1006, reason=Going away)\n",
      "Reconnecting Anvil Uplink...\n",
      "Connecting to wss://anvil.works/uplink\n",
      "Anvil websocket open\n",
      "Connected to \"Default environment\" as SERVER\n",
      "Anvil websocket closed (code 1006, reason=Going away)\n",
      "Reconnecting Anvil Uplink...\n",
      "Connecting to wss://anvil.works/uplink\n",
      "Anvil websocket open\n",
      "Connected to \"Default environment\" as SERVER\n"
     ]
    },
    {
     "name": "stderr",
     "output_type": "stream",
     "text": [
      "Exception in thread Thread-309:\n",
      "Traceback (most recent call last):\n",
      "  File \"/Users/Daniel/opt/anaconda3/envs/deeplearning/lib/python3.8/site-packages/anvil/server.py\", line 403, in call\n",
      "    return _do_call(args, kwargs, fn_name=fn_name)\n",
      "  File \"/Users/Daniel/opt/anaconda3/envs/deeplearning/lib/python3.8/site-packages/anvil/server.py\", line 395, in _do_call\n",
      "    return _threaded_server.do_call(args, kwargs, fn_name=fn_name, live_object=live_object)\n",
      "  File \"/Users/Daniel/opt/anaconda3/envs/deeplearning/lib/python3.8/site-packages/anvil/_threaded_server.py\", line 435, in do_call\n",
      "    raise error_from_server\n",
      "anvil._server.AnvilWrappedError: 'Connection to Anvil Uplink server lost'\n",
      "\n",
      "During handling of the above exception, another exception occurred:\n",
      "\n",
      "Traceback (most recent call last):\n",
      "  File \"/Users/Daniel/opt/anaconda3/envs/deeplearning/lib/python3.8/threading.py\", line 932, in _bootstrap_inner\n",
      "    self.run()\n",
      "  File \"/Users/Daniel/opt/anaconda3/envs/deeplearning/lib/python3.8/threading.py\", line 870, in run\n",
      "    self._target(*self._args, **self._kwargs)\n",
      "  File \"/Users/Daniel/opt/anaconda3/envs/deeplearning/lib/python3.8/site-packages/anvil/server.py\", line 206, in heartbeat_until_reopened\n",
      "    call(\"anvil.private.echo\", \"keep-alive\")\n",
      "  File \"/Users/Daniel/opt/anaconda3/envs/deeplearning/lib/python3.8/site-packages/anvil/server.py\", line 406, in call\n",
      "    raise _server._deserialise_exception(e.error_obj)\n",
      "anvil._server.AnvilWrappedError: 'Connection to Anvil Uplink server lost'\n"
     ]
    },
    {
     "name": "stdout",
     "output_type": "stream",
     "text": [
      "Anvil websocket closed (code 1006, reason=Going away)\n",
      "Reconnecting Anvil Uplink...\n",
      "Connecting to wss://anvil.works/uplink\n",
      "Anvil websocket open\n",
      "Connected to \"Default environment\" as SERVER\n"
     ]
    },
    {
     "name": "stderr",
     "output_type": "stream",
     "text": [
      "Exception in thread Thread-312:\n",
      "Traceback (most recent call last):\n",
      "  File \"/Users/Daniel/opt/anaconda3/envs/deeplearning/lib/python3.8/site-packages/anvil/server.py\", line 403, in call\n",
      "    return _do_call(args, kwargs, fn_name=fn_name)\n",
      "  File \"/Users/Daniel/opt/anaconda3/envs/deeplearning/lib/python3.8/site-packages/anvil/server.py\", line 395, in _do_call\n",
      "    return _threaded_server.do_call(args, kwargs, fn_name=fn_name, live_object=live_object)\n",
      "  File \"/Users/Daniel/opt/anaconda3/envs/deeplearning/lib/python3.8/site-packages/anvil/_threaded_server.py\", line 435, in do_call\n",
      "    raise error_from_server\n",
      "anvil._server.AnvilWrappedError: 'Connection to Anvil Uplink server lost'\n",
      "\n",
      "During handling of the above exception, another exception occurred:\n",
      "\n",
      "Traceback (most recent call last):\n",
      "  File \"/Users/Daniel/opt/anaconda3/envs/deeplearning/lib/python3.8/threading.py\", line 932, in _bootstrap_inner\n",
      "    self.run()\n",
      "  File \"/Users/Daniel/opt/anaconda3/envs/deeplearning/lib/python3.8/threading.py\", line 870, in run\n",
      "    self._target(*self._args, **self._kwargs)\n",
      "  File \"/Users/Daniel/opt/anaconda3/envs/deeplearning/lib/python3.8/site-packages/anvil/server.py\", line 206, in heartbeat_until_reopened\n",
      "    call(\"anvil.private.echo\", \"keep-alive\")\n",
      "  File \"/Users/Daniel/opt/anaconda3/envs/deeplearning/lib/python3.8/site-packages/anvil/server.py\", line 406, in call\n",
      "    raise _server._deserialise_exception(e.error_obj)\n",
      "anvil._server.AnvilWrappedError: 'Connection to Anvil Uplink server lost'\n"
     ]
    },
    {
     "name": "stdout",
     "output_type": "stream",
     "text": [
      "Anvil websocket closed (code 1006, reason=Going away)\n",
      "Reconnecting Anvil Uplink...\n",
      "Connecting to wss://anvil.works/uplink\n",
      "Anvil websocket open\n",
      "Connected to \"Default environment\" as SERVER\n"
     ]
    },
    {
     "name": "stderr",
     "output_type": "stream",
     "text": [
      "Exception in thread Thread-315:\n",
      "Traceback (most recent call last):\n",
      "  File \"/Users/Daniel/opt/anaconda3/envs/deeplearning/lib/python3.8/site-packages/anvil/server.py\", line 403, in call\n",
      "    return _do_call(args, kwargs, fn_name=fn_name)\n",
      "  File \"/Users/Daniel/opt/anaconda3/envs/deeplearning/lib/python3.8/site-packages/anvil/server.py\", line 395, in _do_call\n",
      "    return _threaded_server.do_call(args, kwargs, fn_name=fn_name, live_object=live_object)\n",
      "  File \"/Users/Daniel/opt/anaconda3/envs/deeplearning/lib/python3.8/site-packages/anvil/_threaded_server.py\", line 435, in do_call\n",
      "    raise error_from_server\n",
      "anvil._server.AnvilWrappedError: 'Connection to Anvil Uplink server lost'\n",
      "\n",
      "During handling of the above exception, another exception occurred:\n",
      "\n",
      "Traceback (most recent call last):\n",
      "  File \"/Users/Daniel/opt/anaconda3/envs/deeplearning/lib/python3.8/threading.py\", line 932, in _bootstrap_inner\n",
      "    self.run()\n",
      "  File \"/Users/Daniel/opt/anaconda3/envs/deeplearning/lib/python3.8/threading.py\", line 870, in run\n",
      "    self._target(*self._args, **self._kwargs)\n",
      "  File \"/Users/Daniel/opt/anaconda3/envs/deeplearning/lib/python3.8/site-packages/anvil/server.py\", line 206, in heartbeat_until_reopened\n",
      "    call(\"anvil.private.echo\", \"keep-alive\")\n",
      "  File \"/Users/Daniel/opt/anaconda3/envs/deeplearning/lib/python3.8/site-packages/anvil/server.py\", line 406, in call\n",
      "    raise _server._deserialise_exception(e.error_obj)\n",
      "anvil._server.AnvilWrappedError: 'Connection to Anvil Uplink server lost'\n"
     ]
    },
    {
     "name": "stdout",
     "output_type": "stream",
     "text": [
      "Anvil websocket closed (code 1006, reason=Going away)\n",
      "Reconnecting Anvil Uplink...\n",
      "Connecting to wss://anvil.works/uplink\n",
      "Reconnection failed. Waiting 10 seconds, then retrying.\n",
      "Reconnecting Anvil Uplink...\n",
      "Connecting to wss://anvil.works/uplink\n",
      "Reconnection failed. Waiting 10 seconds, then retrying.\n",
      "Reconnecting Anvil Uplink...\n",
      "Connecting to wss://anvil.works/uplink\n",
      "Reconnection failed. Waiting 10 seconds, then retrying.\n",
      "Reconnecting Anvil Uplink...\n",
      "Connecting to wss://anvil.works/uplink\n",
      "Reconnection failed. Waiting 10 seconds, then retrying.\n",
      "Reconnecting Anvil Uplink...\n",
      "Connecting to wss://anvil.works/uplink\n",
      "Reconnection failed. Waiting 10 seconds, then retrying.\n",
      "Reconnecting Anvil Uplink...\n",
      "Connecting to wss://anvil.works/uplink\n",
      "Reconnection failed. Waiting 10 seconds, then retrying.\n",
      "Reconnecting Anvil Uplink...\n",
      "Connecting to wss://anvil.works/uplink\n",
      "Reconnection failed. Waiting 10 seconds, then retrying.\n",
      "Reconnecting Anvil Uplink...\n",
      "Connecting to wss://anvil.works/uplink\n",
      "Reconnection failed. Waiting 10 seconds, then retrying.\n",
      "Reconnecting Anvil Uplink...\n",
      "Connecting to wss://anvil.works/uplink\n",
      "Anvil websocket open\n",
      "Connected to \"Default environment\" as SERVER\n"
     ]
    },
    {
     "name": "stderr",
     "output_type": "stream",
     "text": [
      "Exception in thread Thread-318:\n",
      "Traceback (most recent call last):\n",
      "  File \"/Users/Daniel/opt/anaconda3/envs/deeplearning/lib/python3.8/site-packages/anvil/server.py\", line 403, in call\n",
      "    return _do_call(args, kwargs, fn_name=fn_name)\n",
      "  File \"/Users/Daniel/opt/anaconda3/envs/deeplearning/lib/python3.8/site-packages/anvil/server.py\", line 395, in _do_call\n",
      "    return _threaded_server.do_call(args, kwargs, fn_name=fn_name, live_object=live_object)\n",
      "  File \"/Users/Daniel/opt/anaconda3/envs/deeplearning/lib/python3.8/site-packages/anvil/_threaded_server.py\", line 435, in do_call\n",
      "    raise error_from_server\n",
      "anvil._server.AnvilWrappedError: 'Connection to Anvil Uplink server lost'\n",
      "\n",
      "During handling of the above exception, another exception occurred:\n",
      "\n",
      "Traceback (most recent call last):\n",
      "  File \"/Users/Daniel/opt/anaconda3/envs/deeplearning/lib/python3.8/threading.py\", line 932, in _bootstrap_inner\n",
      "    self.run()\n",
      "  File \"/Users/Daniel/opt/anaconda3/envs/deeplearning/lib/python3.8/threading.py\", line 870, in run\n",
      "    self._target(*self._args, **self._kwargs)\n",
      "  File \"/Users/Daniel/opt/anaconda3/envs/deeplearning/lib/python3.8/site-packages/anvil/server.py\", line 206, in heartbeat_until_reopened\n",
      "    call(\"anvil.private.echo\", \"keep-alive\")\n",
      "  File \"/Users/Daniel/opt/anaconda3/envs/deeplearning/lib/python3.8/site-packages/anvil/server.py\", line 406, in call\n",
      "    raise _server._deserialise_exception(e.error_obj)\n",
      "anvil._server.AnvilWrappedError: 'Connection to Anvil Uplink server lost'\n"
     ]
    },
    {
     "name": "stdout",
     "output_type": "stream",
     "text": [
      "Anvil websocket closed (code 1006, reason=Going away)\n",
      "Reconnecting Anvil Uplink...\n",
      "Connecting to wss://anvil.works/uplink\n",
      "Anvil websocket open\n",
      "Connected to \"Default environment\" as SERVER\n"
     ]
    },
    {
     "name": "stderr",
     "output_type": "stream",
     "text": [
      "Exception in thread Thread-321:\n",
      "Traceback (most recent call last):\n",
      "  File \"/Users/Daniel/opt/anaconda3/envs/deeplearning/lib/python3.8/site-packages/anvil/server.py\", line 403, in call\n",
      "    return _do_call(args, kwargs, fn_name=fn_name)\n",
      "  File \"/Users/Daniel/opt/anaconda3/envs/deeplearning/lib/python3.8/site-packages/anvil/server.py\", line 395, in _do_call\n",
      "    return _threaded_server.do_call(args, kwargs, fn_name=fn_name, live_object=live_object)\n",
      "  File \"/Users/Daniel/opt/anaconda3/envs/deeplearning/lib/python3.8/site-packages/anvil/_threaded_server.py\", line 435, in do_call\n",
      "    raise error_from_server\n",
      "anvil._server.AnvilWrappedError: 'Connection to Anvil Uplink server lost'\n",
      "\n",
      "During handling of the above exception, another exception occurred:\n",
      "\n",
      "Traceback (most recent call last):\n",
      "  File \"/Users/Daniel/opt/anaconda3/envs/deeplearning/lib/python3.8/threading.py\", line 932, in _bootstrap_inner\n",
      "    self.run()\n",
      "  File \"/Users/Daniel/opt/anaconda3/envs/deeplearning/lib/python3.8/threading.py\", line 870, in run\n",
      "    self._target(*self._args, **self._kwargs)\n",
      "  File \"/Users/Daniel/opt/anaconda3/envs/deeplearning/lib/python3.8/site-packages/anvil/server.py\", line 206, in heartbeat_until_reopened\n",
      "    call(\"anvil.private.echo\", \"keep-alive\")\n",
      "  File \"/Users/Daniel/opt/anaconda3/envs/deeplearning/lib/python3.8/site-packages/anvil/server.py\", line 406, in call\n",
      "    raise _server._deserialise_exception(e.error_obj)\n",
      "anvil._server.AnvilWrappedError: 'Connection to Anvil Uplink server lost'\n"
     ]
    },
    {
     "name": "stdout",
     "output_type": "stream",
     "text": [
      "Anvil websocket closed (code 1006, reason=Going away)\n",
      "Reconnecting Anvil Uplink...\n",
      "Connecting to wss://anvil.works/uplink\n",
      "Anvil websocket open\n",
      "Connected to \"Default environment\" as SERVER\n",
      "Anvil websocket closed (code 1006, reason=Going away)\n",
      "Reconnecting Anvil Uplink...\n",
      "Connecting to wss://anvil.works/uplink\n",
      "Anvil websocket open\n",
      "Connected to \"Default environment\" as SERVER\n"
     ]
    },
    {
     "name": "stderr",
     "output_type": "stream",
     "text": [
      "Exception in thread Thread-327:\n",
      "Traceback (most recent call last):\n",
      "  File \"/Users/Daniel/opt/anaconda3/envs/deeplearning/lib/python3.8/site-packages/anvil/server.py\", line 403, in call\n",
      "    return _do_call(args, kwargs, fn_name=fn_name)\n",
      "  File \"/Users/Daniel/opt/anaconda3/envs/deeplearning/lib/python3.8/site-packages/anvil/server.py\", line 395, in _do_call\n",
      "    return _threaded_server.do_call(args, kwargs, fn_name=fn_name, live_object=live_object)\n",
      "  File \"/Users/Daniel/opt/anaconda3/envs/deeplearning/lib/python3.8/site-packages/anvil/_threaded_server.py\", line 435, in do_call\n",
      "    raise error_from_server\n",
      "anvil._server.AnvilWrappedError: 'Connection to Anvil Uplink server lost'\n",
      "\n",
      "During handling of the above exception, another exception occurred:\n",
      "\n",
      "Traceback (most recent call last):\n",
      "  File \"/Users/Daniel/opt/anaconda3/envs/deeplearning/lib/python3.8/threading.py\", line 932, in _bootstrap_inner\n",
      "    self.run()\n",
      "  File \"/Users/Daniel/opt/anaconda3/envs/deeplearning/lib/python3.8/threading.py\", line 870, in run\n",
      "    self._target(*self._args, **self._kwargs)\n",
      "  File \"/Users/Daniel/opt/anaconda3/envs/deeplearning/lib/python3.8/site-packages/anvil/server.py\", line 206, in heartbeat_until_reopened\n",
      "    call(\"anvil.private.echo\", \"keep-alive\")\n",
      "  File \"/Users/Daniel/opt/anaconda3/envs/deeplearning/lib/python3.8/site-packages/anvil/server.py\", line 406, in call\n",
      "    raise _server._deserialise_exception(e.error_obj)\n",
      "anvil._server.AnvilWrappedError: 'Connection to Anvil Uplink server lost'\n"
     ]
    },
    {
     "name": "stdout",
     "output_type": "stream",
     "text": [
      "Anvil websocket closed (code 1006, reason=Going away)\n",
      "Reconnecting Anvil Uplink...\n",
      "Connecting to wss://anvil.works/uplink\n",
      "Anvil websocket open\n",
      "Connected to \"Default environment\" as SERVER\n"
     ]
    },
    {
     "name": "stderr",
     "output_type": "stream",
     "text": [
      "Exception in thread Thread-330:\n",
      "Traceback (most recent call last):\n",
      "  File \"/Users/Daniel/opt/anaconda3/envs/deeplearning/lib/python3.8/site-packages/anvil/server.py\", line 403, in call\n",
      "    return _do_call(args, kwargs, fn_name=fn_name)\n",
      "  File \"/Users/Daniel/opt/anaconda3/envs/deeplearning/lib/python3.8/site-packages/anvil/server.py\", line 395, in _do_call\n",
      "    return _threaded_server.do_call(args, kwargs, fn_name=fn_name, live_object=live_object)\n",
      "  File \"/Users/Daniel/opt/anaconda3/envs/deeplearning/lib/python3.8/site-packages/anvil/_threaded_server.py\", line 435, in do_call\n",
      "    raise error_from_server\n",
      "anvil._server.AnvilWrappedError: 'Connection to Anvil Uplink server lost'\n",
      "\n",
      "During handling of the above exception, another exception occurred:\n",
      "\n",
      "Traceback (most recent call last):\n",
      "  File \"/Users/Daniel/opt/anaconda3/envs/deeplearning/lib/python3.8/threading.py\", line 932, in _bootstrap_inner\n",
      "    self.run()\n",
      "  File \"/Users/Daniel/opt/anaconda3/envs/deeplearning/lib/python3.8/threading.py\", line 870, in run\n",
      "    self._target(*self._args, **self._kwargs)\n",
      "  File \"/Users/Daniel/opt/anaconda3/envs/deeplearning/lib/python3.8/site-packages/anvil/server.py\", line 206, in heartbeat_until_reopened\n",
      "    call(\"anvil.private.echo\", \"keep-alive\")\n",
      "  File \"/Users/Daniel/opt/anaconda3/envs/deeplearning/lib/python3.8/site-packages/anvil/server.py\", line 406, in call\n",
      "    raise _server._deserialise_exception(e.error_obj)\n",
      "anvil._server.AnvilWrappedError: 'Connection to Anvil Uplink server lost'\n"
     ]
    },
    {
     "name": "stdout",
     "output_type": "stream",
     "text": [
      "Anvil websocket closed (code 1006, reason=Going away)\n",
      "Reconnecting Anvil Uplink...\n",
      "Connecting to wss://anvil.works/uplink\n",
      "Anvil websocket open\n",
      "Connected to \"Default environment\" as SERVER\n"
     ]
    },
    {
     "name": "stderr",
     "output_type": "stream",
     "text": [
      "Exception in thread Thread-333:\n",
      "Traceback (most recent call last):\n",
      "  File \"/Users/Daniel/opt/anaconda3/envs/deeplearning/lib/python3.8/site-packages/anvil/server.py\", line 403, in call\n",
      "    return _do_call(args, kwargs, fn_name=fn_name)\n",
      "  File \"/Users/Daniel/opt/anaconda3/envs/deeplearning/lib/python3.8/site-packages/anvil/server.py\", line 395, in _do_call\n",
      "    return _threaded_server.do_call(args, kwargs, fn_name=fn_name, live_object=live_object)\n",
      "  File \"/Users/Daniel/opt/anaconda3/envs/deeplearning/lib/python3.8/site-packages/anvil/_threaded_server.py\", line 435, in do_call\n",
      "    raise error_from_server\n",
      "anvil._server.AnvilWrappedError: 'Connection to Anvil Uplink server lost'\n",
      "\n",
      "During handling of the above exception, another exception occurred:\n",
      "\n",
      "Traceback (most recent call last):\n",
      "  File \"/Users/Daniel/opt/anaconda3/envs/deeplearning/lib/python3.8/threading.py\", line 932, in _bootstrap_inner\n",
      "    self.run()\n",
      "  File \"/Users/Daniel/opt/anaconda3/envs/deeplearning/lib/python3.8/threading.py\", line 870, in run\n",
      "    self._target(*self._args, **self._kwargs)\n",
      "  File \"/Users/Daniel/opt/anaconda3/envs/deeplearning/lib/python3.8/site-packages/anvil/server.py\", line 206, in heartbeat_until_reopened\n",
      "    call(\"anvil.private.echo\", \"keep-alive\")\n",
      "  File \"/Users/Daniel/opt/anaconda3/envs/deeplearning/lib/python3.8/site-packages/anvil/server.py\", line 406, in call\n",
      "    raise _server._deserialise_exception(e.error_obj)\n",
      "anvil._server.AnvilWrappedError: 'Connection to Anvil Uplink server lost'\n"
     ]
    },
    {
     "name": "stdout",
     "output_type": "stream",
     "text": [
      "Anvil websocket closed (code 1006, reason=Going away)\n",
      "Reconnecting Anvil Uplink...\n",
      "Connecting to wss://anvil.works/uplink\n",
      "Anvil websocket open\n",
      "Connected to \"Default environment\" as SERVER\n"
     ]
    },
    {
     "name": "stderr",
     "output_type": "stream",
     "text": [
      "Exception in thread Thread-336:\n",
      "Traceback (most recent call last):\n",
      "  File \"/Users/Daniel/opt/anaconda3/envs/deeplearning/lib/python3.8/site-packages/anvil/server.py\", line 403, in call\n",
      "    return _do_call(args, kwargs, fn_name=fn_name)\n",
      "  File \"/Users/Daniel/opt/anaconda3/envs/deeplearning/lib/python3.8/site-packages/anvil/server.py\", line 395, in _do_call\n",
      "    return _threaded_server.do_call(args, kwargs, fn_name=fn_name, live_object=live_object)\n",
      "  File \"/Users/Daniel/opt/anaconda3/envs/deeplearning/lib/python3.8/site-packages/anvil/_threaded_server.py\", line 435, in do_call\n",
      "    raise error_from_server\n",
      "anvil._server.AnvilWrappedError: 'Connection to Anvil Uplink server lost'\n",
      "\n",
      "During handling of the above exception, another exception occurred:\n",
      "\n",
      "Traceback (most recent call last):\n",
      "  File \"/Users/Daniel/opt/anaconda3/envs/deeplearning/lib/python3.8/threading.py\", line 932, in _bootstrap_inner\n",
      "    self.run()\n",
      "  File \"/Users/Daniel/opt/anaconda3/envs/deeplearning/lib/python3.8/threading.py\", line 870, in run\n",
      "    self._target(*self._args, **self._kwargs)\n",
      "  File \"/Users/Daniel/opt/anaconda3/envs/deeplearning/lib/python3.8/site-packages/anvil/server.py\", line 206, in heartbeat_until_reopened\n",
      "    call(\"anvil.private.echo\", \"keep-alive\")\n",
      "  File \"/Users/Daniel/opt/anaconda3/envs/deeplearning/lib/python3.8/site-packages/anvil/server.py\", line 406, in call\n",
      "    raise _server._deserialise_exception(e.error_obj)\n",
      "anvil._server.AnvilWrappedError: 'Connection to Anvil Uplink server lost'\n"
     ]
    },
    {
     "name": "stdout",
     "output_type": "stream",
     "text": [
      "Anvil websocket closed (code 1006, reason=Going away)\n",
      "Reconnecting Anvil Uplink...\n",
      "Connecting to wss://anvil.works/uplink\n",
      "Anvil websocket open\n",
      "Connected to \"Default environment\" as SERVER\n"
     ]
    },
    {
     "name": "stderr",
     "output_type": "stream",
     "text": [
      "Exception in thread Thread-339:\n",
      "Traceback (most recent call last):\n",
      "  File \"/Users/Daniel/opt/anaconda3/envs/deeplearning/lib/python3.8/site-packages/anvil/server.py\", line 403, in call\n",
      "    return _do_call(args, kwargs, fn_name=fn_name)\n",
      "  File \"/Users/Daniel/opt/anaconda3/envs/deeplearning/lib/python3.8/site-packages/anvil/server.py\", line 395, in _do_call\n",
      "    return _threaded_server.do_call(args, kwargs, fn_name=fn_name, live_object=live_object)\n",
      "  File \"/Users/Daniel/opt/anaconda3/envs/deeplearning/lib/python3.8/site-packages/anvil/_threaded_server.py\", line 435, in do_call\n",
      "    raise error_from_server\n",
      "anvil._server.AnvilWrappedError: 'Connection to Anvil Uplink server lost'\n",
      "\n",
      "During handling of the above exception, another exception occurred:\n",
      "\n",
      "Traceback (most recent call last):\n",
      "  File \"/Users/Daniel/opt/anaconda3/envs/deeplearning/lib/python3.8/threading.py\", line 932, in _bootstrap_inner\n",
      "    self.run()\n",
      "  File \"/Users/Daniel/opt/anaconda3/envs/deeplearning/lib/python3.8/threading.py\", line 870, in run\n",
      "    self._target(*self._args, **self._kwargs)\n",
      "  File \"/Users/Daniel/opt/anaconda3/envs/deeplearning/lib/python3.8/site-packages/anvil/server.py\", line 206, in heartbeat_until_reopened\n",
      "    call(\"anvil.private.echo\", \"keep-alive\")\n",
      "  File \"/Users/Daniel/opt/anaconda3/envs/deeplearning/lib/python3.8/site-packages/anvil/server.py\", line 406, in call\n",
      "    raise _server._deserialise_exception(e.error_obj)\n",
      "anvil._server.AnvilWrappedError: 'Connection to Anvil Uplink server lost'\n"
     ]
    },
    {
     "name": "stdout",
     "output_type": "stream",
     "text": [
      "Anvil websocket closed (code 1006, reason=Going away)\n",
      "Reconnecting Anvil Uplink...\n",
      "Connecting to wss://anvil.works/uplink\n",
      "Anvil websocket open\n",
      "Connected to \"Default environment\" as SERVER\n"
     ]
    },
    {
     "name": "stderr",
     "output_type": "stream",
     "text": [
      "Exception in thread Thread-342:\n",
      "Traceback (most recent call last):\n",
      "  File \"/Users/Daniel/opt/anaconda3/envs/deeplearning/lib/python3.8/site-packages/anvil/server.py\", line 403, in call\n",
      "    return _do_call(args, kwargs, fn_name=fn_name)\n",
      "  File \"/Users/Daniel/opt/anaconda3/envs/deeplearning/lib/python3.8/site-packages/anvil/server.py\", line 395, in _do_call\n",
      "    return _threaded_server.do_call(args, kwargs, fn_name=fn_name, live_object=live_object)\n",
      "  File \"/Users/Daniel/opt/anaconda3/envs/deeplearning/lib/python3.8/site-packages/anvil/_threaded_server.py\", line 435, in do_call\n",
      "    raise error_from_server\n",
      "anvil._server.AnvilWrappedError: 'Connection to Anvil Uplink server lost'\n",
      "\n",
      "During handling of the above exception, another exception occurred:\n",
      "\n",
      "Traceback (most recent call last):\n",
      "  File \"/Users/Daniel/opt/anaconda3/envs/deeplearning/lib/python3.8/threading.py\", line 932, in _bootstrap_inner\n",
      "    self.run()\n",
      "  File \"/Users/Daniel/opt/anaconda3/envs/deeplearning/lib/python3.8/threading.py\", line 870, in run\n",
      "    self._target(*self._args, **self._kwargs)\n",
      "  File \"/Users/Daniel/opt/anaconda3/envs/deeplearning/lib/python3.8/site-packages/anvil/server.py\", line 206, in heartbeat_until_reopened\n",
      "    call(\"anvil.private.echo\", \"keep-alive\")\n",
      "  File \"/Users/Daniel/opt/anaconda3/envs/deeplearning/lib/python3.8/site-packages/anvil/server.py\", line 406, in call\n",
      "    raise _server._deserialise_exception(e.error_obj)\n",
      "anvil._server.AnvilWrappedError: 'Connection to Anvil Uplink server lost'\n"
     ]
    },
    {
     "name": "stdout",
     "output_type": "stream",
     "text": [
      "Anvil websocket closed (code 1006, reason=Going away)\n",
      "Reconnecting Anvil Uplink...\n",
      "Connecting to wss://anvil.works/uplink\n",
      "Anvil websocket open\n",
      "Connected to \"Default environment\" as SERVER\n"
     ]
    },
    {
     "name": "stderr",
     "output_type": "stream",
     "text": [
      "Exception in thread Thread-345:\n",
      "Traceback (most recent call last):\n",
      "  File \"/Users/Daniel/opt/anaconda3/envs/deeplearning/lib/python3.8/site-packages/anvil/server.py\", line 403, in call\n",
      "    return _do_call(args, kwargs, fn_name=fn_name)\n",
      "  File \"/Users/Daniel/opt/anaconda3/envs/deeplearning/lib/python3.8/site-packages/anvil/server.py\", line 395, in _do_call\n",
      "    return _threaded_server.do_call(args, kwargs, fn_name=fn_name, live_object=live_object)\n",
      "  File \"/Users/Daniel/opt/anaconda3/envs/deeplearning/lib/python3.8/site-packages/anvil/_threaded_server.py\", line 435, in do_call\n",
      "    raise error_from_server\n",
      "anvil._server.AnvilWrappedError: 'Connection to Anvil Uplink server lost'\n",
      "\n",
      "During handling of the above exception, another exception occurred:\n",
      "\n",
      "Traceback (most recent call last):\n",
      "  File \"/Users/Daniel/opt/anaconda3/envs/deeplearning/lib/python3.8/threading.py\", line 932, in _bootstrap_inner\n",
      "    self.run()\n",
      "  File \"/Users/Daniel/opt/anaconda3/envs/deeplearning/lib/python3.8/threading.py\", line 870, in run\n",
      "    self._target(*self._args, **self._kwargs)\n",
      "  File \"/Users/Daniel/opt/anaconda3/envs/deeplearning/lib/python3.8/site-packages/anvil/server.py\", line 206, in heartbeat_until_reopened\n",
      "    call(\"anvil.private.echo\", \"keep-alive\")\n",
      "  File \"/Users/Daniel/opt/anaconda3/envs/deeplearning/lib/python3.8/site-packages/anvil/server.py\", line 406, in call\n",
      "    raise _server._deserialise_exception(e.error_obj)\n",
      "anvil._server.AnvilWrappedError: 'Connection to Anvil Uplink server lost'\n"
     ]
    },
    {
     "name": "stdout",
     "output_type": "stream",
     "text": [
      "Anvil websocket closed (code 1006, reason=Going away)\n",
      "Reconnecting Anvil Uplink...\n",
      "Connecting to wss://anvil.works/uplink\n",
      "Anvil websocket open\n",
      "Connected to \"Default environment\" as SERVER\n"
     ]
    },
    {
     "name": "stderr",
     "output_type": "stream",
     "text": [
      "Exception in thread Thread-348:\n",
      "Traceback (most recent call last):\n",
      "  File \"/Users/Daniel/opt/anaconda3/envs/deeplearning/lib/python3.8/site-packages/anvil/server.py\", line 403, in call\n",
      "    return _do_call(args, kwargs, fn_name=fn_name)\n",
      "  File \"/Users/Daniel/opt/anaconda3/envs/deeplearning/lib/python3.8/site-packages/anvil/server.py\", line 395, in _do_call\n",
      "    return _threaded_server.do_call(args, kwargs, fn_name=fn_name, live_object=live_object)\n",
      "  File \"/Users/Daniel/opt/anaconda3/envs/deeplearning/lib/python3.8/site-packages/anvil/_threaded_server.py\", line 435, in do_call\n",
      "    raise error_from_server\n",
      "anvil._server.AnvilWrappedError: 'Connection to Anvil Uplink server lost'\n",
      "\n",
      "During handling of the above exception, another exception occurred:\n",
      "\n",
      "Traceback (most recent call last):\n",
      "  File \"/Users/Daniel/opt/anaconda3/envs/deeplearning/lib/python3.8/threading.py\", line 932, in _bootstrap_inner\n",
      "    self.run()\n",
      "  File \"/Users/Daniel/opt/anaconda3/envs/deeplearning/lib/python3.8/threading.py\", line 870, in run\n",
      "    self._target(*self._args, **self._kwargs)\n",
      "  File \"/Users/Daniel/opt/anaconda3/envs/deeplearning/lib/python3.8/site-packages/anvil/server.py\", line 206, in heartbeat_until_reopened\n",
      "    call(\"anvil.private.echo\", \"keep-alive\")\n",
      "  File \"/Users/Daniel/opt/anaconda3/envs/deeplearning/lib/python3.8/site-packages/anvil/server.py\", line 406, in call\n",
      "    raise _server._deserialise_exception(e.error_obj)\n",
      "anvil._server.AnvilWrappedError: 'Connection to Anvil Uplink server lost'\n"
     ]
    },
    {
     "name": "stdout",
     "output_type": "stream",
     "text": [
      "Anvil websocket closed (code 1006, reason=Going away)\n",
      "Reconnecting Anvil Uplink...\n",
      "Connecting to wss://anvil.works/uplink\n",
      "Anvil websocket open\n",
      "Connected to \"Default environment\" as SERVER\n"
     ]
    },
    {
     "name": "stderr",
     "output_type": "stream",
     "text": [
      "Exception in thread Thread-351:\n",
      "Traceback (most recent call last):\n",
      "  File \"/Users/Daniel/opt/anaconda3/envs/deeplearning/lib/python3.8/site-packages/anvil/server.py\", line 403, in call\n",
      "    return _do_call(args, kwargs, fn_name=fn_name)\n",
      "  File \"/Users/Daniel/opt/anaconda3/envs/deeplearning/lib/python3.8/site-packages/anvil/server.py\", line 395, in _do_call\n",
      "    return _threaded_server.do_call(args, kwargs, fn_name=fn_name, live_object=live_object)\n",
      "  File \"/Users/Daniel/opt/anaconda3/envs/deeplearning/lib/python3.8/site-packages/anvil/_threaded_server.py\", line 435, in do_call\n",
      "    raise error_from_server\n",
      "anvil._server.AnvilWrappedError: 'Connection to Anvil Uplink server lost'\n",
      "\n",
      "During handling of the above exception, another exception occurred:\n",
      "\n",
      "Traceback (most recent call last):\n",
      "  File \"/Users/Daniel/opt/anaconda3/envs/deeplearning/lib/python3.8/threading.py\", line 932, in _bootstrap_inner\n",
      "    self.run()\n",
      "  File \"/Users/Daniel/opt/anaconda3/envs/deeplearning/lib/python3.8/threading.py\", line 870, in run\n",
      "    self._target(*self._args, **self._kwargs)\n",
      "  File \"/Users/Daniel/opt/anaconda3/envs/deeplearning/lib/python3.8/site-packages/anvil/server.py\", line 206, in heartbeat_until_reopened\n",
      "    call(\"anvil.private.echo\", \"keep-alive\")\n",
      "  File \"/Users/Daniel/opt/anaconda3/envs/deeplearning/lib/python3.8/site-packages/anvil/server.py\", line 406, in call\n",
      "    raise _server._deserialise_exception(e.error_obj)\n",
      "anvil._server.AnvilWrappedError: 'Connection to Anvil Uplink server lost'\n"
     ]
    },
    {
     "name": "stdout",
     "output_type": "stream",
     "text": [
      "Anvil websocket closed (code 1006, reason=Going away)\n",
      "Reconnecting Anvil Uplink...\n",
      "Connecting to wss://anvil.works/uplink\n",
      "Anvil websocket open\n",
      "Connected to \"Default environment\" as SERVER\n"
     ]
    },
    {
     "name": "stderr",
     "output_type": "stream",
     "text": [
      "Exception in thread Thread-354:\n",
      "Traceback (most recent call last):\n",
      "  File \"/Users/Daniel/opt/anaconda3/envs/deeplearning/lib/python3.8/site-packages/anvil/server.py\", line 403, in call\n",
      "    return _do_call(args, kwargs, fn_name=fn_name)\n",
      "  File \"/Users/Daniel/opt/anaconda3/envs/deeplearning/lib/python3.8/site-packages/anvil/server.py\", line 395, in _do_call\n",
      "    return _threaded_server.do_call(args, kwargs, fn_name=fn_name, live_object=live_object)\n",
      "  File \"/Users/Daniel/opt/anaconda3/envs/deeplearning/lib/python3.8/site-packages/anvil/_threaded_server.py\", line 435, in do_call\n",
      "    raise error_from_server\n",
      "anvil._server.AnvilWrappedError: 'Connection to Anvil Uplink server lost'\n",
      "\n",
      "During handling of the above exception, another exception occurred:\n",
      "\n",
      "Traceback (most recent call last):\n",
      "  File \"/Users/Daniel/opt/anaconda3/envs/deeplearning/lib/python3.8/threading.py\", line 932, in _bootstrap_inner\n",
      "    self.run()\n",
      "  File \"/Users/Daniel/opt/anaconda3/envs/deeplearning/lib/python3.8/threading.py\", line 870, in run\n",
      "    self._target(*self._args, **self._kwargs)\n",
      "  File \"/Users/Daniel/opt/anaconda3/envs/deeplearning/lib/python3.8/site-packages/anvil/server.py\", line 206, in heartbeat_until_reopened\n",
      "    call(\"anvil.private.echo\", \"keep-alive\")\n",
      "  File \"/Users/Daniel/opt/anaconda3/envs/deeplearning/lib/python3.8/site-packages/anvil/server.py\", line 406, in call\n",
      "    raise _server._deserialise_exception(e.error_obj)\n",
      "anvil._server.AnvilWrappedError: 'Connection to Anvil Uplink server lost'\n"
     ]
    },
    {
     "name": "stdout",
     "output_type": "stream",
     "text": [
      "Anvil websocket closed (code 1006, reason=Going away)\n",
      "Reconnecting Anvil Uplink...\n",
      "Connecting to wss://anvil.works/uplink\n",
      "Anvil websocket open\n",
      "Connected to \"Default environment\" as SERVER\n"
     ]
    },
    {
     "name": "stderr",
     "output_type": "stream",
     "text": [
      "Exception in thread Thread-357:\n",
      "Traceback (most recent call last):\n",
      "  File \"/Users/Daniel/opt/anaconda3/envs/deeplearning/lib/python3.8/site-packages/anvil/server.py\", line 403, in call\n",
      "    return _do_call(args, kwargs, fn_name=fn_name)\n",
      "  File \"/Users/Daniel/opt/anaconda3/envs/deeplearning/lib/python3.8/site-packages/anvil/server.py\", line 395, in _do_call\n",
      "    return _threaded_server.do_call(args, kwargs, fn_name=fn_name, live_object=live_object)\n",
      "  File \"/Users/Daniel/opt/anaconda3/envs/deeplearning/lib/python3.8/site-packages/anvil/_threaded_server.py\", line 435, in do_call\n",
      "    raise error_from_server\n",
      "anvil._server.AnvilWrappedError: 'Connection to Anvil Uplink server lost'\n",
      "\n",
      "During handling of the above exception, another exception occurred:\n",
      "\n",
      "Traceback (most recent call last):\n",
      "  File \"/Users/Daniel/opt/anaconda3/envs/deeplearning/lib/python3.8/threading.py\", line 932, in _bootstrap_inner\n",
      "    self.run()\n",
      "  File \"/Users/Daniel/opt/anaconda3/envs/deeplearning/lib/python3.8/threading.py\", line 870, in run\n",
      "    self._target(*self._args, **self._kwargs)\n",
      "  File \"/Users/Daniel/opt/anaconda3/envs/deeplearning/lib/python3.8/site-packages/anvil/server.py\", line 206, in heartbeat_until_reopened\n",
      "    call(\"anvil.private.echo\", \"keep-alive\")\n",
      "  File \"/Users/Daniel/opt/anaconda3/envs/deeplearning/lib/python3.8/site-packages/anvil/server.py\", line 406, in call\n",
      "    raise _server._deserialise_exception(e.error_obj)\n",
      "anvil._server.AnvilWrappedError: 'Connection to Anvil Uplink server lost'\n"
     ]
    },
    {
     "name": "stdout",
     "output_type": "stream",
     "text": [
      "Anvil websocket closed (code 1006, reason=Going away)\n",
      "Reconnecting Anvil Uplink...\n",
      "Connecting to wss://anvil.works/uplink\n",
      "Anvil websocket open\n",
      "Connected to \"Default environment\" as SERVER\n"
     ]
    },
    {
     "name": "stderr",
     "output_type": "stream",
     "text": [
      "Exception in thread Thread-360:\n",
      "Traceback (most recent call last):\n",
      "  File \"/Users/Daniel/opt/anaconda3/envs/deeplearning/lib/python3.8/site-packages/anvil/server.py\", line 403, in call\n",
      "    return _do_call(args, kwargs, fn_name=fn_name)\n",
      "  File \"/Users/Daniel/opt/anaconda3/envs/deeplearning/lib/python3.8/site-packages/anvil/server.py\", line 395, in _do_call\n",
      "    return _threaded_server.do_call(args, kwargs, fn_name=fn_name, live_object=live_object)\n",
      "  File \"/Users/Daniel/opt/anaconda3/envs/deeplearning/lib/python3.8/site-packages/anvil/_threaded_server.py\", line 435, in do_call\n",
      "    raise error_from_server\n",
      "anvil._server.AnvilWrappedError: 'Connection to Anvil Uplink server lost'\n",
      "\n",
      "During handling of the above exception, another exception occurred:\n",
      "\n",
      "Traceback (most recent call last):\n",
      "  File \"/Users/Daniel/opt/anaconda3/envs/deeplearning/lib/python3.8/threading.py\", line 932, in _bootstrap_inner\n",
      "    self.run()\n",
      "  File \"/Users/Daniel/opt/anaconda3/envs/deeplearning/lib/python3.8/threading.py\", line 870, in run\n",
      "    self._target(*self._args, **self._kwargs)\n",
      "  File \"/Users/Daniel/opt/anaconda3/envs/deeplearning/lib/python3.8/site-packages/anvil/server.py\", line 206, in heartbeat_until_reopened\n",
      "    call(\"anvil.private.echo\", \"keep-alive\")\n",
      "  File \"/Users/Daniel/opt/anaconda3/envs/deeplearning/lib/python3.8/site-packages/anvil/server.py\", line 406, in call\n",
      "    raise _server._deserialise_exception(e.error_obj)\n",
      "anvil._server.AnvilWrappedError: 'Connection to Anvil Uplink server lost'\n"
     ]
    },
    {
     "name": "stdout",
     "output_type": "stream",
     "text": [
      "Anvil websocket closed (code 1006, reason=Going away)\n",
      "Reconnecting Anvil Uplink...\n",
      "Connecting to wss://anvil.works/uplink\n",
      "Anvil websocket open\n",
      "Connected to \"Default environment\" as SERVER\n"
     ]
    },
    {
     "name": "stderr",
     "output_type": "stream",
     "text": [
      "Exception in thread Thread-363:\n",
      "Traceback (most recent call last):\n",
      "  File \"/Users/Daniel/opt/anaconda3/envs/deeplearning/lib/python3.8/site-packages/anvil/server.py\", line 403, in call\n",
      "    return _do_call(args, kwargs, fn_name=fn_name)\n",
      "  File \"/Users/Daniel/opt/anaconda3/envs/deeplearning/lib/python3.8/site-packages/anvil/server.py\", line 395, in _do_call\n",
      "    return _threaded_server.do_call(args, kwargs, fn_name=fn_name, live_object=live_object)\n",
      "  File \"/Users/Daniel/opt/anaconda3/envs/deeplearning/lib/python3.8/site-packages/anvil/_threaded_server.py\", line 435, in do_call\n",
      "    raise error_from_server\n",
      "anvil._server.AnvilWrappedError: 'Connection to Anvil Uplink server lost'\n",
      "\n",
      "During handling of the above exception, another exception occurred:\n",
      "\n",
      "Traceback (most recent call last):\n",
      "  File \"/Users/Daniel/opt/anaconda3/envs/deeplearning/lib/python3.8/threading.py\", line 932, in _bootstrap_inner\n",
      "    self.run()\n",
      "  File \"/Users/Daniel/opt/anaconda3/envs/deeplearning/lib/python3.8/threading.py\", line 870, in run\n",
      "    self._target(*self._args, **self._kwargs)\n",
      "  File \"/Users/Daniel/opt/anaconda3/envs/deeplearning/lib/python3.8/site-packages/anvil/server.py\", line 206, in heartbeat_until_reopened\n",
      "    call(\"anvil.private.echo\", \"keep-alive\")\n",
      "  File \"/Users/Daniel/opt/anaconda3/envs/deeplearning/lib/python3.8/site-packages/anvil/server.py\", line 406, in call\n",
      "    raise _server._deserialise_exception(e.error_obj)\n",
      "anvil._server.AnvilWrappedError: 'Connection to Anvil Uplink server lost'\n"
     ]
    },
    {
     "name": "stdout",
     "output_type": "stream",
     "text": [
      "Anvil websocket closed (code 1006, reason=Going away)\n",
      "Reconnecting Anvil Uplink...\n",
      "Connecting to wss://anvil.works/uplink\n",
      "Anvil websocket open\n",
      "Connected to \"Default environment\" as SERVER\n"
     ]
    },
    {
     "name": "stderr",
     "output_type": "stream",
     "text": [
      "Exception in thread Thread-366:\n",
      "Traceback (most recent call last):\n",
      "  File \"/Users/Daniel/opt/anaconda3/envs/deeplearning/lib/python3.8/site-packages/anvil/server.py\", line 403, in call\n",
      "    return _do_call(args, kwargs, fn_name=fn_name)\n",
      "  File \"/Users/Daniel/opt/anaconda3/envs/deeplearning/lib/python3.8/site-packages/anvil/server.py\", line 395, in _do_call\n",
      "    return _threaded_server.do_call(args, kwargs, fn_name=fn_name, live_object=live_object)\n",
      "  File \"/Users/Daniel/opt/anaconda3/envs/deeplearning/lib/python3.8/site-packages/anvil/_threaded_server.py\", line 435, in do_call\n",
      "    raise error_from_server\n",
      "anvil._server.AnvilWrappedError: 'Connection to Anvil Uplink server lost'\n",
      "\n",
      "During handling of the above exception, another exception occurred:\n",
      "\n",
      "Traceback (most recent call last):\n",
      "  File \"/Users/Daniel/opt/anaconda3/envs/deeplearning/lib/python3.8/threading.py\", line 932, in _bootstrap_inner\n",
      "    self.run()\n",
      "  File \"/Users/Daniel/opt/anaconda3/envs/deeplearning/lib/python3.8/threading.py\", line 870, in run\n",
      "    self._target(*self._args, **self._kwargs)\n",
      "  File \"/Users/Daniel/opt/anaconda3/envs/deeplearning/lib/python3.8/site-packages/anvil/server.py\", line 206, in heartbeat_until_reopened\n",
      "    call(\"anvil.private.echo\", \"keep-alive\")\n",
      "  File \"/Users/Daniel/opt/anaconda3/envs/deeplearning/lib/python3.8/site-packages/anvil/server.py\", line 406, in call\n",
      "    raise _server._deserialise_exception(e.error_obj)\n",
      "anvil._server.AnvilWrappedError: 'Connection to Anvil Uplink server lost'\n"
     ]
    },
    {
     "name": "stdout",
     "output_type": "stream",
     "text": [
      "Anvil websocket closed (code 1006, reason=Going away)\n",
      "Reconnecting Anvil Uplink...\n",
      "Connecting to wss://anvil.works/uplink\n",
      "Anvil websocket open\n",
      "Connected to \"Default environment\" as SERVER\n"
     ]
    },
    {
     "name": "stderr",
     "output_type": "stream",
     "text": [
      "Exception in thread Thread-369:\n",
      "Traceback (most recent call last):\n",
      "  File \"/Users/Daniel/opt/anaconda3/envs/deeplearning/lib/python3.8/site-packages/anvil/server.py\", line 403, in call\n",
      "    return _do_call(args, kwargs, fn_name=fn_name)\n",
      "  File \"/Users/Daniel/opt/anaconda3/envs/deeplearning/lib/python3.8/site-packages/anvil/server.py\", line 395, in _do_call\n",
      "    return _threaded_server.do_call(args, kwargs, fn_name=fn_name, live_object=live_object)\n",
      "  File \"/Users/Daniel/opt/anaconda3/envs/deeplearning/lib/python3.8/site-packages/anvil/_threaded_server.py\", line 435, in do_call\n",
      "    raise error_from_server\n",
      "anvil._server.AnvilWrappedError: 'Connection to Anvil Uplink server lost'\n",
      "\n",
      "During handling of the above exception, another exception occurred:\n",
      "\n",
      "Traceback (most recent call last):\n",
      "  File \"/Users/Daniel/opt/anaconda3/envs/deeplearning/lib/python3.8/threading.py\", line 932, in _bootstrap_inner\n",
      "    self.run()\n",
      "  File \"/Users/Daniel/opt/anaconda3/envs/deeplearning/lib/python3.8/threading.py\", line 870, in run\n",
      "    self._target(*self._args, **self._kwargs)\n",
      "  File \"/Users/Daniel/opt/anaconda3/envs/deeplearning/lib/python3.8/site-packages/anvil/server.py\", line 206, in heartbeat_until_reopened\n",
      "    call(\"anvil.private.echo\", \"keep-alive\")\n",
      "  File \"/Users/Daniel/opt/anaconda3/envs/deeplearning/lib/python3.8/site-packages/anvil/server.py\", line 406, in call\n",
      "    raise _server._deserialise_exception(e.error_obj)\n",
      "anvil._server.AnvilWrappedError: 'Connection to Anvil Uplink server lost'\n"
     ]
    },
    {
     "name": "stdout",
     "output_type": "stream",
     "text": [
      "Anvil websocket closed (code 1006, reason=Going away)\n",
      "Reconnecting Anvil Uplink...\n",
      "Connecting to wss://anvil.works/uplink\n",
      "Anvil websocket open\n",
      "Connected to \"Default environment\" as SERVER\n"
     ]
    },
    {
     "name": "stderr",
     "output_type": "stream",
     "text": [
      "Exception in thread Thread-372:\n",
      "Traceback (most recent call last):\n",
      "  File \"/Users/Daniel/opt/anaconda3/envs/deeplearning/lib/python3.8/site-packages/anvil/server.py\", line 403, in call\n",
      "    return _do_call(args, kwargs, fn_name=fn_name)\n",
      "  File \"/Users/Daniel/opt/anaconda3/envs/deeplearning/lib/python3.8/site-packages/anvil/server.py\", line 395, in _do_call\n",
      "    return _threaded_server.do_call(args, kwargs, fn_name=fn_name, live_object=live_object)\n",
      "  File \"/Users/Daniel/opt/anaconda3/envs/deeplearning/lib/python3.8/site-packages/anvil/_threaded_server.py\", line 435, in do_call\n",
      "    raise error_from_server\n",
      "anvil._server.AnvilWrappedError: 'Connection to Anvil Uplink server lost'\n",
      "\n",
      "During handling of the above exception, another exception occurred:\n",
      "\n",
      "Traceback (most recent call last):\n",
      "  File \"/Users/Daniel/opt/anaconda3/envs/deeplearning/lib/python3.8/threading.py\", line 932, in _bootstrap_inner\n",
      "    self.run()\n",
      "  File \"/Users/Daniel/opt/anaconda3/envs/deeplearning/lib/python3.8/threading.py\", line 870, in run\n",
      "    self._target(*self._args, **self._kwargs)\n",
      "  File \"/Users/Daniel/opt/anaconda3/envs/deeplearning/lib/python3.8/site-packages/anvil/server.py\", line 206, in heartbeat_until_reopened\n",
      "    call(\"anvil.private.echo\", \"keep-alive\")\n",
      "  File \"/Users/Daniel/opt/anaconda3/envs/deeplearning/lib/python3.8/site-packages/anvil/server.py\", line 406, in call\n",
      "    raise _server._deserialise_exception(e.error_obj)\n",
      "anvil._server.AnvilWrappedError: 'Connection to Anvil Uplink server lost'\n"
     ]
    },
    {
     "name": "stdout",
     "output_type": "stream",
     "text": [
      "Anvil websocket closed (code 1006, reason=Going away)\n",
      "Reconnecting Anvil Uplink...\n",
      "Connecting to wss://anvil.works/uplink\n",
      "Anvil websocket open\n",
      "Connected to \"Default environment\" as SERVER\n"
     ]
    },
    {
     "name": "stderr",
     "output_type": "stream",
     "text": [
      "Exception in thread Thread-375:\n",
      "Traceback (most recent call last):\n",
      "  File \"/Users/Daniel/opt/anaconda3/envs/deeplearning/lib/python3.8/site-packages/anvil/server.py\", line 403, in call\n",
      "    return _do_call(args, kwargs, fn_name=fn_name)\n",
      "  File \"/Users/Daniel/opt/anaconda3/envs/deeplearning/lib/python3.8/site-packages/anvil/server.py\", line 395, in _do_call\n",
      "    return _threaded_server.do_call(args, kwargs, fn_name=fn_name, live_object=live_object)\n",
      "  File \"/Users/Daniel/opt/anaconda3/envs/deeplearning/lib/python3.8/site-packages/anvil/_threaded_server.py\", line 435, in do_call\n",
      "    raise error_from_server\n",
      "anvil._server.AnvilWrappedError: 'Connection to Anvil Uplink server lost'\n",
      "\n",
      "During handling of the above exception, another exception occurred:\n",
      "\n",
      "Traceback (most recent call last):\n",
      "  File \"/Users/Daniel/opt/anaconda3/envs/deeplearning/lib/python3.8/threading.py\", line 932, in _bootstrap_inner\n",
      "    self.run()\n",
      "  File \"/Users/Daniel/opt/anaconda3/envs/deeplearning/lib/python3.8/threading.py\", line 870, in run\n",
      "    self._target(*self._args, **self._kwargs)\n",
      "  File \"/Users/Daniel/opt/anaconda3/envs/deeplearning/lib/python3.8/site-packages/anvil/server.py\", line 206, in heartbeat_until_reopened\n",
      "    call(\"anvil.private.echo\", \"keep-alive\")\n",
      "  File \"/Users/Daniel/opt/anaconda3/envs/deeplearning/lib/python3.8/site-packages/anvil/server.py\", line 406, in call\n",
      "    raise _server._deserialise_exception(e.error_obj)\n",
      "anvil._server.AnvilWrappedError: 'Connection to Anvil Uplink server lost'\n"
     ]
    },
    {
     "name": "stdout",
     "output_type": "stream",
     "text": [
      "Anvil websocket closed (code 1006, reason=Going away)\n",
      "Reconnecting Anvil Uplink...\n",
      "Connecting to wss://anvil.works/uplink\n",
      "Anvil websocket open\n",
      "Connected to \"Default environment\" as SERVER\n"
     ]
    },
    {
     "name": "stderr",
     "output_type": "stream",
     "text": [
      "Exception in thread Thread-378:\n",
      "Traceback (most recent call last):\n",
      "  File \"/Users/Daniel/opt/anaconda3/envs/deeplearning/lib/python3.8/site-packages/anvil/server.py\", line 403, in call\n",
      "    return _do_call(args, kwargs, fn_name=fn_name)\n",
      "  File \"/Users/Daniel/opt/anaconda3/envs/deeplearning/lib/python3.8/site-packages/anvil/server.py\", line 395, in _do_call\n",
      "    return _threaded_server.do_call(args, kwargs, fn_name=fn_name, live_object=live_object)\n",
      "  File \"/Users/Daniel/opt/anaconda3/envs/deeplearning/lib/python3.8/site-packages/anvil/_threaded_server.py\", line 435, in do_call\n",
      "    raise error_from_server\n",
      "anvil._server.AnvilWrappedError: 'Connection to Anvil Uplink server lost'\n",
      "\n",
      "During handling of the above exception, another exception occurred:\n",
      "\n",
      "Traceback (most recent call last):\n",
      "  File \"/Users/Daniel/opt/anaconda3/envs/deeplearning/lib/python3.8/threading.py\", line 932, in _bootstrap_inner\n",
      "    self.run()\n",
      "  File \"/Users/Daniel/opt/anaconda3/envs/deeplearning/lib/python3.8/threading.py\", line 870, in run\n",
      "    self._target(*self._args, **self._kwargs)\n",
      "  File \"/Users/Daniel/opt/anaconda3/envs/deeplearning/lib/python3.8/site-packages/anvil/server.py\", line 206, in heartbeat_until_reopened\n",
      "    call(\"anvil.private.echo\", \"keep-alive\")\n",
      "  File \"/Users/Daniel/opt/anaconda3/envs/deeplearning/lib/python3.8/site-packages/anvil/server.py\", line 406, in call\n",
      "    raise _server._deserialise_exception(e.error_obj)\n",
      "anvil._server.AnvilWrappedError: 'Connection to Anvil Uplink server lost'\n"
     ]
    },
    {
     "name": "stdout",
     "output_type": "stream",
     "text": [
      "Anvil websocket closed (code 1006, reason=Going away)\n",
      "Reconnecting Anvil Uplink...\n",
      "Connecting to wss://anvil.works/uplink\n",
      "Anvil websocket open\n",
      "Connected to \"Default environment\" as SERVER\n"
     ]
    },
    {
     "name": "stderr",
     "output_type": "stream",
     "text": [
      "Exception in thread Thread-381:\n",
      "Traceback (most recent call last):\n",
      "  File \"/Users/Daniel/opt/anaconda3/envs/deeplearning/lib/python3.8/site-packages/anvil/server.py\", line 403, in call\n",
      "    return _do_call(args, kwargs, fn_name=fn_name)\n",
      "  File \"/Users/Daniel/opt/anaconda3/envs/deeplearning/lib/python3.8/site-packages/anvil/server.py\", line 395, in _do_call\n",
      "    return _threaded_server.do_call(args, kwargs, fn_name=fn_name, live_object=live_object)\n",
      "  File \"/Users/Daniel/opt/anaconda3/envs/deeplearning/lib/python3.8/site-packages/anvil/_threaded_server.py\", line 435, in do_call\n",
      "    raise error_from_server\n",
      "anvil._server.AnvilWrappedError: 'Connection to Anvil Uplink server lost'\n",
      "\n",
      "During handling of the above exception, another exception occurred:\n",
      "\n",
      "Traceback (most recent call last):\n",
      "  File \"/Users/Daniel/opt/anaconda3/envs/deeplearning/lib/python3.8/threading.py\", line 932, in _bootstrap_inner\n",
      "    self.run()\n",
      "  File \"/Users/Daniel/opt/anaconda3/envs/deeplearning/lib/python3.8/threading.py\", line 870, in run\n",
      "    self._target(*self._args, **self._kwargs)\n",
      "  File \"/Users/Daniel/opt/anaconda3/envs/deeplearning/lib/python3.8/site-packages/anvil/server.py\", line 206, in heartbeat_until_reopened\n",
      "    call(\"anvil.private.echo\", \"keep-alive\")\n",
      "  File \"/Users/Daniel/opt/anaconda3/envs/deeplearning/lib/python3.8/site-packages/anvil/server.py\", line 406, in call\n",
      "    raise _server._deserialise_exception(e.error_obj)\n",
      "anvil._server.AnvilWrappedError: 'Connection to Anvil Uplink server lost'\n"
     ]
    },
    {
     "name": "stdout",
     "output_type": "stream",
     "text": [
      "Anvil websocket closed (code 1006, reason=Going away)\n",
      "Reconnecting Anvil Uplink...\n",
      "Connecting to wss://anvil.works/uplink\n",
      "Anvil websocket open\n",
      "Connected to \"Default environment\" as SERVER\n"
     ]
    },
    {
     "name": "stderr",
     "output_type": "stream",
     "text": [
      "Exception in thread Thread-384:\n",
      "Traceback (most recent call last):\n",
      "  File \"/Users/Daniel/opt/anaconda3/envs/deeplearning/lib/python3.8/site-packages/anvil/server.py\", line 403, in call\n",
      "    return _do_call(args, kwargs, fn_name=fn_name)\n",
      "  File \"/Users/Daniel/opt/anaconda3/envs/deeplearning/lib/python3.8/site-packages/anvil/server.py\", line 395, in _do_call\n",
      "    return _threaded_server.do_call(args, kwargs, fn_name=fn_name, live_object=live_object)\n",
      "  File \"/Users/Daniel/opt/anaconda3/envs/deeplearning/lib/python3.8/site-packages/anvil/_threaded_server.py\", line 435, in do_call\n",
      "    raise error_from_server\n",
      "anvil._server.AnvilWrappedError: 'Connection to Anvil Uplink server lost'\n",
      "\n",
      "During handling of the above exception, another exception occurred:\n",
      "\n",
      "Traceback (most recent call last):\n",
      "  File \"/Users/Daniel/opt/anaconda3/envs/deeplearning/lib/python3.8/threading.py\", line 932, in _bootstrap_inner\n",
      "    self.run()\n",
      "  File \"/Users/Daniel/opt/anaconda3/envs/deeplearning/lib/python3.8/threading.py\", line 870, in run\n",
      "    self._target(*self._args, **self._kwargs)\n",
      "  File \"/Users/Daniel/opt/anaconda3/envs/deeplearning/lib/python3.8/site-packages/anvil/server.py\", line 206, in heartbeat_until_reopened\n",
      "    call(\"anvil.private.echo\", \"keep-alive\")\n",
      "  File \"/Users/Daniel/opt/anaconda3/envs/deeplearning/lib/python3.8/site-packages/anvil/server.py\", line 406, in call\n",
      "    raise _server._deserialise_exception(e.error_obj)\n",
      "anvil._server.AnvilWrappedError: 'Connection to Anvil Uplink server lost'\n"
     ]
    },
    {
     "name": "stdout",
     "output_type": "stream",
     "text": [
      "Anvil websocket closed (code 1006, reason=Going away)\n",
      "Reconnecting Anvil Uplink...\n",
      "Connecting to wss://anvil.works/uplink\n",
      "Anvil websocket open\n",
      "Connected to \"Default environment\" as SERVER\n"
     ]
    },
    {
     "name": "stderr",
     "output_type": "stream",
     "text": [
      "Exception in thread Thread-387:\n",
      "Traceback (most recent call last):\n",
      "  File \"/Users/Daniel/opt/anaconda3/envs/deeplearning/lib/python3.8/site-packages/anvil/server.py\", line 403, in call\n",
      "    return _do_call(args, kwargs, fn_name=fn_name)\n",
      "  File \"/Users/Daniel/opt/anaconda3/envs/deeplearning/lib/python3.8/site-packages/anvil/server.py\", line 395, in _do_call\n",
      "    return _threaded_server.do_call(args, kwargs, fn_name=fn_name, live_object=live_object)\n",
      "  File \"/Users/Daniel/opt/anaconda3/envs/deeplearning/lib/python3.8/site-packages/anvil/_threaded_server.py\", line 435, in do_call\n",
      "    raise error_from_server\n",
      "anvil._server.AnvilWrappedError: 'Connection to Anvil Uplink server lost'\n",
      "\n",
      "During handling of the above exception, another exception occurred:\n",
      "\n",
      "Traceback (most recent call last):\n",
      "  File \"/Users/Daniel/opt/anaconda3/envs/deeplearning/lib/python3.8/threading.py\", line 932, in _bootstrap_inner\n",
      "    self.run()\n",
      "  File \"/Users/Daniel/opt/anaconda3/envs/deeplearning/lib/python3.8/threading.py\", line 870, in run\n",
      "    self._target(*self._args, **self._kwargs)\n",
      "  File \"/Users/Daniel/opt/anaconda3/envs/deeplearning/lib/python3.8/site-packages/anvil/server.py\", line 206, in heartbeat_until_reopened\n",
      "    call(\"anvil.private.echo\", \"keep-alive\")\n",
      "  File \"/Users/Daniel/opt/anaconda3/envs/deeplearning/lib/python3.8/site-packages/anvil/server.py\", line 406, in call\n",
      "    raise _server._deserialise_exception(e.error_obj)\n",
      "anvil._server.AnvilWrappedError: 'Connection to Anvil Uplink server lost'\n"
     ]
    },
    {
     "name": "stdout",
     "output_type": "stream",
     "text": [
      "Anvil websocket closed (code 1006, reason=Going away)\n",
      "Reconnecting Anvil Uplink...\n",
      "Connecting to wss://anvil.works/uplink\n",
      "Anvil websocket open\n",
      "Connected to \"Default environment\" as SERVER\n"
     ]
    },
    {
     "name": "stderr",
     "output_type": "stream",
     "text": [
      "Exception in thread Thread-390:\n",
      "Traceback (most recent call last):\n",
      "  File \"/Users/Daniel/opt/anaconda3/envs/deeplearning/lib/python3.8/site-packages/anvil/server.py\", line 403, in call\n",
      "    return _do_call(args, kwargs, fn_name=fn_name)\n",
      "  File \"/Users/Daniel/opt/anaconda3/envs/deeplearning/lib/python3.8/site-packages/anvil/server.py\", line 395, in _do_call\n",
      "    return _threaded_server.do_call(args, kwargs, fn_name=fn_name, live_object=live_object)\n",
      "  File \"/Users/Daniel/opt/anaconda3/envs/deeplearning/lib/python3.8/site-packages/anvil/_threaded_server.py\", line 435, in do_call\n",
      "    raise error_from_server\n",
      "anvil._server.AnvilWrappedError: 'Connection to Anvil Uplink server lost'\n",
      "\n",
      "During handling of the above exception, another exception occurred:\n",
      "\n",
      "Traceback (most recent call last):\n",
      "  File \"/Users/Daniel/opt/anaconda3/envs/deeplearning/lib/python3.8/threading.py\", line 932, in _bootstrap_inner\n",
      "    self.run()\n",
      "  File \"/Users/Daniel/opt/anaconda3/envs/deeplearning/lib/python3.8/threading.py\", line 870, in run\n",
      "    self._target(*self._args, **self._kwargs)\n",
      "  File \"/Users/Daniel/opt/anaconda3/envs/deeplearning/lib/python3.8/site-packages/anvil/server.py\", line 206, in heartbeat_until_reopened\n",
      "    call(\"anvil.private.echo\", \"keep-alive\")\n",
      "  File \"/Users/Daniel/opt/anaconda3/envs/deeplearning/lib/python3.8/site-packages/anvil/server.py\", line 406, in call\n",
      "    raise _server._deserialise_exception(e.error_obj)\n",
      "anvil._server.AnvilWrappedError: 'Connection to Anvil Uplink server lost'\n"
     ]
    },
    {
     "name": "stdout",
     "output_type": "stream",
     "text": [
      "Anvil websocket closed (code 1006, reason=Going away)\n",
      "Reconnecting Anvil Uplink...\n",
      "Connecting to wss://anvil.works/uplink\n",
      "Anvil websocket open\n",
      "Connected to \"Default environment\" as SERVER\n"
     ]
    },
    {
     "name": "stderr",
     "output_type": "stream",
     "text": [
      "Exception in thread Thread-393:\n",
      "Traceback (most recent call last):\n",
      "  File \"/Users/Daniel/opt/anaconda3/envs/deeplearning/lib/python3.8/site-packages/anvil/server.py\", line 403, in call\n",
      "    return _do_call(args, kwargs, fn_name=fn_name)\n",
      "  File \"/Users/Daniel/opt/anaconda3/envs/deeplearning/lib/python3.8/site-packages/anvil/server.py\", line 395, in _do_call\n",
      "    return _threaded_server.do_call(args, kwargs, fn_name=fn_name, live_object=live_object)\n",
      "  File \"/Users/Daniel/opt/anaconda3/envs/deeplearning/lib/python3.8/site-packages/anvil/_threaded_server.py\", line 435, in do_call\n",
      "    raise error_from_server\n",
      "anvil._server.AnvilWrappedError: 'Connection to Anvil Uplink server lost'\n",
      "\n",
      "During handling of the above exception, another exception occurred:\n",
      "\n",
      "Traceback (most recent call last):\n",
      "  File \"/Users/Daniel/opt/anaconda3/envs/deeplearning/lib/python3.8/threading.py\", line 932, in _bootstrap_inner\n",
      "    self.run()\n",
      "  File \"/Users/Daniel/opt/anaconda3/envs/deeplearning/lib/python3.8/threading.py\", line 870, in run\n",
      "    self._target(*self._args, **self._kwargs)\n",
      "  File \"/Users/Daniel/opt/anaconda3/envs/deeplearning/lib/python3.8/site-packages/anvil/server.py\", line 206, in heartbeat_until_reopened\n",
      "    call(\"anvil.private.echo\", \"keep-alive\")\n",
      "  File \"/Users/Daniel/opt/anaconda3/envs/deeplearning/lib/python3.8/site-packages/anvil/server.py\", line 406, in call\n",
      "    raise _server._deserialise_exception(e.error_obj)\n",
      "anvil._server.AnvilWrappedError: 'Connection to Anvil Uplink server lost'\n"
     ]
    },
    {
     "name": "stdout",
     "output_type": "stream",
     "text": [
      "Anvil websocket closed (code 1006, reason=Going away)\n",
      "Reconnecting Anvil Uplink...\n",
      "Connecting to wss://anvil.works/uplink\n",
      "Anvil websocket open\n",
      "Connected to \"Default environment\" as SERVER\n"
     ]
    },
    {
     "name": "stderr",
     "output_type": "stream",
     "text": [
      "Exception in thread Thread-396:\n",
      "Traceback (most recent call last):\n",
      "  File \"/Users/Daniel/opt/anaconda3/envs/deeplearning/lib/python3.8/site-packages/anvil/server.py\", line 403, in call\n",
      "    return _do_call(args, kwargs, fn_name=fn_name)\n",
      "  File \"/Users/Daniel/opt/anaconda3/envs/deeplearning/lib/python3.8/site-packages/anvil/server.py\", line 395, in _do_call\n",
      "    return _threaded_server.do_call(args, kwargs, fn_name=fn_name, live_object=live_object)\n",
      "  File \"/Users/Daniel/opt/anaconda3/envs/deeplearning/lib/python3.8/site-packages/anvil/_threaded_server.py\", line 435, in do_call\n",
      "    raise error_from_server\n",
      "anvil._server.AnvilWrappedError: 'Connection to Anvil Uplink server lost'\n",
      "\n",
      "During handling of the above exception, another exception occurred:\n",
      "\n",
      "Traceback (most recent call last):\n",
      "  File \"/Users/Daniel/opt/anaconda3/envs/deeplearning/lib/python3.8/threading.py\", line 932, in _bootstrap_inner\n",
      "    self.run()\n",
      "  File \"/Users/Daniel/opt/anaconda3/envs/deeplearning/lib/python3.8/threading.py\", line 870, in run\n",
      "    self._target(*self._args, **self._kwargs)\n",
      "  File \"/Users/Daniel/opt/anaconda3/envs/deeplearning/lib/python3.8/site-packages/anvil/server.py\", line 206, in heartbeat_until_reopened\n",
      "    call(\"anvil.private.echo\", \"keep-alive\")\n",
      "  File \"/Users/Daniel/opt/anaconda3/envs/deeplearning/lib/python3.8/site-packages/anvil/server.py\", line 406, in call\n",
      "    raise _server._deserialise_exception(e.error_obj)\n",
      "anvil._server.AnvilWrappedError: 'Connection to Anvil Uplink server lost'\n"
     ]
    },
    {
     "name": "stdout",
     "output_type": "stream",
     "text": [
      "Anvil websocket closed (code 1006, reason=Going away)\n",
      "Reconnecting Anvil Uplink...\n",
      "Connecting to wss://anvil.works/uplink\n",
      "Anvil websocket open\n",
      "Connected to \"Default environment\" as SERVER\n"
     ]
    },
    {
     "name": "stderr",
     "output_type": "stream",
     "text": [
      "Exception in thread Thread-399:\n",
      "Traceback (most recent call last):\n",
      "  File \"/Users/Daniel/opt/anaconda3/envs/deeplearning/lib/python3.8/site-packages/anvil/server.py\", line 403, in call\n",
      "    return _do_call(args, kwargs, fn_name=fn_name)\n",
      "  File \"/Users/Daniel/opt/anaconda3/envs/deeplearning/lib/python3.8/site-packages/anvil/server.py\", line 395, in _do_call\n",
      "    return _threaded_server.do_call(args, kwargs, fn_name=fn_name, live_object=live_object)\n",
      "  File \"/Users/Daniel/opt/anaconda3/envs/deeplearning/lib/python3.8/site-packages/anvil/_threaded_server.py\", line 435, in do_call\n",
      "    raise error_from_server\n",
      "anvil._server.AnvilWrappedError: 'Connection to Anvil Uplink server lost'\n",
      "\n",
      "During handling of the above exception, another exception occurred:\n",
      "\n",
      "Traceback (most recent call last):\n",
      "  File \"/Users/Daniel/opt/anaconda3/envs/deeplearning/lib/python3.8/threading.py\", line 932, in _bootstrap_inner\n",
      "    self.run()\n",
      "  File \"/Users/Daniel/opt/anaconda3/envs/deeplearning/lib/python3.8/threading.py\", line 870, in run\n",
      "    self._target(*self._args, **self._kwargs)\n",
      "  File \"/Users/Daniel/opt/anaconda3/envs/deeplearning/lib/python3.8/site-packages/anvil/server.py\", line 206, in heartbeat_until_reopened\n",
      "    call(\"anvil.private.echo\", \"keep-alive\")\n",
      "  File \"/Users/Daniel/opt/anaconda3/envs/deeplearning/lib/python3.8/site-packages/anvil/server.py\", line 406, in call\n",
      "    raise _server._deserialise_exception(e.error_obj)\n",
      "anvil._server.AnvilWrappedError: 'Connection to Anvil Uplink server lost'\n"
     ]
    },
    {
     "name": "stdout",
     "output_type": "stream",
     "text": [
      "Anvil websocket closed (code 1006, reason=Going away)\n",
      "Reconnecting Anvil Uplink...\n",
      "Connecting to wss://anvil.works/uplink\n",
      "Anvil websocket open\n",
      "Connected to \"Default environment\" as SERVER\n"
     ]
    },
    {
     "name": "stderr",
     "output_type": "stream",
     "text": [
      "Exception in thread Thread-402:\n",
      "Traceback (most recent call last):\n",
      "  File \"/Users/Daniel/opt/anaconda3/envs/deeplearning/lib/python3.8/site-packages/anvil/server.py\", line 403, in call\n",
      "    return _do_call(args, kwargs, fn_name=fn_name)\n",
      "  File \"/Users/Daniel/opt/anaconda3/envs/deeplearning/lib/python3.8/site-packages/anvil/server.py\", line 395, in _do_call\n",
      "    return _threaded_server.do_call(args, kwargs, fn_name=fn_name, live_object=live_object)\n",
      "  File \"/Users/Daniel/opt/anaconda3/envs/deeplearning/lib/python3.8/site-packages/anvil/_threaded_server.py\", line 435, in do_call\n",
      "    raise error_from_server\n",
      "anvil._server.AnvilWrappedError: 'Connection to Anvil Uplink server lost'\n",
      "\n",
      "During handling of the above exception, another exception occurred:\n",
      "\n",
      "Traceback (most recent call last):\n",
      "  File \"/Users/Daniel/opt/anaconda3/envs/deeplearning/lib/python3.8/threading.py\", line 932, in _bootstrap_inner\n",
      "    self.run()\n",
      "  File \"/Users/Daniel/opt/anaconda3/envs/deeplearning/lib/python3.8/threading.py\", line 870, in run\n",
      "    self._target(*self._args, **self._kwargs)\n",
      "  File \"/Users/Daniel/opt/anaconda3/envs/deeplearning/lib/python3.8/site-packages/anvil/server.py\", line 206, in heartbeat_until_reopened\n",
      "    call(\"anvil.private.echo\", \"keep-alive\")\n",
      "  File \"/Users/Daniel/opt/anaconda3/envs/deeplearning/lib/python3.8/site-packages/anvil/server.py\", line 406, in call\n",
      "    raise _server._deserialise_exception(e.error_obj)\n",
      "anvil._server.AnvilWrappedError: 'Connection to Anvil Uplink server lost'\n"
     ]
    },
    {
     "name": "stdout",
     "output_type": "stream",
     "text": [
      "Anvil websocket closed (code 1006, reason=Going away)\n",
      "Reconnecting Anvil Uplink...\n",
      "Connecting to wss://anvil.works/uplink\n",
      "Anvil websocket open\n",
      "Connected to \"Default environment\" as SERVER\n"
     ]
    },
    {
     "name": "stderr",
     "output_type": "stream",
     "text": [
      "Exception in thread Thread-405:\n",
      "Traceback (most recent call last):\n",
      "  File \"/Users/Daniel/opt/anaconda3/envs/deeplearning/lib/python3.8/site-packages/anvil/server.py\", line 403, in call\n",
      "    return _do_call(args, kwargs, fn_name=fn_name)\n",
      "  File \"/Users/Daniel/opt/anaconda3/envs/deeplearning/lib/python3.8/site-packages/anvil/server.py\", line 395, in _do_call\n",
      "    return _threaded_server.do_call(args, kwargs, fn_name=fn_name, live_object=live_object)\n",
      "  File \"/Users/Daniel/opt/anaconda3/envs/deeplearning/lib/python3.8/site-packages/anvil/_threaded_server.py\", line 435, in do_call\n",
      "    raise error_from_server\n",
      "anvil._server.AnvilWrappedError: 'Connection to Anvil Uplink server lost'\n",
      "\n",
      "During handling of the above exception, another exception occurred:\n",
      "\n",
      "Traceback (most recent call last):\n",
      "  File \"/Users/Daniel/opt/anaconda3/envs/deeplearning/lib/python3.8/threading.py\", line 932, in _bootstrap_inner\n",
      "    self.run()\n",
      "  File \"/Users/Daniel/opt/anaconda3/envs/deeplearning/lib/python3.8/threading.py\", line 870, in run\n",
      "    self._target(*self._args, **self._kwargs)\n",
      "  File \"/Users/Daniel/opt/anaconda3/envs/deeplearning/lib/python3.8/site-packages/anvil/server.py\", line 206, in heartbeat_until_reopened\n",
      "    call(\"anvil.private.echo\", \"keep-alive\")\n",
      "  File \"/Users/Daniel/opt/anaconda3/envs/deeplearning/lib/python3.8/site-packages/anvil/server.py\", line 406, in call\n",
      "    raise _server._deserialise_exception(e.error_obj)\n",
      "anvil._server.AnvilWrappedError: 'Connection to Anvil Uplink server lost'\n"
     ]
    },
    {
     "name": "stdout",
     "output_type": "stream",
     "text": [
      "Anvil websocket closed (code 1006, reason=Going away)\n",
      "Reconnecting Anvil Uplink...\n",
      "Connecting to wss://anvil.works/uplink\n",
      "Anvil websocket open\n",
      "Connected to \"Default environment\" as SERVER\n"
     ]
    },
    {
     "name": "stderr",
     "output_type": "stream",
     "text": [
      "Exception in thread Thread-408:\n",
      "Traceback (most recent call last):\n",
      "  File \"/Users/Daniel/opt/anaconda3/envs/deeplearning/lib/python3.8/site-packages/anvil/server.py\", line 403, in call\n",
      "    return _do_call(args, kwargs, fn_name=fn_name)\n",
      "  File \"/Users/Daniel/opt/anaconda3/envs/deeplearning/lib/python3.8/site-packages/anvil/server.py\", line 395, in _do_call\n",
      "    return _threaded_server.do_call(args, kwargs, fn_name=fn_name, live_object=live_object)\n",
      "  File \"/Users/Daniel/opt/anaconda3/envs/deeplearning/lib/python3.8/site-packages/anvil/_threaded_server.py\", line 435, in do_call\n",
      "    raise error_from_server\n",
      "anvil._server.AnvilWrappedError: 'Connection to Anvil Uplink server lost'\n",
      "\n",
      "During handling of the above exception, another exception occurred:\n",
      "\n",
      "Traceback (most recent call last):\n",
      "  File \"/Users/Daniel/opt/anaconda3/envs/deeplearning/lib/python3.8/threading.py\", line 932, in _bootstrap_inner\n",
      "    self.run()\n",
      "  File \"/Users/Daniel/opt/anaconda3/envs/deeplearning/lib/python3.8/threading.py\", line 870, in run\n",
      "    self._target(*self._args, **self._kwargs)\n",
      "  File \"/Users/Daniel/opt/anaconda3/envs/deeplearning/lib/python3.8/site-packages/anvil/server.py\", line 206, in heartbeat_until_reopened\n",
      "    call(\"anvil.private.echo\", \"keep-alive\")\n",
      "  File \"/Users/Daniel/opt/anaconda3/envs/deeplearning/lib/python3.8/site-packages/anvil/server.py\", line 406, in call\n",
      "    raise _server._deserialise_exception(e.error_obj)\n",
      "anvil._server.AnvilWrappedError: 'Connection to Anvil Uplink server lost'\n"
     ]
    },
    {
     "name": "stdout",
     "output_type": "stream",
     "text": [
      "Anvil websocket closed (code 1006, reason=Going away)\n",
      "Reconnecting Anvil Uplink...\n",
      "Connecting to wss://anvil.works/uplink\n",
      "Anvil websocket open\n",
      "Connected to \"Default environment\" as SERVER\n"
     ]
    },
    {
     "name": "stderr",
     "output_type": "stream",
     "text": [
      "Exception in thread Thread-411:\n",
      "Traceback (most recent call last):\n",
      "  File \"/Users/Daniel/opt/anaconda3/envs/deeplearning/lib/python3.8/site-packages/anvil/server.py\", line 403, in call\n",
      "    return _do_call(args, kwargs, fn_name=fn_name)\n",
      "  File \"/Users/Daniel/opt/anaconda3/envs/deeplearning/lib/python3.8/site-packages/anvil/server.py\", line 395, in _do_call\n",
      "    return _threaded_server.do_call(args, kwargs, fn_name=fn_name, live_object=live_object)\n",
      "  File \"/Users/Daniel/opt/anaconda3/envs/deeplearning/lib/python3.8/site-packages/anvil/_threaded_server.py\", line 435, in do_call\n",
      "    raise error_from_server\n",
      "anvil._server.AnvilWrappedError: 'Connection to Anvil Uplink server lost'\n",
      "\n",
      "During handling of the above exception, another exception occurred:\n",
      "\n",
      "Traceback (most recent call last):\n",
      "  File \"/Users/Daniel/opt/anaconda3/envs/deeplearning/lib/python3.8/threading.py\", line 932, in _bootstrap_inner\n",
      "    self.run()\n",
      "  File \"/Users/Daniel/opt/anaconda3/envs/deeplearning/lib/python3.8/threading.py\", line 870, in run\n",
      "    self._target(*self._args, **self._kwargs)\n",
      "  File \"/Users/Daniel/opt/anaconda3/envs/deeplearning/lib/python3.8/site-packages/anvil/server.py\", line 206, in heartbeat_until_reopened\n",
      "    call(\"anvil.private.echo\", \"keep-alive\")\n",
      "  File \"/Users/Daniel/opt/anaconda3/envs/deeplearning/lib/python3.8/site-packages/anvil/server.py\", line 406, in call\n",
      "    raise _server._deserialise_exception(e.error_obj)\n",
      "anvil._server.AnvilWrappedError: 'Connection to Anvil Uplink server lost'\n"
     ]
    },
    {
     "name": "stdout",
     "output_type": "stream",
     "text": [
      "Anvil websocket closed (code 1006, reason=Going away)\n",
      "Reconnecting Anvil Uplink...\n",
      "Connecting to wss://anvil.works/uplink\n",
      "Anvil websocket open\n",
      "Connected to \"Default environment\" as SERVER\n"
     ]
    },
    {
     "name": "stderr",
     "output_type": "stream",
     "text": [
      "Exception in thread Thread-414:\n",
      "Traceback (most recent call last):\n",
      "  File \"/Users/Daniel/opt/anaconda3/envs/deeplearning/lib/python3.8/site-packages/anvil/server.py\", line 403, in call\n",
      "    return _do_call(args, kwargs, fn_name=fn_name)\n",
      "  File \"/Users/Daniel/opt/anaconda3/envs/deeplearning/lib/python3.8/site-packages/anvil/server.py\", line 395, in _do_call\n",
      "    return _threaded_server.do_call(args, kwargs, fn_name=fn_name, live_object=live_object)\n",
      "  File \"/Users/Daniel/opt/anaconda3/envs/deeplearning/lib/python3.8/site-packages/anvil/_threaded_server.py\", line 435, in do_call\n",
      "    raise error_from_server\n",
      "anvil._server.AnvilWrappedError: 'Connection to Anvil Uplink server lost'\n",
      "\n",
      "During handling of the above exception, another exception occurred:\n",
      "\n",
      "Traceback (most recent call last):\n",
      "  File \"/Users/Daniel/opt/anaconda3/envs/deeplearning/lib/python3.8/threading.py\", line 932, in _bootstrap_inner\n",
      "    self.run()\n",
      "  File \"/Users/Daniel/opt/anaconda3/envs/deeplearning/lib/python3.8/threading.py\", line 870, in run\n",
      "    self._target(*self._args, **self._kwargs)\n",
      "  File \"/Users/Daniel/opt/anaconda3/envs/deeplearning/lib/python3.8/site-packages/anvil/server.py\", line 206, in heartbeat_until_reopened\n",
      "    call(\"anvil.private.echo\", \"keep-alive\")\n",
      "  File \"/Users/Daniel/opt/anaconda3/envs/deeplearning/lib/python3.8/site-packages/anvil/server.py\", line 406, in call\n",
      "    raise _server._deserialise_exception(e.error_obj)\n",
      "anvil._server.AnvilWrappedError: 'Connection to Anvil Uplink server lost'\n"
     ]
    },
    {
     "name": "stdout",
     "output_type": "stream",
     "text": [
      "Anvil websocket closed (code 1006, reason=Going away)\n",
      "Reconnecting Anvil Uplink...\n",
      "Connecting to wss://anvil.works/uplink\n",
      "Anvil websocket open\n",
      "Connected to \"Default environment\" as SERVER\n"
     ]
    },
    {
     "name": "stderr",
     "output_type": "stream",
     "text": [
      "Exception in thread Thread-417:\n",
      "Traceback (most recent call last):\n",
      "  File \"/Users/Daniel/opt/anaconda3/envs/deeplearning/lib/python3.8/site-packages/anvil/server.py\", line 403, in call\n",
      "    return _do_call(args, kwargs, fn_name=fn_name)\n",
      "  File \"/Users/Daniel/opt/anaconda3/envs/deeplearning/lib/python3.8/site-packages/anvil/server.py\", line 395, in _do_call\n",
      "    return _threaded_server.do_call(args, kwargs, fn_name=fn_name, live_object=live_object)\n",
      "  File \"/Users/Daniel/opt/anaconda3/envs/deeplearning/lib/python3.8/site-packages/anvil/_threaded_server.py\", line 435, in do_call\n",
      "    raise error_from_server\n",
      "anvil._server.AnvilWrappedError: 'Connection to Anvil Uplink server lost'\n",
      "\n",
      "During handling of the above exception, another exception occurred:\n",
      "\n",
      "Traceback (most recent call last):\n",
      "  File \"/Users/Daniel/opt/anaconda3/envs/deeplearning/lib/python3.8/threading.py\", line 932, in _bootstrap_inner\n",
      "    self.run()\n",
      "  File \"/Users/Daniel/opt/anaconda3/envs/deeplearning/lib/python3.8/threading.py\", line 870, in run\n",
      "    self._target(*self._args, **self._kwargs)\n",
      "  File \"/Users/Daniel/opt/anaconda3/envs/deeplearning/lib/python3.8/site-packages/anvil/server.py\", line 206, in heartbeat_until_reopened\n",
      "    call(\"anvil.private.echo\", \"keep-alive\")\n",
      "  File \"/Users/Daniel/opt/anaconda3/envs/deeplearning/lib/python3.8/site-packages/anvil/server.py\", line 406, in call\n",
      "    raise _server._deserialise_exception(e.error_obj)\n",
      "anvil._server.AnvilWrappedError: 'Connection to Anvil Uplink server lost'\n"
     ]
    },
    {
     "name": "stdout",
     "output_type": "stream",
     "text": [
      "Anvil websocket closed (code 1006, reason=Going away)\n",
      "Reconnecting Anvil Uplink...\n",
      "Connecting to wss://anvil.works/uplink\n",
      "Anvil websocket open\n",
      "Connected to \"Default environment\" as SERVER\n",
      "Anvil websocket closed (code 1006, reason=Going away)\n",
      "Reconnecting Anvil Uplink...\n",
      "Connecting to wss://anvil.works/uplink\n",
      "Anvil websocket open\n",
      "Connected to \"Default environment\" as SERVER\n"
     ]
    },
    {
     "name": "stderr",
     "output_type": "stream",
     "text": [
      "Exception in thread Thread-423:\n",
      "Traceback (most recent call last):\n",
      "  File \"/Users/Daniel/opt/anaconda3/envs/deeplearning/lib/python3.8/site-packages/anvil/server.py\", line 403, in call\n",
      "    return _do_call(args, kwargs, fn_name=fn_name)\n",
      "  File \"/Users/Daniel/opt/anaconda3/envs/deeplearning/lib/python3.8/site-packages/anvil/server.py\", line 395, in _do_call\n",
      "    return _threaded_server.do_call(args, kwargs, fn_name=fn_name, live_object=live_object)\n",
      "  File \"/Users/Daniel/opt/anaconda3/envs/deeplearning/lib/python3.8/site-packages/anvil/_threaded_server.py\", line 435, in do_call\n",
      "    raise error_from_server\n",
      "anvil._server.AnvilWrappedError: 'Connection to Anvil Uplink server lost'\n",
      "\n",
      "During handling of the above exception, another exception occurred:\n",
      "\n",
      "Traceback (most recent call last):\n",
      "  File \"/Users/Daniel/opt/anaconda3/envs/deeplearning/lib/python3.8/threading.py\", line 932, in _bootstrap_inner\n",
      "    self.run()\n",
      "  File \"/Users/Daniel/opt/anaconda3/envs/deeplearning/lib/python3.8/threading.py\", line 870, in run\n",
      "    self._target(*self._args, **self._kwargs)\n",
      "  File \"/Users/Daniel/opt/anaconda3/envs/deeplearning/lib/python3.8/site-packages/anvil/server.py\", line 206, in heartbeat_until_reopened\n",
      "    call(\"anvil.private.echo\", \"keep-alive\")\n",
      "  File \"/Users/Daniel/opt/anaconda3/envs/deeplearning/lib/python3.8/site-packages/anvil/server.py\", line 406, in call\n",
      "    raise _server._deserialise_exception(e.error_obj)\n",
      "anvil._server.AnvilWrappedError: 'Connection to Anvil Uplink server lost'\n"
     ]
    },
    {
     "name": "stdout",
     "output_type": "stream",
     "text": [
      "Anvil websocket closed (code 1006, reason=Going away)\n",
      "Reconnecting Anvil Uplink...\n",
      "Connecting to wss://anvil.works/uplink\n",
      "Anvil websocket open\n",
      "Connected to \"Default environment\" as SERVER\n"
     ]
    },
    {
     "name": "stderr",
     "output_type": "stream",
     "text": [
      "Exception in thread Thread-426:\n",
      "Traceback (most recent call last):\n",
      "  File \"/Users/Daniel/opt/anaconda3/envs/deeplearning/lib/python3.8/site-packages/anvil/server.py\", line 403, in call\n",
      "    return _do_call(args, kwargs, fn_name=fn_name)\n",
      "  File \"/Users/Daniel/opt/anaconda3/envs/deeplearning/lib/python3.8/site-packages/anvil/server.py\", line 395, in _do_call\n",
      "    return _threaded_server.do_call(args, kwargs, fn_name=fn_name, live_object=live_object)\n",
      "  File \"/Users/Daniel/opt/anaconda3/envs/deeplearning/lib/python3.8/site-packages/anvil/_threaded_server.py\", line 435, in do_call\n",
      "    raise error_from_server\n",
      "anvil._server.AnvilWrappedError: 'Connection to Anvil Uplink server lost'\n",
      "\n",
      "During handling of the above exception, another exception occurred:\n",
      "\n",
      "Traceback (most recent call last):\n",
      "  File \"/Users/Daniel/opt/anaconda3/envs/deeplearning/lib/python3.8/threading.py\", line 932, in _bootstrap_inner\n",
      "    self.run()\n",
      "  File \"/Users/Daniel/opt/anaconda3/envs/deeplearning/lib/python3.8/threading.py\", line 870, in run\n",
      "    self._target(*self._args, **self._kwargs)\n",
      "  File \"/Users/Daniel/opt/anaconda3/envs/deeplearning/lib/python3.8/site-packages/anvil/server.py\", line 206, in heartbeat_until_reopened\n",
      "    call(\"anvil.private.echo\", \"keep-alive\")\n",
      "  File \"/Users/Daniel/opt/anaconda3/envs/deeplearning/lib/python3.8/site-packages/anvil/server.py\", line 406, in call\n",
      "    raise _server._deserialise_exception(e.error_obj)\n",
      "anvil._server.AnvilWrappedError: 'Connection to Anvil Uplink server lost'\n"
     ]
    },
    {
     "name": "stdout",
     "output_type": "stream",
     "text": [
      "Anvil websocket closed (code 1006, reason=Going away)\n",
      "Reconnecting Anvil Uplink...\n",
      "Connecting to wss://anvil.works/uplink\n",
      "Anvil websocket open\n",
      "Connected to \"Default environment\" as SERVER\n"
     ]
    },
    {
     "name": "stderr",
     "output_type": "stream",
     "text": [
      "Exception in thread Thread-429:\n",
      "Traceback (most recent call last):\n",
      "  File \"/Users/Daniel/opt/anaconda3/envs/deeplearning/lib/python3.8/site-packages/anvil/server.py\", line 403, in call\n",
      "    return _do_call(args, kwargs, fn_name=fn_name)\n",
      "  File \"/Users/Daniel/opt/anaconda3/envs/deeplearning/lib/python3.8/site-packages/anvil/server.py\", line 395, in _do_call\n",
      "    return _threaded_server.do_call(args, kwargs, fn_name=fn_name, live_object=live_object)\n",
      "  File \"/Users/Daniel/opt/anaconda3/envs/deeplearning/lib/python3.8/site-packages/anvil/_threaded_server.py\", line 435, in do_call\n",
      "    raise error_from_server\n",
      "anvil._server.AnvilWrappedError: 'Connection to Anvil Uplink server lost'\n",
      "\n",
      "During handling of the above exception, another exception occurred:\n",
      "\n",
      "Traceback (most recent call last):\n",
      "  File \"/Users/Daniel/opt/anaconda3/envs/deeplearning/lib/python3.8/threading.py\", line 932, in _bootstrap_inner\n",
      "    self.run()\n",
      "  File \"/Users/Daniel/opt/anaconda3/envs/deeplearning/lib/python3.8/threading.py\", line 870, in run\n",
      "    self._target(*self._args, **self._kwargs)\n",
      "  File \"/Users/Daniel/opt/anaconda3/envs/deeplearning/lib/python3.8/site-packages/anvil/server.py\", line 206, in heartbeat_until_reopened\n",
      "    call(\"anvil.private.echo\", \"keep-alive\")\n",
      "  File \"/Users/Daniel/opt/anaconda3/envs/deeplearning/lib/python3.8/site-packages/anvil/server.py\", line 406, in call\n",
      "    raise _server._deserialise_exception(e.error_obj)\n",
      "anvil._server.AnvilWrappedError: 'Connection to Anvil Uplink server lost'\n"
     ]
    },
    {
     "name": "stdout",
     "output_type": "stream",
     "text": [
      "Anvil websocket closed (code 1006, reason=Going away)\n",
      "Reconnecting Anvil Uplink...\n",
      "Connecting to wss://anvil.works/uplink\n",
      "Anvil websocket open\n",
      "Connected to \"Default environment\" as SERVER\n"
     ]
    },
    {
     "name": "stderr",
     "output_type": "stream",
     "text": [
      "Exception in thread Thread-432:\n",
      "Traceback (most recent call last):\n",
      "  File \"/Users/Daniel/opt/anaconda3/envs/deeplearning/lib/python3.8/site-packages/anvil/server.py\", line 403, in call\n",
      "    return _do_call(args, kwargs, fn_name=fn_name)\n",
      "  File \"/Users/Daniel/opt/anaconda3/envs/deeplearning/lib/python3.8/site-packages/anvil/server.py\", line 395, in _do_call\n",
      "    return _threaded_server.do_call(args, kwargs, fn_name=fn_name, live_object=live_object)\n",
      "  File \"/Users/Daniel/opt/anaconda3/envs/deeplearning/lib/python3.8/site-packages/anvil/_threaded_server.py\", line 435, in do_call\n",
      "    raise error_from_server\n",
      "anvil._server.AnvilWrappedError: 'Connection to Anvil Uplink server lost'\n",
      "\n",
      "During handling of the above exception, another exception occurred:\n",
      "\n",
      "Traceback (most recent call last):\n",
      "  File \"/Users/Daniel/opt/anaconda3/envs/deeplearning/lib/python3.8/threading.py\", line 932, in _bootstrap_inner\n",
      "    self.run()\n",
      "  File \"/Users/Daniel/opt/anaconda3/envs/deeplearning/lib/python3.8/threading.py\", line 870, in run\n",
      "    self._target(*self._args, **self._kwargs)\n",
      "  File \"/Users/Daniel/opt/anaconda3/envs/deeplearning/lib/python3.8/site-packages/anvil/server.py\", line 206, in heartbeat_until_reopened\n",
      "    call(\"anvil.private.echo\", \"keep-alive\")\n",
      "  File \"/Users/Daniel/opt/anaconda3/envs/deeplearning/lib/python3.8/site-packages/anvil/server.py\", line 406, in call\n",
      "    raise _server._deserialise_exception(e.error_obj)\n",
      "anvil._server.AnvilWrappedError: 'Connection to Anvil Uplink server lost'\n"
     ]
    },
    {
     "name": "stdout",
     "output_type": "stream",
     "text": [
      "Anvil websocket closed (code 1006, reason=Going away)\n",
      "Reconnecting Anvil Uplink...\n",
      "Connecting to wss://anvil.works/uplink\n",
      "Anvil websocket open\n",
      "Connected to \"Default environment\" as SERVER\n"
     ]
    },
    {
     "name": "stderr",
     "output_type": "stream",
     "text": [
      "Exception in thread Thread-435:\n",
      "Traceback (most recent call last):\n",
      "  File \"/Users/Daniel/opt/anaconda3/envs/deeplearning/lib/python3.8/site-packages/anvil/server.py\", line 403, in call\n",
      "    return _do_call(args, kwargs, fn_name=fn_name)\n",
      "  File \"/Users/Daniel/opt/anaconda3/envs/deeplearning/lib/python3.8/site-packages/anvil/server.py\", line 395, in _do_call\n",
      "    return _threaded_server.do_call(args, kwargs, fn_name=fn_name, live_object=live_object)\n",
      "  File \"/Users/Daniel/opt/anaconda3/envs/deeplearning/lib/python3.8/site-packages/anvil/_threaded_server.py\", line 435, in do_call\n",
      "    raise error_from_server\n",
      "anvil._server.AnvilWrappedError: 'Connection to Anvil Uplink server lost'\n",
      "\n",
      "During handling of the above exception, another exception occurred:\n",
      "\n",
      "Traceback (most recent call last):\n",
      "  File \"/Users/Daniel/opt/anaconda3/envs/deeplearning/lib/python3.8/threading.py\", line 932, in _bootstrap_inner\n",
      "    self.run()\n",
      "  File \"/Users/Daniel/opt/anaconda3/envs/deeplearning/lib/python3.8/threading.py\", line 870, in run\n",
      "    self._target(*self._args, **self._kwargs)\n",
      "  File \"/Users/Daniel/opt/anaconda3/envs/deeplearning/lib/python3.8/site-packages/anvil/server.py\", line 206, in heartbeat_until_reopened\n",
      "    call(\"anvil.private.echo\", \"keep-alive\")\n",
      "  File \"/Users/Daniel/opt/anaconda3/envs/deeplearning/lib/python3.8/site-packages/anvil/server.py\", line 406, in call\n",
      "    raise _server._deserialise_exception(e.error_obj)\n",
      "anvil._server.AnvilWrappedError: 'Connection to Anvil Uplink server lost'\n"
     ]
    },
    {
     "name": "stdout",
     "output_type": "stream",
     "text": [
      "Anvil websocket closed (code 1006, reason=Going away)\n",
      "Reconnecting Anvil Uplink...\n",
      "Connecting to wss://anvil.works/uplink\n",
      "Anvil websocket open\n",
      "Connected to \"Default environment\" as SERVER\n"
     ]
    },
    {
     "name": "stderr",
     "output_type": "stream",
     "text": [
      "Exception in thread Thread-438:\n",
      "Traceback (most recent call last):\n",
      "  File \"/Users/Daniel/opt/anaconda3/envs/deeplearning/lib/python3.8/site-packages/anvil/server.py\", line 403, in call\n",
      "    return _do_call(args, kwargs, fn_name=fn_name)\n",
      "  File \"/Users/Daniel/opt/anaconda3/envs/deeplearning/lib/python3.8/site-packages/anvil/server.py\", line 395, in _do_call\n",
      "    return _threaded_server.do_call(args, kwargs, fn_name=fn_name, live_object=live_object)\n",
      "  File \"/Users/Daniel/opt/anaconda3/envs/deeplearning/lib/python3.8/site-packages/anvil/_threaded_server.py\", line 435, in do_call\n",
      "    raise error_from_server\n",
      "anvil._server.AnvilWrappedError: 'Connection to Anvil Uplink server lost'\n",
      "\n",
      "During handling of the above exception, another exception occurred:\n",
      "\n",
      "Traceback (most recent call last):\n",
      "  File \"/Users/Daniel/opt/anaconda3/envs/deeplearning/lib/python3.8/threading.py\", line 932, in _bootstrap_inner\n",
      "    self.run()\n",
      "  File \"/Users/Daniel/opt/anaconda3/envs/deeplearning/lib/python3.8/threading.py\", line 870, in run\n",
      "    self._target(*self._args, **self._kwargs)\n",
      "  File \"/Users/Daniel/opt/anaconda3/envs/deeplearning/lib/python3.8/site-packages/anvil/server.py\", line 206, in heartbeat_until_reopened\n",
      "    call(\"anvil.private.echo\", \"keep-alive\")\n",
      "  File \"/Users/Daniel/opt/anaconda3/envs/deeplearning/lib/python3.8/site-packages/anvil/server.py\", line 406, in call\n",
      "    raise _server._deserialise_exception(e.error_obj)\n",
      "anvil._server.AnvilWrappedError: 'Connection to Anvil Uplink server lost'\n"
     ]
    },
    {
     "name": "stdout",
     "output_type": "stream",
     "text": [
      "Anvil websocket closed (code 1006, reason=Going away)\n",
      "Reconnecting Anvil Uplink...\n",
      "Connecting to wss://anvil.works/uplink\n",
      "Anvil websocket open\n",
      "Connected to \"Default environment\" as SERVER\n"
     ]
    },
    {
     "name": "stderr",
     "output_type": "stream",
     "text": [
      "Exception in thread Thread-441:\n",
      "Traceback (most recent call last):\n",
      "  File \"/Users/Daniel/opt/anaconda3/envs/deeplearning/lib/python3.8/site-packages/anvil/server.py\", line 403, in call\n",
      "    return _do_call(args, kwargs, fn_name=fn_name)\n",
      "  File \"/Users/Daniel/opt/anaconda3/envs/deeplearning/lib/python3.8/site-packages/anvil/server.py\", line 395, in _do_call\n",
      "    return _threaded_server.do_call(args, kwargs, fn_name=fn_name, live_object=live_object)\n",
      "  File \"/Users/Daniel/opt/anaconda3/envs/deeplearning/lib/python3.8/site-packages/anvil/_threaded_server.py\", line 435, in do_call\n",
      "    raise error_from_server\n",
      "anvil._server.AnvilWrappedError: 'Connection to Anvil Uplink server lost'\n",
      "\n",
      "During handling of the above exception, another exception occurred:\n",
      "\n",
      "Traceback (most recent call last):\n",
      "  File \"/Users/Daniel/opt/anaconda3/envs/deeplearning/lib/python3.8/threading.py\", line 932, in _bootstrap_inner\n",
      "    self.run()\n",
      "  File \"/Users/Daniel/opt/anaconda3/envs/deeplearning/lib/python3.8/threading.py\", line 870, in run\n",
      "    self._target(*self._args, **self._kwargs)\n",
      "  File \"/Users/Daniel/opt/anaconda3/envs/deeplearning/lib/python3.8/site-packages/anvil/server.py\", line 206, in heartbeat_until_reopened\n",
      "    call(\"anvil.private.echo\", \"keep-alive\")\n",
      "  File \"/Users/Daniel/opt/anaconda3/envs/deeplearning/lib/python3.8/site-packages/anvil/server.py\", line 406, in call\n",
      "    raise _server._deserialise_exception(e.error_obj)\n",
      "anvil._server.AnvilWrappedError: 'Connection to Anvil Uplink server lost'\n"
     ]
    },
    {
     "name": "stdout",
     "output_type": "stream",
     "text": [
      "Anvil websocket closed (code 1006, reason=Going away)\n",
      "Reconnecting Anvil Uplink...\n",
      "Connecting to wss://anvil.works/uplink\n",
      "Anvil websocket open\n",
      "Connected to \"Default environment\" as SERVER\n"
     ]
    },
    {
     "name": "stderr",
     "output_type": "stream",
     "text": [
      "Exception in thread Thread-444:\n",
      "Traceback (most recent call last):\n",
      "  File \"/Users/Daniel/opt/anaconda3/envs/deeplearning/lib/python3.8/site-packages/anvil/server.py\", line 403, in call\n",
      "    return _do_call(args, kwargs, fn_name=fn_name)\n",
      "  File \"/Users/Daniel/opt/anaconda3/envs/deeplearning/lib/python3.8/site-packages/anvil/server.py\", line 395, in _do_call\n",
      "    return _threaded_server.do_call(args, kwargs, fn_name=fn_name, live_object=live_object)\n",
      "  File \"/Users/Daniel/opt/anaconda3/envs/deeplearning/lib/python3.8/site-packages/anvil/_threaded_server.py\", line 435, in do_call\n",
      "    raise error_from_server\n",
      "anvil._server.AnvilWrappedError: 'Connection to Anvil Uplink server lost'\n",
      "\n",
      "During handling of the above exception, another exception occurred:\n",
      "\n",
      "Traceback (most recent call last):\n",
      "  File \"/Users/Daniel/opt/anaconda3/envs/deeplearning/lib/python3.8/threading.py\", line 932, in _bootstrap_inner\n",
      "    self.run()\n",
      "  File \"/Users/Daniel/opt/anaconda3/envs/deeplearning/lib/python3.8/threading.py\", line 870, in run\n",
      "    self._target(*self._args, **self._kwargs)\n",
      "  File \"/Users/Daniel/opt/anaconda3/envs/deeplearning/lib/python3.8/site-packages/anvil/server.py\", line 206, in heartbeat_until_reopened\n",
      "    call(\"anvil.private.echo\", \"keep-alive\")\n",
      "  File \"/Users/Daniel/opt/anaconda3/envs/deeplearning/lib/python3.8/site-packages/anvil/server.py\", line 406, in call\n",
      "    raise _server._deserialise_exception(e.error_obj)\n",
      "anvil._server.AnvilWrappedError: 'Connection to Anvil Uplink server lost'\n"
     ]
    },
    {
     "name": "stdout",
     "output_type": "stream",
     "text": [
      "Anvil websocket closed (code 1006, reason=Going away)\n",
      "Reconnecting Anvil Uplink...\n",
      "Connecting to wss://anvil.works/uplink\n",
      "Anvil websocket open\n",
      "Connected to \"Default environment\" as SERVER\n"
     ]
    },
    {
     "name": "stderr",
     "output_type": "stream",
     "text": [
      "Exception in thread Thread-447:\n",
      "Traceback (most recent call last):\n",
      "  File \"/Users/Daniel/opt/anaconda3/envs/deeplearning/lib/python3.8/site-packages/anvil/server.py\", line 403, in call\n",
      "    return _do_call(args, kwargs, fn_name=fn_name)\n",
      "  File \"/Users/Daniel/opt/anaconda3/envs/deeplearning/lib/python3.8/site-packages/anvil/server.py\", line 395, in _do_call\n",
      "    return _threaded_server.do_call(args, kwargs, fn_name=fn_name, live_object=live_object)\n",
      "  File \"/Users/Daniel/opt/anaconda3/envs/deeplearning/lib/python3.8/site-packages/anvil/_threaded_server.py\", line 435, in do_call\n",
      "    raise error_from_server\n",
      "anvil._server.AnvilWrappedError: 'Connection to Anvil Uplink server lost'\n",
      "\n",
      "During handling of the above exception, another exception occurred:\n",
      "\n",
      "Traceback (most recent call last):\n",
      "  File \"/Users/Daniel/opt/anaconda3/envs/deeplearning/lib/python3.8/threading.py\", line 932, in _bootstrap_inner\n",
      "    self.run()\n",
      "  File \"/Users/Daniel/opt/anaconda3/envs/deeplearning/lib/python3.8/threading.py\", line 870, in run\n",
      "    self._target(*self._args, **self._kwargs)\n",
      "  File \"/Users/Daniel/opt/anaconda3/envs/deeplearning/lib/python3.8/site-packages/anvil/server.py\", line 206, in heartbeat_until_reopened\n",
      "    call(\"anvil.private.echo\", \"keep-alive\")\n",
      "  File \"/Users/Daniel/opt/anaconda3/envs/deeplearning/lib/python3.8/site-packages/anvil/server.py\", line 406, in call\n",
      "    raise _server._deserialise_exception(e.error_obj)\n",
      "anvil._server.AnvilWrappedError: 'Connection to Anvil Uplink server lost'\n"
     ]
    },
    {
     "name": "stdout",
     "output_type": "stream",
     "text": [
      "Anvil websocket closed (code 1006, reason=Going away)\n",
      "Reconnecting Anvil Uplink...\n",
      "Connecting to wss://anvil.works/uplink\n",
      "Anvil websocket open\n",
      "Connected to \"Default environment\" as SERVER\n"
     ]
    },
    {
     "name": "stderr",
     "output_type": "stream",
     "text": [
      "Exception in thread Thread-450:\n",
      "Traceback (most recent call last):\n",
      "  File \"/Users/Daniel/opt/anaconda3/envs/deeplearning/lib/python3.8/site-packages/anvil/server.py\", line 403, in call\n",
      "    return _do_call(args, kwargs, fn_name=fn_name)\n",
      "  File \"/Users/Daniel/opt/anaconda3/envs/deeplearning/lib/python3.8/site-packages/anvil/server.py\", line 395, in _do_call\n",
      "    return _threaded_server.do_call(args, kwargs, fn_name=fn_name, live_object=live_object)\n",
      "  File \"/Users/Daniel/opt/anaconda3/envs/deeplearning/lib/python3.8/site-packages/anvil/_threaded_server.py\", line 435, in do_call\n",
      "    raise error_from_server\n",
      "anvil._server.AnvilWrappedError: 'Connection to Anvil Uplink server lost'\n",
      "\n",
      "During handling of the above exception, another exception occurred:\n",
      "\n",
      "Traceback (most recent call last):\n",
      "  File \"/Users/Daniel/opt/anaconda3/envs/deeplearning/lib/python3.8/threading.py\", line 932, in _bootstrap_inner\n",
      "    self.run()\n",
      "  File \"/Users/Daniel/opt/anaconda3/envs/deeplearning/lib/python3.8/threading.py\", line 870, in run\n",
      "    self._target(*self._args, **self._kwargs)\n",
      "  File \"/Users/Daniel/opt/anaconda3/envs/deeplearning/lib/python3.8/site-packages/anvil/server.py\", line 206, in heartbeat_until_reopened\n",
      "    call(\"anvil.private.echo\", \"keep-alive\")\n",
      "  File \"/Users/Daniel/opt/anaconda3/envs/deeplearning/lib/python3.8/site-packages/anvil/server.py\", line 406, in call\n",
      "    raise _server._deserialise_exception(e.error_obj)\n",
      "anvil._server.AnvilWrappedError: 'Connection to Anvil Uplink server lost'\n"
     ]
    },
    {
     "name": "stdout",
     "output_type": "stream",
     "text": [
      "Anvil websocket closed (code 1006, reason=Going away)\n",
      "Reconnecting Anvil Uplink...\n",
      "Connecting to wss://anvil.works/uplink\n",
      "Anvil websocket open\n",
      "Connected to \"Default environment\" as SERVER\n",
      "Anvil websocket closed (code 1006, reason=Going away)\n",
      "Reconnecting Anvil Uplink...\n",
      "Connecting to wss://anvil.works/uplink\n",
      "Anvil websocket open\n",
      "Connected to \"Default environment\" as SERVER\n"
     ]
    },
    {
     "name": "stderr",
     "output_type": "stream",
     "text": [
      "Exception in thread Thread-456:\n",
      "Traceback (most recent call last):\n",
      "  File \"/Users/Daniel/opt/anaconda3/envs/deeplearning/lib/python3.8/site-packages/anvil/server.py\", line 403, in call\n",
      "    return _do_call(args, kwargs, fn_name=fn_name)\n",
      "  File \"/Users/Daniel/opt/anaconda3/envs/deeplearning/lib/python3.8/site-packages/anvil/server.py\", line 395, in _do_call\n",
      "    return _threaded_server.do_call(args, kwargs, fn_name=fn_name, live_object=live_object)\n",
      "  File \"/Users/Daniel/opt/anaconda3/envs/deeplearning/lib/python3.8/site-packages/anvil/_threaded_server.py\", line 435, in do_call\n",
      "    raise error_from_server\n",
      "anvil._server.AnvilWrappedError: 'Connection to Anvil Uplink server lost'\n",
      "\n",
      "During handling of the above exception, another exception occurred:\n",
      "\n",
      "Traceback (most recent call last):\n",
      "  File \"/Users/Daniel/opt/anaconda3/envs/deeplearning/lib/python3.8/threading.py\", line 932, in _bootstrap_inner\n",
      "    self.run()\n",
      "  File \"/Users/Daniel/opt/anaconda3/envs/deeplearning/lib/python3.8/threading.py\", line 870, in run\n",
      "    self._target(*self._args, **self._kwargs)\n",
      "  File \"/Users/Daniel/opt/anaconda3/envs/deeplearning/lib/python3.8/site-packages/anvil/server.py\", line 206, in heartbeat_until_reopened\n",
      "    call(\"anvil.private.echo\", \"keep-alive\")\n",
      "  File \"/Users/Daniel/opt/anaconda3/envs/deeplearning/lib/python3.8/site-packages/anvil/server.py\", line 406, in call\n",
      "    raise _server._deserialise_exception(e.error_obj)\n",
      "anvil._server.AnvilWrappedError: 'Connection to Anvil Uplink server lost'\n"
     ]
    },
    {
     "name": "stdout",
     "output_type": "stream",
     "text": [
      "Anvil websocket closed (code 1006, reason=Going away)\n",
      "Reconnecting Anvil Uplink...\n",
      "Connecting to wss://anvil.works/uplink\n",
      "Anvil websocket open\n",
      "Connected to \"Default environment\" as SERVER\n"
     ]
    },
    {
     "name": "stderr",
     "output_type": "stream",
     "text": [
      "Exception in thread Thread-459:\n",
      "Traceback (most recent call last):\n",
      "  File \"/Users/Daniel/opt/anaconda3/envs/deeplearning/lib/python3.8/site-packages/anvil/server.py\", line 403, in call\n",
      "    return _do_call(args, kwargs, fn_name=fn_name)\n",
      "  File \"/Users/Daniel/opt/anaconda3/envs/deeplearning/lib/python3.8/site-packages/anvil/server.py\", line 395, in _do_call\n",
      "    return _threaded_server.do_call(args, kwargs, fn_name=fn_name, live_object=live_object)\n",
      "  File \"/Users/Daniel/opt/anaconda3/envs/deeplearning/lib/python3.8/site-packages/anvil/_threaded_server.py\", line 435, in do_call\n",
      "    raise error_from_server\n",
      "anvil._server.AnvilWrappedError: 'Connection to Anvil Uplink server lost'\n",
      "\n",
      "During handling of the above exception, another exception occurred:\n",
      "\n",
      "Traceback (most recent call last):\n",
      "  File \"/Users/Daniel/opt/anaconda3/envs/deeplearning/lib/python3.8/threading.py\", line 932, in _bootstrap_inner\n",
      "    self.run()\n",
      "  File \"/Users/Daniel/opt/anaconda3/envs/deeplearning/lib/python3.8/threading.py\", line 870, in run\n",
      "    self._target(*self._args, **self._kwargs)\n",
      "  File \"/Users/Daniel/opt/anaconda3/envs/deeplearning/lib/python3.8/site-packages/anvil/server.py\", line 206, in heartbeat_until_reopened\n",
      "    call(\"anvil.private.echo\", \"keep-alive\")\n",
      "  File \"/Users/Daniel/opt/anaconda3/envs/deeplearning/lib/python3.8/site-packages/anvil/server.py\", line 406, in call\n",
      "    raise _server._deserialise_exception(e.error_obj)\n",
      "anvil._server.AnvilWrappedError: 'Connection to Anvil Uplink server lost'\n"
     ]
    },
    {
     "name": "stdout",
     "output_type": "stream",
     "text": [
      "Anvil websocket closed (code 1006, reason=Going away)\n",
      "Reconnecting Anvil Uplink...\n",
      "Connecting to wss://anvil.works/uplink\n",
      "Anvil websocket open\n",
      "Connected to \"Default environment\" as SERVER\n"
     ]
    },
    {
     "name": "stderr",
     "output_type": "stream",
     "text": [
      "Exception in thread Thread-462:\n",
      "Traceback (most recent call last):\n",
      "  File \"/Users/Daniel/opt/anaconda3/envs/deeplearning/lib/python3.8/site-packages/anvil/server.py\", line 403, in call\n",
      "    return _do_call(args, kwargs, fn_name=fn_name)\n",
      "  File \"/Users/Daniel/opt/anaconda3/envs/deeplearning/lib/python3.8/site-packages/anvil/server.py\", line 395, in _do_call\n",
      "    return _threaded_server.do_call(args, kwargs, fn_name=fn_name, live_object=live_object)\n",
      "  File \"/Users/Daniel/opt/anaconda3/envs/deeplearning/lib/python3.8/site-packages/anvil/_threaded_server.py\", line 435, in do_call\n",
      "    raise error_from_server\n",
      "anvil._server.AnvilWrappedError: 'Connection to Anvil Uplink server lost'\n",
      "\n",
      "During handling of the above exception, another exception occurred:\n",
      "\n",
      "Traceback (most recent call last):\n",
      "  File \"/Users/Daniel/opt/anaconda3/envs/deeplearning/lib/python3.8/threading.py\", line 932, in _bootstrap_inner\n",
      "    self.run()\n",
      "  File \"/Users/Daniel/opt/anaconda3/envs/deeplearning/lib/python3.8/threading.py\", line 870, in run\n",
      "    self._target(*self._args, **self._kwargs)\n",
      "  File \"/Users/Daniel/opt/anaconda3/envs/deeplearning/lib/python3.8/site-packages/anvil/server.py\", line 206, in heartbeat_until_reopened\n",
      "    call(\"anvil.private.echo\", \"keep-alive\")\n",
      "  File \"/Users/Daniel/opt/anaconda3/envs/deeplearning/lib/python3.8/site-packages/anvil/server.py\", line 406, in call\n",
      "    raise _server._deserialise_exception(e.error_obj)\n",
      "anvil._server.AnvilWrappedError: 'Connection to Anvil Uplink server lost'\n"
     ]
    },
    {
     "name": "stdout",
     "output_type": "stream",
     "text": [
      "Anvil websocket closed (code 1006, reason=Going away)\n",
      "Reconnecting Anvil Uplink...\n",
      "Connecting to wss://anvil.works/uplink\n",
      "Anvil websocket open\n",
      "Connected to \"Default environment\" as SERVER\n"
     ]
    },
    {
     "name": "stderr",
     "output_type": "stream",
     "text": [
      "Exception in thread Thread-465:\n",
      "Traceback (most recent call last):\n",
      "  File \"/Users/Daniel/opt/anaconda3/envs/deeplearning/lib/python3.8/site-packages/anvil/server.py\", line 403, in call\n",
      "    return _do_call(args, kwargs, fn_name=fn_name)\n",
      "  File \"/Users/Daniel/opt/anaconda3/envs/deeplearning/lib/python3.8/site-packages/anvil/server.py\", line 395, in _do_call\n",
      "    return _threaded_server.do_call(args, kwargs, fn_name=fn_name, live_object=live_object)\n",
      "  File \"/Users/Daniel/opt/anaconda3/envs/deeplearning/lib/python3.8/site-packages/anvil/_threaded_server.py\", line 435, in do_call\n",
      "    raise error_from_server\n",
      "anvil._server.AnvilWrappedError: 'Connection to Anvil Uplink server lost'\n",
      "\n",
      "During handling of the above exception, another exception occurred:\n",
      "\n",
      "Traceback (most recent call last):\n",
      "  File \"/Users/Daniel/opt/anaconda3/envs/deeplearning/lib/python3.8/threading.py\", line 932, in _bootstrap_inner\n",
      "    self.run()\n",
      "  File \"/Users/Daniel/opt/anaconda3/envs/deeplearning/lib/python3.8/threading.py\", line 870, in run\n",
      "    self._target(*self._args, **self._kwargs)\n",
      "  File \"/Users/Daniel/opt/anaconda3/envs/deeplearning/lib/python3.8/site-packages/anvil/server.py\", line 206, in heartbeat_until_reopened\n",
      "    call(\"anvil.private.echo\", \"keep-alive\")\n",
      "  File \"/Users/Daniel/opt/anaconda3/envs/deeplearning/lib/python3.8/site-packages/anvil/server.py\", line 406, in call\n",
      "    raise _server._deserialise_exception(e.error_obj)\n",
      "anvil._server.AnvilWrappedError: 'Connection to Anvil Uplink server lost'\n"
     ]
    },
    {
     "name": "stdout",
     "output_type": "stream",
     "text": [
      "Anvil websocket closed (code 1006, reason=Going away)\n",
      "Reconnecting Anvil Uplink...\n",
      "Connecting to wss://anvil.works/uplink\n",
      "Anvil websocket open\n",
      "Connected to \"Default environment\" as SERVER\n"
     ]
    },
    {
     "name": "stderr",
     "output_type": "stream",
     "text": [
      "Exception in thread Thread-468:\n",
      "Traceback (most recent call last):\n",
      "  File \"/Users/Daniel/opt/anaconda3/envs/deeplearning/lib/python3.8/site-packages/anvil/server.py\", line 403, in call\n",
      "    return _do_call(args, kwargs, fn_name=fn_name)\n",
      "  File \"/Users/Daniel/opt/anaconda3/envs/deeplearning/lib/python3.8/site-packages/anvil/server.py\", line 395, in _do_call\n",
      "    return _threaded_server.do_call(args, kwargs, fn_name=fn_name, live_object=live_object)\n",
      "  File \"/Users/Daniel/opt/anaconda3/envs/deeplearning/lib/python3.8/site-packages/anvil/_threaded_server.py\", line 435, in do_call\n",
      "    raise error_from_server\n",
      "anvil._server.AnvilWrappedError: 'Connection to Anvil Uplink server lost'\n",
      "\n",
      "During handling of the above exception, another exception occurred:\n",
      "\n",
      "Traceback (most recent call last):\n",
      "  File \"/Users/Daniel/opt/anaconda3/envs/deeplearning/lib/python3.8/threading.py\", line 932, in _bootstrap_inner\n",
      "    self.run()\n",
      "  File \"/Users/Daniel/opt/anaconda3/envs/deeplearning/lib/python3.8/threading.py\", line 870, in run\n",
      "    self._target(*self._args, **self._kwargs)\n",
      "  File \"/Users/Daniel/opt/anaconda3/envs/deeplearning/lib/python3.8/site-packages/anvil/server.py\", line 206, in heartbeat_until_reopened\n",
      "    call(\"anvil.private.echo\", \"keep-alive\")\n",
      "  File \"/Users/Daniel/opt/anaconda3/envs/deeplearning/lib/python3.8/site-packages/anvil/server.py\", line 406, in call\n",
      "    raise _server._deserialise_exception(e.error_obj)\n",
      "anvil._server.AnvilWrappedError: 'Connection to Anvil Uplink server lost'\n"
     ]
    },
    {
     "name": "stdout",
     "output_type": "stream",
     "text": [
      "Anvil websocket closed (code 1006, reason=Going away)\n",
      "Reconnecting Anvil Uplink...\n",
      "Connecting to wss://anvil.works/uplink\n",
      "Anvil websocket open\n",
      "Connected to \"Default environment\" as SERVER\n"
     ]
    },
    {
     "name": "stderr",
     "output_type": "stream",
     "text": [
      "Exception in thread Thread-471:\n",
      "Traceback (most recent call last):\n",
      "  File \"/Users/Daniel/opt/anaconda3/envs/deeplearning/lib/python3.8/site-packages/anvil/server.py\", line 403, in call\n",
      "    return _do_call(args, kwargs, fn_name=fn_name)\n",
      "  File \"/Users/Daniel/opt/anaconda3/envs/deeplearning/lib/python3.8/site-packages/anvil/server.py\", line 395, in _do_call\n",
      "    return _threaded_server.do_call(args, kwargs, fn_name=fn_name, live_object=live_object)\n",
      "  File \"/Users/Daniel/opt/anaconda3/envs/deeplearning/lib/python3.8/site-packages/anvil/_threaded_server.py\", line 435, in do_call\n",
      "    raise error_from_server\n",
      "anvil._server.AnvilWrappedError: 'Connection to Anvil Uplink server lost'\n",
      "\n",
      "During handling of the above exception, another exception occurred:\n",
      "\n",
      "Traceback (most recent call last):\n",
      "  File \"/Users/Daniel/opt/anaconda3/envs/deeplearning/lib/python3.8/threading.py\", line 932, in _bootstrap_inner\n",
      "    self.run()\n",
      "  File \"/Users/Daniel/opt/anaconda3/envs/deeplearning/lib/python3.8/threading.py\", line 870, in run\n",
      "    self._target(*self._args, **self._kwargs)\n",
      "  File \"/Users/Daniel/opt/anaconda3/envs/deeplearning/lib/python3.8/site-packages/anvil/server.py\", line 206, in heartbeat_until_reopened\n",
      "    call(\"anvil.private.echo\", \"keep-alive\")\n",
      "  File \"/Users/Daniel/opt/anaconda3/envs/deeplearning/lib/python3.8/site-packages/anvil/server.py\", line 406, in call\n",
      "    raise _server._deserialise_exception(e.error_obj)\n",
      "anvil._server.AnvilWrappedError: 'Connection to Anvil Uplink server lost'\n"
     ]
    },
    {
     "name": "stdout",
     "output_type": "stream",
     "text": [
      "Anvil websocket closed (code 1006, reason=Going away)\n",
      "Reconnecting Anvil Uplink...\n",
      "Connecting to wss://anvil.works/uplink\n",
      "Anvil websocket open\n",
      "Connected to \"Default environment\" as SERVER\n"
     ]
    },
    {
     "name": "stderr",
     "output_type": "stream",
     "text": [
      "Exception in thread Thread-474:\n",
      "Traceback (most recent call last):\n",
      "  File \"/Users/Daniel/opt/anaconda3/envs/deeplearning/lib/python3.8/site-packages/anvil/server.py\", line 403, in call\n",
      "    return _do_call(args, kwargs, fn_name=fn_name)\n",
      "  File \"/Users/Daniel/opt/anaconda3/envs/deeplearning/lib/python3.8/site-packages/anvil/server.py\", line 395, in _do_call\n",
      "    return _threaded_server.do_call(args, kwargs, fn_name=fn_name, live_object=live_object)\n",
      "  File \"/Users/Daniel/opt/anaconda3/envs/deeplearning/lib/python3.8/site-packages/anvil/_threaded_server.py\", line 435, in do_call\n",
      "    raise error_from_server\n",
      "anvil._server.AnvilWrappedError: 'Connection to Anvil Uplink server lost'\n",
      "\n",
      "During handling of the above exception, another exception occurred:\n",
      "\n",
      "Traceback (most recent call last):\n",
      "  File \"/Users/Daniel/opt/anaconda3/envs/deeplearning/lib/python3.8/threading.py\", line 932, in _bootstrap_inner\n",
      "    self.run()\n",
      "  File \"/Users/Daniel/opt/anaconda3/envs/deeplearning/lib/python3.8/threading.py\", line 870, in run\n",
      "    self._target(*self._args, **self._kwargs)\n",
      "  File \"/Users/Daniel/opt/anaconda3/envs/deeplearning/lib/python3.8/site-packages/anvil/server.py\", line 206, in heartbeat_until_reopened\n",
      "    call(\"anvil.private.echo\", \"keep-alive\")\n",
      "  File \"/Users/Daniel/opt/anaconda3/envs/deeplearning/lib/python3.8/site-packages/anvil/server.py\", line 406, in call\n",
      "    raise _server._deserialise_exception(e.error_obj)\n",
      "anvil._server.AnvilWrappedError: 'Connection to Anvil Uplink server lost'\n"
     ]
    },
    {
     "name": "stdout",
     "output_type": "stream",
     "text": [
      "Anvil websocket closed (code 1006, reason=Going away)\n",
      "Reconnecting Anvil Uplink...\n",
      "Connecting to wss://anvil.works/uplink\n",
      "Anvil websocket open\n",
      "Connected to \"Default environment\" as SERVER\n"
     ]
    },
    {
     "name": "stderr",
     "output_type": "stream",
     "text": [
      "Exception in thread Thread-477:\n",
      "Traceback (most recent call last):\n",
      "  File \"/Users/Daniel/opt/anaconda3/envs/deeplearning/lib/python3.8/site-packages/anvil/server.py\", line 403, in call\n",
      "    return _do_call(args, kwargs, fn_name=fn_name)\n",
      "  File \"/Users/Daniel/opt/anaconda3/envs/deeplearning/lib/python3.8/site-packages/anvil/server.py\", line 395, in _do_call\n",
      "    return _threaded_server.do_call(args, kwargs, fn_name=fn_name, live_object=live_object)\n",
      "  File \"/Users/Daniel/opt/anaconda3/envs/deeplearning/lib/python3.8/site-packages/anvil/_threaded_server.py\", line 435, in do_call\n",
      "    raise error_from_server\n",
      "anvil._server.AnvilWrappedError: 'Connection to Anvil Uplink server lost'\n",
      "\n",
      "During handling of the above exception, another exception occurred:\n",
      "\n",
      "Traceback (most recent call last):\n",
      "  File \"/Users/Daniel/opt/anaconda3/envs/deeplearning/lib/python3.8/threading.py\", line 932, in _bootstrap_inner\n",
      "    self.run()\n",
      "  File \"/Users/Daniel/opt/anaconda3/envs/deeplearning/lib/python3.8/threading.py\", line 870, in run\n",
      "    self._target(*self._args, **self._kwargs)\n",
      "  File \"/Users/Daniel/opt/anaconda3/envs/deeplearning/lib/python3.8/site-packages/anvil/server.py\", line 206, in heartbeat_until_reopened\n",
      "    call(\"anvil.private.echo\", \"keep-alive\")\n",
      "  File \"/Users/Daniel/opt/anaconda3/envs/deeplearning/lib/python3.8/site-packages/anvil/server.py\", line 406, in call\n",
      "    raise _server._deserialise_exception(e.error_obj)\n",
      "anvil._server.AnvilWrappedError: 'Connection to Anvil Uplink server lost'\n"
     ]
    },
    {
     "name": "stdout",
     "output_type": "stream",
     "text": [
      "Anvil websocket closed (code 1006, reason=Going away)\n",
      "Reconnecting Anvil Uplink...\n",
      "Connecting to wss://anvil.works/uplink\n",
      "Anvil websocket open\n",
      "Connected to \"Default environment\" as SERVER\n"
     ]
    },
    {
     "name": "stderr",
     "output_type": "stream",
     "text": [
      "Exception in thread Thread-480:\n",
      "Traceback (most recent call last):\n",
      "  File \"/Users/Daniel/opt/anaconda3/envs/deeplearning/lib/python3.8/site-packages/anvil/server.py\", line 403, in call\n",
      "    return _do_call(args, kwargs, fn_name=fn_name)\n",
      "  File \"/Users/Daniel/opt/anaconda3/envs/deeplearning/lib/python3.8/site-packages/anvil/server.py\", line 395, in _do_call\n",
      "    return _threaded_server.do_call(args, kwargs, fn_name=fn_name, live_object=live_object)\n",
      "  File \"/Users/Daniel/opt/anaconda3/envs/deeplearning/lib/python3.8/site-packages/anvil/_threaded_server.py\", line 435, in do_call\n",
      "    raise error_from_server\n",
      "anvil._server.AnvilWrappedError: 'Connection to Anvil Uplink server lost'\n",
      "\n",
      "During handling of the above exception, another exception occurred:\n",
      "\n",
      "Traceback (most recent call last):\n",
      "  File \"/Users/Daniel/opt/anaconda3/envs/deeplearning/lib/python3.8/threading.py\", line 932, in _bootstrap_inner\n",
      "    self.run()\n",
      "  File \"/Users/Daniel/opt/anaconda3/envs/deeplearning/lib/python3.8/threading.py\", line 870, in run\n",
      "    self._target(*self._args, **self._kwargs)\n",
      "  File \"/Users/Daniel/opt/anaconda3/envs/deeplearning/lib/python3.8/site-packages/anvil/server.py\", line 206, in heartbeat_until_reopened\n",
      "    call(\"anvil.private.echo\", \"keep-alive\")\n",
      "  File \"/Users/Daniel/opt/anaconda3/envs/deeplearning/lib/python3.8/site-packages/anvil/server.py\", line 406, in call\n",
      "    raise _server._deserialise_exception(e.error_obj)\n",
      "anvil._server.AnvilWrappedError: 'Connection to Anvil Uplink server lost'\n"
     ]
    },
    {
     "name": "stdout",
     "output_type": "stream",
     "text": [
      "Anvil websocket closed (code 1006, reason=Going away)\n",
      "Reconnecting Anvil Uplink...\n",
      "Connecting to wss://anvil.works/uplink\n",
      "Anvil websocket open\n",
      "Connected to \"Default environment\" as SERVER\n"
     ]
    }
   ],
   "source": [
    "import anvil.server\n",
    "import anvil.media\n",
    "\n",
    "anvil.server.connect(\"EU37GLRZWNOA6ZUIPHDTQMWY-XP5ORPH3VOQOXLPO\")\n",
    "\n",
    "@anvil.server.callable\n",
    "def classify_image(file):\n",
    "    with anvil.media.TempFile(file) as file:\n",
    "        x_dim = 216\n",
    "        y_dim = 288\n",
    "        img = cv2.imread(file)\n",
    "        img = cv2.resize(img, dsize = (x_dim,y_dim))\n",
    "        img = img.flatten()\n",
    "        img = img.astype('float')\n",
    "        img /=255\n",
    "        img= img.T.reshape(1,-1)\n",
    "        pred = model.predict(img)\n",
    "        pred = num_to_card(int(pred))\n",
    "        maximum = np.amax(model.predict_proba(img))*100\n",
    "        return (pred,round(maximum,2))"
   ]
  },
  {
   "cell_type": "code",
   "execution_count": null,
   "id": "3cb34f73",
   "metadata": {},
   "outputs": [],
   "source": []
  }
 ],
 "metadata": {
  "kernelspec": {
   "display_name": "Python [conda env:deeplearning]",
   "language": "python",
   "name": "conda-env-deeplearning-py"
  },
  "language_info": {
   "codemirror_mode": {
    "name": "ipython",
    "version": 3
   },
   "file_extension": ".py",
   "mimetype": "text/x-python",
   "name": "python",
   "nbconvert_exporter": "python",
   "pygments_lexer": "ipython3",
   "version": "3.8.2"
  }
 },
 "nbformat": 4,
 "nbformat_minor": 5
}
