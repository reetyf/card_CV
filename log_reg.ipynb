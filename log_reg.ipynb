{
 "cells": [
  {
   "cell_type": "code",
   "execution_count": 3,
   "id": "604459d1",
   "metadata": {},
   "outputs": [],
   "source": [
    "from preprocess import preprocess,view_head\n",
    "import numpy as np\n",
    "import matplotlib.pyplot as plt\n",
    "import pandas as pd"
   ]
  },
  {
   "cell_type": "code",
   "execution_count": null,
   "id": "71f8d0ac",
   "metadata": {},
   "outputs": [],
   "source": [
    "# x_dim = 216\n",
    "# y_dim = 288\n",
    "# iterations = 250\n",
    "# deep = False\n",
    "# df = preprocess(x_dim,y_dim,deep)#,iterations)"
   ]
  },
  {
   "cell_type": "code",
   "execution_count": 7,
   "id": "97d65b4d",
   "metadata": {},
   "outputs": [],
   "source": [
    "df = pd.read_csv('full_preprocessedML.csv',index_col=0)"
   ]
  },
  {
   "cell_type": "code",
   "execution_count": null,
   "id": "2c24c1e0",
   "metadata": {},
   "outputs": [],
   "source": []
  },
  {
   "cell_type": "code",
   "execution_count": 11,
   "id": "da643313",
   "metadata": {},
   "outputs": [
    {
     "ename": "AttributeError",
     "evalue": "'str' object has no attribute 'reshape'",
     "output_type": "error",
     "traceback": [
      "\u001b[0;31m---------------------------------------------------------------------------\u001b[0m",
      "\u001b[0;31mAttributeError\u001b[0m                            Traceback (most recent call last)",
      "\u001b[0;32m/var/folders/7t/p8sb13rj56vgpg9wvfj5ph5c0000gn/T/ipykernel_49001/2514697188.py\u001b[0m in \u001b[0;36m<module>\u001b[0;34m\u001b[0m\n\u001b[0;32m----> 1\u001b[0;31m \u001b[0mview_head\u001b[0m\u001b[0;34m(\u001b[0m\u001b[0mdf\u001b[0m\u001b[0;34m,\u001b[0m\u001b[0;36m288\u001b[0m\u001b[0;34m,\u001b[0m\u001b[0;36m216\u001b[0m\u001b[0;34m)\u001b[0m\u001b[0;34m\u001b[0m\u001b[0;34m\u001b[0m\u001b[0m\n\u001b[0m",
      "\u001b[0;32m~/Desktop/brainstation/capstone/preprocess.py\u001b[0m in \u001b[0;36mview_head\u001b[0;34m(pixel_df, x_dim, y_dim, num)\u001b[0m\n\u001b[1;32m    171\u001b[0m \u001b[0;32mdef\u001b[0m \u001b[0mview_head\u001b[0m\u001b[0;34m(\u001b[0m\u001b[0mpixel_df\u001b[0m\u001b[0;34m,\u001b[0m \u001b[0mx_dim\u001b[0m\u001b[0;34m,\u001b[0m\u001b[0my_dim\u001b[0m\u001b[0;34m,\u001b[0m\u001b[0mnum\u001b[0m \u001b[0;34m=\u001b[0m \u001b[0;36m5\u001b[0m\u001b[0;34m)\u001b[0m\u001b[0;34m:\u001b[0m\u001b[0;34m\u001b[0m\u001b[0;34m\u001b[0m\u001b[0m\n\u001b[1;32m    172\u001b[0m     \u001b[0;32mfor\u001b[0m \u001b[0mi\u001b[0m \u001b[0;32min\u001b[0m \u001b[0mrange\u001b[0m\u001b[0;34m(\u001b[0m\u001b[0;36m0\u001b[0m\u001b[0;34m,\u001b[0m\u001b[0;36m5\u001b[0m\u001b[0;34m)\u001b[0m\u001b[0;34m:\u001b[0m\u001b[0;34m\u001b[0m\u001b[0;34m\u001b[0m\u001b[0m\n\u001b[0;32m--> 173\u001b[0;31m         \u001b[0mplt\u001b[0m\u001b[0;34m.\u001b[0m\u001b[0mimshow\u001b[0m\u001b[0;34m(\u001b[0m\u001b[0mpixel_df\u001b[0m\u001b[0;34m.\u001b[0m\u001b[0mloc\u001b[0m\u001b[0;34m[\u001b[0m\u001b[0mi\u001b[0m\u001b[0;34m,\u001b[0m\u001b[0;34m'img_card_arr'\u001b[0m\u001b[0;34m]\u001b[0m\u001b[0;34m.\u001b[0m\u001b[0mreshape\u001b[0m\u001b[0;34m(\u001b[0m\u001b[0my_dim\u001b[0m\u001b[0;34m,\u001b[0m\u001b[0mx_dim\u001b[0m\u001b[0;34m,\u001b[0m\u001b[0;36m3\u001b[0m\u001b[0;34m)\u001b[0m\u001b[0;34m)\u001b[0m\u001b[0;34m\u001b[0m\u001b[0;34m\u001b[0m\u001b[0m\n\u001b[0m\u001b[1;32m    174\u001b[0m         \u001b[0mplt\u001b[0m\u001b[0;34m.\u001b[0m\u001b[0mtitle\u001b[0m\u001b[0;34m(\u001b[0m\u001b[0mstr\u001b[0m\u001b[0;34m(\u001b[0m\u001b[0mpixel_df\u001b[0m\u001b[0;34m.\u001b[0m\u001b[0mloc\u001b[0m\u001b[0;34m[\u001b[0m\u001b[0mi\u001b[0m\u001b[0;34m,\u001b[0m\u001b[0;34m'card_class'\u001b[0m\u001b[0;34m]\u001b[0m\u001b[0;34m)\u001b[0m\u001b[0;34m)\u001b[0m\u001b[0;34m\u001b[0m\u001b[0;34m\u001b[0m\u001b[0m\n\u001b[1;32m    175\u001b[0m         \u001b[0mplt\u001b[0m\u001b[0;34m.\u001b[0m\u001b[0mshow\u001b[0m\u001b[0;34m(\u001b[0m\u001b[0;34m)\u001b[0m\u001b[0;34m\u001b[0m\u001b[0;34m\u001b[0m\u001b[0m\n",
      "\u001b[0;31mAttributeError\u001b[0m: 'str' object has no attribute 'reshape'"
     ]
    }
   ],
   "source": [
    "view_head(df,288,216)"
   ]
  },
  {
   "cell_type": "code",
   "execution_count": 6,
   "id": "f1adc8ec",
   "metadata": {},
   "outputs": [],
   "source": [
    "#BEFORE MODELLING< VIEW DISTRIBUTIONS AND CHECK COLINEAriTY \n",
    "\n"
   ]
  },
  {
   "cell_type": "markdown",
   "id": "23c8f83d",
   "metadata": {},
   "source": [
    "# X['suit'].str.contains('Clubs')"
   ]
  },
  {
   "cell_type": "code",
   "execution_count": null,
   "id": "c3c19493",
   "metadata": {},
   "outputs": [],
   "source": []
  },
  {
   "cell_type": "markdown",
   "id": "7c23a59a",
   "metadata": {},
   "source": [
    "### LOG REG FOR RED/NOT"
   ]
  },
  {
   "cell_type": "code",
   "execution_count": 7,
   "id": "c0fc9746",
   "metadata": {},
   "outputs": [],
   "source": [
    "X = df.iloc[:,2:-3]"
   ]
  },
  {
   "cell_type": "code",
   "execution_count": 8,
   "id": "183a8808",
   "metadata": {},
   "outputs": [
    {
     "data": {
      "text/html": [
       "<div>\n",
       "<style scoped>\n",
       "    .dataframe tbody tr th:only-of-type {\n",
       "        vertical-align: middle;\n",
       "    }\n",
       "\n",
       "    .dataframe tbody tr th {\n",
       "        vertical-align: top;\n",
       "    }\n",
       "\n",
       "    .dataframe thead th {\n",
       "        text-align: right;\n",
       "    }\n",
       "</style>\n",
       "<table border=\"1\" class=\"dataframe\">\n",
       "  <thead>\n",
       "    <tr style=\"text-align: right;\">\n",
       "      <th></th>\n",
       "      <th>pixel_0</th>\n",
       "      <th>pixel_1</th>\n",
       "      <th>pixel_2</th>\n",
       "      <th>pixel_3</th>\n",
       "      <th>pixel_4</th>\n",
       "      <th>pixel_5</th>\n",
       "      <th>pixel_6</th>\n",
       "      <th>pixel_7</th>\n",
       "      <th>pixel_8</th>\n",
       "      <th>pixel_9</th>\n",
       "      <th>...</th>\n",
       "      <th>pixel_186614</th>\n",
       "      <th>pixel_186615</th>\n",
       "      <th>pixel_186616</th>\n",
       "      <th>pixel_186617</th>\n",
       "      <th>pixel_186618</th>\n",
       "      <th>pixel_186619</th>\n",
       "      <th>pixel_186620</th>\n",
       "      <th>pixel_186621</th>\n",
       "      <th>pixel_186622</th>\n",
       "      <th>pixel_186623</th>\n",
       "    </tr>\n",
       "  </thead>\n",
       "  <tbody>\n",
       "    <tr>\n",
       "      <th>0</th>\n",
       "      <td>10</td>\n",
       "      <td>10</td>\n",
       "      <td>10</td>\n",
       "      <td>10</td>\n",
       "      <td>9</td>\n",
       "      <td>13</td>\n",
       "      <td>8</td>\n",
       "      <td>7</td>\n",
       "      <td>11</td>\n",
       "      <td>11</td>\n",
       "      <td>...</td>\n",
       "      <td>53</td>\n",
       "      <td>40</td>\n",
       "      <td>43</td>\n",
       "      <td>47</td>\n",
       "      <td>27</td>\n",
       "      <td>31</td>\n",
       "      <td>32</td>\n",
       "      <td>30</td>\n",
       "      <td>31</td>\n",
       "      <td>41</td>\n",
       "    </tr>\n",
       "    <tr>\n",
       "      <th>1</th>\n",
       "      <td>11</td>\n",
       "      <td>11</td>\n",
       "      <td>11</td>\n",
       "      <td>11</td>\n",
       "      <td>11</td>\n",
       "      <td>11</td>\n",
       "      <td>11</td>\n",
       "      <td>11</td>\n",
       "      <td>11</td>\n",
       "      <td>12</td>\n",
       "      <td>...</td>\n",
       "      <td>2</td>\n",
       "      <td>5</td>\n",
       "      <td>4</td>\n",
       "      <td>8</td>\n",
       "      <td>3</td>\n",
       "      <td>2</td>\n",
       "      <td>4</td>\n",
       "      <td>5</td>\n",
       "      <td>4</td>\n",
       "      <td>6</td>\n",
       "    </tr>\n",
       "    <tr>\n",
       "      <th>2</th>\n",
       "      <td>27</td>\n",
       "      <td>27</td>\n",
       "      <td>41</td>\n",
       "      <td>31</td>\n",
       "      <td>32</td>\n",
       "      <td>46</td>\n",
       "      <td>29</td>\n",
       "      <td>29</td>\n",
       "      <td>45</td>\n",
       "      <td>30</td>\n",
       "      <td>...</td>\n",
       "      <td>19</td>\n",
       "      <td>10</td>\n",
       "      <td>6</td>\n",
       "      <td>18</td>\n",
       "      <td>10</td>\n",
       "      <td>6</td>\n",
       "      <td>18</td>\n",
       "      <td>12</td>\n",
       "      <td>8</td>\n",
       "      <td>19</td>\n",
       "    </tr>\n",
       "    <tr>\n",
       "      <th>3</th>\n",
       "      <td>11</td>\n",
       "      <td>10</td>\n",
       "      <td>12</td>\n",
       "      <td>11</td>\n",
       "      <td>10</td>\n",
       "      <td>13</td>\n",
       "      <td>7</td>\n",
       "      <td>6</td>\n",
       "      <td>8</td>\n",
       "      <td>11</td>\n",
       "      <td>...</td>\n",
       "      <td>13</td>\n",
       "      <td>10</td>\n",
       "      <td>9</td>\n",
       "      <td>13</td>\n",
       "      <td>14</td>\n",
       "      <td>13</td>\n",
       "      <td>17</td>\n",
       "      <td>10</td>\n",
       "      <td>9</td>\n",
       "      <td>13</td>\n",
       "    </tr>\n",
       "    <tr>\n",
       "      <th>4</th>\n",
       "      <td>10</td>\n",
       "      <td>12</td>\n",
       "      <td>13</td>\n",
       "      <td>10</td>\n",
       "      <td>12</td>\n",
       "      <td>13</td>\n",
       "      <td>9</td>\n",
       "      <td>11</td>\n",
       "      <td>12</td>\n",
       "      <td>12</td>\n",
       "      <td>...</td>\n",
       "      <td>26</td>\n",
       "      <td>21</td>\n",
       "      <td>21</td>\n",
       "      <td>27</td>\n",
       "      <td>20</td>\n",
       "      <td>19</td>\n",
       "      <td>25</td>\n",
       "      <td>25</td>\n",
       "      <td>24</td>\n",
       "      <td>26</td>\n",
       "    </tr>\n",
       "  </tbody>\n",
       "</table>\n",
       "<p>5 rows × 186624 columns</p>\n",
       "</div>"
      ],
      "text/plain": [
       "  pixel_0 pixel_1 pixel_2 pixel_3 pixel_4 pixel_5 pixel_6 pixel_7 pixel_8  \\\n",
       "0      10      10      10      10       9      13       8       7      11   \n",
       "1      11      11      11      11      11      11      11      11      11   \n",
       "2      27      27      41      31      32      46      29      29      45   \n",
       "3      11      10      12      11      10      13       7       6       8   \n",
       "4      10      12      13      10      12      13       9      11      12   \n",
       "\n",
       "  pixel_9  ... pixel_186614 pixel_186615 pixel_186616 pixel_186617  \\\n",
       "0      11  ...           53           40           43           47   \n",
       "1      12  ...            2            5            4            8   \n",
       "2      30  ...           19           10            6           18   \n",
       "3      11  ...           13           10            9           13   \n",
       "4      12  ...           26           21           21           27   \n",
       "\n",
       "  pixel_186618 pixel_186619 pixel_186620 pixel_186621 pixel_186622  \\\n",
       "0           27           31           32           30           31   \n",
       "1            3            2            4            5            4   \n",
       "2           10            6           18           12            8   \n",
       "3           14           13           17           10            9   \n",
       "4           20           19           25           25           24   \n",
       "\n",
       "  pixel_186623  \n",
       "0           41  \n",
       "1            6  \n",
       "2           19  \n",
       "3           13  \n",
       "4           26  \n",
       "\n",
       "[5 rows x 186624 columns]"
      ]
     },
     "execution_count": 8,
     "metadata": {},
     "output_type": "execute_result"
    }
   ],
   "source": [
    "X.head()\n"
   ]
  },
  {
   "cell_type": "code",
   "execution_count": 11,
   "id": "c22bc71e",
   "metadata": {},
   "outputs": [],
   "source": [
    "from sklearn.model_selection import train_test_split\n",
    "y = df['is_red']\n",
    "X_train,X_test,y_train,y_test = train_test_split(X,y,test_size = .2)\n",
    "X_train/=255\n",
    "X_test/=255 # ONLY AFTER SPLIT k,SCALE"
   ]
  },
  {
   "cell_type": "code",
   "execution_count": null,
   "id": "7ba9c8a6",
   "metadata": {},
   "outputs": [],
   "source": [
    "# my_PCA = PCA(n_components = 30)\n",
    "# my_PCA.fit(X_train)\n",
    "\n",
    "# # transform data \n",
    "# X_train_PCA = my_PCA.transform(X_train)\n",
    "# X_test_PCA = my_PCA.transform(X_test)\n",
    "\n"
   ]
  },
  {
   "cell_type": "code",
   "execution_count": null,
   "id": "98453c94",
   "metadata": {},
   "outputs": [],
   "source": [
    "# expl_var = my_PCA.explained_variance_ratio_\n",
    "# plt.figure()\n",
    "# plt.plot(range(1,2205),expl_var,marker='.',markevery=100)\n",
    "# plt.xlabel('Number of PCs')\n",
    "# plt.ylabel('Proportion of Variance Explained')\n",
    "# plt.xticks(range(0,2205,100), rotation= 45)\n",
    "# plt.show()"
   ]
  },
  {
   "cell_type": "code",
   "execution_count": null,
   "id": "e66d2a51",
   "metadata": {},
   "outputs": [],
   "source": []
  },
  {
   "cell_type": "code",
   "execution_count": null,
   "id": "2667bdf8",
   "metadata": {},
   "outputs": [],
   "source": [
    "\n",
    "# plt.figure()\n",
    "# plt.plot(range(0,100),expl_var[:100],marker='.',markevery=5)\n",
    "# plt.xlabel('Number of PCs')\n",
    "# plt.ylabel('Proportion of Variance Explained')\n",
    "# plt.xticks(range(0,101,5), rotation= 45)\n",
    "# plt.show()"
   ]
  },
  {
   "cell_type": "markdown",
   "id": "d88f121f",
   "metadata": {},
   "source": [
    "after 30 or so it doesn't appear to benefit much, regardless some suggestions for our pca numer can be 20-40"
   ]
  },
  {
   "cell_type": "code",
   "execution_count": 1,
   "id": "2a4f7cf2",
   "metadata": {},
   "outputs": [],
   "source": [
    "# my_PCA = PCA(n_components = 30)\n",
    "# my_PCA.fit(X_train)\n",
    "\n",
    "# # transform data \n",
    "# X_train_PCA = my_PCA.transform(X_train)\n",
    "# X_test_PCA = my_PCA.transform(X_test)\n",
    "\n"
   ]
  },
  {
   "cell_type": "code",
   "execution_count": null,
   "id": "c4dffdc8",
   "metadata": {},
   "outputs": [],
   "source": [
    "#accuracy function for code reuse. This is equivalent to model.predict(X) accuracy_score(y_pred,y_test)\n",
    "def accuracy(model,X_train,y_train,X_test,y_test):\n",
    "    '''\n",
    "    Prints the accuracy for the train and test sets after model fitting. \n",
    "    Parameters: model - model to score\n",
    "    X_train - X_training set\n",
    "    y_train - y_training set\n",
    "    X_test - X_test set\n",
    "    y_test - y_test set\n",
    "    '''\n",
    "    train_preds = model.predict(X_train)\n",
    "    test_preds = model.predict(X_test)\n",
    "    train_acc = accuracy_score(train_preds, y_train)\n",
    "    test_acc = accuracy_score(test_preds,y_test)\n",
    "    print(f'Accuracy on the training set was {train_acc}')\n",
    "    print(f'Accuracy on the test set was {test_acc}')\n",
    "    print('\\n')"
   ]
  },
  {
   "cell_type": "code",
   "execution_count": 12,
   "id": "2b561063",
   "metadata": {
    "scrolled": true
   },
   "outputs": [
    {
     "data": {
      "text/plain": [
       "(0.7989130434782609,\n",
       " 0.7989130434782609,\n",
       " 695     1\n",
       " 824     1\n",
       " 192     1\n",
       " 519     1\n",
       " 950     0\n",
       "        ..\n",
       " 2197    0\n",
       " 764     0\n",
       " 1249    0\n",
       " 132     0\n",
       " 2183    1\n",
       " Name: is_red, Length: 552, dtype: int64,\n",
       " array([1, 1, 0, 1, 1, 0, 0, 1, 1, 0, 1, 0, 1, 1, 0, 1, 1, 1, 1, 1, 0, 0,\n",
       "        0, 0, 0, 0, 0, 1, 0, 0, 0, 0, 0, 0, 0, 0, 1, 0, 0, 0, 0, 0, 0, 1,\n",
       "        0, 1, 1, 0, 0, 0, 0, 0, 0, 1, 1, 1, 0, 1, 1, 1, 0, 1, 1, 1, 0, 0,\n",
       "        1, 1, 0, 0, 0, 1, 1, 1, 0, 0, 1, 1, 1, 1, 1, 1, 1, 1, 0, 0, 0, 0,\n",
       "        0, 1, 1, 1, 0, 0, 0, 1, 1, 1, 1, 1, 0, 0, 0, 1, 1, 1, 0, 1, 0, 1,\n",
       "        1, 0, 0, 1, 1, 0, 1, 0, 0, 0, 0, 0, 0, 0, 0, 1, 1, 0, 0, 1, 1, 1,\n",
       "        0, 1, 1, 0, 1, 1, 0, 0, 0, 1, 1, 0, 0, 1, 0, 1, 0, 1, 1, 0, 0, 1,\n",
       "        1, 1, 1, 1, 0, 0, 0, 0, 1, 0, 0, 0, 0, 1, 0, 1, 0, 0, 0, 0, 0, 1,\n",
       "        1, 0, 1, 1, 0, 1, 0, 0, 1, 1, 0, 0, 0, 1, 1, 0, 0, 0, 0, 1, 0, 1,\n",
       "        0, 1, 1, 0, 1, 1, 1, 0, 1, 0, 1, 1, 1, 0, 1, 1, 1, 0, 0, 1, 1, 1,\n",
       "        1, 1, 1, 0, 0, 1, 0, 0, 1, 1, 0, 1, 1, 1, 1, 1, 1, 0, 0, 1, 0, 0,\n",
       "        0, 0, 1, 1, 0, 1, 1, 0, 0, 1, 1, 1, 0, 0, 1, 0, 1, 0, 0, 1, 0, 1,\n",
       "        0, 1, 0, 1, 0, 0, 1, 0, 0, 1, 0, 1, 1, 1, 0, 1, 0, 1, 0, 1, 0, 1,\n",
       "        0, 1, 1, 1, 0, 0, 1, 0, 0, 0, 1, 1, 1, 0, 1, 1, 1, 1, 1, 1, 1, 1,\n",
       "        0, 0, 1, 0, 1, 1, 1, 0, 1, 1, 1, 0, 1, 1, 0, 0, 0, 1, 1, 0, 0, 0,\n",
       "        1, 1, 0, 1, 1, 0, 1, 0, 1, 0, 0, 1, 1, 1, 1, 1, 0, 1, 0, 0, 0, 1,\n",
       "        1, 0, 1, 0, 1, 1, 0, 0, 0, 1, 0, 1, 1, 1, 0, 1, 1, 1, 0, 1, 0, 0,\n",
       "        0, 1, 1, 1, 1, 1, 1, 0, 0, 0, 0, 0, 0, 1, 0, 0, 0, 0, 0, 0, 1, 0,\n",
       "        1, 0, 1, 0, 1, 1, 1, 0, 0, 1, 0, 1, 1, 0, 0, 0, 1, 0, 0, 1, 1, 0,\n",
       "        0, 0, 0, 1, 1, 0, 0, 0, 0, 1, 0, 1, 0, 1, 1, 0, 0, 1, 1, 1, 0, 1,\n",
       "        1, 1, 0, 0, 1, 0, 1, 0, 0, 0, 1, 1, 0, 1, 0, 1, 1, 0, 0, 0, 0, 0,\n",
       "        0, 0, 1, 0, 0, 1, 0, 0, 0, 0, 1, 0, 0, 1, 0, 0, 1, 1, 1, 0, 0, 0,\n",
       "        1, 1, 0, 1, 0, 1, 0, 0, 1, 1, 0, 1, 0, 0, 0, 0, 1, 0, 1, 0, 0, 1,\n",
       "        0, 1, 1, 0, 1, 0, 1, 1, 1, 1, 1, 0, 0, 0, 0, 0, 1, 0, 1, 0, 1, 1,\n",
       "        0, 1, 0, 0, 1, 1, 0, 0, 0, 0, 0, 1, 1, 1, 1, 0, 0, 1, 1, 0, 1, 1,\n",
       "        0, 1]),\n",
       " 1.0)"
      ]
     },
     "execution_count": 12,
     "metadata": {},
     "output_type": "execute_result"
    }
   ],
   "source": [
    "from sklearn.linear_model import LogisticRegression\n",
    "from sklearn.metrics import accuracy_score\n",
    "logit = LogisticRegression()\n",
    "\n",
    "logit.fit(X_train,y_train)\n",
    "\n",
    "y_pred = logit.predict(X_test)\n",
    "a = accuracy_score(y_test,y_pred)\n",
    "acc = (y_pred == y_test).sum()/len(y_test)\n",
    "y_train_pred = logit.predict(X_train)\n",
    "a2 = accuracy_score(y_train,y_train_pred)\n",
    "\n",
    "a,acc,y_test,y_pred,a2\n",
    "\n",
    "\n",
    "#print(f\"The TRAIN classification accuracy is:  {DT_model.score(X_train,y_train)}\")\n",
    "#print(f\"The TEST classification accuracy is:  {DT_model.score(X_test,y_test)}\")"
   ]
  },
  {
   "cell_type": "code",
   "execution_count": null,
   "id": "6df2ff02",
   "metadata": {},
   "outputs": [],
   "source": [
    "# INTERPRET FIND logit.coefs_  http://localhost:8888/notebooks/Desktop/brainstation/classworknotebooks/Logistic%20Regression%20-%202022-05-10.ipynb"
   ]
  },
  {
   "cell_type": "code",
   "execution_count": null,
   "id": "80433a05",
   "metadata": {},
   "outputs": [],
   "source": []
  },
  {
   "cell_type": "code",
   "execution_count": 13,
   "id": "92633784",
   "metadata": {},
   "outputs": [],
   "source": [
    "from sklearn.decomposition import PCA\n",
    "from sklearn.pipeline import Pipeline\n",
    "from sklearn.model_selection import GridSearchCV\n"
   ]
  },
  {
   "cell_type": "code",
   "execution_count": null,
   "id": "92ceb8f8",
   "metadata": {
    "scrolled": true
   },
   "outputs": [],
   "source": [
    "# estimators = [('reduce_dim', PCA()), ('log_reg', LogisticRegression())]\n",
    "\n",
    "# pipe = Pipeline(estimators)\n",
    "# params = {'log_reg__C':[.1,1,10],'reduce_dim__n_components': [20,30,40]}\n",
    "# grid_search = GridSearchCV(pipe, param_grid=params) \n",
    "\n",
    "# X_train, X_val, y_train, y_val = train_test_split(X_train, y_train, test_size=0.2)\n",
    "# fitted_search = grid_search.fit(X_val, y_val)\n",
    "\n"
   ]
  },
  {
   "cell_type": "code",
   "execution_count": 19,
   "id": "8ef4fa1a",
   "metadata": {},
   "outputs": [
    {
     "data": {
      "text/plain": [
       "[0.001, 0.01, 0.1, 1, 10, 100]"
      ]
     },
     "execution_count": 19,
     "metadata": {},
     "output_type": "execute_result"
    }
   ],
   "source": [
    "potential_c = 1#[10**i for i in range(-3,3)]\n",
    "#fitted_search.best_estimator_,fitted_search.best_score_"
   ]
  },
  {
   "cell_type": "code",
   "execution_count": 1,
   "id": "2290a08d",
   "metadata": {},
   "outputs": [
    {
     "ename": "NameError",
     "evalue": "name 'potential_c' is not defined",
     "output_type": "error",
     "traceback": [
      "\u001b[0;31m---------------------------------------------------------------------------\u001b[0m",
      "\u001b[0;31mNameError\u001b[0m                                 Traceback (most recent call last)",
      "\u001b[0;32m/var/folders/7t/p8sb13rj56vgpg9wvfj5ph5c0000gn/T/ipykernel_49001/2216816919.py\u001b[0m in \u001b[0;36m<module>\u001b[0;34m\u001b[0m\n\u001b[1;32m      1\u001b[0m \u001b[0;32mfrom\u001b[0m \u001b[0msklearn\u001b[0m\u001b[0;34m.\u001b[0m\u001b[0mmodel_selection\u001b[0m \u001b[0;32mimport\u001b[0m \u001b[0mGridSearchCV\u001b[0m\u001b[0;34m\u001b[0m\u001b[0;34m\u001b[0m\u001b[0m\n\u001b[0;32m----> 2\u001b[0;31m \u001b[0mgrid\u001b[0m\u001b[0;34m=\u001b[0m\u001b[0;34m{\u001b[0m\u001b[0;34m\"C\"\u001b[0m\u001b[0;34m:\u001b[0m\u001b[0mpotential_c\u001b[0m\u001b[0;34m}\u001b[0m \u001b[0;31m#\"penalty\":[\"l1\",\"l2\",'elasticnet'], 'solver':['newton-cg', 'lbfgs', 'liblinear', 'sag', 'saga']}# l1 lasso l2 ridge\u001b[0m\u001b[0;34m\u001b[0m\u001b[0;34m\u001b[0m\u001b[0m\n\u001b[0m\u001b[1;32m      3\u001b[0m \u001b[0mlogreg\u001b[0m\u001b[0;34m=\u001b[0m\u001b[0mLogisticRegression\u001b[0m\u001b[0;34m(\u001b[0m\u001b[0;34m)\u001b[0m\u001b[0;34m\u001b[0m\u001b[0;34m\u001b[0m\u001b[0m\n\u001b[1;32m      4\u001b[0m \u001b[0mlogreg_cv\u001b[0m\u001b[0;34m=\u001b[0m\u001b[0mGridSearchCV\u001b[0m\u001b[0;34m(\u001b[0m\u001b[0mlogreg\u001b[0m\u001b[0;34m,\u001b[0m\u001b[0mgrid\u001b[0m\u001b[0;34m,\u001b[0m\u001b[0mcv\u001b[0m\u001b[0;34m=\u001b[0m\u001b[0;36m5\u001b[0m\u001b[0;34m)\u001b[0m\u001b[0;34m\u001b[0m\u001b[0;34m\u001b[0m\u001b[0m\n\u001b[1;32m      5\u001b[0m \u001b[0;34m\u001b[0m\u001b[0m\n",
      "\u001b[0;31mNameError\u001b[0m: name 'potential_c' is not defined"
     ]
    }
   ],
   "source": [
    "from sklearn.model_selection import GridSearchCV\n",
    "grid={\"C\":potential_c} #\"penalty\":[\"l1\",\"l2\",'elasticnet'], 'solver':['newton-cg', 'lbfgs']}# l1 lasso l2 ridge\n",
    "logreg=LogisticRegression()\n",
    "logreg_cv=GridSearchCV(logreg,grid,cv=5)\n",
    "\n",
    "fitted_search  = logreg_cv.fit(X_train,y_train)"
   ]
  },
  {
   "cell_type": "code",
   "execution_count": null,
   "id": "868d36a5",
   "metadata": {},
   "outputs": [],
   "source": [
    "fitted_search.best_estimator_,fitted_search.best_score_"
   ]
  },
  {
   "cell_type": "code",
   "execution_count": null,
   "id": "277e6ada",
   "metadata": {},
   "outputs": [],
   "source": []
  },
  {
   "cell_type": "code",
   "execution_count": null,
   "id": "8489a395",
   "metadata": {},
   "outputs": [],
   "source": []
  },
  {
   "cell_type": "code",
   "execution_count": null,
   "id": "8f7b4ee0",
   "metadata": {},
   "outputs": [],
   "source": []
  },
  {
   "cell_type": "code",
   "execution_count": null,
   "id": "7cfc5b52",
   "metadata": {},
   "outputs": [],
   "source": []
  }
 ],
 "metadata": {
  "kernelspec": {
   "display_name": "Python 3 (ipykernel)",
   "language": "python",
   "name": "python3"
  },
  "language_info": {
   "codemirror_mode": {
    "name": "ipython",
    "version": 3
   },
   "file_extension": ".py",
   "mimetype": "text/x-python",
   "name": "python",
   "nbconvert_exporter": "python",
   "pygments_lexer": "ipython3",
   "version": "3.9.7"
  }
 },
 "nbformat": 4,
 "nbformat_minor": 5
}
