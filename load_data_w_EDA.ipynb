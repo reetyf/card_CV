{
 "cells": [
  {
   "cell_type": "markdown",
   "id": "9d2fbb29",
   "metadata": {},
   "source": [
    "This notebook is designed to be run as the first notebook of four included in this submission.\n",
    "\n",
    "# Hailey Weinschenk - BrainStation Capstone Notebook 1 - Data Loading and Explatory Data Analysis\n",
    "\n",
    "In this notebook, the data will be loaded and prepared for later modelling. Then, some basic EDA will be performed such as null-handling, viewing distributions, and correlations. First, import necessary libraries and load the data. If the file exists, only the else clause is activated which causes about a 10 minute load time. Without the file, the if clause takes 4-5 hours. "
   ]
  },
  {
   "cell_type": "code",
   "execution_count": 1,
   "id": "ebac9969",
   "metadata": {},
   "outputs": [],
   "source": [
    "import os.path\n",
    "from preprocess import preprocess\n",
    "import matplotlib.pyplot as plt\n",
    "import pandas as pd\n",
    "import numpy as np\n",
    "import seaborn as sns"
   ]
  },
  {
   "cell_type": "code",
   "execution_count": 2,
   "id": "0d24fb32",
   "metadata": {},
   "outputs": [],
   "source": [
    "if(not os.path.exists('full_preprocessedML.csv')):\n",
    "    x_dim = 216\n",
    "    y_dim = 288\n",
    "    deep = False\n",
    "    df = preprocess(x_dim,y_dim,deep)\n",
    "    df.to_csv('full_preprocessedML.csv')\n",
    "else:\n",
    "    df_chunk = pd.read_csv('full_preprocessedML.csv',index_col=0,iterator=True,chunksize=250)\n",
    "    df = pd.concat(df_chunk)"
   ]
  },
  {
   "cell_type": "code",
   "execution_count": 3,
   "id": "3ee43d5a",
   "metadata": {},
   "outputs": [
    {
     "data": {
      "text/html": [
       "<div>\n",
       "<style scoped>\n",
       "    .dataframe tbody tr th:only-of-type {\n",
       "        vertical-align: middle;\n",
       "    }\n",
       "\n",
       "    .dataframe tbody tr th {\n",
       "        vertical-align: top;\n",
       "    }\n",
       "\n",
       "    .dataframe thead th {\n",
       "        text-align: right;\n",
       "    }\n",
       "</style>\n",
       "<table border=\"1\" class=\"dataframe\">\n",
       "  <thead>\n",
       "    <tr style=\"text-align: right;\">\n",
       "      <th></th>\n",
       "      <th>img_card_arr</th>\n",
       "      <th>card_class</th>\n",
       "      <th>pixel_0</th>\n",
       "      <th>pixel_1</th>\n",
       "      <th>pixel_2</th>\n",
       "      <th>pixel_3</th>\n",
       "      <th>pixel_4</th>\n",
       "      <th>pixel_5</th>\n",
       "      <th>pixel_6</th>\n",
       "      <th>pixel_7</th>\n",
       "      <th>...</th>\n",
       "      <th>pixel_186618</th>\n",
       "      <th>pixel_186619</th>\n",
       "      <th>pixel_186620</th>\n",
       "      <th>pixel_186621</th>\n",
       "      <th>pixel_186622</th>\n",
       "      <th>pixel_186623</th>\n",
       "      <th>suit</th>\n",
       "      <th>is_red</th>\n",
       "      <th>suit_num</th>\n",
       "      <th>card_number</th>\n",
       "    </tr>\n",
       "  </thead>\n",
       "  <tbody>\n",
       "    <tr>\n",
       "      <th>0</th>\n",
       "      <td>[15 15 15 ...  3  3  3]</td>\n",
       "      <td>10 of Hearts</td>\n",
       "      <td>15</td>\n",
       "      <td>15</td>\n",
       "      <td>15</td>\n",
       "      <td>10</td>\n",
       "      <td>16</td>\n",
       "      <td>15</td>\n",
       "      <td>14</td>\n",
       "      <td>14</td>\n",
       "      <td>...</td>\n",
       "      <td>4</td>\n",
       "      <td>4</td>\n",
       "      <td>4</td>\n",
       "      <td>3</td>\n",
       "      <td>3</td>\n",
       "      <td>3</td>\n",
       "      <td>Hearts</td>\n",
       "      <td>1</td>\n",
       "      <td>2</td>\n",
       "      <td>34</td>\n",
       "    </tr>\n",
       "    <tr>\n",
       "      <th>1</th>\n",
       "      <td>[11 16 15 ...  0  5  4]</td>\n",
       "      <td>Ace of Hearts</td>\n",
       "      <td>11</td>\n",
       "      <td>16</td>\n",
       "      <td>15</td>\n",
       "      <td>15</td>\n",
       "      <td>19</td>\n",
       "      <td>18</td>\n",
       "      <td>11</td>\n",
       "      <td>16</td>\n",
       "      <td>...</td>\n",
       "      <td>6</td>\n",
       "      <td>7</td>\n",
       "      <td>8</td>\n",
       "      <td>0</td>\n",
       "      <td>5</td>\n",
       "      <td>4</td>\n",
       "      <td>Hearts</td>\n",
       "      <td>1</td>\n",
       "      <td>2</td>\n",
       "      <td>38</td>\n",
       "    </tr>\n",
       "    <tr>\n",
       "      <th>2</th>\n",
       "      <td>[18 17 19 ... 21 21 51]</td>\n",
       "      <td>2 of Clubs</td>\n",
       "      <td>18</td>\n",
       "      <td>17</td>\n",
       "      <td>19</td>\n",
       "      <td>17</td>\n",
       "      <td>20</td>\n",
       "      <td>21</td>\n",
       "      <td>12</td>\n",
       "      <td>17</td>\n",
       "      <td>...</td>\n",
       "      <td>30</td>\n",
       "      <td>41</td>\n",
       "      <td>70</td>\n",
       "      <td>21</td>\n",
       "      <td>21</td>\n",
       "      <td>51</td>\n",
       "      <td>Clubs</td>\n",
       "      <td>0</td>\n",
       "      <td>1</td>\n",
       "      <td>13</td>\n",
       "    </tr>\n",
       "    <tr>\n",
       "      <th>3</th>\n",
       "      <td>[11 15 16 ...  6  5  7]</td>\n",
       "      <td>Queen of Spades</td>\n",
       "      <td>11</td>\n",
       "      <td>15</td>\n",
       "      <td>16</td>\n",
       "      <td>13</td>\n",
       "      <td>17</td>\n",
       "      <td>18</td>\n",
       "      <td>12</td>\n",
       "      <td>16</td>\n",
       "      <td>...</td>\n",
       "      <td>10</td>\n",
       "      <td>9</td>\n",
       "      <td>11</td>\n",
       "      <td>6</td>\n",
       "      <td>5</td>\n",
       "      <td>7</td>\n",
       "      <td>Spades</td>\n",
       "      <td>0</td>\n",
       "      <td>3</td>\n",
       "      <td>49</td>\n",
       "    </tr>\n",
       "    <tr>\n",
       "      <th>4</th>\n",
       "      <td>[11 15 16 ...  4  6  6]</td>\n",
       "      <td>Queen of Clubs</td>\n",
       "      <td>11</td>\n",
       "      <td>15</td>\n",
       "      <td>16</td>\n",
       "      <td>11</td>\n",
       "      <td>14</td>\n",
       "      <td>19</td>\n",
       "      <td>9</td>\n",
       "      <td>14</td>\n",
       "      <td>...</td>\n",
       "      <td>7</td>\n",
       "      <td>9</td>\n",
       "      <td>10</td>\n",
       "      <td>4</td>\n",
       "      <td>6</td>\n",
       "      <td>6</td>\n",
       "      <td>Clubs</td>\n",
       "      <td>0</td>\n",
       "      <td>1</td>\n",
       "      <td>23</td>\n",
       "    </tr>\n",
       "    <tr>\n",
       "      <th>...</th>\n",
       "      <td>...</td>\n",
       "      <td>...</td>\n",
       "      <td>...</td>\n",
       "      <td>...</td>\n",
       "      <td>...</td>\n",
       "      <td>...</td>\n",
       "      <td>...</td>\n",
       "      <td>...</td>\n",
       "      <td>...</td>\n",
       "      <td>...</td>\n",
       "      <td>...</td>\n",
       "      <td>...</td>\n",
       "      <td>...</td>\n",
       "      <td>...</td>\n",
       "      <td>...</td>\n",
       "      <td>...</td>\n",
       "      <td>...</td>\n",
       "      <td>...</td>\n",
       "      <td>...</td>\n",
       "      <td>...</td>\n",
       "      <td>...</td>\n",
       "    </tr>\n",
       "    <tr>\n",
       "      <th>2751</th>\n",
       "      <td>[16 21 30 ...  6  5  9]</td>\n",
       "      <td>8 of Spades</td>\n",
       "      <td>16</td>\n",
       "      <td>21</td>\n",
       "      <td>30</td>\n",
       "      <td>15</td>\n",
       "      <td>23</td>\n",
       "      <td>26</td>\n",
       "      <td>16</td>\n",
       "      <td>23</td>\n",
       "      <td>...</td>\n",
       "      <td>6</td>\n",
       "      <td>2</td>\n",
       "      <td>7</td>\n",
       "      <td>6</td>\n",
       "      <td>5</td>\n",
       "      <td>9</td>\n",
       "      <td>Spades</td>\n",
       "      <td>0</td>\n",
       "      <td>3</td>\n",
       "      <td>45</td>\n",
       "    </tr>\n",
       "    <tr>\n",
       "      <th>2752</th>\n",
       "      <td>[12 17 16 ... 10 10 10]</td>\n",
       "      <td>4 of Hearts</td>\n",
       "      <td>12</td>\n",
       "      <td>17</td>\n",
       "      <td>16</td>\n",
       "      <td>12</td>\n",
       "      <td>17</td>\n",
       "      <td>16</td>\n",
       "      <td>12</td>\n",
       "      <td>17</td>\n",
       "      <td>...</td>\n",
       "      <td>6</td>\n",
       "      <td>6</td>\n",
       "      <td>6</td>\n",
       "      <td>10</td>\n",
       "      <td>10</td>\n",
       "      <td>10</td>\n",
       "      <td>Hearts</td>\n",
       "      <td>1</td>\n",
       "      <td>2</td>\n",
       "      <td>28</td>\n",
       "    </tr>\n",
       "    <tr>\n",
       "      <th>2753</th>\n",
       "      <td>[12 16 21 ...  7  9 10]</td>\n",
       "      <td>3 of Clubs</td>\n",
       "      <td>12</td>\n",
       "      <td>16</td>\n",
       "      <td>21</td>\n",
       "      <td>15</td>\n",
       "      <td>18</td>\n",
       "      <td>25</td>\n",
       "      <td>16</td>\n",
       "      <td>21</td>\n",
       "      <td>...</td>\n",
       "      <td>5</td>\n",
       "      <td>7</td>\n",
       "      <td>8</td>\n",
       "      <td>7</td>\n",
       "      <td>9</td>\n",
       "      <td>10</td>\n",
       "      <td>Clubs</td>\n",
       "      <td>0</td>\n",
       "      <td>1</td>\n",
       "      <td>14</td>\n",
       "    </tr>\n",
       "    <tr>\n",
       "      <th>2754</th>\n",
       "      <td>[14 14 14 ...  3  2  4]</td>\n",
       "      <td>Ace of Hearts</td>\n",
       "      <td>14</td>\n",
       "      <td>14</td>\n",
       "      <td>14</td>\n",
       "      <td>12</td>\n",
       "      <td>12</td>\n",
       "      <td>13</td>\n",
       "      <td>10</td>\n",
       "      <td>13</td>\n",
       "      <td>...</td>\n",
       "      <td>6</td>\n",
       "      <td>6</td>\n",
       "      <td>7</td>\n",
       "      <td>3</td>\n",
       "      <td>2</td>\n",
       "      <td>4</td>\n",
       "      <td>Hearts</td>\n",
       "      <td>1</td>\n",
       "      <td>2</td>\n",
       "      <td>38</td>\n",
       "    </tr>\n",
       "    <tr>\n",
       "      <th>2755</th>\n",
       "      <td>[ 8 10 10 ...  4  8  9]</td>\n",
       "      <td>Ace of Clubs</td>\n",
       "      <td>8</td>\n",
       "      <td>10</td>\n",
       "      <td>10</td>\n",
       "      <td>6</td>\n",
       "      <td>8</td>\n",
       "      <td>8</td>\n",
       "      <td>4</td>\n",
       "      <td>9</td>\n",
       "      <td>...</td>\n",
       "      <td>4</td>\n",
       "      <td>6</td>\n",
       "      <td>7</td>\n",
       "      <td>4</td>\n",
       "      <td>8</td>\n",
       "      <td>9</td>\n",
       "      <td>Clubs</td>\n",
       "      <td>0</td>\n",
       "      <td>1</td>\n",
       "      <td>25</td>\n",
       "    </tr>\n",
       "  </tbody>\n",
       "</table>\n",
       "<p>2756 rows × 186630 columns</p>\n",
       "</div>"
      ],
      "text/plain": [
       "                 img_card_arr       card_class  pixel_0  pixel_1  pixel_2  \\\n",
       "0     [15 15 15 ...  3  3  3]     10 of Hearts       15       15       15   \n",
       "1     [11 16 15 ...  0  5  4]    Ace of Hearts       11       16       15   \n",
       "2     [18 17 19 ... 21 21 51]       2 of Clubs       18       17       19   \n",
       "3     [11 15 16 ...  6  5  7]  Queen of Spades       11       15       16   \n",
       "4     [11 15 16 ...  4  6  6]   Queen of Clubs       11       15       16   \n",
       "...                       ...              ...      ...      ...      ...   \n",
       "2751  [16 21 30 ...  6  5  9]      8 of Spades       16       21       30   \n",
       "2752  [12 17 16 ... 10 10 10]      4 of Hearts       12       17       16   \n",
       "2753  [12 16 21 ...  7  9 10]       3 of Clubs       12       16       21   \n",
       "2754  [14 14 14 ...  3  2  4]    Ace of Hearts       14       14       14   \n",
       "2755  [ 8 10 10 ...  4  8  9]     Ace of Clubs        8       10       10   \n",
       "\n",
       "      pixel_3  pixel_4  pixel_5  pixel_6  pixel_7  ...  pixel_186618  \\\n",
       "0          10       16       15       14       14  ...             4   \n",
       "1          15       19       18       11       16  ...             6   \n",
       "2          17       20       21       12       17  ...            30   \n",
       "3          13       17       18       12       16  ...            10   \n",
       "4          11       14       19        9       14  ...             7   \n",
       "...       ...      ...      ...      ...      ...  ...           ...   \n",
       "2751       15       23       26       16       23  ...             6   \n",
       "2752       12       17       16       12       17  ...             6   \n",
       "2753       15       18       25       16       21  ...             5   \n",
       "2754       12       12       13       10       13  ...             6   \n",
       "2755        6        8        8        4        9  ...             4   \n",
       "\n",
       "      pixel_186619  pixel_186620  pixel_186621  pixel_186622  pixel_186623  \\\n",
       "0                4             4             3             3             3   \n",
       "1                7             8             0             5             4   \n",
       "2               41            70            21            21            51   \n",
       "3                9            11             6             5             7   \n",
       "4                9            10             4             6             6   \n",
       "...            ...           ...           ...           ...           ...   \n",
       "2751             2             7             6             5             9   \n",
       "2752             6             6            10            10            10   \n",
       "2753             7             8             7             9            10   \n",
       "2754             6             7             3             2             4   \n",
       "2755             6             7             4             8             9   \n",
       "\n",
       "        suit  is_red  suit_num  card_number  \n",
       "0     Hearts       1         2           34  \n",
       "1     Hearts       1         2           38  \n",
       "2      Clubs       0         1           13  \n",
       "3     Spades       0         3           49  \n",
       "4      Clubs       0         1           23  \n",
       "...      ...     ...       ...          ...  \n",
       "2751  Spades       0         3           45  \n",
       "2752  Hearts       1         2           28  \n",
       "2753   Clubs       0         1           14  \n",
       "2754  Hearts       1         2           38  \n",
       "2755   Clubs       0         1           25  \n",
       "\n",
       "[2756 rows x 186630 columns]"
      ]
     },
     "execution_count": 3,
     "metadata": {},
     "output_type": "execute_result"
    }
   ],
   "source": [
    "df"
   ]
  },
  {
   "cell_type": "markdown",
   "id": "13f8b312",
   "metadata": {},
   "source": [
    "Firstly, the shape of the read-in data is 2756 rows by 186631 columns. This can be interpreted as 2756 images in the database, each of which has about 186,000 features (each pixel). There are, of course, the features of 'is_red', 'suit_num' and 'card_number' as well as helper columns to obtain them. Even with these disregarded, our column space is massive."
   ]
  },
  {
   "cell_type": "markdown",
   "id": "991245bb",
   "metadata": {},
   "source": [
    "Now, the distribution of the features will be discussed..."
   ]
  },
  {
   "cell_type": "code",
   "execution_count": 4,
   "id": "f3c631ee",
   "metadata": {},
   "outputs": [
    {
     "data": {
      "text/plain": [
       "(card_class\n",
       " 4 of Clubs       62\n",
       " Ace of Hearts    52\n",
       " 8 of Clubs       52\n",
       " 8 of Diamonds    52\n",
       " 8 of Hearts      52\n",
       " Name: pixel_0, dtype: int64,\n",
       " card_class\n",
       " Ace of Spades      51\n",
       " Queen of Hearts    51\n",
       " 7 of Diamonds      51\n",
       " 2 of Clubs         51\n",
       " 5 of Spades        51\n",
       " Name: pixel_0, dtype: int64)"
      ]
     },
     "execution_count": 4,
     "metadata": {},
     "output_type": "execute_result"
    }
   ],
   "source": [
    "counts = df.groupby('card_class').count().iloc[:,1]\n",
    "counts.sort_values(ascending = False).head(),counts.sort_values(ascending = True).head()"
   ]
  },
  {
   "cell_type": "markdown",
   "id": "171874e0",
   "metadata": {},
   "source": [
    "So all cards have between 51 and 52 images each. Interestingly, the 4 of clubs has 10 extra images. This could be an error when creating the database. Regardless, this shouldn't have a large impact on our problem."
   ]
  },
  {
   "cell_type": "code",
   "execution_count": 5,
   "id": "d0a7b151",
   "metadata": {},
   "outputs": [
    {
     "data": {
      "image/png": "[encoded data removed]",
      "text/plain": [
       "<Figure size 432x288 with 1 Axes>"
      ]
     },
     "metadata": {
      "needs_background": "light"
     },
     "output_type": "display_data"
    }
   ],
   "source": [
    "counts = df.groupby('suit').count().iloc[:,1]\n",
    "plt.figure()\n",
    "plt.title('Suit Distributions')\n",
    "plt.xlabel('Suits')\n",
    "plt.ylabel('Frequency')\n",
    "plt.bar(counts.keys(),counts.values, color = ['green','blue','red','yellow','black'])\n",
    "plt.show()"
   ]
  },
  {
   "cell_type": "markdown",
   "id": "c38ef96f",
   "metadata": {},
   "source": [
    "Our suit distributions are to be expected. Each suit other than clubs has $13*51\\approx(663)$ images. Clubs has a few extra, due to the extra 4 of clubs images. Jokers simply has one rank so therefore only 51 or 52 images."
   ]
  },
  {
   "cell_type": "code",
   "execution_count": 6,
   "id": "2dd35483",
   "metadata": {},
   "outputs": [
    {
     "data": {
      "image/png": "[encoded data removed]",
      "text/plain": [
       "<Figure size 432x288 with 1 Axes>"
      ]
     },
     "metadata": {
      "needs_background": "light"
     },
     "output_type": "display_data"
    }
   ],
   "source": [
    "counts = df.groupby('is_red').count().iloc[:,1]\n",
    "plt.figure()\n",
    "plt.title('Binary Distributions')\n",
    "plt.xlabel('Color')\n",
    "plt.ylabel('Frequency')\n",
    "plt.xticks(ticks = [0,1],labels = ['Black','Red'])\n",
    "plt.bar(counts.keys(),counts.values,color = ['black','red'])\n",
    "plt.show()"
   ]
  },
  {
   "cell_type": "markdown",
   "id": "a5bc72c6",
   "metadata": {},
   "source": [
    "Finally, we see that this increase in the 4 of clubs effected the black/red distribution as well. Additionally, differences in 51 vs. 52 for more black cards could appreciate the difference shown above."
   ]
  },
  {
   "cell_type": "markdown",
   "id": "3758b932",
   "metadata": {},
   "source": [
    "## Null Checks"
   ]
  },
  {
   "cell_type": "code",
   "execution_count": 7,
   "id": "285ed620",
   "metadata": {},
   "outputs": [
    {
     "data": {
      "text/plain": [
       "img_card_arr    0\n",
       "card_class      0\n",
       "pixel_0         0\n",
       "pixel_1         0\n",
       "pixel_2         0\n",
       "               ..\n",
       "pixel_186623    0\n",
       "suit            0\n",
       "is_red          0\n",
       "suit_num        0\n",
       "card_number     0\n",
       "Length: 186630, dtype: int64"
      ]
     },
     "execution_count": 7,
     "metadata": {},
     "output_type": "execute_result"
    }
   ],
   "source": [
    "df.isna().sum()"
   ]
  },
  {
   "cell_type": "code",
   "execution_count": 8,
   "id": "2122f982",
   "metadata": {},
   "outputs": [
    {
     "data": {
      "text/plain": [
       "True"
      ]
     },
     "execution_count": 8,
     "metadata": {},
     "output_type": "execute_result"
    }
   ],
   "source": [
    "(df.isna().sum() == 0).all()"
   ]
  },
  {
   "cell_type": "markdown",
   "id": "ee663f49",
   "metadata": {},
   "source": [
    "So our each of the entire (186631!) columns is full of zeroes. Therefore, there are no null values present in this dataset. This is a clear advantage of working with a 'toy' problem or image data in general. However, the difficulty comes from managing and manipulating such inconcievably large datasets."
   ]
  },
  {
   "cell_type": "markdown",
   "id": "462c5e1d",
   "metadata": {},
   "source": [
    "With this in mind, the correlation coefficients of each feature can be obtained. Since 186 thousand features would be impossible to view, we will take a small slice of our data and view the correlations. The goal of this is to show potential multicolinearity that can cause issues when modelling. This occurs when features have relationships with other features as well as on the target. It is necessary to deal with these in some way before moving on. "
   ]
  },
  {
   "cell_type": "code",
   "execution_count": 9,
   "id": "e33a047f",
   "metadata": {},
   "outputs": [
    {
     "data": {
      "text/plain": [
       "<AxesSubplot:>"
      ]
     },
     "execution_count": 9,
     "metadata": {},
     "output_type": "execute_result"
    },
    {
     "data": {
      "image/png": "[encoded data removed]",
      "text/plain": [
       "<Figure size 432x288 with 2 Axes>"
      ]
     },
     "metadata": {
      "needs_background": "light"
     },
     "output_type": "display_data"
    }
   ],
   "source": [
    "part_df = df.iloc[1:50,15000:15025]\n",
    "sns.heatmap(part_df.corr(),cmap = 'coolwarm')"
   ]
  },
  {
   "cell_type": "markdown",
   "id": "1b3745a6",
   "metadata": {},
   "source": [
    "Despite some high correlation scores throughout the heatmap, there is no clear pattern of high or low between two pixels for *each* picture. One image might have a dark object featured, which would cause a high negative correlation to adjacent pixels for that image. \n",
    "\n",
    "With this in mind, we can move forward with modelling."
   ]
  }
 ],
 "metadata": {
  "kernelspec": {
   "display_name": "Python 3 (ipykernel)",
   "language": "python",
   "name": "python3"
  },
  "language_info": {
   "codemirror_mode": {
    "name": "ipython",
    "version": 3
   },
   "file_extension": ".py",
   "mimetype": "text/x-python",
   "name": "python",
   "nbconvert_exporter": "python",
   "pygments_lexer": "ipython3",
   "version": "3.9.7"
  }
 },
 "nbformat": 4,
 "nbformat_minor": 5
}
