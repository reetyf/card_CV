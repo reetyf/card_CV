{
 "cells": [
  {
   "cell_type": "code",
   "execution_count": 2,
   "id": "96dff4fc",
   "metadata": {},
   "outputs": [],
   "source": [
    "from preprocess import preprocess,view_head\n",
    "import numpy as np\n",
    "import matplotlib.pyplot as plt\n",
    "import pandas as pd\n",
    "import tensorflow as tf\n"
   ]
  },
  {
   "cell_type": "code",
   "execution_count": 2,
   "id": "e459b51c",
   "metadata": {},
   "outputs": [
    {
     "ename": "KeyboardInterrupt",
     "evalue": "",
     "output_type": "error",
     "traceback": [
      "\u001b[0;31m---------------------------------------------------------------------------\u001b[0m",
      "\u001b[0;31mKeyboardInterrupt\u001b[0m                         Traceback (most recent call last)",
      "Input \u001b[0;32mIn [2]\u001b[0m, in \u001b[0;36m<cell line: 5>\u001b[0;34m()\u001b[0m\n\u001b[1;32m      3\u001b[0m iterations \u001b[38;5;241m=\u001b[39m \u001b[38;5;241m100\u001b[39m\n\u001b[1;32m      4\u001b[0m deep \u001b[38;5;241m=\u001b[39m \u001b[38;5;28;01mTrue\u001b[39;00m\n\u001b[0;32m----> 5\u001b[0m df \u001b[38;5;241m=\u001b[39m \u001b[43mpreprocess\u001b[49m\u001b[43m(\u001b[49m\u001b[43mx_dim\u001b[49m\u001b[43m,\u001b[49m\u001b[43my_dim\u001b[49m\u001b[43m,\u001b[49m\u001b[43mdeep\u001b[49m\u001b[43m)\u001b[49m\n",
      "File \u001b[0;32m~/Desktop/brainstation/capstone/preprocess.py:54\u001b[0m, in \u001b[0;36mpreprocess\u001b[0;34m(img_x, img_y, deep, iterations)\u001b[0m\n\u001b[1;32m     52\u001b[0m \u001b[38;5;28;01mif\u001b[39;00m count \u001b[38;5;241m==\u001b[39m iterations:\n\u001b[1;32m     53\u001b[0m     \u001b[38;5;28;01mbreak\u001b[39;00m;\n\u001b[0;32m---> 54\u001b[0m one \u001b[38;5;241m=\u001b[39m \u001b[43mcv2\u001b[49m\u001b[38;5;241;43m.\u001b[39;49m\u001b[43mimread\u001b[49m\u001b[43m(\u001b[49m\u001b[43mone_file\u001b[49m\u001b[43m)\u001b[49m\n\u001b[1;32m     55\u001b[0m one \u001b[38;5;241m=\u001b[39m cv2\u001b[38;5;241m.\u001b[39mresize(one, dsize \u001b[38;5;241m=\u001b[39m (img_x,img_y))\n\u001b[1;32m     56\u001b[0m card_img_arrays\u001b[38;5;241m.\u001b[39mappend(one)\n",
      "\u001b[0;31mKeyboardInterrupt\u001b[0m: "
     ]
    }
   ],
   "source": [
    "x_dim = 216\n",
    "y_dim = 288\n",
    "iterations = 100\n",
    "deep = True\n",
    "df = preprocess(x_dim,y_dim,deep,iterations)"
   ]
  },
  {
   "cell_type": "code",
   "execution_count": null,
   "id": "df742caa",
   "metadata": {},
   "outputs": [],
   "source": []
  },
  {
   "cell_type": "code",
   "execution_count": 11,
   "id": "a67e37c1",
   "metadata": {},
   "outputs": [
    {
     "data": {
      "text/html": [
       "<div>\n",
       "<style scoped>\n",
       "    .dataframe tbody tr th:only-of-type {\n",
       "        vertical-align: middle;\n",
       "    }\n",
       "\n",
       "    .dataframe tbody tr th {\n",
       "        vertical-align: top;\n",
       "    }\n",
       "\n",
       "    .dataframe thead th {\n",
       "        text-align: right;\n",
       "    }\n",
       "</style>\n",
       "<table border=\"1\" class=\"dataframe\">\n",
       "  <thead>\n",
       "    <tr style=\"text-align: right;\">\n",
       "      <th></th>\n",
       "      <th>Unnamed: 0</th>\n",
       "      <th>img_card_arr</th>\n",
       "      <th>card_class</th>\n",
       "      <th>suit</th>\n",
       "      <th>is_red</th>\n",
       "      <th>suit_num</th>\n",
       "      <th>card_string</th>\n",
       "      <th>card_number</th>\n",
       "    </tr>\n",
       "  </thead>\n",
       "  <tbody>\n",
       "    <tr>\n",
       "      <th>0</th>\n",
       "      <td>0</td>\n",
       "      <td>[22 24 24 ... 11 10 12]</td>\n",
       "      <td>King of Spades</td>\n",
       "      <td>Spades</td>\n",
       "      <td>0</td>\n",
       "      <td>3</td>\n",
       "      <td>King of Spades</td>\n",
       "      <td>50</td>\n",
       "    </tr>\n",
       "    <tr>\n",
       "      <th>1</th>\n",
       "      <td>1</td>\n",
       "      <td>[ 6  8  9 ... 20 20 26]</td>\n",
       "      <td>4 of Spades</td>\n",
       "      <td>Spades</td>\n",
       "      <td>0</td>\n",
       "      <td>3</td>\n",
       "      <td>4 of Spades</td>\n",
       "      <td>41</td>\n",
       "    </tr>\n",
       "    <tr>\n",
       "      <th>2</th>\n",
       "      <td>2</td>\n",
       "      <td>[26 28 28 ...  8  7  9]</td>\n",
       "      <td>Jack of Spades</td>\n",
       "      <td>Spades</td>\n",
       "      <td>0</td>\n",
       "      <td>3</td>\n",
       "      <td>Jack of Spades</td>\n",
       "      <td>48</td>\n",
       "    </tr>\n",
       "    <tr>\n",
       "      <th>3</th>\n",
       "      <td>3</td>\n",
       "      <td>[ 7 11 12 ...  0  0  0]</td>\n",
       "      <td>4 of Clubs</td>\n",
       "      <td>Clubs</td>\n",
       "      <td>0</td>\n",
       "      <td>1</td>\n",
       "      <td>4 of Clubs</td>\n",
       "      <td>15</td>\n",
       "    </tr>\n",
       "    <tr>\n",
       "      <th>4</th>\n",
       "      <td>4</td>\n",
       "      <td>[63 70 67 ...  5  6  6]</td>\n",
       "      <td>10 of Hearts</td>\n",
       "      <td>Hearts</td>\n",
       "      <td>1</td>\n",
       "      <td>2</td>\n",
       "      <td>10 of Hearts</td>\n",
       "      <td>34</td>\n",
       "    </tr>\n",
       "    <tr>\n",
       "      <th>...</th>\n",
       "      <td>...</td>\n",
       "      <td>...</td>\n",
       "      <td>...</td>\n",
       "      <td>...</td>\n",
       "      <td>...</td>\n",
       "      <td>...</td>\n",
       "      <td>...</td>\n",
       "      <td>...</td>\n",
       "    </tr>\n",
       "    <tr>\n",
       "      <th>2751</th>\n",
       "      <td>2751</td>\n",
       "      <td>[  6   7   8 ... 228 230 218]</td>\n",
       "      <td>5 of Spades</td>\n",
       "      <td>Spades</td>\n",
       "      <td>0</td>\n",
       "      <td>3</td>\n",
       "      <td>5 of Spades</td>\n",
       "      <td>42</td>\n",
       "    </tr>\n",
       "    <tr>\n",
       "      <th>2752</th>\n",
       "      <td>2752</td>\n",
       "      <td>[15 14 16 ...  3  3  3]</td>\n",
       "      <td>6 of Diamonds</td>\n",
       "      <td>Diamonds</td>\n",
       "      <td>1</td>\n",
       "      <td>0</td>\n",
       "      <td>6 of Diamonds</td>\n",
       "      <td>4</td>\n",
       "    </tr>\n",
       "    <tr>\n",
       "      <th>2753</th>\n",
       "      <td>2753</td>\n",
       "      <td>[ 5  5  5 ... 25 29 34]</td>\n",
       "      <td>3 of Spades</td>\n",
       "      <td>Spades</td>\n",
       "      <td>0</td>\n",
       "      <td>3</td>\n",
       "      <td>3 of Spades</td>\n",
       "      <td>40</td>\n",
       "    </tr>\n",
       "    <tr>\n",
       "      <th>2754</th>\n",
       "      <td>2754</td>\n",
       "      <td>[ 6  5  7 ...  8  7 11]</td>\n",
       "      <td>Jack of Diamonds</td>\n",
       "      <td>Diamonds</td>\n",
       "      <td>1</td>\n",
       "      <td>0</td>\n",
       "      <td>Jack of Diamonds</td>\n",
       "      <td>9</td>\n",
       "    </tr>\n",
       "    <tr>\n",
       "      <th>2755</th>\n",
       "      <td>2755</td>\n",
       "      <td>[31 34 39 ...  8  7 11]</td>\n",
       "      <td>7 of Diamonds</td>\n",
       "      <td>Diamonds</td>\n",
       "      <td>1</td>\n",
       "      <td>0</td>\n",
       "      <td>7 of Diamonds</td>\n",
       "      <td>5</td>\n",
       "    </tr>\n",
       "  </tbody>\n",
       "</table>\n",
       "<p>2756 rows × 8 columns</p>\n",
       "</div>"
      ],
      "text/plain": [
       "      Unnamed: 0                   img_card_arr        card_class      suit  \\\n",
       "0              0        [22 24 24 ... 11 10 12]    King of Spades    Spades   \n",
       "1              1        [ 6  8  9 ... 20 20 26]       4 of Spades    Spades   \n",
       "2              2        [26 28 28 ...  8  7  9]    Jack of Spades    Spades   \n",
       "3              3        [ 7 11 12 ...  0  0  0]        4 of Clubs     Clubs   \n",
       "4              4        [63 70 67 ...  5  6  6]      10 of Hearts    Hearts   \n",
       "...          ...                            ...               ...       ...   \n",
       "2751        2751  [  6   7   8 ... 228 230 218]       5 of Spades    Spades   \n",
       "2752        2752        [15 14 16 ...  3  3  3]     6 of Diamonds  Diamonds   \n",
       "2753        2753        [ 5  5  5 ... 25 29 34]       3 of Spades    Spades   \n",
       "2754        2754        [ 6  5  7 ...  8  7 11]  Jack of Diamonds  Diamonds   \n",
       "2755        2755        [31 34 39 ...  8  7 11]     7 of Diamonds  Diamonds   \n",
       "\n",
       "      is_red  suit_num       card_string  card_number  \n",
       "0          0         3    King of Spades           50  \n",
       "1          0         3       4 of Spades           41  \n",
       "2          0         3    Jack of Spades           48  \n",
       "3          0         1        4 of Clubs           15  \n",
       "4          1         2      10 of Hearts           34  \n",
       "...      ...       ...               ...          ...  \n",
       "2751       0         3       5 of Spades           42  \n",
       "2752       1         0     6 of Diamonds            4  \n",
       "2753       0         3       3 of Spades           40  \n",
       "2754       1         0  Jack of Diamonds            9  \n",
       "2755       1         0     7 of Diamonds            5  \n",
       "\n",
       "[2756 rows x 8 columns]"
      ]
     },
     "execution_count": 11,
     "metadata": {},
     "output_type": "execute_result"
    }
   ],
   "source": [
    "df"
   ]
  },
  {
   "cell_type": "code",
   "execution_count": null,
   "id": "616aa7ca",
   "metadata": {},
   "outputs": [],
   "source": []
  },
  {
   "cell_type": "code",
   "execution_count": null,
   "id": "12d09668",
   "metadata": {},
   "outputs": [],
   "source": [
    "#BEFORE MODELLING< VIEW DISTRIBUTIONS\n"
   ]
  },
  {
   "cell_type": "code",
   "execution_count": null,
   "id": "d2a3e16b",
   "metadata": {},
   "outputs": [],
   "source": []
  },
  {
   "cell_type": "code",
   "execution_count": null,
   "id": "a101bb74",
   "metadata": {
    "scrolled": true
   },
   "outputs": [],
   "source": [
    "df"
   ]
  },
  {
   "cell_type": "code",
   "execution_count": null,
   "id": "f9133b1e",
   "metadata": {},
   "outputs": [],
   "source": [
    "y = df['suit_num']"
   ]
  },
  {
   "cell_type": "code",
   "execution_count": null,
   "id": "7e2b5801",
   "metadata": {},
   "outputs": [],
   "source": [
    "reshaped = []\n",
    "for card_arr_to_resize in df['img_card_arr']:\n",
    "     reshaped.append( card_arr_to_resize.reshape(x_dim,y_dim,3))\n",
    "reshaped = np.array(reshaped)\n",
    "X = reshaped"
   ]
  },
  {
   "cell_type": "code",
   "execution_count": null,
   "id": "d99a5212",
   "metadata": {},
   "outputs": [],
   "source": []
  },
  {
   "cell_type": "code",
   "execution_count": null,
   "id": "fb751847",
   "metadata": {},
   "outputs": [],
   "source": [
    "from sklearn.model_selection import train_test_split\n",
    "X_train,X_test,y_train,y_test = train_test_split(X,y,train_size = .8,stratify=y)"
   ]
  },
  {
   "cell_type": "code",
   "execution_count": null,
   "id": "f0dfa763",
   "metadata": {},
   "outputs": [],
   "source": [
    "print(f'X_train shape: {X_train.shape}')\n",
    "print(f'X_test shape: {X_test.shape}')"
   ]
  },
  {
   "cell_type": "code",
   "execution_count": null,
   "id": "77cdebcb",
   "metadata": {},
   "outputs": [],
   "source": [
    "# Modify the X values to be 0-1 instead of 0-255\n",
    "X_train = X_train.astype('float32')\n",
    "X_test = X_test.astype('float32')\n",
    "X_train /= 255\n",
    "X_test /= 255"
   ]
  },
  {
   "cell_type": "code",
   "execution_count": null,
   "id": "485bf551",
   "metadata": {},
   "outputs": [],
   "source": [
    "# Specific neural network models & layer types\n",
    "from tensorflow.keras.models import Sequential\n",
    "from tensorflow.keras.layers import Conv2D\n",
    "from tensorflow.keras.layers import MaxPooling2D\n",
    "from tensorflow.keras.layers import Flatten\n",
    "from tensorflow.keras.layers import Dense\n",
    "from tensorflow.keras.layers import Dropout"
   ]
  },
  {
   "cell_type": "code",
   "execution_count": null,
   "id": "76181dcc",
   "metadata": {},
   "outputs": [],
   "source": [
    "CNN_model = Sequential()\n",
    "num_classes = 5 # red, not red\n",
    "# and Dropout to reduce overfitting\n",
    "CNN_model.add(Conv2D(256, kernel_size=(3, 3), activation = 'relu', input_shape = (216, 288, 3)))\n",
    "CNN_model.add(MaxPooling2D(pool_size=(2, 2)))\n",
    "CNN_model.add(Dropout(0.25))\n",
    "\n",
    "CNN_model.add(Conv2D(64, (3, 3), activation='relu'))\n",
    "CNN_model.add(MaxPooling2D(pool_size=(2, 2)))\n",
    "CNN_model.add(Dropout(0.25))\n",
    "\n",
    "# Flatten the output of our convolutional layers\n",
    "CNN_model.add(Flatten())\n",
    "\n",
    "# Add dense layers\n",
    "CNN_model.add(Dense(128, activation='relu'))\n",
    "CNN_model.add(Dense(64, activation='relu'))\n",
    "CNN_model.add(Dense(num_classes, activation='softmax'))\n",
    "\n",
    "# Print out a summary of the network\n",
    "CNN_model.summary()"
   ]
  },
  {
   "cell_type": "code",
   "execution_count": null,
   "id": "fe582d4a",
   "metadata": {},
   "outputs": [],
   "source": []
  },
  {
   "cell_type": "code",
   "execution_count": null,
   "id": "bdb9bdf6",
   "metadata": {},
   "outputs": [],
   "source": []
  },
  {
   "cell_type": "code",
   "execution_count": null,
   "id": "9b6124c5",
   "metadata": {},
   "outputs": [],
   "source": [
    "CNN_model.compile(loss = 'sparse_categorical_crossentropy',\n",
    "                  optimizer = 'Adam',\n",
    "                  metrics = ['accuracy'])"
   ]
  },
  {
   "cell_type": "code",
   "execution_count": null,
   "id": "4c7c3540",
   "metadata": {},
   "outputs": [],
   "source": [
    "\n",
    "CNN_model.fit(X_train, y_train,\n",
    "              batch_size = 5,\n",
    "              epochs = 10,\n",
    "              verbose = 1,\n",
    "              validation_split = 0.2)"
   ]
  },
  {
   "cell_type": "code",
   "execution_count": null,
   "id": "d5a11e77",
   "metadata": {},
   "outputs": [],
   "source": [
    "score = CNN_model.evaluate(X_test, y_test, verbose=1)\n",
    "score2 = CNN_model.evaluate(X_train, y_train, verbose=1)\n",
    "\n",
    "print('Test loss:', score[0],score2[0])\n",
    "print('Test accuracy:', score[1],score2[1])"
   ]
  },
  {
   "cell_type": "code",
   "execution_count": null,
   "id": "cbd98293",
   "metadata": {},
   "outputs": [],
   "source": []
  },
  {
   "cell_type": "code",
   "execution_count": null,
   "id": "4ce74adb",
   "metadata": {},
   "outputs": [],
   "source": []
  },
  {
   "cell_type": "code",
   "execution_count": null,
   "id": "82151988",
   "metadata": {},
   "outputs": [],
   "source": [
    "y1"
   ]
  },
  {
   "cell_type": "code",
   "execution_count": null,
   "id": "52812ee6",
   "metadata": {},
   "outputs": [],
   "source": [
    "X1"
   ]
  },
  {
   "cell_type": "code",
   "execution_count": null,
   "id": "e266aeef",
   "metadata": {},
   "outputs": [],
   "source": []
  },
  {
   "cell_type": "code",
   "execution_count": null,
   "id": "ad9fddd8",
   "metadata": {},
   "outputs": [],
   "source": [
    "\n",
    "reshaped = []\n",
    "for card_arr_to_resize in X1:\n",
    "     reshaped.append( card_arr_to_resize.reshape(x_dim,y_dim,3))\n",
    "reshaped = np.array(reshaped)\n",
    "X1 = reshaped\n",
    "\n",
    "from sklearn.model_selection import train_test_split\n",
    "X_train,X_test,y_train,y_test = train_test_split(X1,y1,train_size = .76,stratify=y)\n",
    "\n",
    "print(f'X_train shape: {X_train.shape}')\n",
    "print(f'X_test shape: {X_test.shape}')\n",
    "\n",
    "# Modify the X values to be 0-1 instead of 0-255\n",
    "X_train = X_train.astype('float32')\n",
    "X_test = X_test.astype('float32')\n",
    "#X_train /= 255\n",
    "#X_test /= 255\n",
    "\n",
    "# Specific neural network models & layer types\n",
    "from tensorflow.keras.models import Sequential\n",
    "from tensorflow.keras.layers import Conv2D\n",
    "from tensorflow.keras.layers import MaxPooling2D\n",
    "from tensorflow.keras.layers import Flatten\n",
    "from tensorflow.keras.layers import Dense\n",
    "from tensorflow.keras.layers import Dropout\n",
    "\n",
    "CNN_model = Sequential()\n",
    "num_classes = 5 # red, not red\n",
    "# and Dropout to reduce overfitting\n",
    "CNN_model.add(Conv2D(256, kernel_size=(3, 3), activation = 'relu', input_shape = (288, 288, 3)))\n",
    "CNN_model.add(MaxPooling2D(pool_size=(2, 2)))\n",
    "CNN_model.add(Dropout(0.25))\n",
    "\n",
    "CNN_model.add(Conv2D(64, (3, 3), activation='relu'))\n",
    "CNN_model.add(MaxPooling2D(pool_size=(2, 2)))\n",
    "CNN_model.add(Dropout(0.25))\n",
    "\n",
    "# Flatten the output of our convolutional layers\n",
    "CNN_model.add(Flatten())\n",
    "\n",
    "# Add dense layers\n",
    "CNN_model.add(Dense(128, activation='relu'))\n",
    "CNN_model.add(Dense(64, activation='relu'))\n",
    "CNN_model.add(Dense(num_classes, activation='softmax'))\n",
    "\n",
    "# Print out a summary of the network\n",
    "CNN_model.summary()\n",
    "\n",
    "\n",
    "\n",
    "\n",
    "\n",
    "# Compile the model with the desired loss function, optimizer, and metric(s) to track\n",
    "CNN_model.compile(loss = 'sparse_categorical_crossentropy',\n",
    "                  optimizer = 'Adam',\n",
    "                  metrics = ['accuracy'])\n",
    "\n",
    "# Fit the model on the training data, defining desired batch_size & number of epochs,\n",
    "# running validation after each batch\n",
    "# THIS WILL TAKE A LONG TIME TO RUN!!!\n",
    "CNN_model.fit(X_train, y_train,\n",
    "              batch_size = 5,\n",
    "              epochs = 10,\n",
    "              verbose = 1,\n",
    "              validation_split = 0.2)\n",
    "\n",
    "# Evaluate the model's performance on the test data\n",
    "score = CNN_model.evaluate(X_test, y_test, verbose=1)\n",
    "score2 = CNN_model.evaluate(X_train, y_train, verbose=1)\n",
    "\n",
    "print('Test loss:', score[0],score2[0])\n",
    "print('Test accuracy:', score[1],score2[1])\n",
    "\n",
    "\n",
    "\n",
    "\n",
    "\n",
    "\n"
   ]
  },
  {
   "cell_type": "code",
   "execution_count": null,
   "id": "94e531bc",
   "metadata": {},
   "outputs": [],
   "source": [
    "plt.imshow((X_test[0]).astype(np.uint8))\n",
    "CNN_model.predict_classes(X_test[0].reshape(1,288,288,3),batch_size=1)"
   ]
  },
  {
   "cell_type": "markdown",
   "id": "6b510a23",
   "metadata": {},
   "source": [
    "# PLOT ACC AND LOSS ACCFOS ITERATIONS"
   ]
  }
 ],
 "metadata": {
  "kernelspec": {
   "display_name": "Python [conda env:deeplearning]",
   "language": "python",
   "name": "conda-env-deeplearning-py"
  },
  "language_info": {
   "codemirror_mode": {
    "name": "ipython",
    "version": 3
   },
   "file_extension": ".py",
   "mimetype": "text/x-python",
   "name": "python",
   "nbconvert_exporter": "python",
   "pygments_lexer": "ipython3",
   "version": "3.8.2"
  }
 },
 "nbformat": 4,
 "nbformat_minor": 5
}
