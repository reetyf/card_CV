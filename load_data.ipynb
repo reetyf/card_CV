{
 "cells": [
  {
   "cell_type": "code",
   "execution_count": 1,
   "id": "ebac9969",
   "metadata": {},
   "outputs": [],
   "source": [
    "from preprocess import preprocess"
   ]
  },
  {
   "cell_type": "code",
   "execution_count": null,
   "id": "3b95f878",
   "metadata": {},
   "outputs": [
    {
     "name": "stderr",
     "output_type": "stream",
     "text": [
      "Loading...:  71%|█████████████████▊       | 1966/2756 [2:13:29<53:35,  4.07s/it]"
     ]
    }
   ],
   "source": [
    "x_dim = 216\n",
    "y_dim = 288\n",
    "deep = False\n",
    "df = preprocess(x_dim,y_dim,deep)"
   ]
  },
  {
   "cell_type": "code",
   "execution_count": null,
   "id": "0d24fb32",
   "metadata": {},
   "outputs": [],
   "source": [
    "df.to_csv('full_preprocessedML.csv')"
   ]
  },
  {
   "cell_type": "code",
   "execution_count": null,
   "id": "3ee43d5a",
   "metadata": {},
   "outputs": [],
   "source": []
  },
  {
   "cell_type": "markdown",
   "id": "66ac8f91",
   "metadata": {},
   "source": [
    "# ONLY ML BC DL WE NEED LIST AND TO CSV CANT HANDLE LIST"
   ]
  }
 ],
 "metadata": {
  "kernelspec": {
   "display_name": "Python 3 (ipykernel)",
   "language": "python",
   "name": "python3"
  },
  "language_info": {
   "codemirror_mode": {
    "name": "ipython",
    "version": 3
   },
   "file_extension": ".py",
   "mimetype": "text/x-python",
   "name": "python",
   "nbconvert_exporter": "python",
   "pygments_lexer": "ipython3",
   "version": "3.9.7"
  }
 },
 "nbformat": 4,
 "nbformat_minor": 5
}
